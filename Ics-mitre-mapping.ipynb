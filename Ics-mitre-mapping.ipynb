{
 "cells": [
  {
   "cell_type": "markdown",
   "metadata": {},
   "source": [
    "# ICS mitre mapping\n",
    "\n",
    "This notebook attempts to visualize the mapping between several ICS threat actors and conducted attacks to the detections as to discover the attack.\n",
    "\n",
    "This notebook uses data from the MITRE ATT&CK ICS framework using the MITRE STIX data in the [attack-stix-data](https://github.com/mitre-attack/attack-stix-data/tree/master) repository."
   ]
  },
  {
   "cell_type": "markdown",
   "metadata": {},
   "source": [
    "## Requirements\n",
    "\n",
    "There are some libraries that we need and with which the code was tested\n",
    "\n",
    "* **taxii2-client**: To talk to the taxii server\n",
    "* **stix2**: To handle the stix2 encapsulated data\n",
    "* **networkx**: To create and work with graphs\n",
    "* **bokeh**: To visualize graphs\n",
    "* **pygraphviz**: Additional library to structure the graph\n",
    "\n",
    "**NOTE:** Pygraphviz is actually a base package that needs to be installed via the terminal, for Ubuntu and other debian based systems run ```sudo apt-get install graphviz graphviz-dev```.\n",
    "\n",
    "For other systems consult [pygraphviz install guide](https://github.com/pygraphviz/pygraphviz/blob/main/INSTALL.txt) "
   ]
  },
  {
   "cell_type": "code",
   "execution_count": 10,
   "metadata": {},
   "outputs": [
    {
     "name": "stdout",
     "output_type": "stream",
     "text": [
      "Requirement already satisfied: taxii2-client==2.3.0 in /home/jolly/Documents/Data-Science/Data-science/lib/python3.10/site-packages (2.3.0)\n",
      "Requirement already satisfied: pytz in /home/jolly/Documents/Data-Science/Data-science/lib/python3.10/site-packages (from taxii2-client==2.3.0) (2024.1)\n",
      "Requirement already satisfied: requests in /home/jolly/Documents/Data-Science/Data-science/lib/python3.10/site-packages (from taxii2-client==2.3.0) (2.31.0)\n",
      "Requirement already satisfied: six in /home/jolly/Documents/Data-Science/Data-science/lib/python3.10/site-packages (from taxii2-client==2.3.0) (1.16.0)\n",
      "Requirement already satisfied: idna<4,>=2.5 in /home/jolly/Documents/Data-Science/Data-science/lib/python3.10/site-packages (from requests->taxii2-client==2.3.0) (3.6)\n",
      "Requirement already satisfied: charset-normalizer<4,>=2 in /home/jolly/Documents/Data-Science/Data-science/lib/python3.10/site-packages (from requests->taxii2-client==2.3.0) (3.3.2)\n",
      "Requirement already satisfied: certifi>=2017.4.17 in /home/jolly/Documents/Data-Science/Data-science/lib/python3.10/site-packages (from requests->taxii2-client==2.3.0) (2023.11.17)\n",
      "Requirement already satisfied: urllib3<3,>=1.21.1 in /home/jolly/Documents/Data-Science/Data-science/lib/python3.10/site-packages (from requests->taxii2-client==2.3.0) (2.1.0)\n",
      "Note: you may need to restart the kernel to use updated packages.\n",
      "Requirement already satisfied: stix2==3.0.1 in /home/jolly/Documents/Data-Science/Data-science/lib/python3.10/site-packages (3.0.1)\n",
      "Requirement already satisfied: stix2-patterns>=1.2.0 in /home/jolly/Documents/Data-Science/Data-science/lib/python3.10/site-packages (from stix2==3.0.1) (2.0.0)\n",
      "Requirement already satisfied: requests in /home/jolly/Documents/Data-Science/Data-science/lib/python3.10/site-packages (from stix2==3.0.1) (2.31.0)\n",
      "Requirement already satisfied: pytz in /home/jolly/Documents/Data-Science/Data-science/lib/python3.10/site-packages (from stix2==3.0.1) (2024.1)\n",
      "Requirement already satisfied: simplejson in /home/jolly/Documents/Data-Science/Data-science/lib/python3.10/site-packages (from stix2==3.0.1) (3.19.2)\n",
      "Requirement already satisfied: antlr4-python3-runtime~=4.9.0 in /home/jolly/Documents/Data-Science/Data-science/lib/python3.10/site-packages (from stix2-patterns>=1.2.0->stix2==3.0.1) (4.9.3)\n",
      "Requirement already satisfied: six in /home/jolly/Documents/Data-Science/Data-science/lib/python3.10/site-packages (from stix2-patterns>=1.2.0->stix2==3.0.1) (1.16.0)\n",
      "Requirement already satisfied: idna<4,>=2.5 in /home/jolly/Documents/Data-Science/Data-science/lib/python3.10/site-packages (from requests->stix2==3.0.1) (3.6)\n",
      "Requirement already satisfied: urllib3<3,>=1.21.1 in /home/jolly/Documents/Data-Science/Data-science/lib/python3.10/site-packages (from requests->stix2==3.0.1) (2.1.0)\n",
      "Requirement already satisfied: certifi>=2017.4.17 in /home/jolly/Documents/Data-Science/Data-science/lib/python3.10/site-packages (from requests->stix2==3.0.1) (2023.11.17)\n",
      "Requirement already satisfied: charset-normalizer<4,>=2 in /home/jolly/Documents/Data-Science/Data-science/lib/python3.10/site-packages (from requests->stix2==3.0.1) (3.3.2)\n",
      "Note: you may need to restart the kernel to use updated packages.\n",
      "Requirement already satisfied: networkx==2.6.3 in /home/jolly/Documents/Data-Science/Data-science/lib/python3.10/site-packages (2.6.3)\n",
      "Note: you may need to restart the kernel to use updated packages.\n",
      "Requirement already satisfied: bokeh==2.3.3 in /home/jolly/Documents/Data-Science/Data-science/lib/python3.10/site-packages (2.3.3)\n",
      "Requirement already satisfied: Jinja2>=2.9 in /home/jolly/Documents/Data-Science/Data-science/lib/python3.10/site-packages (from bokeh==2.3.3) (3.1.2)\n",
      "Requirement already satisfied: PyYAML>=3.10 in /home/jolly/Documents/Data-Science/Data-science/lib/python3.10/site-packages (from bokeh==2.3.3) (6.0.1)\n",
      "Requirement already satisfied: numpy>=1.11.3 in /home/jolly/Documents/Data-Science/Data-science/lib/python3.10/site-packages (from bokeh==2.3.3) (1.26.2)\n",
      "Requirement already satisfied: packaging>=16.8 in /home/jolly/Documents/Data-Science/Data-science/lib/python3.10/site-packages (from bokeh==2.3.3) (23.2)\n",
      "Requirement already satisfied: pillow>=7.1.0 in /home/jolly/Documents/Data-Science/Data-science/lib/python3.10/site-packages (from bokeh==2.3.3) (10.3.0)\n",
      "Requirement already satisfied: python-dateutil>=2.1 in /home/jolly/Documents/Data-Science/Data-science/lib/python3.10/site-packages (from bokeh==2.3.3) (2.8.2)\n",
      "Requirement already satisfied: tornado>=5.1 in /home/jolly/Documents/Data-Science/Data-science/lib/python3.10/site-packages (from bokeh==2.3.3) (6.4)\n",
      "Requirement already satisfied: typing_extensions>=3.7.4 in /home/jolly/Documents/Data-Science/Data-science/lib/python3.10/site-packages (from bokeh==2.3.3) (4.9.0)\n",
      "Requirement already satisfied: MarkupSafe>=2.0 in /home/jolly/Documents/Data-Science/Data-science/lib/python3.10/site-packages (from Jinja2>=2.9->bokeh==2.3.3) (2.1.3)\n",
      "Requirement already satisfied: six>=1.5 in /home/jolly/Documents/Data-Science/Data-science/lib/python3.10/site-packages (from python-dateutil>=2.1->bokeh==2.3.3) (1.16.0)\n",
      "Note: you may need to restart the kernel to use updated packages.\n",
      "Requirement already satisfied: pandas==1.3.5 in /home/jolly/Documents/Data-Science/Data-science/lib/python3.10/site-packages (1.3.5)\n",
      "Requirement already satisfied: python-dateutil>=2.7.3 in /home/jolly/Documents/Data-Science/Data-science/lib/python3.10/site-packages (from pandas==1.3.5) (2.8.2)\n",
      "Requirement already satisfied: pytz>=2017.3 in /home/jolly/Documents/Data-Science/Data-science/lib/python3.10/site-packages (from pandas==1.3.5) (2024.1)\n",
      "Requirement already satisfied: numpy>=1.21.0 in /home/jolly/Documents/Data-Science/Data-science/lib/python3.10/site-packages (from pandas==1.3.5) (1.26.2)\n",
      "Requirement already satisfied: six>=1.5 in /home/jolly/Documents/Data-Science/Data-science/lib/python3.10/site-packages (from python-dateutil>=2.7.3->pandas==1.3.5) (1.16.0)\n",
      "Note: you may need to restart the kernel to use updated packages.\n",
      "Requirement already satisfied: pygraphviz==1.12 in /home/jolly/Documents/Data-Science/Data-science/lib/python3.10/site-packages (1.12)\n",
      "Note: you may need to restart the kernel to use updated packages.\n"
     ]
    }
   ],
   "source": [
    "%pip install taxii2-client==2.3.0\n",
    "%pip install stix2==3.0.1\n",
    "%pip install networkx==2.6.3\n",
    "%pip install bokeh==2.3.3\n",
    "%pip install pandas==1.3.5\n",
    "%pip install pygraphviz==1.12"
   ]
  },
  {
   "cell_type": "markdown",
   "metadata": {},
   "source": [
    "## Initial setup and retrieving data\n",
    "The debugging level is lowered to only show critical messages, and we use the following url to work with: \n",
    "```https://cti-taxii.mitre.org/taxii/```\n"
   ]
  },
  {
   "cell_type": "code",
   "execution_count": 11,
   "metadata": {},
   "outputs": [],
   "source": [
    "from taxii2client.v20 import Server\n",
    "\n",
    "import logging\n",
    "logging.getLogger('taxii2client').setLevel(logging.CRITICAL)\n",
    "server = Server(\"https://cti-taxii.mitre.org/taxii/\")\n",
    "\n",
    "# Retrieve API root\n",
    "api_root = server.api_roots[0]\n",
    "\n",
    "# Select ICS ATT&CK data collection\n",
    "MITRE_COLLECTION_ID = api_root.collections[3].id"
   ]
  },
  {
   "cell_type": "markdown",
   "metadata": {},
   "source": [
    "Now get the actual collection, based on the selected collection ID"
   ]
  },
  {
   "cell_type": "code",
   "execution_count": 12,
   "metadata": {},
   "outputs": [],
   "source": [
    "from stix2 import TAXIICollectionSource, Filter\n",
    "from taxii2client.v20 import Collection\n",
    "\n",
    "ATTACK_STIX_COLLECTIONS = \"https://cti-taxii.mitre.org/stix/collections/\"\n",
    "MITRE_COLLECTION = Collection(ATTACK_STIX_COLLECTIONS + MITRE_COLLECTION_ID + \"/\")\n",
    "MC_DATA = TAXIICollectionSource(MITRE_COLLECTION)"
   ]
  },
  {
   "cell_type": "markdown",
   "metadata": {},
   "source": [
    "Also get the mitigation (course of action), detections, attacker groups, software and technique data. We retreive it as a mapping of unique IDs and human readable names"
   ]
  },
  {
   "cell_type": "code",
   "execution_count": 13,
   "metadata": {},
   "outputs": [],
   "source": [
    "MC_MITIGATIONS = MC_DATA.query(Filter(\"type\", \"=\", \"course-of-action\"))\n",
    "mc_mitigation_mapping = {}\n",
    "for x in MC_MITIGATIONS:\n",
    "  mc_mitigation_mapping[x['id']] = x['name']"
   ]
  },
  {
   "cell_type": "code",
   "execution_count": 14,
   "metadata": {},
   "outputs": [],
   "source": [
    "MC_TECHNIQUES = MC_DATA.query(Filter(\"type\", \"=\", \"attack-pattern\"))\n",
    "mc_technique_mapping = {}\n",
    "for x in MC_TECHNIQUES:\n",
    "  mc_technique_mapping[x['id']] = x['name']"
   ]
  },
  {
   "cell_type": "code",
   "execution_count": 15,
   "metadata": {},
   "outputs": [],
   "source": [
    "MC_DETECTIONS = MC_DATA.query(Filter(\"type\", \"=\", \"x-mitre-data-component\"))\n",
    "mc_detection_mapping = {}\n",
    "for x in MC_DETECTIONS:\n",
    "  mc_detection_mapping[x['id']] = x['name']"
   ]
  },
  {
   "cell_type": "code",
   "execution_count": 16,
   "metadata": {},
   "outputs": [],
   "source": [
    "MC_INTRUSION_SET = MC_DATA.query(Filter(\"type\", \"=\", \"intrusion-set\"))\n",
    "mc_intrusion_set_mapping = {}\n",
    "for x in MC_INTRUSION_SET:\n",
    "  mc_intrusion_set_mapping[x['id']] = x['name']"
   ]
  },
  {
   "cell_type": "code",
   "execution_count": 17,
   "metadata": {},
   "outputs": [],
   "source": [
    "MC_MALWARE = MC_DATA.query(Filter(\"type\", \"=\", \"malware\"))\n",
    "mc_malware_mapping = {}\n",
    "for x in MC_MALWARE:\n",
    "  mc_malware_mapping[x['id']] = x['name']"
   ]
  },
  {
   "cell_type": "markdown",
   "metadata": {},
   "source": [
    "Let's now get the relationships between threat actors, software, techniques, and detections.\n",
    "The data is then put into a pandas dataframe with the human readable names as well for better context"
   ]
  },
  {
   "cell_type": "code",
   "execution_count": 18,
   "metadata": {},
   "outputs": [
    {
     "data": {
      "text/html": [
       "<div>\n",
       "<style scoped>\n",
       "    .dataframe tbody tr th:only-of-type {\n",
       "        vertical-align: middle;\n",
       "    }\n",
       "\n",
       "    .dataframe tbody tr th {\n",
       "        vertical-align: top;\n",
       "    }\n",
       "\n",
       "    .dataframe thead th {\n",
       "        text-align: right;\n",
       "    }\n",
       "</style>\n",
       "<table border=\"1\" class=\"dataframe\">\n",
       "  <thead>\n",
       "    <tr style=\"text-align: right;\">\n",
       "      <th></th>\n",
       "      <th>Source</th>\n",
       "      <th>Destination</th>\n",
       "      <th>source_human</th>\n",
       "      <th>target_human</th>\n",
       "    </tr>\n",
       "  </thead>\n",
       "  <tbody>\n",
       "    <tr>\n",
       "      <th>0</th>\n",
       "      <td>intrusion-set--381fcf73-60f6-4ab2-9991-6af3cbc...</td>\n",
       "      <td>malware--6a0d0ea9-b2c4-43fe-a552-ac41a3009dc5</td>\n",
       "      <td>Sandworm Team</td>\n",
       "      <td>Industroyer2</td>\n",
       "    </tr>\n",
       "    <tr>\n",
       "      <th>1</th>\n",
       "      <td>malware--6a0d0ea9-b2c4-43fe-a552-ac41a3009dc5</td>\n",
       "      <td>attack-pattern--8e7089d3-fba2-44f8-94a8-9a79c5...</td>\n",
       "      <td>Industroyer2</td>\n",
       "      <td>Brute Force I/O</td>\n",
       "    </tr>\n",
       "    <tr>\n",
       "      <th>2</th>\n",
       "      <td>malware--6a0d0ea9-b2c4-43fe-a552-ac41a3009dc5</td>\n",
       "      <td>attack-pattern--097924ce-a9a9-4039-8591-e0deed...</td>\n",
       "      <td>Industroyer2</td>\n",
       "      <td>Modify Parameter</td>\n",
       "    </tr>\n",
       "    <tr>\n",
       "      <th>3</th>\n",
       "      <td>malware--6a0d0ea9-b2c4-43fe-a552-ac41a3009dc5</td>\n",
       "      <td>attack-pattern--40b300ba-f553-48bf-862e-9471b2...</td>\n",
       "      <td>Industroyer2</td>\n",
       "      <td>Unauthorized Command Message</td>\n",
       "    </tr>\n",
       "    <tr>\n",
       "      <th>4</th>\n",
       "      <td>malware--6a0d0ea9-b2c4-43fe-a552-ac41a3009dc5</td>\n",
       "      <td>attack-pattern--2d0d40ad-22fa-4cc8-b264-072557...</td>\n",
       "      <td>Industroyer2</td>\n",
       "      <td>Monitor Process State</td>\n",
       "    </tr>\n",
       "  </tbody>\n",
       "</table>\n",
       "</div>"
      ],
      "text/plain": [
       "                                              Source  \\\n",
       "0  intrusion-set--381fcf73-60f6-4ab2-9991-6af3cbc...   \n",
       "1      malware--6a0d0ea9-b2c4-43fe-a552-ac41a3009dc5   \n",
       "2      malware--6a0d0ea9-b2c4-43fe-a552-ac41a3009dc5   \n",
       "3      malware--6a0d0ea9-b2c4-43fe-a552-ac41a3009dc5   \n",
       "4      malware--6a0d0ea9-b2c4-43fe-a552-ac41a3009dc5   \n",
       "\n",
       "                                         Destination   source_human  \\\n",
       "0      malware--6a0d0ea9-b2c4-43fe-a552-ac41a3009dc5  Sandworm Team   \n",
       "1  attack-pattern--8e7089d3-fba2-44f8-94a8-9a79c5...   Industroyer2   \n",
       "2  attack-pattern--097924ce-a9a9-4039-8591-e0deed...   Industroyer2   \n",
       "3  attack-pattern--40b300ba-f553-48bf-862e-9471b2...   Industroyer2   \n",
       "4  attack-pattern--2d0d40ad-22fa-4cc8-b264-072557...   Industroyer2   \n",
       "\n",
       "                   target_human  \n",
       "0                  Industroyer2  \n",
       "1               Brute Force I/O  \n",
       "2              Modify Parameter  \n",
       "3  Unauthorized Command Message  \n",
       "4         Monitor Process State  "
      ]
     },
     "execution_count": 18,
     "metadata": {},
     "output_type": "execute_result"
    }
   ],
   "source": [
    "import pandas as pd\n",
    "\n",
    "MC_RELATIONS = MC_DATA.query(Filter(\"type\",\"=\",\"relationship\"))\n",
    "\n",
    "mc_ot_data = {'Source':[],'Destination':[],'source_human':[],'target_human':[]}\n",
    "for idx,x in enumerate(MC_RELATIONS):\n",
    "  if 'relationship_type' in x:\n",
    "    if x['relationship_type'] == 'uses' and 'intrusion-set' in x['source_ref'] and 'malware' in x['target_ref']:\n",
    "      mc_ot_data['Source'].append(x['source_ref'])\n",
    "      mc_ot_data['Destination'].append(x['target_ref'])\n",
    "      mc_ot_data['source_human'].append(mc_intrusion_set_mapping[x['source_ref']])\n",
    "      mc_ot_data['target_human'].append(mc_malware_mapping[x['target_ref']])\n",
    "    elif x['relationship_type'] == 'uses' and 'malware' in x['source_ref'] and 'attack-pattern' in x['target_ref']:\n",
    "      mc_ot_data['Source'].append(x['source_ref'])\n",
    "      mc_ot_data['Destination'].append(x['target_ref'])\n",
    "      mc_ot_data['source_human'].append(mc_malware_mapping[x['source_ref']])\n",
    "      mc_ot_data['target_human'].append(mc_technique_mapping[x['target_ref']])\n",
    "    elif x['relationship_type'] == 'detects':\n",
    "      mc_ot_data['Source'].append(x['source_ref'])\n",
    "      mc_ot_data['Destination'].append(x['target_ref'])\n",
    "      mc_ot_data['source_human'].append(mc_detection_mapping[x['source_ref']])\n",
    "      mc_ot_data['target_human'].append(mc_technique_mapping[x['target_ref']])\n",
    "      \n",
    "\n",
    "df = pd.DataFrame(data=mc_ot_data)\n",
    "df.head()"
   ]
  },
  {
   "cell_type": "markdown",
   "metadata": {},
   "source": [
    "## Visualizing all data"
   ]
  },
  {
   "cell_type": "code",
   "execution_count": 19,
   "metadata": {},
   "outputs": [
    {
     "data": {
      "text/html": [
       "\n",
       "    <div class=\"bk-root\">\n",
       "        <a href=\"https://bokeh.org\" target=\"_blank\" class=\"bk-logo bk-logo-small bk-logo-notebook\"></a>\n",
       "        <span id=\"1001\">Loading BokehJS ...</span>\n",
       "    </div>"
      ]
     },
     "metadata": {},
     "output_type": "display_data"
    },
    {
     "data": {
      "application/javascript": "\n(function(root) {\n  function now() {\n    return new Date();\n  }\n\n  var force = true;\n\n  if (typeof root._bokeh_onload_callbacks === \"undefined\" || force === true) {\n    root._bokeh_onload_callbacks = [];\n    root._bokeh_is_loading = undefined;\n  }\n\n  var JS_MIME_TYPE = 'application/javascript';\n  var HTML_MIME_TYPE = 'text/html';\n  var EXEC_MIME_TYPE = 'application/vnd.bokehjs_exec.v0+json';\n  var CLASS_NAME = 'output_bokeh rendered_html';\n\n  /**\n   * Render data to the DOM node\n   */\n  function render(props, node) {\n    var script = document.createElement(\"script\");\n    node.appendChild(script);\n  }\n\n  /**\n   * Handle when an output is cleared or removed\n   */\n  function handleClearOutput(event, handle) {\n    var cell = handle.cell;\n\n    var id = cell.output_area._bokeh_element_id;\n    var server_id = cell.output_area._bokeh_server_id;\n    // Clean up Bokeh references\n    if (id != null && id in Bokeh.index) {\n      Bokeh.index[id].model.document.clear();\n      delete Bokeh.index[id];\n    }\n\n    if (server_id !== undefined) {\n      // Clean up Bokeh references\n      var cmd = \"from bokeh.io.state import curstate; print(curstate().uuid_to_server['\" + server_id + \"'].get_sessions()[0].document.roots[0]._id)\";\n      cell.notebook.kernel.execute(cmd, {\n        iopub: {\n          output: function(msg) {\n            var id = msg.content.text.trim();\n            if (id in Bokeh.index) {\n              Bokeh.index[id].model.document.clear();\n              delete Bokeh.index[id];\n            }\n          }\n        }\n      });\n      // Destroy server and session\n      var cmd = \"import bokeh.io.notebook as ion; ion.destroy_server('\" + server_id + \"')\";\n      cell.notebook.kernel.execute(cmd);\n    }\n  }\n\n  /**\n   * Handle when a new output is added\n   */\n  function handleAddOutput(event, handle) {\n    var output_area = handle.output_area;\n    var output = handle.output;\n\n    // limit handleAddOutput to display_data with EXEC_MIME_TYPE content only\n    if ((output.output_type != \"display_data\") || (!Object.prototype.hasOwnProperty.call(output.data, EXEC_MIME_TYPE))) {\n      return\n    }\n\n    var toinsert = output_area.element.find(\".\" + CLASS_NAME.split(' ')[0]);\n\n    if (output.metadata[EXEC_MIME_TYPE][\"id\"] !== undefined) {\n      toinsert[toinsert.length - 1].firstChild.textContent = output.data[JS_MIME_TYPE];\n      // store reference to embed id on output_area\n      output_area._bokeh_element_id = output.metadata[EXEC_MIME_TYPE][\"id\"];\n    }\n    if (output.metadata[EXEC_MIME_TYPE][\"server_id\"] !== undefined) {\n      var bk_div = document.createElement(\"div\");\n      bk_div.innerHTML = output.data[HTML_MIME_TYPE];\n      var script_attrs = bk_div.children[0].attributes;\n      for (var i = 0; i < script_attrs.length; i++) {\n        toinsert[toinsert.length - 1].firstChild.setAttribute(script_attrs[i].name, script_attrs[i].value);\n        toinsert[toinsert.length - 1].firstChild.textContent = bk_div.children[0].textContent\n      }\n      // store reference to server id on output_area\n      output_area._bokeh_server_id = output.metadata[EXEC_MIME_TYPE][\"server_id\"];\n    }\n  }\n\n  function register_renderer(events, OutputArea) {\n\n    function append_mime(data, metadata, element) {\n      // create a DOM node to render to\n      var toinsert = this.create_output_subarea(\n        metadata,\n        CLASS_NAME,\n        EXEC_MIME_TYPE\n      );\n      this.keyboard_manager.register_events(toinsert);\n      // Render to node\n      var props = {data: data, metadata: metadata[EXEC_MIME_TYPE]};\n      render(props, toinsert[toinsert.length - 1]);\n      element.append(toinsert);\n      return toinsert\n    }\n\n    /* Handle when an output is cleared or removed */\n    events.on('clear_output.CodeCell', handleClearOutput);\n    events.on('delete.Cell', handleClearOutput);\n\n    /* Handle when a new output is added */\n    events.on('output_added.OutputArea', handleAddOutput);\n\n    /**\n     * Register the mime type and append_mime function with output_area\n     */\n    OutputArea.prototype.register_mime_type(EXEC_MIME_TYPE, append_mime, {\n      /* Is output safe? */\n      safe: true,\n      /* Index of renderer in `output_area.display_order` */\n      index: 0\n    });\n  }\n\n  // register the mime type if in Jupyter Notebook environment and previously unregistered\n  if (root.Jupyter !== undefined) {\n    var events = require('base/js/events');\n    var OutputArea = require('notebook/js/outputarea').OutputArea;\n\n    if (OutputArea.prototype.mime_types().indexOf(EXEC_MIME_TYPE) == -1) {\n      register_renderer(events, OutputArea);\n    }\n  }\n\n  \n  if (typeof (root._bokeh_timeout) === \"undefined\" || force === true) {\n    root._bokeh_timeout = Date.now() + 5000;\n    root._bokeh_failed_load = false;\n  }\n\n  var NB_LOAD_WARNING = {'data': {'text/html':\n     \"<div style='background-color: #fdd'>\\n\"+\n     \"<p>\\n\"+\n     \"BokehJS does not appear to have successfully loaded. If loading BokehJS from CDN, this \\n\"+\n     \"may be due to a slow or bad network connection. Possible fixes:\\n\"+\n     \"</p>\\n\"+\n     \"<ul>\\n\"+\n     \"<li>re-rerun `output_notebook()` to attempt to load from CDN again, or</li>\\n\"+\n     \"<li>use INLINE resources instead, as so:</li>\\n\"+\n     \"</ul>\\n\"+\n     \"<code>\\n\"+\n     \"from bokeh.resources import INLINE\\n\"+\n     \"output_notebook(resources=INLINE)\\n\"+\n     \"</code>\\n\"+\n     \"</div>\"}};\n\n  function display_loaded() {\n    var el = document.getElementById(\"1001\");\n    if (el != null) {\n      el.textContent = \"BokehJS is loading...\";\n    }\n    if (root.Bokeh !== undefined) {\n      if (el != null) {\n        el.textContent = \"BokehJS \" + root.Bokeh.version + \" successfully loaded.\";\n      }\n    } else if (Date.now() < root._bokeh_timeout) {\n      setTimeout(display_loaded, 100)\n    }\n  }\n\n\n  function run_callbacks() {\n    try {\n      root._bokeh_onload_callbacks.forEach(function(callback) {\n        if (callback != null)\n          callback();\n      });\n    } finally {\n      delete root._bokeh_onload_callbacks\n    }\n    console.debug(\"Bokeh: all callbacks have finished\");\n  }\n\n  function load_libs(css_urls, js_urls, callback) {\n    if (css_urls == null) css_urls = [];\n    if (js_urls == null) js_urls = [];\n\n    root._bokeh_onload_callbacks.push(callback);\n    if (root._bokeh_is_loading > 0) {\n      console.debug(\"Bokeh: BokehJS is being loaded, scheduling callback at\", now());\n      return null;\n    }\n    if (js_urls == null || js_urls.length === 0) {\n      run_callbacks();\n      return null;\n    }\n    console.debug(\"Bokeh: BokehJS not loaded, scheduling load and callback at\", now());\n    root._bokeh_is_loading = css_urls.length + js_urls.length;\n\n    function on_load() {\n      root._bokeh_is_loading--;\n      if (root._bokeh_is_loading === 0) {\n        console.debug(\"Bokeh: all BokehJS libraries/stylesheets loaded\");\n        run_callbacks()\n      }\n    }\n\n    function on_error(url) {\n      console.error(\"failed to load \" + url);\n    }\n\n    for (let i = 0; i < css_urls.length; i++) {\n      const url = css_urls[i];\n      const element = document.createElement(\"link\");\n      element.onload = on_load;\n      element.onerror = on_error.bind(null, url);\n      element.rel = \"stylesheet\";\n      element.type = \"text/css\";\n      element.href = url;\n      console.debug(\"Bokeh: injecting link tag for BokehJS stylesheet: \", url);\n      document.body.appendChild(element);\n    }\n\n    const hashes = {\"https://cdn.bokeh.org/bokeh/release/bokeh-2.3.3.min.js\": \"dM3QQsP+wXdHg42wTqW85BjZQdLNNIXqlPw/BgKoExPmTG7ZLML4EGqLMfqHT6ON\", \"https://cdn.bokeh.org/bokeh/release/bokeh-tables-2.3.3.min.js\": \"8x57I4YuIfu8XyZfFo0XVr2WAT8EK4rh/uDe3wF7YuW2FNUSNEpJbsPaB1nJ2fz2\", \"https://cdn.bokeh.org/bokeh/release/bokeh-widgets-2.3.3.min.js\": \"3QTqdz9LyAm2i0sG5XTePsHec3UHWwVsrOL68SYRoAXsafvfAyqtQ+h440+qIBhS\"};\n\n    for (let i = 0; i < js_urls.length; i++) {\n      const url = js_urls[i];\n      const element = document.createElement('script');\n      element.onload = on_load;\n      element.onerror = on_error.bind(null, url);\n      element.async = false;\n      element.src = url;\n      if (url in hashes) {\n        element.crossOrigin = \"anonymous\";\n        element.integrity = \"sha384-\" + hashes[url];\n      }\n      console.debug(\"Bokeh: injecting script tag for BokehJS library: \", url);\n      document.head.appendChild(element);\n    }\n  };\n\n  function inject_raw_css(css) {\n    const element = document.createElement(\"style\");\n    element.appendChild(document.createTextNode(css));\n    document.body.appendChild(element);\n  }\n\n  \n  var js_urls = [\"https://cdn.bokeh.org/bokeh/release/bokeh-2.3.3.min.js\", \"https://cdn.bokeh.org/bokeh/release/bokeh-widgets-2.3.3.min.js\", \"https://cdn.bokeh.org/bokeh/release/bokeh-tables-2.3.3.min.js\"];\n  var css_urls = [];\n  \n\n  var inline_js = [\n    function(Bokeh) {\n      Bokeh.set_log_level(\"info\");\n    },\n    function(Bokeh) {\n    \n    \n    }\n  ];\n\n  function run_inline_js() {\n    \n    if (root.Bokeh !== undefined || force === true) {\n      \n    for (var i = 0; i < inline_js.length; i++) {\n      inline_js[i].call(root, root.Bokeh);\n    }\n    if (force === true) {\n        display_loaded();\n      }} else if (Date.now() < root._bokeh_timeout) {\n      setTimeout(run_inline_js, 100);\n    } else if (!root._bokeh_failed_load) {\n      console.log(\"Bokeh: BokehJS failed to load within specified timeout.\");\n      root._bokeh_failed_load = true;\n    } else if (force !== true) {\n      var cell = $(document.getElementById(\"1001\")).parents('.cell').data().cell;\n      cell.output_area.append_execute_result(NB_LOAD_WARNING)\n    }\n\n  }\n\n  if (root._bokeh_is_loading === 0) {\n    console.debug(\"Bokeh: BokehJS loaded, going straight to plotting\");\n    run_inline_js();\n  } else {\n    load_libs(css_urls, js_urls, function() {\n      console.debug(\"Bokeh: BokehJS plotting callback run at\", now());\n      run_inline_js();\n    });\n  }\n}(window));",
      "application/vnd.bokehjs_load.v0+json": ""
     },
     "metadata": {},
     "output_type": "display_data"
    }
   ],
   "source": [
    "# https://melaniewalsh.github.io/Intro-Cultural-Analytics/06-Network-Analysis/02-Making-Network-Viz-with-Bokeh.html\n",
    "from bokeh.io import output_notebook, show, save\n",
    "# required to display visuals inline\n",
    "output_notebook()"
   ]
  },
  {
   "cell_type": "code",
   "execution_count": 32,
   "metadata": {},
   "outputs": [
    {
     "data": {
      "text/html": [
       "\n",
       "\n",
       "\n",
       "\n",
       "\n",
       "\n",
       "  <div class=\"bk-root\" id=\"63d32fc0-473a-46ca-be80-d146aa96a3dd\" data-root-id=\"1456\"></div>\n"
      ]
     },
     "metadata": {},
     "output_type": "display_data"
    },
    {
     "data": {
      "application/javascript": "(function(root) {\n  function embed_document(root) {\n    \n  var docs_json = {\"f6494990-be8a-4615-a787-5437036b2988\":{\"defs\":[],\"roots\":{\"references\":[{\"attributes\":{\"below\":[{\"id\":\"1465\"}],\"center\":[{\"id\":\"1468\"},{\"id\":\"1472\"}],\"height\":550,\"left\":[{\"id\":\"1469\"}],\"renderers\":[{\"id\":\"1484\"}],\"title\":{\"id\":\"1457\"},\"toolbar\":{\"id\":\"1478\"},\"width\":1100,\"x_range\":{\"id\":\"1454\"},\"x_scale\":{\"id\":\"1461\"},\"y_range\":{\"id\":\"1455\"},\"y_scale\":{\"id\":\"1463\"}},\"id\":\"1456\",\"subtype\":\"Figure\",\"type\":\"Plot\"},{\"attributes\":{},\"id\":\"1570\",\"type\":\"BasicTickFormatter\"},{\"attributes\":{\"axis\":{\"id\":\"1469\"},\"dimension\":1,\"ticker\":null},\"id\":\"1472\",\"type\":\"Grid\"},{\"attributes\":{},\"id\":\"1470\",\"type\":\"BasicTicker\"},{\"attributes\":{},\"id\":\"1580\",\"type\":\"AllLabels\"},{\"attributes\":{\"callback\":null,\"tooltips\":[[\"Name\",\"@human_name\"],[\"Degree\",\"@degree\"]]},\"id\":\"1477\",\"type\":\"HoverTool\"},{\"attributes\":{},\"id\":\"1581\",\"type\":\"BasicTickFormatter\"},{\"attributes\":{},\"id\":\"1584\",\"type\":\"UnionRenderers\"},{\"attributes\":{\"axis\":{\"id\":\"1465\"},\"ticker\":null},\"id\":\"1468\",\"type\":\"Grid\"},{\"attributes\":{\"line_alpha\":{\"value\":0.5}},\"id\":\"1510\",\"type\":\"MultiLine\"},{\"attributes\":{\"source\":{\"id\":\"1490\"}},\"id\":\"1492\",\"type\":\"CDSView\"},{\"attributes\":{\"end\":10.1,\"start\":-10.1},\"id\":\"1454\",\"type\":\"Range1d\"},{\"attributes\":{\"data_source\":{\"id\":\"1486\"},\"glyph\":{\"id\":\"1495\"},\"hover_glyph\":{\"id\":\"1500\"},\"muted_glyph\":null,\"selection_glyph\":{\"id\":\"1505\"},\"view\":{\"id\":\"1488\"}},\"id\":\"1487\",\"type\":\"GlyphRenderer\"},{\"attributes\":{\"fill_color\":{\"value\":\"white\"},\"line_width\":{\"value\":2},\"size\":{\"field\":\"adjusted_node_size\"}},\"id\":\"1500\",\"type\":\"Circle\"},{\"attributes\":{\"line_width\":{\"value\":2}},\"id\":\"1515\",\"type\":\"MultiLine\"},{\"attributes\":{\"high\":2,\"low\":0,\"palette\":[\"#000000\",\"#FF0000\",\"#00FF00\",\"#0000FF\"]},\"id\":\"1494\",\"type\":\"LinearColorMapper\"},{\"attributes\":{},\"id\":\"1585\",\"type\":\"Selection\"},{\"attributes\":{},\"id\":\"1569\",\"type\":\"AllLabels\"},{\"attributes\":{\"formatter\":{\"id\":\"1581\"},\"major_label_policy\":{\"id\":\"1580\"},\"ticker\":{\"id\":\"1466\"}},\"id\":\"1465\",\"type\":\"LinearAxis\"},{\"attributes\":{},\"id\":\"1466\",\"type\":\"BasicTicker\"},{\"attributes\":{\"fill_color\":{\"value\":\"white\"},\"line_width\":{\"value\":2},\"size\":{\"field\":\"adjusted_node_size\"}},\"id\":\"1505\",\"type\":\"Circle\"},{\"attributes\":{\"formatter\":{\"id\":\"1570\"},\"major_label_policy\":{\"id\":\"1569\"},\"ticker\":{\"id\":\"1470\"}},\"id\":\"1469\",\"type\":\"LinearAxis\"},{\"attributes\":{\"line_width\":{\"value\":2}},\"id\":\"1520\",\"type\":\"MultiLine\"},{\"attributes\":{},\"id\":\"1463\",\"type\":\"LinearScale\"},{\"attributes\":{\"text\":\"MITRE Graph Visuals\"},\"id\":\"1457\",\"type\":\"Title\"},{\"attributes\":{},\"id\":\"1582\",\"type\":\"UnionRenderers\"},{\"attributes\":{},\"id\":\"1461\",\"type\":\"LinearScale\"},{\"attributes\":{\"graph_layout\":{\"attack-pattern--008b8f56-6107-48be-aa9f-746f927dbb61\":[0.2889229540257275,3.6710543595323597],\"attack-pattern--063b5b92-5361-481a-9c3f-95492ed9a2d8\":[-1.2081819659270059,-1.040230089843339],\"attack-pattern--097924ce-a9a9-4039-8591-e0deedfb8722\":[2.350688053158172,1.7241199743113367],\"attack-pattern--09a61657-46e1-439e-b3ed-3e4556a78243\":[3.13075539609286,0.3216660798036584],\"attack-pattern--0fe075d5-beac-4d02-b93e-0f874997db72\":[2.0793391199028712,5.948025450617196],\"attack-pattern--138979ba-0430-4de6-a128-2fc0b056ba36\":[2.780439332593228,-1.602318372657673],\"attack-pattern--19a71d1e-6334-4233-8260-b749cae37953\":[2.243575503863407,2.634231840666067],\"attack-pattern--1af9e3fd-2bcc-414d-adbd-fe3b95c02ca1\":[-1.1930853592906787,2.854104840647909],\"attack-pattern--1b22b676-9347-4c55-9a35-ef0dc653db5b\":[1.1343560804697934,0.858147296410629],\"attack-pattern--1c478716-71d9-46a4-9a53-fa5d576adb60\":[-0.03908981701261162,3.8344171613230777],\"attack-pattern--24a9253e-8948-4c98-b751-8e2aee53127c\":[-1.395930311986923,0.6306758565030481],\"attack-pattern--25852363-5968-4673-b81d-341d5ed90bd1\":[2.1521686364594395,-1.1079108859839595],\"attack-pattern--25dfc8ad-bd73-4dfd-84a9-3c3d383f76e9\":[1.7906813203457812,2.7921053978230845],\"attack-pattern--2736b752-4ec5-4421-a230-8977dea7649c\":[-1.1280168627413447,-0.5210722596267918],\"attack-pattern--2877063e-1851-48d2-bcc6-bc1d2733157e\":[3.089295705397511,-0.7088797663954778],\"attack-pattern--2883c520-7957-46ca-89bd-dab1ad53b601\":[2.792596949501238,0.8182834269611337],\"attack-pattern--2900bbd8-308a-4274-b074-5b8bde8347bc\":[2.38983989347349,4.703599426154013],\"attack-pattern--2aa406ed-81c3-4c1d-ba83-cfbee5a2847a\":[3.6101735215149025,1.8151702688696596],\"attack-pattern--2bb4d762-bf4a-4bc3-9318-15cc6a354163\":[-4.059423745411589,1.0835704833455935],\"attack-pattern--2d0d40ad-22fa-4cc8-b264-072557e1364b\":[0.1346891933209184,2.1014912698197037],\"attack-pattern--2dc2b567-8821-49f9-9045-8740f3d0b958\":[-3.6724147161438907,-0.41652992019988866],\"attack-pattern--2fedbe69-581f-447d-8a78-32ee7db939a9\":[-0.47306610261828963,0.1418359514367558],\"attack-pattern--3067b85e-271e-4bc5-81ad-ab1a81d411e3\":[2.230492614855915,0.9966374750284351],\"attack-pattern--32632a95-6856-47b9-9ab7-fea5cd7dce00\":[2.0170031390101095,3.648305231144374],\"attack-pattern--3405891b-16aa-4bd7-bd7c-733501f9b20f\":[-1.738971790674571,-2.2646983940047383],\"attack-pattern--35392fb4-a31d-4c6a-b9f2-1c65b7f5e6b9\":[1.7307954359046147,4.305957152961021],\"attack-pattern--36e9f5bc-ac13-4da4-a2f4-01f4877d9004\":[3.9792562554094,-1.2654342102553264],\"attack-pattern--38213338-1aab-479d-949b-c81b66ccca5c\":[-1.2852664782813188,-2.193529308257025],\"attack-pattern--3b6b9246-43f8-4c69-ad7a-2b11cfe0a0d9\":[3.1590527955883725,4.033251431631202],\"attack-pattern--3de230d4-3e42-4041-b089-17e1128feded\":[-1.6575570392076073,0.021427438185928797],\"attack-pattern--3f1f4ccb-9be2-4ff8-8f69-dd972221169b\":[-0.1680373258080059,3.54222646245662],\"attack-pattern--40b300ba-f553-48bf-862e-9471b220d455\":[0.8177089549141434,2.6202680269255447],\"attack-pattern--493832d9-cea6-4b63-abe7-9a65a6473675\":[-0.8808367394857409,-2.5078966879960385],\"attack-pattern--4c2e1408-9d68-4187-8e6b-a77bc52700ec\":[-1.780771497256277,2.396192786045004],\"attack-pattern--53a26eee-1080-4d17-9762-2027d5a1b805\":[-1.710717335284194,-3.0719895428652224],\"attack-pattern--53a48c74-0025-45f4-b04a-baa853df8204\":[4.081273318149093,-2.077481518961872],\"attack-pattern--56ddc820-6cfb-407f-850b-52c035d123ac\":[-0.8225009005569449,5.561050193159549],\"attack-pattern--5a2610f6-9fff-41e1-bc27-575ca20383d4\":[-3.14569224926571,2.2617794520633656],\"attack-pattern--5e0f75da-e108-4688-a6de-a4f07cc2cbe3\":[-0.5207637478784364,-5.986268552050074],\"attack-pattern--5fa00fdd-4a55-4191-94a0-564181d7fec2\":[0.7259480575285188,5.597291800471031],\"attack-pattern--63b6942d-8359-4506-bfb3-cf87aa8120ee\":[0.9491921342454572,0.21832901054401335],\"attack-pattern--648f995e-9c3a-41e4-aeee-98bb41037426\":[0.3844428917218385,-1.0574323504179417],\"attack-pattern--7830cfcf-b268-4ac0-a69e-73c6affbae9a\":[-0.6324295609391205,-0.7259151958285747],\"attack-pattern--8535b71e-3c12-4258-a4ab-40257a1becc4\":[2.322103026825592,-0.49125294491210675],\"attack-pattern--85a45294-08f1-4539-bf00-7da08aa7b0ee\":[0.5723302834457996,-2.142533460783995],\"attack-pattern--8bb4538f-f16f-49f0-a431-70b5444c7349\":[3.5857285436842896,-2.6752206221584047],\"attack-pattern--8d2f3bab-507c-4424-b58b-edc977bd215c\":[4.655565344007516,1.8695700820051435],\"attack-pattern--8e7089d3-fba2-44f8-94a8-9a79c53920c4\":[0.36169259743411053,2.85622906081628],\"attack-pattern--9a505987-ab05-4f46-a9a6-6441442eec3b\":[-1.1012578501707502,-1.2441849142157677],\"attack-pattern--9f947a1c-3860-48a8-8af0-a2dfa3efde03\":[2.7754902458154644,3.511980565756649],\"attack-pattern--a81696ef-c106-482c-8f80-59c30f2569fb\":[4.047105260740167,0.9897916169284496],\"attack-pattern--ab390887-afc0-4715-826d-b1b167d522ae\":[-2.6821426492085143,1.1378914580075956],\"attack-pattern--b0628bfc-5376-4a38-9182-f324501cb4cf\":[-1.7348564830653836,-3.561751698756962],\"attack-pattern--b14395bd-5419-4ef4-9bd8-696936f509bb\":[3.4127407861239862,2.62879912151578],\"attack-pattern--b52870cc-83f3-473c-b895-72d91751030b\":[-0.2814448876531397,-0.460633098097687],\"attack-pattern--b5b9bacb-97f2-4249-b804-47fd44de1f95\":[-4.6887016915440745,6.875055760473204],\"attack-pattern--b7e13ee8-182c-4f19-92a4-a88d7d855d54\":[-7.4004189811462355,-1.085727720994999],\"attack-pattern--b9160e77-ea9e-4ba9-b1c8-53a3c466b13d\":[2.9475190832200604,3.071604685266502],\"attack-pattern--ba203963-3182-41ac-af14-7e7ebc83cd61\":[-3.9362663436345136,-1.731896530284839],\"attack-pattern--be69c571-d746-4b1f-bdd0-c0c9817e9068\":[2.5838095460336237,1.4076328179447095],\"attack-pattern--c267bbee-bb59-47fe-85e0-3ed210337c21\":[-3.3378859490172403,1.619163475206154],\"attack-pattern--c5e3cdbc-0387-4be9-8f83-ff5c0865f377\":[-5.693168217946777,-0.9294686148676462],\"attack-pattern--c9a8d958-fcdb-40d2-af4c-461c8031651a\":[2.2054982947364494,-1.650333839983989],\"attack-pattern--cd2c76a4-5e23-4ca5-9c40-d5e0604f7101\":[5.046255124209708,-2.072881630166626],\"attack-pattern--cfe68e93-ce94-4c0f-a57d-3aa72cedd618\":[3.0683277804048825,1.2260980104170354],\"attack-pattern--d5a69cfb-fc2a-46cb-99eb-74b236db5061\":[-0.018773687027587162,-0.11936207485712132],\"attack-pattern--d67adac8-e3b9-44f9-9e6d-6c2a7d69dbe4\":[1.2518791505381568,2.2484406114596176],\"attack-pattern--e076cca8-2f08-45c9-aff7-ea5ac798b387\":[0.06198185605245645,0.20132895469249942],\"attack-pattern--e1f9cdd2-9511-4fca-90d7-f3e92cfdd0bf\":[-1.084894726764535,-1.5715463227505333],\"attack-pattern--e33c7ecc-5a38-497f-beb2-a9a2049a4c20\":[-2.0922797133742956,5.073380983140691],\"attack-pattern--e5de767e-f513-41cd-aa15-33f6ce5fbf92\":[2.57813928262378,3.6938848898501293],\"attack-pattern--e6c31185-8040-4267-83d3-b217b8a92f07\":[1.74686370552919,1.9302318209245624],\"attack-pattern--e72425f8-9ae6-41d3-bfdb-e1b865e60722\":[-0.6174707184317608,-3.8196381939980735],\"attack-pattern--ea0c980c-5cf0-43a7-a049-59c4c207566e\":[-3.368960463320304,0.48288538975755724],\"attack-pattern--ead7bd34-186e-4c79-9a4d-b65bcce6ed9d\":[-0.4922693060969287,-2.008708712585364],\"attack-pattern--efbf7888-f61b-4572-9c80-7e2965c60707\":[3.859696704250124,3.258389554557412],\"attack-pattern--f8df6b57-14bc-425f-9a91-6f59f6799307\":[4.789408475659861,1.2585514859318172],\"attack-pattern--fa3aa267-da22-4bdd-961f-03223322a8d5\":[-5.620436074322056,-1.2233920071930562],\"attack-pattern--fab8fc7d-f27f-4fbb-9de6-44740aade05f\":[5.269000064792678,2.386488898357961],\"attack-pattern--fc5fda7e-6b2c-4457-b036-759896a2efa2\":[3.5917655835459303,0.19651337099535823],\"intrusion-set--00f67a77-86a4-4adf-be26-1a54fc713340\":[2.380030341435515,-7.330652349103123],\"intrusion-set--1c63d4ec-0a75-4daa-b1df-0d11af3d3cc1\":[1.535444745567041,-6.0928177047601855],\"intrusion-set--2a7914cf-dff3-428d-ab0f-1014d1c28aeb\":[8.345925704666026,-0.4577427448039428],\"intrusion-set--3753cc21-2dae-4dfb-8481-d004e74502cc\":[-6.945349359206631,1.8605689396860667],\"intrusion-set--381fcf73-60f6-4ab2-9991-6af3cbc35192\":[1.1095890704952625,-1.5506058834582226],\"intrusion-set--9538b1a4-4120-4e2d-bf59-3b11fcab05a4\":[1.8321085684445708,5.381844192358934],\"intrusion-set--c77c5576-ca19-42ed-a36f-4b4486a84133\":[-7.26479054844777,1.1427514186898762],\"intrusion-set--c93fccb1-e8e8-42cf-ae33-2ad1d183913a\":[-1.8208422734547567,-9.149447633432771],\"intrusion-set--dd2d9ca6-505b-4860-a604-233685b802c7\":[10.0,0.36851473186781547],\"malware--00e7d565-9883-4ee5-b642-8fd17fd6a3f5\":[-2.4298593597514935,-0.010698589769057203],\"malware--083bb47b-02c8-4423-81a2-f9ef58572974\":[0.2821271690952255,-2.4209395612274545],\"malware--088f1d6e-0783-47c6-9923-9c79b2af43d4\":[0.42090618239788413,0.03777974204955531],\"malware--2eaa5319-5e1e-4dd7-bbc4-566fced3964a\":[0.2522510134186548,-1.787866292523322],\"malware--4dcff507-5af8-47ce-964a-8d9569e9ccfe\":[2.5020824282858944,-0.1490383933279891],\"malware--54cc1d4f-5c53-4f0e-9ef5-11b4998e82e4\":[2.6055622851395155,-2.245133634100914],\"malware--5719af9d-6b16-46f9-9b28-fb019541ddbb\":[1.2143505068922438,-2.8576577680883375],\"malware--58eddbaf-7416-419a-ad7b-e65b9d4c3b55\":[-2.7032492929259377,3.8425221289168956],\"malware--5af7a825-2d9f-400d-931a-e00eb9e27f48\":[5.153638908344117,-0.4724787074439044],\"malware--6108f800-10b8-4090-944e-be579f01263d\":[-3.078773850871469,-3.9147078421871724],\"malware--68dca94f-c11d-421e-9287-7c501108e18c\":[-5.727798487580841,-2.54802055358093],\"malware--6a0d0ea9-b2c4-43fe-a552-ac41a3009dc5\":[0.012147765819711501,0.9569810594532098],\"malware--75ecdbf1-c2bb-4afc-a3f9-c8da4de8c661\":[-0.7976484202063974,-5.693243629962672],\"malware--80099a91-4c86-4bea-9ccb-dac55d61960e\":[0.2730005894930222,1.393418861883238],\"malware--a020a61c-423f-4195-8c46-ba1d21abba37\":[6.511390326396278,0.1124124533751232],\"malware--a4a98eab-b691-45d9-8c48-869ef8fefd57\":[-8.90590287168591,-0.9483974345228648],\"malware--ac61f1f9-7bb1-465e-9b8a-c2ce8e88baf5\":[-3.6665686868733656,0.04436210344563769],\"malware--d3aa1058-b1b3-4c29-a3ba-9a9b90ccd93b\":[1.3749058070210267,-0.3595451435515136],\"malware--e221eb77-1502-4129-af1d-fe1ad55e7ec6\":[0.7791320450615281,-3.9435407327715204],\"malware--e401d4fe-f0c9-44f0-98e6-f93487678808\":[-0.2180955949920862,1.5527226740438942],\"malware--ff6840c9-4c87-4d07-bbb6-9f50aa33d498\":[-8.866972786779408,-1.6554228316269095],\"x-mitre-data-component--1177a4c5-31c8-400c-8544-9071166afa0e\":[-3.063824244135446,-6.64326114207058],\"x-mitre-data-component--181a9f8c-c780-4f1f-91a8-edb770e904ba\":[-2.628577130185988,-2.293509929079272],\"x-mitre-data-component--235b7491-2d2b-4617-9a52-3c0783680f71\":[-2.9635862294918196,0.06645919614021288],\"x-mitre-data-component--2b3bfe19-d59a-460d-93bb-2f546adc2d2c\":[-2.2401704198140373,-0.6271144794597212],\"x-mitre-data-component--3772e279-27d6-477a-9fe3-c6beb363594c\":[1.684139697985292,0.7746045330248089],\"x-mitre-data-component--39b9db72-8b48-4595-a18d-db5bbba3091b\":[6.860451581623116,0.5237720917867746],\"x-mitre-data-component--3d20385b-24ef-40e1-9f56-f39750379077\":[-2.1215235332195297,-1.1131854672356403],\"x-mitre-data-component--3d6e6b3b-4aa8-40e1-8c47-91db0f313d9f\":[-6.214606851362344,3.852039811504112],\"x-mitre-data-component--4c12c1c8-bcef-4daf-8e5b-fca235f71d9e\":[0.39575518295892903,5.277490092242004],\"x-mitre-data-component--5297a638-1382-4f0c-8472-0d21830bf705\":[-4.407580945831187,-3.152094399209104],\"x-mitre-data-component--61f1d40e-f3d0-4cc6-aa2d-937b6204194f\":[-1.586136688614494,3.083025627449483],\"x-mitre-data-component--639e87f3-acb6-448a-9645-258f20da4bc5\":[-2.449513219642525,-4.5033687215999425],\"x-mitre-data-component--66531bc6-a509-4868-8314-4d599e91d222\":[-7.2502532183620705,-3.4028590126065987],\"x-mitre-data-component--685f917a-e95e-4ba0-ade1-c7d354dae6e0\":[-2.8030049283156684,-1.5052874721473215],\"x-mitre-data-component--74fa567d-bc90-425c-8a41-3c703abb221c\":[1.5932627476087704,-4.054297445882313],\"x-mitre-data-component--84572de3-9583-4c73-aabd-06ea88123dd8\":[-2.5673331679636773,-3.407007406637554],\"x-mitre-data-component--8ed4e6d0-56d7-4e6b-8fa6-41f41631f30d\":[5.495941633217239,-1.2043749121875829],\"x-mitre-data-component--931b3fc6-ad68-42a8-9018-e98515eedc95\":[1.0318368844316004,4.111194452658377],\"x-mitre-data-component--9bde2f9d-a695-4344-bfac-f2dce13d121e\":[-3.366122643463886,-0.6267811470327088],\"x-mitre-data-component--9c2fa0ae-7abc-485a-97f6-699e3b6cf9fa\":[1.368432433537679,1.3044926973403204],\"x-mitre-data-component--9ce98c86-8d30-4043-ba54-0784d478d0b5\":[1.6367581376747002,-2.8414464892716134],\"x-mitre-data-component--9d56be63-3501-4dd3-bb5f-63c580833298\":[3.54330575886918,2.140870687844816],\"x-mitre-data-component--9f387817-df83-432a-b56b-a8fb7f71eedd\":[-4.9177422955974865,0.04326346461099437],\"x-mitre-data-component--a7f22107-02e5-4982-9067-6625d4a1765a\":[1.3046734614191484,1.6710671618620176],\"x-mitre-data-component--a953ca55-921a-44f7-9b8d-3d40141aa17e\":[8.38364747491948,-3.284255689542732],\"x-mitre-data-component--b05a614b-033c-4578-b4f2-c63a9feee706\":[4.423488476006939,3.4649805404673306],\"x-mitre-data-component--b9d031bb-d150-4fc6-8025-688201bf3ffd\":[4.617786777681087,5.3079624578545905],\"x-mitre-data-component--c0a4a086-cc20-4e1e-b7cb-29d99dfa3fb1\":[-3.6605694880706556,-2.9633727858418677],\"x-mitre-data-component--da85d358-741a-410d-9433-20d6269a6170\":[0.09409387662255411,-2.9173304477240016],\"x-mitre-data-component--e905dad2-00d6-477c-97e8-800427abd0e8\":[-1.8629212761476792,-5.507784543797593],\"x-mitre-data-component--ee575f4a-2d4f-48f6-b18b-89067760adc1\":[-5.409285443900444,0.41945445103673284],\"x-mitre-data-component--f42df6f0-6395-4f0c-9376-525a031f00c3\":[-6.8408398175837695,-4.0353154072995325],\"x-mitre-data-component--f5468e67-51c7-4756-9b4f-65707708e7fa\":[-1.8651304450646409,-4.082419264828895],\"x-mitre-data-component--faa34cf6-cf32-4dc9-bd6a-8f7a606ff65b\":[-7.485200771612012,-2.7045406947908557]}},\"id\":\"1493\",\"type\":\"StaticLayoutProvider\"},{\"attributes\":{\"end\":10.1,\"start\":-10.1},\"id\":\"1455\",\"type\":\"Range1d\"},{\"attributes\":{\"data\":{\"adjusted_node_size\":[11,13,10,12,13,10,12,14,17,23,13,11,13,20,9,8,7,7,40,7,18,28,14,38,7,30,12,9,22,13,10,9,15,11,12,17,8,10,10,12,9,9,8,9,7,8,9,6,11,6,17,6,8,11,15,11,8,9,8,9,7,10,7,9,7,9,11,12,11,9,12,7,9,10,9,10,10,9,9,10,9,8,6,8,7,6,10,9,8,7,6,13,7,9,6,7,11,8,8,11,7,15,6,12,11,7,7,11,11,9,7,11,30,24,6,11,6,15,14,13,9,12,9,6,6,9,7,8,6,8,6,9,6,8,8,7,7,6,6,7,6,6,9,6],\"degree\":[6,8,5,7,8,5,7,9,12,18,8,6,8,15,4,3,2,2,35,2,13,23,9,33,2,25,7,4,17,8,5,4,10,6,7,12,3,5,5,7,4,4,3,4,2,3,4,1,6,1,12,1,3,6,10,6,3,4,3,4,2,5,2,4,2,4,6,7,6,4,7,2,4,5,4,5,5,4,4,5,4,3,1,3,2,1,5,4,3,2,1,8,2,4,1,2,6,3,3,6,2,10,1,7,6,2,2,6,6,4,2,6,25,19,1,6,1,10,9,8,4,7,4,1,1,4,2,3,1,3,1,4,1,3,3,2,2,1,1,2,1,1,4,1],\"human_name\":[\"Sandworm Team\",\"Industroyer2\",\"Brute Force I/O\",\"Modify Parameter\",\"Unauthorized Command Message\",\"Monitor Process State\",\"Automated Collection\",\"Remote System Information Discovery\",\"Service Stop\",\"Process Creation\",\"Data from Local System\",\"File Access\",\"OS API Execution\",\"Command Execution\",\"Script Execution\",\"Duqu\",\"Flame\",\"ACAD/Medre.A\",\"Network Traffic Content\",\"Change Credential\",\"Device Alarm\",\"Network Traffic Flow\",\"Remote System Discovery\",\"Application Log Content\",\"Exploitation for Evasion\",\"Industroyer\",\"Logon Session Creation\",\"Hardcoded Credentials\",\"INCONTROLLER\",\"Program Download\",\"Program Upload\",\"Connection Proxy\",\"Remote Services\",\"Change Operating Mode\",\"Standard Application Layer Protocol\",\"Lateral Tool Transfer\",\"Exploitation for Privilege Escalation\",\"Valid Accounts\",\"Network Sniffing\",\"Data Destruction\",\"Point & Tag Identification\",\"Software\",\"Manipulate I/O Image\",\"Commonly Used Port\",\"I/O Image\",\"Network Share Access\",\"Data from Information Repositories\",\"Wireless Sniffing\",\"Network Connection Enumeration\",\"Service Modification\",\"Masquerading\",\"Scheduled Job Creation\",\"Logon Session Metadata\",\"Modify Program\",\"User Execution\",\"Modify Controller Tasking\",\"Process Metadata\",\"Hooking\",\"Module Load\",\"Graphical User Interface\",\"Execution through API\",\"Command-Line Interface\",\"Transient Cyber Asset\",\"File Metadata\",\"Supply Chain Compromise\",\"File Creation\",\"Spearphishing Attachment\",\"Scripting\",\"Replication Through Removable Media\",\"Windows Registry Key Modification\",\"Adversary-in-the-Middle\",\"Service Creation\",\"Module Firmware\",\"System Firmware\",\"Asset Inventory\",\"Device Restart/Shutdown\",\"Rogue Master\",\"Alarm Suppression\",\"Modify Alarm Settings\",\"Process/Event Alarm\",\"Spoof Reporting Message\",\"Wireless Compromise\",\"User Account Authentication\",\"Network Connection Creation\",\"Screen Capture\",\"Drive Creation\",\"File Modification\",\"Process Termination\",\"Firmware Modification\",\"Rootkit\",\"Service Metadata\",\"Process History/Live Data\",\"Project File Infection\",\"Native API\",\"Scheduled Job Modification\",\"Exploit Public-Facing Application\",\"Drive-by Compromise\",\"External Remote Services\",\"Internet Accessible Device\",\"Exploitation of Remote Services\",\"File Deletion\",\"Indicator Removal on Host\",\"Windows Registry Key Deletion\",\"Denial of Service\",\"Block Serial COM\",\"Default Credentials\",\"Detect Operating Mode\",\"Block Reporting Message\",\"Block Command Message\",\"Activate Firmware Update Mode\",\"VPNFilter\",\"Bad Rabbit\",\"Stuxnet\",\"Triton\",\"APT38\",\"KillDisk\",\"FIN7\",\"REvil\",\"Backdoor.Oldrea\",\"PLC-Blaster\",\"EKANS\",\"Loss of Productivity and Revenue\",\"Theft of Operational Information\",\"Loss of Protection\",\"GOLD SOUTHFIELD\",\"NotPetya\",\"FIN6\",\"Ryuk\",\"Wizard Spider\",\"Conficker\",\"Loss of Availability\",\"LockerGoga\",\"Lazarus Group\",\"WannaCry\",\"Loss of View\",\"Loss of Control\",\"Manipulation of Control\",\"Denial of Control\",\"Denial of View\",\"Manipulation of View\",\"TEMP.Veles\",\"Loss of Safety\",\"BlackEnergy\",\"Dragonfly\"],\"index\":[\"intrusion-set--381fcf73-60f6-4ab2-9991-6af3cbc35192\",\"malware--6a0d0ea9-b2c4-43fe-a552-ac41a3009dc5\",\"attack-pattern--8e7089d3-fba2-44f8-94a8-9a79c53920c4\",\"attack-pattern--097924ce-a9a9-4039-8591-e0deedfb8722\",\"attack-pattern--40b300ba-f553-48bf-862e-9471b220d455\",\"attack-pattern--2d0d40ad-22fa-4cc8-b264-072557e1364b\",\"attack-pattern--3de230d4-3e42-4041-b089-17e1128feded\",\"attack-pattern--2fedbe69-581f-447d-8a78-32ee7db939a9\",\"attack-pattern--063b5b92-5361-481a-9c3f-95492ed9a2d8\",\"x-mitre-data-component--3d20385b-24ef-40e1-9f56-f39750379077\",\"attack-pattern--fa3aa267-da22-4bdd-961f-03223322a8d5\",\"x-mitre-data-component--235b7491-2d2b-4617-9a52-3c0783680f71\",\"x-mitre-data-component--9bde2f9d-a695-4344-bfac-f2dce13d121e\",\"x-mitre-data-component--685f917a-e95e-4ba0-ade1-c7d354dae6e0\",\"x-mitre-data-component--9f387817-df83-432a-b56b-a8fb7f71eedd\",\"malware--68dca94f-c11d-421e-9287-7c501108e18c\",\"malware--ff6840c9-4c87-4d07-bbb6-9f50aa33d498\",\"malware--a4a98eab-b691-45d9-8c48-869ef8fefd57\",\"x-mitre-data-component--3772e279-27d6-477a-9fe3-c6beb363594c\",\"attack-pattern--fab8fc7d-f27f-4fbb-9de6-44740aade05f\",\"x-mitre-data-component--9d56be63-3501-4dd3-bb5f-63c580833298\",\"x-mitre-data-component--a7f22107-02e5-4982-9067-6625d4a1765a\",\"attack-pattern--d5a69cfb-fc2a-46cb-99eb-74b236db5061\",\"x-mitre-data-component--9c2fa0ae-7abc-485a-97f6-699e3b6cf9fa\",\"attack-pattern--9f947a1c-3860-48a8-8af0-a2dfa3efde03\",\"malware--e401d4fe-f0c9-44f0-98e6-f93487678808\",\"x-mitre-data-component--9ce98c86-8d30-4043-ba54-0784d478d0b5\",\"attack-pattern--c9a8d958-fcdb-40d2-af4c-461c8031651a\",\"malware--d3aa1058-b1b3-4c29-a3ba-9a9b90ccd93b\",\"attack-pattern--be69c571-d746-4b1f-bdd0-c0c9817e9068\",\"attack-pattern--3067b85e-271e-4bc5-81ad-ab1a81d411e3\",\"attack-pattern--d67adac8-e3b9-44f9-9e6d-6c2a7d69dbe4\",\"attack-pattern--e1f9cdd2-9511-4fca-90d7-f3e92cfdd0bf\",\"attack-pattern--2883c520-7957-46ca-89bd-dab1ad53b601\",\"attack-pattern--e076cca8-2f08-45c9-aff7-ea5ac798b387\",\"attack-pattern--ead7bd34-186e-4c79-9a4d-b65bcce6ed9d\",\"attack-pattern--cfe68e93-ce94-4c0f-a57d-3aa72cedd618\",\"attack-pattern--cd2c76a4-5e23-4ca5-9c40-d5e0604f7101\",\"attack-pattern--38213338-1aab-479d-949b-c81b66ccca5c\",\"attack-pattern--493832d9-cea6-4b63-abe7-9a65a6473675\",\"attack-pattern--25852363-5968-4673-b81d-341d5ed90bd1\",\"x-mitre-data-component--8ed4e6d0-56d7-4e6b-8fa6-41f41631f30d\",\"attack-pattern--36e9f5bc-ac13-4da4-a2f4-01f4877d9004\",\"attack-pattern--e6c31185-8040-4267-83d3-b217b8a92f07\",\"attack-pattern--53a48c74-0025-45f4-b04a-baa853df8204\",\"x-mitre-data-component--f5468e67-51c7-4756-9b4f-65707708e7fa\",\"attack-pattern--3405891b-16aa-4bd7-bd7c-733501f9b20f\",\"attack-pattern--0fe075d5-beac-4d02-b93e-0f874997db72\",\"attack-pattern--ea0c980c-5cf0-43a7-a049-59c4c207566e\",\"x-mitre-data-component--66531bc6-a509-4868-8314-4d599e91d222\",\"attack-pattern--ba203963-3182-41ac-af14-7e7ebc83cd61\",\"x-mitre-data-component--f42df6f0-6395-4f0c-9376-525a031f00c3\",\"x-mitre-data-component--39b9db72-8b48-4595-a18d-db5bbba3091b\",\"attack-pattern--fc5fda7e-6b2c-4457-b036-759896a2efa2\",\"attack-pattern--2736b752-4ec5-4421-a230-8977dea7649c\",\"attack-pattern--09a61657-46e1-439e-b3ed-3e4556a78243\",\"x-mitre-data-component--ee575f4a-2d4f-48f6-b18b-89067760adc1\",\"attack-pattern--ab390887-afc0-4715-826d-b1b167d522ae\",\"x-mitre-data-component--c0a4a086-cc20-4e1e-b7cb-29d99dfa3fb1\",\"attack-pattern--b0628bfc-5376-4a38-9182-f324501cb4cf\",\"attack-pattern--5a2610f6-9fff-41e1-bc27-575ca20383d4\",\"attack-pattern--24a9253e-8948-4c98-b751-8e2aee53127c\",\"attack-pattern--35392fb4-a31d-4c6a-b9f2-1c65b7f5e6b9\",\"x-mitre-data-component--639e87f3-acb6-448a-9645-258f20da4bc5\",\"attack-pattern--5e0f75da-e108-4688-a6de-a4f07cc2cbe3\",\"x-mitre-data-component--2b3bfe19-d59a-460d-93bb-2f546adc2d2c\",\"attack-pattern--648f995e-9c3a-41e4-aeee-98bb41037426\",\"attack-pattern--2dc2b567-8821-49f9-9045-8740f3d0b958\",\"attack-pattern--c267bbee-bb59-47fe-85e0-3ed210337c21\",\"x-mitre-data-component--da85d358-741a-410d-9433-20d6269a6170\",\"attack-pattern--9a505987-ab05-4f46-a9a6-6441442eec3b\",\"x-mitre-data-component--5297a638-1382-4f0c-8472-0d21830bf705\",\"attack-pattern--efbf7888-f61b-4572-9c80-7e2965c60707\",\"attack-pattern--b9160e77-ea9e-4ba9-b1c8-53a3c466b13d\",\"x-mitre-data-component--b05a614b-033c-4578-b4f2-c63a9feee706\",\"attack-pattern--25dfc8ad-bd73-4dfd-84a9-3c3d383f76e9\",\"attack-pattern--b14395bd-5419-4ef4-9bd8-696936f509bb\",\"attack-pattern--2900bbd8-308a-4274-b074-5b8bde8347bc\",\"attack-pattern--e5de767e-f513-41cd-aa15-33f6ce5fbf92\",\"x-mitre-data-component--4c12c1c8-bcef-4daf-8e5b-fca235f71d9e\",\"attack-pattern--8535b71e-3c12-4258-a4ab-40257a1becc4\",\"attack-pattern--2877063e-1851-48d2-bcc6-bc1d2733157e\",\"x-mitre-data-component--a953ca55-921a-44f7-9b8d-3d40141aa17e\",\"x-mitre-data-component--181a9f8c-c780-4f1f-91a8-edb770e904ba\",\"attack-pattern--c5e3cdbc-0387-4be9-8f83-ff5c0865f377\",\"x-mitre-data-component--3d6e6b3b-4aa8-40e1-8c47-91db0f313d9f\",\"x-mitre-data-component--84572de3-9583-4c73-aabd-06ea88123dd8\",\"x-mitre-data-component--61f1d40e-f3d0-4cc6-aa2d-937b6204194f\",\"x-mitre-data-component--b9d031bb-d150-4fc6-8025-688201bf3ffd\",\"attack-pattern--3b6b9246-43f8-4c69-ad7a-2b11cfe0a0d9\",\"x-mitre-data-component--74fa567d-bc90-425c-8a41-3c703abb221c\",\"x-mitre-data-component--931b3fc6-ad68-42a8-9018-e98515eedc95\",\"attack-pattern--e72425f8-9ae6-41d3-bfdb-e1b865e60722\",\"attack-pattern--b52870cc-83f3-473c-b895-72d91751030b\",\"x-mitre-data-component--faa34cf6-cf32-4dc9-bd6a-8f7a606ff65b\",\"attack-pattern--32632a95-6856-47b9-9ab7-fea5cd7dce00\",\"attack-pattern--7830cfcf-b268-4ac0-a69e-73c6affbae9a\",\"attack-pattern--8d2f3bab-507c-4424-b58b-edc977bd215c\",\"attack-pattern--f8df6b57-14bc-425f-9a91-6f59f6799307\",\"attack-pattern--85a45294-08f1-4539-bf00-7da08aa7b0ee\",\"x-mitre-data-component--e905dad2-00d6-477c-97e8-800427abd0e8\",\"attack-pattern--53a26eee-1080-4d17-9762-2027d5a1b805\",\"x-mitre-data-component--1177a4c5-31c8-400c-8544-9071166afa0e\",\"attack-pattern--1b22b676-9347-4c55-9a35-ef0dc653db5b\",\"attack-pattern--1c478716-71d9-46a4-9a53-fa5d576adb60\",\"attack-pattern--8bb4538f-f16f-49f0-a431-70b5444c7349\",\"attack-pattern--2aa406ed-81c3-4c1d-ba83-cfbee5a2847a\",\"attack-pattern--3f1f4ccb-9be2-4ff8-8f69-dd972221169b\",\"attack-pattern--008b8f56-6107-48be-aa9f-746f927dbb61\",\"attack-pattern--19a71d1e-6334-4233-8260-b749cae37953\",\"malware--6108f800-10b8-4090-944e-be579f01263d\",\"malware--2eaa5319-5e1e-4dd7-bbc4-566fced3964a\",\"malware--088f1d6e-0783-47c6-9923-9c79b2af43d4\",\"malware--80099a91-4c86-4bea-9ccb-dac55d61960e\",\"intrusion-set--00f67a77-86a4-4adf-be26-1a54fc713340\",\"malware--e221eb77-1502-4129-af1d-fe1ad55e7ec6\",\"intrusion-set--3753cc21-2dae-4dfb-8481-d004e74502cc\",\"malware--ac61f1f9-7bb1-465e-9b8a-c2ce8e88baf5\",\"malware--083bb47b-02c8-4423-81a2-f9ef58572974\",\"malware--4dcff507-5af8-47ce-964a-8d9569e9ccfe\",\"malware--00e7d565-9883-4ee5-b642-8fd17fd6a3f5\",\"attack-pattern--63b6942d-8359-4506-bfb3-cf87aa8120ee\",\"attack-pattern--b7e13ee8-182c-4f19-92a4-a88d7d855d54\",\"attack-pattern--2bb4d762-bf4a-4bc3-9318-15cc6a354163\",\"intrusion-set--c77c5576-ca19-42ed-a36f-4b4486a84133\",\"malware--5719af9d-6b16-46f9-9b28-fb019541ddbb\",\"intrusion-set--2a7914cf-dff3-428d-ab0f-1014d1c28aeb\",\"malware--a020a61c-423f-4195-8c46-ba1d21abba37\",\"intrusion-set--dd2d9ca6-505b-4860-a604-233685b802c7\",\"malware--58eddbaf-7416-419a-ad7b-e65b9d4c3b55\",\"attack-pattern--b5b9bacb-97f2-4249-b804-47fd44de1f95\",\"malware--5af7a825-2d9f-400d-931a-e00eb9e27f48\",\"intrusion-set--c93fccb1-e8e8-42cf-ae33-2ad1d183913a\",\"malware--75ecdbf1-c2bb-4afc-a3f9-c8da4de8c661\",\"attack-pattern--138979ba-0430-4de6-a128-2fc0b056ba36\",\"attack-pattern--a81696ef-c106-482c-8f80-59c30f2569fb\",\"attack-pattern--1af9e3fd-2bcc-414d-adbd-fe3b95c02ca1\",\"attack-pattern--e33c7ecc-5a38-497f-beb2-a9a2049a4c20\",\"attack-pattern--56ddc820-6cfb-407f-850b-52c035d123ac\",\"attack-pattern--4c2e1408-9d68-4187-8e6b-a77bc52700ec\",\"intrusion-set--9538b1a4-4120-4e2d-bf59-3b11fcab05a4\",\"attack-pattern--5fa00fdd-4a55-4191-94a0-564181d7fec2\",\"malware--54cc1d4f-5c53-4f0e-9ef5-11b4998e82e4\",\"intrusion-set--1c63d4ec-0a75-4daa-b1df-0d11af3d3cc1\"],\"node_type\":[0,1,2,2,2,2,2,2,2,3,2,3,3,3,3,1,1,1,3,2,3,3,2,3,2,1,3,2,1,2,2,2,2,2,2,2,2,2,2,2,2,3,2,2,2,3,2,2,2,3,2,3,3,2,2,2,3,2,3,2,2,2,2,3,2,3,2,2,2,3,2,3,2,2,3,2,2,2,2,3,2,2,3,3,2,3,3,3,3,2,3,3,2,2,3,2,2,2,2,2,3,2,3,2,2,2,2,2,2,2,1,1,1,1,0,1,0,1,1,1,1,2,2,2,0,1,0,1,0,1,2,1,0,1,2,2,2,2,2,2,0,2,1,0]},\"selected\":{\"id\":\"1583\"},\"selection_policy\":{\"id\":\"1582\"}},\"id\":\"1486\",\"type\":\"ColumnDataSource\"},{\"attributes\":{},\"id\":\"1525\",\"type\":\"NodesAndLinkedEdges\"},{\"attributes\":{},\"id\":\"1474\",\"type\":\"WheelZoomTool\"},{\"attributes\":{\"data\":{\"end\":[\"malware--6a0d0ea9-b2c4-43fe-a552-ac41a3009dc5\",\"malware--2eaa5319-5e1e-4dd7-bbc4-566fced3964a\",\"malware--e221eb77-1502-4129-af1d-fe1ad55e7ec6\",\"malware--e401d4fe-f0c9-44f0-98e6-f93487678808\",\"malware--5719af9d-6b16-46f9-9b28-fb019541ddbb\",\"malware--54cc1d4f-5c53-4f0e-9ef5-11b4998e82e4\",\"attack-pattern--8e7089d3-fba2-44f8-94a8-9a79c53920c4\",\"attack-pattern--097924ce-a9a9-4039-8591-e0deedfb8722\",\"attack-pattern--40b300ba-f553-48bf-862e-9471b220d455\",\"attack-pattern--2d0d40ad-22fa-4cc8-b264-072557e1364b\",\"attack-pattern--3de230d4-3e42-4041-b089-17e1128feded\",\"attack-pattern--2fedbe69-581f-447d-8a78-32ee7db939a9\",\"attack-pattern--063b5b92-5361-481a-9c3f-95492ed9a2d8\",\"x-mitre-data-component--3772e279-27d6-477a-9fe3-c6beb363594c\",\"x-mitre-data-component--931b3fc6-ad68-42a8-9018-e98515eedc95\",\"x-mitre-data-component--9c2fa0ae-7abc-485a-97f6-699e3b6cf9fa\",\"malware--e401d4fe-f0c9-44f0-98e6-f93487678808\",\"malware--d3aa1058-b1b3-4c29-a3ba-9a9b90ccd93b\",\"x-mitre-data-component--b05a614b-033c-4578-b4f2-c63a9feee706\",\"x-mitre-data-component--3772e279-27d6-477a-9fe3-c6beb363594c\",\"x-mitre-data-component--9d56be63-3501-4dd3-bb5f-63c580833298\",\"x-mitre-data-component--9c2fa0ae-7abc-485a-97f6-699e3b6cf9fa\",\"malware--088f1d6e-0783-47c6-9923-9c79b2af43d4\",\"malware--d3aa1058-b1b3-4c29-a3ba-9a9b90ccd93b\",\"x-mitre-data-component--4c12c1c8-bcef-4daf-8e5b-fca235f71d9e\",\"x-mitre-data-component--a7f22107-02e5-4982-9067-6625d4a1765a\",\"x-mitre-data-component--9c2fa0ae-7abc-485a-97f6-699e3b6cf9fa\",\"x-mitre-data-component--931b3fc6-ad68-42a8-9018-e98515eedc95\",\"x-mitre-data-component--3772e279-27d6-477a-9fe3-c6beb363594c\",\"malware--e401d4fe-f0c9-44f0-98e6-f93487678808\",\"x-mitre-data-component--9c2fa0ae-7abc-485a-97f6-699e3b6cf9fa\",\"x-mitre-data-component--3772e279-27d6-477a-9fe3-c6beb363594c\",\"malware--e401d4fe-f0c9-44f0-98e6-f93487678808\",\"malware--088f1d6e-0783-47c6-9923-9c79b2af43d4\",\"x-mitre-data-component--235b7491-2d2b-4617-9a52-3c0783680f71\",\"x-mitre-data-component--685f917a-e95e-4ba0-ade1-c7d354dae6e0\",\"x-mitre-data-component--9f387817-df83-432a-b56b-a8fb7f71eedd\",\"x-mitre-data-component--3772e279-27d6-477a-9fe3-c6beb363594c\",\"malware--e401d4fe-f0c9-44f0-98e6-f93487678808\",\"malware--083bb47b-02c8-4423-81a2-f9ef58572974\",\"malware--e401d4fe-f0c9-44f0-98e6-f93487678808\",\"malware--d3aa1058-b1b3-4c29-a3ba-9a9b90ccd93b\",\"x-mitre-data-component--235b7491-2d2b-4617-9a52-3c0783680f71\",\"x-mitre-data-component--3d20385b-24ef-40e1-9f56-f39750379077\",\"x-mitre-data-component--a7f22107-02e5-4982-9067-6625d4a1765a\",\"x-mitre-data-component--3772e279-27d6-477a-9fe3-c6beb363594c\",\"malware--088f1d6e-0783-47c6-9923-9c79b2af43d4\",\"malware--083bb47b-02c8-4423-81a2-f9ef58572974\",\"x-mitre-data-component--84572de3-9583-4c73-aabd-06ea88123dd8\",\"x-mitre-data-component--685f917a-e95e-4ba0-ade1-c7d354dae6e0\",\"x-mitre-data-component--61f1d40e-f3d0-4cc6-aa2d-937b6204194f\",\"x-mitre-data-component--3d20385b-24ef-40e1-9f56-f39750379077\",\"x-mitre-data-component--74fa567d-bc90-425c-8a41-3c703abb221c\",\"x-mitre-data-component--da85d358-741a-410d-9433-20d6269a6170\",\"x-mitre-data-component--9bde2f9d-a695-4344-bfac-f2dce13d121e\",\"malware--00e7d565-9883-4ee5-b642-8fd17fd6a3f5\",\"malware--ac61f1f9-7bb1-465e-9b8a-c2ce8e88baf5\",\"malware--e401d4fe-f0c9-44f0-98e6-f93487678808\",\"malware--e221eb77-1502-4129-af1d-fe1ad55e7ec6\",\"attack-pattern--fa3aa267-da22-4bdd-961f-03223322a8d5\",\"attack-pattern--648f995e-9c3a-41e4-aeee-98bb41037426\",\"attack-pattern--2736b752-4ec5-4421-a230-8977dea7649c\",\"attack-pattern--c267bbee-bb59-47fe-85e0-3ed210337c21\",\"attack-pattern--2dc2b567-8821-49f9-9045-8740f3d0b958\",\"attack-pattern--d5a69cfb-fc2a-46cb-99eb-74b236db5061\",\"attack-pattern--ea0c980c-5cf0-43a7-a049-59c4c207566e\",\"attack-pattern--38213338-1aab-479d-949b-c81b66ccca5c\",\"attack-pattern--e1f9cdd2-9511-4fca-90d7-f3e92cfdd0bf\",\"attack-pattern--b0628bfc-5376-4a38-9182-f324501cb4cf\",\"attack-pattern--9a505987-ab05-4f46-a9a6-6441442eec3b\",\"attack-pattern--7830cfcf-b268-4ac0-a69e-73c6affbae9a\",\"attack-pattern--ead7bd34-186e-4c79-9a4d-b65bcce6ed9d\",\"attack-pattern--53a26eee-1080-4d17-9762-2027d5a1b805\",\"attack-pattern--493832d9-cea6-4b63-abe7-9a65a6473675\",\"attack-pattern--24a9253e-8948-4c98-b751-8e2aee53127c\",\"x-mitre-data-component--235b7491-2d2b-4617-9a52-3c0783680f71\",\"x-mitre-data-component--9bde2f9d-a695-4344-bfac-f2dce13d121e\",\"x-mitre-data-component--685f917a-e95e-4ba0-ade1-c7d354dae6e0\",\"x-mitre-data-component--9f387817-df83-432a-b56b-a8fb7f71eedd\",\"malware--68dca94f-c11d-421e-9287-7c501108e18c\",\"malware--ff6840c9-4c87-4d07-bbb6-9f50aa33d498\",\"malware--a4a98eab-b691-45d9-8c48-869ef8fefd57\",\"attack-pattern--2736b752-4ec5-4421-a230-8977dea7649c\",\"attack-pattern--c267bbee-bb59-47fe-85e0-3ed210337c21\",\"attack-pattern--d5a69cfb-fc2a-46cb-99eb-74b236db5061\",\"attack-pattern--ab390887-afc0-4715-826d-b1b167d522ae\",\"attack-pattern--5a2610f6-9fff-41e1-bc27-575ca20383d4\",\"attack-pattern--c5e3cdbc-0387-4be9-8f83-ff5c0865f377\",\"attack-pattern--ea0c980c-5cf0-43a7-a049-59c4c207566e\",\"attack-pattern--b52870cc-83f3-473c-b895-72d91751030b\",\"attack-pattern--53a26eee-1080-4d17-9762-2027d5a1b805\",\"attack-pattern--b0628bfc-5376-4a38-9182-f324501cb4cf\",\"attack-pattern--2736b752-4ec5-4421-a230-8977dea7649c\",\"attack-pattern--c5e3cdbc-0387-4be9-8f83-ff5c0865f377\",\"attack-pattern--2dc2b567-8821-49f9-9045-8740f3d0b958\",\"attack-pattern--ea0c980c-5cf0-43a7-a049-59c4c207566e\",\"attack-pattern--e1f9cdd2-9511-4fca-90d7-f3e92cfdd0bf\",\"attack-pattern--ba203963-3182-41ac-af14-7e7ebc83cd61\",\"attack-pattern--38213338-1aab-479d-949b-c81b66ccca5c\",\"attack-pattern--ead7bd34-186e-4c79-9a4d-b65bcce6ed9d\",\"attack-pattern--53a26eee-1080-4d17-9762-2027d5a1b805\",\"attack-pattern--493832d9-cea6-4b63-abe7-9a65a6473675\",\"attack-pattern--24a9253e-8948-4c98-b751-8e2aee53127c\",\"attack-pattern--ea0c980c-5cf0-43a7-a049-59c4c207566e\",\"attack-pattern--2dc2b567-8821-49f9-9045-8740f3d0b958\",\"attack-pattern--b7e13ee8-182c-4f19-92a4-a88d7d855d54\",\"attack-pattern--3405891b-16aa-4bd7-bd7c-733501f9b20f\",\"attack-pattern--b7e13ee8-182c-4f19-92a4-a88d7d855d54\",\"attack-pattern--b7e13ee8-182c-4f19-92a4-a88d7d855d54\",\"attack-pattern--fab8fc7d-f27f-4fbb-9de6-44740aade05f\",\"attack-pattern--d5a69cfb-fc2a-46cb-99eb-74b236db5061\",\"attack-pattern--c9a8d958-fcdb-40d2-af4c-461c8031651a\",\"attack-pattern--e6c31185-8040-4267-83d3-b217b8a92f07\",\"attack-pattern--fc5fda7e-6b2c-4457-b036-759896a2efa2\",\"attack-pattern--2736b752-4ec5-4421-a230-8977dea7649c\",\"attack-pattern--8535b71e-3c12-4258-a4ab-40257a1becc4\",\"attack-pattern--b14395bd-5419-4ef4-9bd8-696936f509bb\",\"attack-pattern--648f995e-9c3a-41e4-aeee-98bb41037426\",\"attack-pattern--e076cca8-2f08-45c9-aff7-ea5ac798b387\",\"attack-pattern--b9160e77-ea9e-4ba9-b1c8-53a3c466b13d\",\"attack-pattern--25852363-5968-4673-b81d-341d5ed90bd1\",\"attack-pattern--be69c571-d746-4b1f-bdd0-c0c9817e9068\",\"attack-pattern--3067b85e-271e-4bc5-81ad-ab1a81d411e3\",\"attack-pattern--efbf7888-f61b-4572-9c80-7e2965c60707\",\"attack-pattern--e5de767e-f513-41cd-aa15-33f6ce5fbf92\",\"attack-pattern--f8df6b57-14bc-425f-9a91-6f59f6799307\",\"attack-pattern--85a45294-08f1-4539-bf00-7da08aa7b0ee\",\"attack-pattern--ead7bd34-186e-4c79-9a4d-b65bcce6ed9d\",\"attack-pattern--9a505987-ab05-4f46-a9a6-6441442eec3b\",\"attack-pattern--32632a95-6856-47b9-9ab7-fea5cd7dce00\",\"attack-pattern--7830cfcf-b268-4ac0-a69e-73c6affbae9a\",\"attack-pattern--2883c520-7957-46ca-89bd-dab1ad53b601\",\"attack-pattern--d67adac8-e3b9-44f9-9e6d-6c2a7d69dbe4\",\"attack-pattern--8bb4538f-f16f-49f0-a431-70b5444c7349\",\"attack-pattern--1b22b676-9347-4c55-9a35-ef0dc653db5b\",\"attack-pattern--2aa406ed-81c3-4c1d-ba83-cfbee5a2847a\",\"attack-pattern--25dfc8ad-bd73-4dfd-84a9-3c3d383f76e9\",\"attack-pattern--19a71d1e-6334-4233-8260-b749cae37953\",\"x-mitre-data-component--9d56be63-3501-4dd3-bb5f-63c580833298\",\"attack-pattern--fc5fda7e-6b2c-4457-b036-759896a2efa2\",\"attack-pattern--09a61657-46e1-439e-b3ed-3e4556a78243\",\"attack-pattern--efbf7888-f61b-4572-9c80-7e2965c60707\",\"attack-pattern--b9160e77-ea9e-4ba9-b1c8-53a3c466b13d\",\"attack-pattern--b14395bd-5419-4ef4-9bd8-696936f509bb\",\"attack-pattern--2900bbd8-308a-4274-b074-5b8bde8347bc\",\"attack-pattern--8535b71e-3c12-4258-a4ab-40257a1becc4\",\"attack-pattern--be69c571-d746-4b1f-bdd0-c0c9817e9068\",\"attack-pattern--25dfc8ad-bd73-4dfd-84a9-3c3d383f76e9\",\"attack-pattern--2883c520-7957-46ca-89bd-dab1ad53b601\",\"attack-pattern--19a71d1e-6334-4233-8260-b749cae37953\",\"attack-pattern--d5a69cfb-fc2a-46cb-99eb-74b236db5061\",\"attack-pattern--0fe075d5-beac-4d02-b93e-0f874997db72\",\"attack-pattern--35392fb4-a31d-4c6a-b9f2-1c65b7f5e6b9\",\"attack-pattern--3067b85e-271e-4bc5-81ad-ab1a81d411e3\",\"attack-pattern--25dfc8ad-bd73-4dfd-84a9-3c3d383f76e9\",\"attack-pattern--2900bbd8-308a-4274-b074-5b8bde8347bc\",\"attack-pattern--8535b71e-3c12-4258-a4ab-40257a1becc4\",\"attack-pattern--2877063e-1851-48d2-bcc6-bc1d2733157e\",\"attack-pattern--b14395bd-5419-4ef4-9bd8-696936f509bb\",\"attack-pattern--e076cca8-2f08-45c9-aff7-ea5ac798b387\",\"attack-pattern--e1f9cdd2-9511-4fca-90d7-f3e92cfdd0bf\",\"attack-pattern--f8df6b57-14bc-425f-9a91-6f59f6799307\",\"attack-pattern--9a505987-ab05-4f46-a9a6-6441442eec3b\",\"attack-pattern--ead7bd34-186e-4c79-9a4d-b65bcce6ed9d\",\"attack-pattern--8d2f3bab-507c-4424-b58b-edc977bd215c\",\"attack-pattern--d67adac8-e3b9-44f9-9e6d-6c2a7d69dbe4\",\"attack-pattern--1b22b676-9347-4c55-9a35-ef0dc653db5b\",\"attack-pattern--e6c31185-8040-4267-83d3-b217b8a92f07\",\"attack-pattern--1c478716-71d9-46a4-9a53-fa5d576adb60\",\"attack-pattern--008b8f56-6107-48be-aa9f-746f927dbb61\",\"attack-pattern--3f1f4ccb-9be2-4ff8-8f69-dd972221169b\",\"malware--d3aa1058-b1b3-4c29-a3ba-9a9b90ccd93b\",\"malware--e401d4fe-f0c9-44f0-98e6-f93487678808\",\"malware--4dcff507-5af8-47ce-964a-8d9569e9ccfe\",\"malware--80099a91-4c86-4bea-9ccb-dac55d61960e\",\"malware--083bb47b-02c8-4423-81a2-f9ef58572974\",\"attack-pattern--9f947a1c-3860-48a8-8af0-a2dfa3efde03\",\"attack-pattern--cfe68e93-ce94-4c0f-a57d-3aa72cedd618\",\"attack-pattern--fc5fda7e-6b2c-4457-b036-759896a2efa2\",\"attack-pattern--09a61657-46e1-439e-b3ed-3e4556a78243\",\"attack-pattern--24a9253e-8948-4c98-b751-8e2aee53127c\",\"attack-pattern--35392fb4-a31d-4c6a-b9f2-1c65b7f5e6b9\",\"attack-pattern--9a505987-ab05-4f46-a9a6-6441442eec3b\",\"attack-pattern--efbf7888-f61b-4572-9c80-7e2965c60707\",\"attack-pattern--b9160e77-ea9e-4ba9-b1c8-53a3c466b13d\",\"attack-pattern--25852363-5968-4673-b81d-341d5ed90bd1\",\"attack-pattern--2736b752-4ec5-4421-a230-8977dea7649c\",\"attack-pattern--2877063e-1851-48d2-bcc6-bc1d2733157e\",\"attack-pattern--648f995e-9c3a-41e4-aeee-98bb41037426\",\"attack-pattern--b14395bd-5419-4ef4-9bd8-696936f509bb\",\"attack-pattern--3067b85e-271e-4bc5-81ad-ab1a81d411e3\",\"attack-pattern--e5de767e-f513-41cd-aa15-33f6ce5fbf92\",\"attack-pattern--be69c571-d746-4b1f-bdd0-c0c9817e9068\",\"attack-pattern--32632a95-6856-47b9-9ab7-fea5cd7dce00\",\"attack-pattern--8d2f3bab-507c-4424-b58b-edc977bd215c\",\"attack-pattern--85a45294-08f1-4539-bf00-7da08aa7b0ee\",\"attack-pattern--1b22b676-9347-4c55-9a35-ef0dc653db5b\",\"attack-pattern--2883c520-7957-46ca-89bd-dab1ad53b601\",\"attack-pattern--3405891b-16aa-4bd7-bd7c-733501f9b20f\",\"attack-pattern--25dfc8ad-bd73-4dfd-84a9-3c3d383f76e9\",\"attack-pattern--7830cfcf-b268-4ac0-a69e-73c6affbae9a\",\"attack-pattern--008b8f56-6107-48be-aa9f-746f927dbb61\",\"attack-pattern--1c478716-71d9-46a4-9a53-fa5d576adb60\",\"attack-pattern--19a71d1e-6334-4233-8260-b749cae37953\",\"attack-pattern--3f1f4ccb-9be2-4ff8-8f69-dd972221169b\",\"malware--80099a91-4c86-4bea-9ccb-dac55d61960e\",\"attack-pattern--2bb4d762-bf4a-4bc3-9318-15cc6a354163\",\"attack-pattern--24a9253e-8948-4c98-b751-8e2aee53127c\",\"attack-pattern--1b22b676-9347-4c55-9a35-ef0dc653db5b\",\"attack-pattern--25dfc8ad-bd73-4dfd-84a9-3c3d383f76e9\",\"attack-pattern--1c478716-71d9-46a4-9a53-fa5d576adb60\",\"attack-pattern--138979ba-0430-4de6-a128-2fc0b056ba36\",\"attack-pattern--a81696ef-c106-482c-8f80-59c30f2569fb\",\"attack-pattern--008b8f56-6107-48be-aa9f-746f927dbb61\",\"attack-pattern--1af9e3fd-2bcc-414d-adbd-fe3b95c02ca1\",\"attack-pattern--ea0c980c-5cf0-43a7-a049-59c4c207566e\",\"attack-pattern--e33c7ecc-5a38-497f-beb2-a9a2049a4c20\",\"attack-pattern--56ddc820-6cfb-407f-850b-52c035d123ac\",\"attack-pattern--493832d9-cea6-4b63-abe7-9a65a6473675\",\"attack-pattern--4c2e1408-9d68-4187-8e6b-a77bc52700ec\",\"attack-pattern--d67adac8-e3b9-44f9-9e6d-6c2a7d69dbe4\",\"attack-pattern--3f1f4ccb-9be2-4ff8-8f69-dd972221169b\",\"attack-pattern--19a71d1e-6334-4233-8260-b749cae37953\",\"attack-pattern--c9a8d958-fcdb-40d2-af4c-461c8031651a\",\"attack-pattern--b0628bfc-5376-4a38-9182-f324501cb4cf\",\"attack-pattern--cd2c76a4-5e23-4ca5-9c40-d5e0604f7101\",\"attack-pattern--2877063e-1851-48d2-bcc6-bc1d2733157e\",\"attack-pattern--e1f9cdd2-9511-4fca-90d7-f3e92cfdd0bf\",\"attack-pattern--3405891b-16aa-4bd7-bd7c-733501f9b20f\",\"attack-pattern--8bb4538f-f16f-49f0-a431-70b5444c7349\",\"malware--d3aa1058-b1b3-4c29-a3ba-9a9b90ccd93b\",\"malware--088f1d6e-0783-47c6-9923-9c79b2af43d4\",\"attack-pattern--be69c571-d746-4b1f-bdd0-c0c9817e9068\",\"attack-pattern--3067b85e-271e-4bc5-81ad-ab1a81d411e3\",\"attack-pattern--d67adac8-e3b9-44f9-9e6d-6c2a7d69dbe4\",\"attack-pattern--e1f9cdd2-9511-4fca-90d7-f3e92cfdd0bf\",\"attack-pattern--2883c520-7957-46ca-89bd-dab1ad53b601\",\"attack-pattern--e076cca8-2f08-45c9-aff7-ea5ac798b387\",\"attack-pattern--ead7bd34-186e-4c79-9a4d-b65bcce6ed9d\",\"attack-pattern--cfe68e93-ce94-4c0f-a57d-3aa72cedd618\",\"attack-pattern--cd2c76a4-5e23-4ca5-9c40-d5e0604f7101\",\"attack-pattern--38213338-1aab-479d-949b-c81b66ccca5c\",\"attack-pattern--493832d9-cea6-4b63-abe7-9a65a6473675\",\"attack-pattern--25852363-5968-4673-b81d-341d5ed90bd1\",\"x-mitre-data-component--b05a614b-033c-4578-b4f2-c63a9feee706\",\"malware--4dcff507-5af8-47ce-964a-8d9569e9ccfe\",\"malware--80099a91-4c86-4bea-9ccb-dac55d61960e\",\"malware--088f1d6e-0783-47c6-9923-9c79b2af43d4\",\"malware--80099a91-4c86-4bea-9ccb-dac55d61960e\",\"x-mitre-data-component--c0a4a086-cc20-4e1e-b7cb-29d99dfa3fb1\",\"x-mitre-data-component--f5468e67-51c7-4756-9b4f-65707708e7fa\",\"x-mitre-data-component--181a9f8c-c780-4f1f-91a8-edb770e904ba\",\"malware--088f1d6e-0783-47c6-9923-9c79b2af43d4\",\"malware--ac61f1f9-7bb1-465e-9b8a-c2ce8e88baf5\",\"malware--4dcff507-5af8-47ce-964a-8d9569e9ccfe\",\"malware--80099a91-4c86-4bea-9ccb-dac55d61960e\",\"malware--80099a91-4c86-4bea-9ccb-dac55d61960e\",\"malware--ac61f1f9-7bb1-465e-9b8a-c2ce8e88baf5\",\"malware--54cc1d4f-5c53-4f0e-9ef5-11b4998e82e4\",\"malware--088f1d6e-0783-47c6-9923-9c79b2af43d4\",\"x-mitre-data-component--f5468e67-51c7-4756-9b4f-65707708e7fa\",\"x-mitre-data-component--639e87f3-acb6-448a-9645-258f20da4bc5\",\"x-mitre-data-component--2b3bfe19-d59a-460d-93bb-2f546adc2d2c\",\"malware--088f1d6e-0783-47c6-9923-9c79b2af43d4\",\"malware--5719af9d-6b16-46f9-9b28-fb019541ddbb\",\"malware--75ecdbf1-c2bb-4afc-a3f9-c8da4de8c661\",\"malware--2eaa5319-5e1e-4dd7-bbc4-566fced3964a\",\"malware--80099a91-4c86-4bea-9ccb-dac55d61960e\",\"x-mitre-data-component--39b9db72-8b48-4595-a18d-db5bbba3091b\",\"x-mitre-data-component--a953ca55-921a-44f7-9b8d-3d40141aa17e\",\"malware--54cc1d4f-5c53-4f0e-9ef5-11b4998e82e4\",\"malware--6108f800-10b8-4090-944e-be579f01263d\",\"malware--088f1d6e-0783-47c6-9923-9c79b2af43d4\",\"x-mitre-data-component--84572de3-9583-4c73-aabd-06ea88123dd8\",\"x-mitre-data-component--e905dad2-00d6-477c-97e8-800427abd0e8\",\"malware--e221eb77-1502-4129-af1d-fe1ad55e7ec6\",\"malware--083bb47b-02c8-4423-81a2-f9ef58572974\",\"attack-pattern--36e9f5bc-ac13-4da4-a2f4-01f4877d9004\",\"attack-pattern--53a48c74-0025-45f4-b04a-baa853df8204\",\"attack-pattern--fc5fda7e-6b2c-4457-b036-759896a2efa2\",\"attack-pattern--09a61657-46e1-439e-b3ed-3e4556a78243\",\"malware--4dcff507-5af8-47ce-964a-8d9569e9ccfe\",\"malware--088f1d6e-0783-47c6-9923-9c79b2af43d4\",\"malware--80099a91-4c86-4bea-9ccb-dac55d61960e\",\"malware--088f1d6e-0783-47c6-9923-9c79b2af43d4\",\"malware--088f1d6e-0783-47c6-9923-9c79b2af43d4\",\"attack-pattern--3405891b-16aa-4bd7-bd7c-733501f9b20f\",\"malware--00e7d565-9883-4ee5-b642-8fd17fd6a3f5\",\"attack-pattern--ba203963-3182-41ac-af14-7e7ebc83cd61\",\"x-mitre-data-component--f42df6f0-6395-4f0c-9376-525a031f00c3\",\"x-mitre-data-component--5297a638-1382-4f0c-8472-0d21830bf705\",\"x-mitre-data-component--84572de3-9583-4c73-aabd-06ea88123dd8\",\"x-mitre-data-component--639e87f3-acb6-448a-9645-258f20da4bc5\",\"x-mitre-data-component--ee575f4a-2d4f-48f6-b18b-89067760adc1\",\"x-mitre-data-component--faa34cf6-cf32-4dc9-bd6a-8f7a606ff65b\",\"malware--00e7d565-9883-4ee5-b642-8fd17fd6a3f5\",\"malware--ac61f1f9-7bb1-465e-9b8a-c2ce8e88baf5\",\"malware--80099a91-4c86-4bea-9ccb-dac55d61960e\",\"malware--088f1d6e-0783-47c6-9923-9c79b2af43d4\",\"attack-pattern--f8df6b57-14bc-425f-9a91-6f59f6799307\",\"attack-pattern--8d2f3bab-507c-4424-b58b-edc977bd215c\",\"malware--088f1d6e-0783-47c6-9923-9c79b2af43d4\",\"malware--4dcff507-5af8-47ce-964a-8d9569e9ccfe\",\"x-mitre-data-component--181a9f8c-c780-4f1f-91a8-edb770e904ba\",\"malware--088f1d6e-0783-47c6-9923-9c79b2af43d4\",\"malware--ac61f1f9-7bb1-465e-9b8a-c2ce8e88baf5\",\"malware--083bb47b-02c8-4423-81a2-f9ef58572974\",\"malware--2eaa5319-5e1e-4dd7-bbc4-566fced3964a\",\"malware--4dcff507-5af8-47ce-964a-8d9569e9ccfe\",\"malware--80099a91-4c86-4bea-9ccb-dac55d61960e\",\"malware--088f1d6e-0783-47c6-9923-9c79b2af43d4\",\"attack-pattern--ab390887-afc0-4715-826d-b1b167d522ae\",\"attack-pattern--2dc2b567-8821-49f9-9045-8740f3d0b958\",\"malware--80099a91-4c86-4bea-9ccb-dac55d61960e\",\"malware--088f1d6e-0783-47c6-9923-9c79b2af43d4\",\"attack-pattern--b0628bfc-5376-4a38-9182-f324501cb4cf\",\"attack-pattern--2dc2b567-8821-49f9-9045-8740f3d0b958\",\"malware--80099a91-4c86-4bea-9ccb-dac55d61960e\",\"malware--088f1d6e-0783-47c6-9923-9c79b2af43d4\",\"attack-pattern--5e0f75da-e108-4688-a6de-a4f07cc2cbe3\",\"attack-pattern--53a26eee-1080-4d17-9762-2027d5a1b805\",\"malware--083bb47b-02c8-4423-81a2-f9ef58572974\",\"attack-pattern--648f995e-9c3a-41e4-aeee-98bb41037426\",\"attack-pattern--c267bbee-bb59-47fe-85e0-3ed210337c21\",\"attack-pattern--7830cfcf-b268-4ac0-a69e-73c6affbae9a\",\"malware--083bb47b-02c8-4423-81a2-f9ef58572974\",\"malware--54cc1d4f-5c53-4f0e-9ef5-11b4998e82e4\",\"malware--ac61f1f9-7bb1-465e-9b8a-c2ce8e88baf5\",\"malware--80099a91-4c86-4bea-9ccb-dac55d61960e\",\"x-mitre-data-component--3d6e6b3b-4aa8-40e1-8c47-91db0f313d9f\",\"malware--58eddbaf-7416-419a-ad7b-e65b9d4c3b55\",\"malware--088f1d6e-0783-47c6-9923-9c79b2af43d4\",\"attack-pattern--9a505987-ab05-4f46-a9a6-6441442eec3b\",\"attack-pattern--8535b71e-3c12-4258-a4ab-40257a1becc4\",\"attack-pattern--53a26eee-1080-4d17-9762-2027d5a1b805\",\"x-mitre-data-component--5297a638-1382-4f0c-8472-0d21830bf705\",\"malware--6108f800-10b8-4090-944e-be579f01263d\",\"x-mitre-data-component--b9d031bb-d150-4fc6-8025-688201bf3ffd\",\"x-mitre-data-component--b9d031bb-d150-4fc6-8025-688201bf3ffd\",\"malware--80099a91-4c86-4bea-9ccb-dac55d61960e\",\"attack-pattern--e5de767e-f513-41cd-aa15-33f6ce5fbf92\",\"attack-pattern--b14395bd-5419-4ef4-9bd8-696936f509bb\",\"x-mitre-data-component--931b3fc6-ad68-42a8-9018-e98515eedc95\",\"x-mitre-data-component--4c12c1c8-bcef-4daf-8e5b-fca235f71d9e\",\"x-mitre-data-component--931b3fc6-ad68-42a8-9018-e98515eedc95\",\"attack-pattern--1c478716-71d9-46a4-9a53-fa5d576adb60\",\"attack-pattern--3f1f4ccb-9be2-4ff8-8f69-dd972221169b\",\"attack-pattern--008b8f56-6107-48be-aa9f-746f927dbb61\",\"attack-pattern--7830cfcf-b268-4ac0-a69e-73c6affbae9a\",\"attack-pattern--e72425f8-9ae6-41d3-bfdb-e1b865e60722\",\"attack-pattern--53a26eee-1080-4d17-9762-2027d5a1b805\",\"attack-pattern--1c478716-71d9-46a4-9a53-fa5d576adb60\",\"attack-pattern--008b8f56-6107-48be-aa9f-746f927dbb61\",\"attack-pattern--3f1f4ccb-9be2-4ff8-8f69-dd972221169b\",\"attack-pattern--3b6b9246-43f8-4c69-ad7a-2b11cfe0a0d9\",\"malware--088f1d6e-0783-47c6-9923-9c79b2af43d4\",\"attack-pattern--1c478716-71d9-46a4-9a53-fa5d576adb60\",\"attack-pattern--1b22b676-9347-4c55-9a35-ef0dc653db5b\",\"attack-pattern--008b8f56-6107-48be-aa9f-746f927dbb61\",\"attack-pattern--3f1f4ccb-9be2-4ff8-8f69-dd972221169b\",\"malware--088f1d6e-0783-47c6-9923-9c79b2af43d4\",\"malware--088f1d6e-0783-47c6-9923-9c79b2af43d4\",\"malware--80099a91-4c86-4bea-9ccb-dac55d61960e\",\"malware--4dcff507-5af8-47ce-964a-8d9569e9ccfe\",\"malware--2eaa5319-5e1e-4dd7-bbc4-566fced3964a\",\"malware--5719af9d-6b16-46f9-9b28-fb019541ddbb\",\"malware--75ecdbf1-c2bb-4afc-a3f9-c8da4de8c661\",\"malware--088f1d6e-0783-47c6-9923-9c79b2af43d4\",\"malware--2eaa5319-5e1e-4dd7-bbc4-566fced3964a\",\"attack-pattern--53a26eee-1080-4d17-9762-2027d5a1b805\",\"x-mitre-data-component--1177a4c5-31c8-400c-8544-9071166afa0e\",\"malware--80099a91-4c86-4bea-9ccb-dac55d61960e\",\"malware--e221eb77-1502-4129-af1d-fe1ad55e7ec6\",\"malware--4dcff507-5af8-47ce-964a-8d9569e9ccfe\",\"malware--083bb47b-02c8-4423-81a2-f9ef58572974\",\"malware--80099a91-4c86-4bea-9ccb-dac55d61960e\",\"attack-pattern--63b6942d-8359-4506-bfb3-cf87aa8120ee\",\"attack-pattern--4c2e1408-9d68-4187-8e6b-a77bc52700ec\",\"attack-pattern--1af9e3fd-2bcc-414d-adbd-fe3b95c02ca1\",\"intrusion-set--9538b1a4-4120-4e2d-bf59-3b11fcab05a4\",\"attack-pattern--5fa00fdd-4a55-4191-94a0-564181d7fec2\",\"malware--e221eb77-1502-4129-af1d-fe1ad55e7ec6\",\"attack-pattern--138979ba-0430-4de6-a128-2fc0b056ba36\",\"malware--ac61f1f9-7bb1-465e-9b8a-c2ce8e88baf5\",\"attack-pattern--63b6942d-8359-4506-bfb3-cf87aa8120ee\",\"attack-pattern--b7e13ee8-182c-4f19-92a4-a88d7d855d54\",\"intrusion-set--c77c5576-ca19-42ed-a36f-4b4486a84133\",\"intrusion-set--1c63d4ec-0a75-4daa-b1df-0d11af3d3cc1\",\"attack-pattern--63b6942d-8359-4506-bfb3-cf87aa8120ee\",\"malware--58eddbaf-7416-419a-ad7b-e65b9d4c3b55\",\"malware--5719af9d-6b16-46f9-9b28-fb019541ddbb\",\"malware--a020a61c-423f-4195-8c46-ba1d21abba37\",\"malware--5af7a825-2d9f-400d-931a-e00eb9e27f48\",\"malware--a020a61c-423f-4195-8c46-ba1d21abba37\",\"malware--5af7a825-2d9f-400d-931a-e00eb9e27f48\",\"intrusion-set--dd2d9ca6-505b-4860-a604-233685b802c7\",\"attack-pattern--b5b9bacb-97f2-4249-b804-47fd44de1f95\",\"attack-pattern--138979ba-0430-4de6-a128-2fc0b056ba36\",\"attack-pattern--a81696ef-c106-482c-8f80-59c30f2569fb\",\"malware--75ecdbf1-c2bb-4afc-a3f9-c8da4de8c661\"],\"start\":[\"intrusion-set--381fcf73-60f6-4ab2-9991-6af3cbc35192\",\"intrusion-set--381fcf73-60f6-4ab2-9991-6af3cbc35192\",\"intrusion-set--381fcf73-60f6-4ab2-9991-6af3cbc35192\",\"intrusion-set--381fcf73-60f6-4ab2-9991-6af3cbc35192\",\"intrusion-set--381fcf73-60f6-4ab2-9991-6af3cbc35192\",\"intrusion-set--381fcf73-60f6-4ab2-9991-6af3cbc35192\",\"malware--6a0d0ea9-b2c4-43fe-a552-ac41a3009dc5\",\"malware--6a0d0ea9-b2c4-43fe-a552-ac41a3009dc5\",\"malware--6a0d0ea9-b2c4-43fe-a552-ac41a3009dc5\",\"malware--6a0d0ea9-b2c4-43fe-a552-ac41a3009dc5\",\"malware--6a0d0ea9-b2c4-43fe-a552-ac41a3009dc5\",\"malware--6a0d0ea9-b2c4-43fe-a552-ac41a3009dc5\",\"malware--6a0d0ea9-b2c4-43fe-a552-ac41a3009dc5\",\"attack-pattern--8e7089d3-fba2-44f8-94a8-9a79c53920c4\",\"attack-pattern--8e7089d3-fba2-44f8-94a8-9a79c53920c4\",\"attack-pattern--8e7089d3-fba2-44f8-94a8-9a79c53920c4\",\"attack-pattern--8e7089d3-fba2-44f8-94a8-9a79c53920c4\",\"attack-pattern--097924ce-a9a9-4039-8591-e0deedfb8722\",\"attack-pattern--097924ce-a9a9-4039-8591-e0deedfb8722\",\"attack-pattern--097924ce-a9a9-4039-8591-e0deedfb8722\",\"attack-pattern--097924ce-a9a9-4039-8591-e0deedfb8722\",\"attack-pattern--097924ce-a9a9-4039-8591-e0deedfb8722\",\"attack-pattern--097924ce-a9a9-4039-8591-e0deedfb8722\",\"attack-pattern--40b300ba-f553-48bf-862e-9471b220d455\",\"attack-pattern--40b300ba-f553-48bf-862e-9471b220d455\",\"attack-pattern--40b300ba-f553-48bf-862e-9471b220d455\",\"attack-pattern--40b300ba-f553-48bf-862e-9471b220d455\",\"attack-pattern--40b300ba-f553-48bf-862e-9471b220d455\",\"attack-pattern--40b300ba-f553-48bf-862e-9471b220d455\",\"attack-pattern--40b300ba-f553-48bf-862e-9471b220d455\",\"attack-pattern--2d0d40ad-22fa-4cc8-b264-072557e1364b\",\"attack-pattern--2d0d40ad-22fa-4cc8-b264-072557e1364b\",\"attack-pattern--2d0d40ad-22fa-4cc8-b264-072557e1364b\",\"attack-pattern--2d0d40ad-22fa-4cc8-b264-072557e1364b\",\"attack-pattern--3de230d4-3e42-4041-b089-17e1128feded\",\"attack-pattern--3de230d4-3e42-4041-b089-17e1128feded\",\"attack-pattern--3de230d4-3e42-4041-b089-17e1128feded\",\"attack-pattern--3de230d4-3e42-4041-b089-17e1128feded\",\"attack-pattern--3de230d4-3e42-4041-b089-17e1128feded\",\"attack-pattern--3de230d4-3e42-4041-b089-17e1128feded\",\"attack-pattern--2fedbe69-581f-447d-8a78-32ee7db939a9\",\"attack-pattern--2fedbe69-581f-447d-8a78-32ee7db939a9\",\"attack-pattern--2fedbe69-581f-447d-8a78-32ee7db939a9\",\"attack-pattern--2fedbe69-581f-447d-8a78-32ee7db939a9\",\"attack-pattern--2fedbe69-581f-447d-8a78-32ee7db939a9\",\"attack-pattern--2fedbe69-581f-447d-8a78-32ee7db939a9\",\"attack-pattern--2fedbe69-581f-447d-8a78-32ee7db939a9\",\"attack-pattern--2fedbe69-581f-447d-8a78-32ee7db939a9\",\"attack-pattern--063b5b92-5361-481a-9c3f-95492ed9a2d8\",\"attack-pattern--063b5b92-5361-481a-9c3f-95492ed9a2d8\",\"attack-pattern--063b5b92-5361-481a-9c3f-95492ed9a2d8\",\"attack-pattern--063b5b92-5361-481a-9c3f-95492ed9a2d8\",\"attack-pattern--063b5b92-5361-481a-9c3f-95492ed9a2d8\",\"attack-pattern--063b5b92-5361-481a-9c3f-95492ed9a2d8\",\"attack-pattern--063b5b92-5361-481a-9c3f-95492ed9a2d8\",\"attack-pattern--063b5b92-5361-481a-9c3f-95492ed9a2d8\",\"attack-pattern--063b5b92-5361-481a-9c3f-95492ed9a2d8\",\"attack-pattern--063b5b92-5361-481a-9c3f-95492ed9a2d8\",\"attack-pattern--063b5b92-5361-481a-9c3f-95492ed9a2d8\",\"x-mitre-data-component--3d20385b-24ef-40e1-9f56-f39750379077\",\"x-mitre-data-component--3d20385b-24ef-40e1-9f56-f39750379077\",\"x-mitre-data-component--3d20385b-24ef-40e1-9f56-f39750379077\",\"x-mitre-data-component--3d20385b-24ef-40e1-9f56-f39750379077\",\"x-mitre-data-component--3d20385b-24ef-40e1-9f56-f39750379077\",\"x-mitre-data-component--3d20385b-24ef-40e1-9f56-f39750379077\",\"x-mitre-data-component--3d20385b-24ef-40e1-9f56-f39750379077\",\"x-mitre-data-component--3d20385b-24ef-40e1-9f56-f39750379077\",\"x-mitre-data-component--3d20385b-24ef-40e1-9f56-f39750379077\",\"x-mitre-data-component--3d20385b-24ef-40e1-9f56-f39750379077\",\"x-mitre-data-component--3d20385b-24ef-40e1-9f56-f39750379077\",\"x-mitre-data-component--3d20385b-24ef-40e1-9f56-f39750379077\",\"x-mitre-data-component--3d20385b-24ef-40e1-9f56-f39750379077\",\"x-mitre-data-component--3d20385b-24ef-40e1-9f56-f39750379077\",\"x-mitre-data-component--3d20385b-24ef-40e1-9f56-f39750379077\",\"x-mitre-data-component--3d20385b-24ef-40e1-9f56-f39750379077\",\"attack-pattern--fa3aa267-da22-4bdd-961f-03223322a8d5\",\"attack-pattern--fa3aa267-da22-4bdd-961f-03223322a8d5\",\"attack-pattern--fa3aa267-da22-4bdd-961f-03223322a8d5\",\"attack-pattern--fa3aa267-da22-4bdd-961f-03223322a8d5\",\"attack-pattern--fa3aa267-da22-4bdd-961f-03223322a8d5\",\"attack-pattern--fa3aa267-da22-4bdd-961f-03223322a8d5\",\"attack-pattern--fa3aa267-da22-4bdd-961f-03223322a8d5\",\"x-mitre-data-component--235b7491-2d2b-4617-9a52-3c0783680f71\",\"x-mitre-data-component--235b7491-2d2b-4617-9a52-3c0783680f71\",\"x-mitre-data-component--235b7491-2d2b-4617-9a52-3c0783680f71\",\"x-mitre-data-component--9bde2f9d-a695-4344-bfac-f2dce13d121e\",\"x-mitre-data-component--9bde2f9d-a695-4344-bfac-f2dce13d121e\",\"x-mitre-data-component--9bde2f9d-a695-4344-bfac-f2dce13d121e\",\"x-mitre-data-component--9bde2f9d-a695-4344-bfac-f2dce13d121e\",\"x-mitre-data-component--9bde2f9d-a695-4344-bfac-f2dce13d121e\",\"x-mitre-data-component--9bde2f9d-a695-4344-bfac-f2dce13d121e\",\"x-mitre-data-component--685f917a-e95e-4ba0-ade1-c7d354dae6e0\",\"x-mitre-data-component--685f917a-e95e-4ba0-ade1-c7d354dae6e0\",\"x-mitre-data-component--685f917a-e95e-4ba0-ade1-c7d354dae6e0\",\"x-mitre-data-component--685f917a-e95e-4ba0-ade1-c7d354dae6e0\",\"x-mitre-data-component--685f917a-e95e-4ba0-ade1-c7d354dae6e0\",\"x-mitre-data-component--685f917a-e95e-4ba0-ade1-c7d354dae6e0\",\"x-mitre-data-component--685f917a-e95e-4ba0-ade1-c7d354dae6e0\",\"x-mitre-data-component--685f917a-e95e-4ba0-ade1-c7d354dae6e0\",\"x-mitre-data-component--685f917a-e95e-4ba0-ade1-c7d354dae6e0\",\"x-mitre-data-component--685f917a-e95e-4ba0-ade1-c7d354dae6e0\",\"x-mitre-data-component--685f917a-e95e-4ba0-ade1-c7d354dae6e0\",\"x-mitre-data-component--685f917a-e95e-4ba0-ade1-c7d354dae6e0\",\"x-mitre-data-component--9f387817-df83-432a-b56b-a8fb7f71eedd\",\"x-mitre-data-component--9f387817-df83-432a-b56b-a8fb7f71eedd\",\"malware--68dca94f-c11d-421e-9287-7c501108e18c\",\"malware--68dca94f-c11d-421e-9287-7c501108e18c\",\"malware--ff6840c9-4c87-4d07-bbb6-9f50aa33d498\",\"malware--a4a98eab-b691-45d9-8c48-869ef8fefd57\",\"x-mitre-data-component--3772e279-27d6-477a-9fe3-c6beb363594c\",\"x-mitre-data-component--3772e279-27d6-477a-9fe3-c6beb363594c\",\"x-mitre-data-component--3772e279-27d6-477a-9fe3-c6beb363594c\",\"x-mitre-data-component--3772e279-27d6-477a-9fe3-c6beb363594c\",\"x-mitre-data-component--3772e279-27d6-477a-9fe3-c6beb363594c\",\"x-mitre-data-component--3772e279-27d6-477a-9fe3-c6beb363594c\",\"x-mitre-data-component--3772e279-27d6-477a-9fe3-c6beb363594c\",\"x-mitre-data-component--3772e279-27d6-477a-9fe3-c6beb363594c\",\"x-mitre-data-component--3772e279-27d6-477a-9fe3-c6beb363594c\",\"x-mitre-data-component--3772e279-27d6-477a-9fe3-c6beb363594c\",\"x-mitre-data-component--3772e279-27d6-477a-9fe3-c6beb363594c\",\"x-mitre-data-component--3772e279-27d6-477a-9fe3-c6beb363594c\",\"x-mitre-data-component--3772e279-27d6-477a-9fe3-c6beb363594c\",\"x-mitre-data-component--3772e279-27d6-477a-9fe3-c6beb363594c\",\"x-mitre-data-component--3772e279-27d6-477a-9fe3-c6beb363594c\",\"x-mitre-data-component--3772e279-27d6-477a-9fe3-c6beb363594c\",\"x-mitre-data-component--3772e279-27d6-477a-9fe3-c6beb363594c\",\"x-mitre-data-component--3772e279-27d6-477a-9fe3-c6beb363594c\",\"x-mitre-data-component--3772e279-27d6-477a-9fe3-c6beb363594c\",\"x-mitre-data-component--3772e279-27d6-477a-9fe3-c6beb363594c\",\"x-mitre-data-component--3772e279-27d6-477a-9fe3-c6beb363594c\",\"x-mitre-data-component--3772e279-27d6-477a-9fe3-c6beb363594c\",\"x-mitre-data-component--3772e279-27d6-477a-9fe3-c6beb363594c\",\"x-mitre-data-component--3772e279-27d6-477a-9fe3-c6beb363594c\",\"x-mitre-data-component--3772e279-27d6-477a-9fe3-c6beb363594c\",\"x-mitre-data-component--3772e279-27d6-477a-9fe3-c6beb363594c\",\"x-mitre-data-component--3772e279-27d6-477a-9fe3-c6beb363594c\",\"x-mitre-data-component--3772e279-27d6-477a-9fe3-c6beb363594c\",\"x-mitre-data-component--3772e279-27d6-477a-9fe3-c6beb363594c\",\"attack-pattern--fab8fc7d-f27f-4fbb-9de6-44740aade05f\",\"x-mitre-data-component--9d56be63-3501-4dd3-bb5f-63c580833298\",\"x-mitre-data-component--9d56be63-3501-4dd3-bb5f-63c580833298\",\"x-mitre-data-component--9d56be63-3501-4dd3-bb5f-63c580833298\",\"x-mitre-data-component--9d56be63-3501-4dd3-bb5f-63c580833298\",\"x-mitre-data-component--9d56be63-3501-4dd3-bb5f-63c580833298\",\"x-mitre-data-component--9d56be63-3501-4dd3-bb5f-63c580833298\",\"x-mitre-data-component--9d56be63-3501-4dd3-bb5f-63c580833298\",\"x-mitre-data-component--9d56be63-3501-4dd3-bb5f-63c580833298\",\"x-mitre-data-component--9d56be63-3501-4dd3-bb5f-63c580833298\",\"x-mitre-data-component--9d56be63-3501-4dd3-bb5f-63c580833298\",\"x-mitre-data-component--9d56be63-3501-4dd3-bb5f-63c580833298\",\"x-mitre-data-component--a7f22107-02e5-4982-9067-6625d4a1765a\",\"x-mitre-data-component--a7f22107-02e5-4982-9067-6625d4a1765a\",\"x-mitre-data-component--a7f22107-02e5-4982-9067-6625d4a1765a\",\"x-mitre-data-component--a7f22107-02e5-4982-9067-6625d4a1765a\",\"x-mitre-data-component--a7f22107-02e5-4982-9067-6625d4a1765a\",\"x-mitre-data-component--a7f22107-02e5-4982-9067-6625d4a1765a\",\"x-mitre-data-component--a7f22107-02e5-4982-9067-6625d4a1765a\",\"x-mitre-data-component--a7f22107-02e5-4982-9067-6625d4a1765a\",\"x-mitre-data-component--a7f22107-02e5-4982-9067-6625d4a1765a\",\"x-mitre-data-component--a7f22107-02e5-4982-9067-6625d4a1765a\",\"x-mitre-data-component--a7f22107-02e5-4982-9067-6625d4a1765a\",\"x-mitre-data-component--a7f22107-02e5-4982-9067-6625d4a1765a\",\"x-mitre-data-component--a7f22107-02e5-4982-9067-6625d4a1765a\",\"x-mitre-data-component--a7f22107-02e5-4982-9067-6625d4a1765a\",\"x-mitre-data-component--a7f22107-02e5-4982-9067-6625d4a1765a\",\"x-mitre-data-component--a7f22107-02e5-4982-9067-6625d4a1765a\",\"x-mitre-data-component--a7f22107-02e5-4982-9067-6625d4a1765a\",\"x-mitre-data-component--a7f22107-02e5-4982-9067-6625d4a1765a\",\"x-mitre-data-component--a7f22107-02e5-4982-9067-6625d4a1765a\",\"x-mitre-data-component--a7f22107-02e5-4982-9067-6625d4a1765a\",\"x-mitre-data-component--a7f22107-02e5-4982-9067-6625d4a1765a\",\"attack-pattern--d5a69cfb-fc2a-46cb-99eb-74b236db5061\",\"attack-pattern--d5a69cfb-fc2a-46cb-99eb-74b236db5061\",\"attack-pattern--d5a69cfb-fc2a-46cb-99eb-74b236db5061\",\"attack-pattern--d5a69cfb-fc2a-46cb-99eb-74b236db5061\",\"attack-pattern--d5a69cfb-fc2a-46cb-99eb-74b236db5061\",\"x-mitre-data-component--9c2fa0ae-7abc-485a-97f6-699e3b6cf9fa\",\"x-mitre-data-component--9c2fa0ae-7abc-485a-97f6-699e3b6cf9fa\",\"x-mitre-data-component--9c2fa0ae-7abc-485a-97f6-699e3b6cf9fa\",\"x-mitre-data-component--9c2fa0ae-7abc-485a-97f6-699e3b6cf9fa\",\"x-mitre-data-component--9c2fa0ae-7abc-485a-97f6-699e3b6cf9fa\",\"x-mitre-data-component--9c2fa0ae-7abc-485a-97f6-699e3b6cf9fa\",\"x-mitre-data-component--9c2fa0ae-7abc-485a-97f6-699e3b6cf9fa\",\"x-mitre-data-component--9c2fa0ae-7abc-485a-97f6-699e3b6cf9fa\",\"x-mitre-data-component--9c2fa0ae-7abc-485a-97f6-699e3b6cf9fa\",\"x-mitre-data-component--9c2fa0ae-7abc-485a-97f6-699e3b6cf9fa\",\"x-mitre-data-component--9c2fa0ae-7abc-485a-97f6-699e3b6cf9fa\",\"x-mitre-data-component--9c2fa0ae-7abc-485a-97f6-699e3b6cf9fa\",\"x-mitre-data-component--9c2fa0ae-7abc-485a-97f6-699e3b6cf9fa\",\"x-mitre-data-component--9c2fa0ae-7abc-485a-97f6-699e3b6cf9fa\",\"x-mitre-data-component--9c2fa0ae-7abc-485a-97f6-699e3b6cf9fa\",\"x-mitre-data-component--9c2fa0ae-7abc-485a-97f6-699e3b6cf9fa\",\"x-mitre-data-component--9c2fa0ae-7abc-485a-97f6-699e3b6cf9fa\",\"x-mitre-data-component--9c2fa0ae-7abc-485a-97f6-699e3b6cf9fa\",\"x-mitre-data-component--9c2fa0ae-7abc-485a-97f6-699e3b6cf9fa\",\"x-mitre-data-component--9c2fa0ae-7abc-485a-97f6-699e3b6cf9fa\",\"x-mitre-data-component--9c2fa0ae-7abc-485a-97f6-699e3b6cf9fa\",\"x-mitre-data-component--9c2fa0ae-7abc-485a-97f6-699e3b6cf9fa\",\"x-mitre-data-component--9c2fa0ae-7abc-485a-97f6-699e3b6cf9fa\",\"x-mitre-data-component--9c2fa0ae-7abc-485a-97f6-699e3b6cf9fa\",\"x-mitre-data-component--9c2fa0ae-7abc-485a-97f6-699e3b6cf9fa\",\"x-mitre-data-component--9c2fa0ae-7abc-485a-97f6-699e3b6cf9fa\",\"x-mitre-data-component--9c2fa0ae-7abc-485a-97f6-699e3b6cf9fa\",\"x-mitre-data-component--9c2fa0ae-7abc-485a-97f6-699e3b6cf9fa\",\"x-mitre-data-component--9c2fa0ae-7abc-485a-97f6-699e3b6cf9fa\",\"attack-pattern--9f947a1c-3860-48a8-8af0-a2dfa3efde03\",\"malware--e401d4fe-f0c9-44f0-98e6-f93487678808\",\"malware--e401d4fe-f0c9-44f0-98e6-f93487678808\",\"malware--e401d4fe-f0c9-44f0-98e6-f93487678808\",\"malware--e401d4fe-f0c9-44f0-98e6-f93487678808\",\"malware--e401d4fe-f0c9-44f0-98e6-f93487678808\",\"malware--e401d4fe-f0c9-44f0-98e6-f93487678808\",\"malware--e401d4fe-f0c9-44f0-98e6-f93487678808\",\"malware--e401d4fe-f0c9-44f0-98e6-f93487678808\",\"malware--e401d4fe-f0c9-44f0-98e6-f93487678808\",\"malware--e401d4fe-f0c9-44f0-98e6-f93487678808\",\"malware--e401d4fe-f0c9-44f0-98e6-f93487678808\",\"malware--e401d4fe-f0c9-44f0-98e6-f93487678808\",\"malware--e401d4fe-f0c9-44f0-98e6-f93487678808\",\"malware--e401d4fe-f0c9-44f0-98e6-f93487678808\",\"malware--e401d4fe-f0c9-44f0-98e6-f93487678808\",\"malware--e401d4fe-f0c9-44f0-98e6-f93487678808\",\"malware--e401d4fe-f0c9-44f0-98e6-f93487678808\",\"x-mitre-data-component--9ce98c86-8d30-4043-ba54-0784d478d0b5\",\"x-mitre-data-component--9ce98c86-8d30-4043-ba54-0784d478d0b5\",\"x-mitre-data-component--9ce98c86-8d30-4043-ba54-0784d478d0b5\",\"x-mitre-data-component--9ce98c86-8d30-4043-ba54-0784d478d0b5\",\"x-mitre-data-component--9ce98c86-8d30-4043-ba54-0784d478d0b5\",\"x-mitre-data-component--9ce98c86-8d30-4043-ba54-0784d478d0b5\",\"x-mitre-data-component--9ce98c86-8d30-4043-ba54-0784d478d0b5\",\"attack-pattern--c9a8d958-fcdb-40d2-af4c-461c8031651a\",\"attack-pattern--c9a8d958-fcdb-40d2-af4c-461c8031651a\",\"malware--d3aa1058-b1b3-4c29-a3ba-9a9b90ccd93b\",\"malware--d3aa1058-b1b3-4c29-a3ba-9a9b90ccd93b\",\"malware--d3aa1058-b1b3-4c29-a3ba-9a9b90ccd93b\",\"malware--d3aa1058-b1b3-4c29-a3ba-9a9b90ccd93b\",\"malware--d3aa1058-b1b3-4c29-a3ba-9a9b90ccd93b\",\"malware--d3aa1058-b1b3-4c29-a3ba-9a9b90ccd93b\",\"malware--d3aa1058-b1b3-4c29-a3ba-9a9b90ccd93b\",\"malware--d3aa1058-b1b3-4c29-a3ba-9a9b90ccd93b\",\"malware--d3aa1058-b1b3-4c29-a3ba-9a9b90ccd93b\",\"malware--d3aa1058-b1b3-4c29-a3ba-9a9b90ccd93b\",\"malware--d3aa1058-b1b3-4c29-a3ba-9a9b90ccd93b\",\"malware--d3aa1058-b1b3-4c29-a3ba-9a9b90ccd93b\",\"attack-pattern--be69c571-d746-4b1f-bdd0-c0c9817e9068\",\"attack-pattern--be69c571-d746-4b1f-bdd0-c0c9817e9068\",\"attack-pattern--be69c571-d746-4b1f-bdd0-c0c9817e9068\",\"attack-pattern--be69c571-d746-4b1f-bdd0-c0c9817e9068\",\"attack-pattern--3067b85e-271e-4bc5-81ad-ab1a81d411e3\",\"attack-pattern--e1f9cdd2-9511-4fca-90d7-f3e92cfdd0bf\",\"attack-pattern--e1f9cdd2-9511-4fca-90d7-f3e92cfdd0bf\",\"attack-pattern--e1f9cdd2-9511-4fca-90d7-f3e92cfdd0bf\",\"attack-pattern--e1f9cdd2-9511-4fca-90d7-f3e92cfdd0bf\",\"attack-pattern--e1f9cdd2-9511-4fca-90d7-f3e92cfdd0bf\",\"attack-pattern--2883c520-7957-46ca-89bd-dab1ad53b601\",\"attack-pattern--2883c520-7957-46ca-89bd-dab1ad53b601\",\"attack-pattern--e076cca8-2f08-45c9-aff7-ea5ac798b387\",\"attack-pattern--e076cca8-2f08-45c9-aff7-ea5ac798b387\",\"attack-pattern--e076cca8-2f08-45c9-aff7-ea5ac798b387\",\"attack-pattern--e076cca8-2f08-45c9-aff7-ea5ac798b387\",\"attack-pattern--ead7bd34-186e-4c79-9a4d-b65bcce6ed9d\",\"attack-pattern--ead7bd34-186e-4c79-9a4d-b65bcce6ed9d\",\"attack-pattern--ead7bd34-186e-4c79-9a4d-b65bcce6ed9d\",\"attack-pattern--ead7bd34-186e-4c79-9a4d-b65bcce6ed9d\",\"attack-pattern--ead7bd34-186e-4c79-9a4d-b65bcce6ed9d\",\"attack-pattern--ead7bd34-186e-4c79-9a4d-b65bcce6ed9d\",\"attack-pattern--ead7bd34-186e-4c79-9a4d-b65bcce6ed9d\",\"attack-pattern--cfe68e93-ce94-4c0f-a57d-3aa72cedd618\",\"attack-pattern--cd2c76a4-5e23-4ca5-9c40-d5e0604f7101\",\"attack-pattern--cd2c76a4-5e23-4ca5-9c40-d5e0604f7101\",\"attack-pattern--cd2c76a4-5e23-4ca5-9c40-d5e0604f7101\",\"attack-pattern--38213338-1aab-479d-949b-c81b66ccca5c\",\"attack-pattern--38213338-1aab-479d-949b-c81b66ccca5c\",\"attack-pattern--493832d9-cea6-4b63-abe7-9a65a6473675\",\"attack-pattern--493832d9-cea6-4b63-abe7-9a65a6473675\",\"attack-pattern--493832d9-cea6-4b63-abe7-9a65a6473675\",\"attack-pattern--25852363-5968-4673-b81d-341d5ed90bd1\",\"x-mitre-data-component--8ed4e6d0-56d7-4e6b-8fa6-41f41631f30d\",\"x-mitre-data-component--8ed4e6d0-56d7-4e6b-8fa6-41f41631f30d\",\"x-mitre-data-component--8ed4e6d0-56d7-4e6b-8fa6-41f41631f30d\",\"x-mitre-data-component--8ed4e6d0-56d7-4e6b-8fa6-41f41631f30d\",\"attack-pattern--36e9f5bc-ac13-4da4-a2f4-01f4877d9004\",\"attack-pattern--36e9f5bc-ac13-4da4-a2f4-01f4877d9004\",\"attack-pattern--e6c31185-8040-4267-83d3-b217b8a92f07\",\"attack-pattern--e6c31185-8040-4267-83d3-b217b8a92f07\",\"attack-pattern--53a48c74-0025-45f4-b04a-baa853df8204\",\"x-mitre-data-component--f5468e67-51c7-4756-9b4f-65707708e7fa\",\"attack-pattern--ea0c980c-5cf0-43a7-a049-59c4c207566e\",\"x-mitre-data-component--66531bc6-a509-4868-8314-4d599e91d222\",\"attack-pattern--ba203963-3182-41ac-af14-7e7ebc83cd61\",\"attack-pattern--ba203963-3182-41ac-af14-7e7ebc83cd61\",\"attack-pattern--ba203963-3182-41ac-af14-7e7ebc83cd61\",\"attack-pattern--ba203963-3182-41ac-af14-7e7ebc83cd61\",\"attack-pattern--ba203963-3182-41ac-af14-7e7ebc83cd61\",\"attack-pattern--ba203963-3182-41ac-af14-7e7ebc83cd61\",\"attack-pattern--ba203963-3182-41ac-af14-7e7ebc83cd61\",\"attack-pattern--ba203963-3182-41ac-af14-7e7ebc83cd61\",\"attack-pattern--ba203963-3182-41ac-af14-7e7ebc83cd61\",\"attack-pattern--ba203963-3182-41ac-af14-7e7ebc83cd61\",\"x-mitre-data-component--39b9db72-8b48-4595-a18d-db5bbba3091b\",\"x-mitre-data-component--39b9db72-8b48-4595-a18d-db5bbba3091b\",\"attack-pattern--fc5fda7e-6b2c-4457-b036-759896a2efa2\",\"attack-pattern--fc5fda7e-6b2c-4457-b036-759896a2efa2\",\"attack-pattern--2736b752-4ec5-4421-a230-8977dea7649c\",\"attack-pattern--2736b752-4ec5-4421-a230-8977dea7649c\",\"attack-pattern--2736b752-4ec5-4421-a230-8977dea7649c\",\"attack-pattern--2736b752-4ec5-4421-a230-8977dea7649c\",\"attack-pattern--2736b752-4ec5-4421-a230-8977dea7649c\",\"attack-pattern--09a61657-46e1-439e-b3ed-3e4556a78243\",\"attack-pattern--09a61657-46e1-439e-b3ed-3e4556a78243\",\"attack-pattern--09a61657-46e1-439e-b3ed-3e4556a78243\",\"x-mitre-data-component--ee575f4a-2d4f-48f6-b18b-89067760adc1\",\"x-mitre-data-component--ee575f4a-2d4f-48f6-b18b-89067760adc1\",\"attack-pattern--ab390887-afc0-4715-826d-b1b167d522ae\",\"attack-pattern--ab390887-afc0-4715-826d-b1b167d522ae\",\"x-mitre-data-component--c0a4a086-cc20-4e1e-b7cb-29d99dfa3fb1\",\"x-mitre-data-component--c0a4a086-cc20-4e1e-b7cb-29d99dfa3fb1\",\"attack-pattern--5a2610f6-9fff-41e1-bc27-575ca20383d4\",\"attack-pattern--24a9253e-8948-4c98-b751-8e2aee53127c\",\"x-mitre-data-component--639e87f3-acb6-448a-9645-258f20da4bc5\",\"x-mitre-data-component--639e87f3-acb6-448a-9645-258f20da4bc5\",\"attack-pattern--5e0f75da-e108-4688-a6de-a4f07cc2cbe3\",\"x-mitre-data-component--2b3bfe19-d59a-460d-93bb-2f546adc2d2c\",\"x-mitre-data-component--2b3bfe19-d59a-460d-93bb-2f546adc2d2c\",\"x-mitre-data-component--2b3bfe19-d59a-460d-93bb-2f546adc2d2c\",\"attack-pattern--648f995e-9c3a-41e4-aeee-98bb41037426\",\"attack-pattern--648f995e-9c3a-41e4-aeee-98bb41037426\",\"attack-pattern--2dc2b567-8821-49f9-9045-8740f3d0b958\",\"attack-pattern--2dc2b567-8821-49f9-9045-8740f3d0b958\",\"attack-pattern--c267bbee-bb59-47fe-85e0-3ed210337c21\",\"attack-pattern--c267bbee-bb59-47fe-85e0-3ed210337c21\",\"attack-pattern--c267bbee-bb59-47fe-85e0-3ed210337c21\",\"x-mitre-data-component--da85d358-741a-410d-9433-20d6269a6170\",\"x-mitre-data-component--da85d358-741a-410d-9433-20d6269a6170\",\"x-mitre-data-component--da85d358-741a-410d-9433-20d6269a6170\",\"attack-pattern--9a505987-ab05-4f46-a9a6-6441442eec3b\",\"attack-pattern--9a505987-ab05-4f46-a9a6-6441442eec3b\",\"attack-pattern--efbf7888-f61b-4572-9c80-7e2965c60707\",\"attack-pattern--b9160e77-ea9e-4ba9-b1c8-53a3c466b13d\",\"attack-pattern--b9160e77-ea9e-4ba9-b1c8-53a3c466b13d\",\"x-mitre-data-component--b05a614b-033c-4578-b4f2-c63a9feee706\",\"x-mitre-data-component--b05a614b-033c-4578-b4f2-c63a9feee706\",\"attack-pattern--2900bbd8-308a-4274-b074-5b8bde8347bc\",\"attack-pattern--2900bbd8-308a-4274-b074-5b8bde8347bc\",\"attack-pattern--e5de767e-f513-41cd-aa15-33f6ce5fbf92\",\"x-mitre-data-component--4c12c1c8-bcef-4daf-8e5b-fca235f71d9e\",\"x-mitre-data-component--4c12c1c8-bcef-4daf-8e5b-fca235f71d9e\",\"x-mitre-data-component--4c12c1c8-bcef-4daf-8e5b-fca235f71d9e\",\"x-mitre-data-component--181a9f8c-c780-4f1f-91a8-edb770e904ba\",\"x-mitre-data-component--84572de3-9583-4c73-aabd-06ea88123dd8\",\"x-mitre-data-component--84572de3-9583-4c73-aabd-06ea88123dd8\",\"x-mitre-data-component--61f1d40e-f3d0-4cc6-aa2d-937b6204194f\",\"x-mitre-data-component--61f1d40e-f3d0-4cc6-aa2d-937b6204194f\",\"x-mitre-data-component--61f1d40e-f3d0-4cc6-aa2d-937b6204194f\",\"x-mitre-data-component--b9d031bb-d150-4fc6-8025-688201bf3ffd\",\"attack-pattern--3b6b9246-43f8-4c69-ad7a-2b11cfe0a0d9\",\"x-mitre-data-component--931b3fc6-ad68-42a8-9018-e98515eedc95\",\"x-mitre-data-component--931b3fc6-ad68-42a8-9018-e98515eedc95\",\"x-mitre-data-component--931b3fc6-ad68-42a8-9018-e98515eedc95\",\"x-mitre-data-component--931b3fc6-ad68-42a8-9018-e98515eedc95\",\"attack-pattern--e72425f8-9ae6-41d3-bfdb-e1b865e60722\",\"attack-pattern--b52870cc-83f3-473c-b895-72d91751030b\",\"attack-pattern--b52870cc-83f3-473c-b895-72d91751030b\",\"attack-pattern--b52870cc-83f3-473c-b895-72d91751030b\",\"attack-pattern--7830cfcf-b268-4ac0-a69e-73c6affbae9a\",\"attack-pattern--85a45294-08f1-4539-bf00-7da08aa7b0ee\",\"attack-pattern--85a45294-08f1-4539-bf00-7da08aa7b0ee\",\"attack-pattern--85a45294-08f1-4539-bf00-7da08aa7b0ee\",\"attack-pattern--85a45294-08f1-4539-bf00-7da08aa7b0ee\",\"x-mitre-data-component--e905dad2-00d6-477c-97e8-800427abd0e8\",\"attack-pattern--53a26eee-1080-4d17-9762-2027d5a1b805\",\"attack-pattern--53a26eee-1080-4d17-9762-2027d5a1b805\",\"attack-pattern--53a26eee-1080-4d17-9762-2027d5a1b805\",\"attack-pattern--1b22b676-9347-4c55-9a35-ef0dc653db5b\",\"attack-pattern--1b22b676-9347-4c55-9a35-ef0dc653db5b\",\"attack-pattern--2aa406ed-81c3-4c1d-ba83-cfbee5a2847a\",\"malware--2eaa5319-5e1e-4dd7-bbc4-566fced3964a\",\"malware--088f1d6e-0783-47c6-9923-9c79b2af43d4\",\"malware--088f1d6e-0783-47c6-9923-9c79b2af43d4\",\"malware--80099a91-4c86-4bea-9ccb-dac55d61960e\",\"malware--80099a91-4c86-4bea-9ccb-dac55d61960e\",\"intrusion-set--00f67a77-86a4-4adf-be26-1a54fc713340\",\"malware--e221eb77-1502-4129-af1d-fe1ad55e7ec6\",\"intrusion-set--3753cc21-2dae-4dfb-8481-d004e74502cc\",\"malware--ac61f1f9-7bb1-465e-9b8a-c2ce8e88baf5\",\"malware--ac61f1f9-7bb1-465e-9b8a-c2ce8e88baf5\",\"malware--ac61f1f9-7bb1-465e-9b8a-c2ce8e88baf5\",\"malware--083bb47b-02c8-4423-81a2-f9ef58572974\",\"malware--00e7d565-9883-4ee5-b642-8fd17fd6a3f5\",\"attack-pattern--63b6942d-8359-4506-bfb3-cf87aa8120ee\",\"attack-pattern--63b6942d-8359-4506-bfb3-cf87aa8120ee\",\"attack-pattern--63b6942d-8359-4506-bfb3-cf87aa8120ee\",\"attack-pattern--63b6942d-8359-4506-bfb3-cf87aa8120ee\",\"intrusion-set--2a7914cf-dff3-428d-ab0f-1014d1c28aeb\",\"intrusion-set--2a7914cf-dff3-428d-ab0f-1014d1c28aeb\",\"malware--a020a61c-423f-4195-8c46-ba1d21abba37\",\"malware--58eddbaf-7416-419a-ad7b-e65b9d4c3b55\",\"malware--5af7a825-2d9f-400d-931a-e00eb9e27f48\",\"malware--5af7a825-2d9f-400d-931a-e00eb9e27f48\",\"intrusion-set--c93fccb1-e8e8-42cf-ae33-2ad1d183913a\"]},\"selected\":{\"id\":\"1585\"},\"selection_policy\":{\"id\":\"1584\"}},\"id\":\"1490\",\"type\":\"ColumnDataSource\"},{\"attributes\":{\"data_source\":{\"id\":\"1490\"},\"glyph\":{\"id\":\"1510\"},\"hover_glyph\":{\"id\":\"1520\"},\"muted_glyph\":null,\"selection_glyph\":{\"id\":\"1515\"},\"view\":{\"id\":\"1492\"}},\"id\":\"1491\",\"type\":\"GlyphRenderer\"},{\"attributes\":{},\"id\":\"1473\",\"type\":\"PanTool\"},{\"attributes\":{},\"id\":\"1475\",\"type\":\"SaveTool\"},{\"attributes\":{},\"id\":\"1527\",\"type\":\"NodesAndLinkedEdges\"},{\"attributes\":{\"source\":{\"id\":\"1486\"}},\"id\":\"1488\",\"type\":\"CDSView\"},{\"attributes\":{},\"id\":\"1476\",\"type\":\"ResetTool\"},{\"attributes\":{},\"id\":\"1583\",\"type\":\"Selection\"},{\"attributes\":{\"edge_renderer\":{\"id\":\"1491\"},\"inspection_policy\":{\"id\":\"1527\"},\"layout_provider\":{\"id\":\"1493\"},\"node_renderer\":{\"id\":\"1487\"},\"selection_policy\":{\"id\":\"1525\"}},\"id\":\"1484\",\"type\":\"GraphRenderer\"},{\"attributes\":{\"active_multi\":null,\"active_scroll\":{\"id\":\"1474\"},\"tools\":[{\"id\":\"1473\"},{\"id\":\"1474\"},{\"id\":\"1475\"},{\"id\":\"1476\"},{\"id\":\"1477\"}]},\"id\":\"1478\",\"type\":\"Toolbar\"},{\"attributes\":{\"fill_color\":{\"field\":\"node_type\",\"transform\":{\"id\":\"1494\"}},\"size\":{\"field\":\"adjusted_node_size\"}},\"id\":\"1495\",\"type\":\"Circle\"}],\"root_ids\":[\"1456\"]},\"title\":\"Bokeh Application\",\"version\":\"2.3.3\"}};\n  var render_items = [{\"docid\":\"f6494990-be8a-4615-a787-5437036b2988\",\"root_ids\":[\"1456\"],\"roots\":{\"1456\":\"63d32fc0-473a-46ca-be80-d146aa96a3dd\"}}];\n  root.Bokeh.embed.embed_items_notebook(docs_json, render_items);\n\n  }\n  if (root.Bokeh !== undefined) {\n    embed_document(root);\n  } else {\n    var attempts = 0;\n    var timer = setInterval(function(root) {\n      if (root.Bokeh !== undefined) {\n        clearInterval(timer);\n        embed_document(root);\n      } else {\n        attempts++;\n        if (attempts > 100) {\n          clearInterval(timer);\n          console.log(\"Bokeh: ERROR: Unable to run BokehJS code because BokehJS library is missing\");\n        }\n      }\n    }, 10, root)\n  }\n})(window);",
      "application/vnd.bokehjs_exec.v0+json": ""
     },
     "metadata": {
      "application/vnd.bokehjs_exec.v0+json": {
       "id": "1456"
      }
     },
     "output_type": "display_data"
    }
   ],
   "source": [
    "\n",
    "\n",
    "from bokeh.core.property_mixins import LineJoin\n",
    "from bokeh.io import output_notebook, show, save\n",
    "from bokeh.models import Range1d, Circle, ColumnDataSource, MultiLine\n",
    "from bokeh.plotting import figure\n",
    "from bokeh.plotting import from_networkx\n",
    "from bokeh.palettes import Blues8, Reds8, Purples8, Oranges8, Viridis8, Spectral8\n",
    "from bokeh.transform import linear_cmap\n",
    "from bokeh.models import EdgesAndLinkedNodes, NodesAndLinkedEdges\n",
    "import networkx as nx\n",
    "\n",
    "\n",
    "DG = nx.from_pandas_edgelist(df, source='Source', target='Destination',create_using=nx.Graph())\n",
    "\n",
    "# set the degrees (connections per node)\n",
    "degrees = dict(nx.degree(DG))\n",
    "nx.set_node_attributes(DG, name='degree', values=degrees)\n",
    "\n",
    "#set the human readable attribute\n",
    "all_mappings = {}\n",
    "all_mappings.update(mc_technique_mapping)\n",
    "all_mappings.update(mc_mitigation_mapping)\n",
    "all_mappings.update(mc_detection_mapping)\n",
    "all_mappings.update(mc_intrusion_set_mapping)\n",
    "all_mappings.update(mc_malware_mapping)\n",
    "\n",
    "nx.set_node_attributes(DG,name='human_name',values=all_mappings)\n",
    "\n",
    "#ensure very small degrees are still visible\n",
    "number_to_adjust_by = 5\n",
    "adjusted_node_size = dict([(node, degree+number_to_adjust_by) for node, degree in nx.degree(DG)])\n",
    "nx.set_node_attributes(DG, name='adjusted_node_size', values=adjusted_node_size)\n",
    "\n",
    "# determine type, add attribute\n",
    "node_types = {}\n",
    "\n",
    "for node in DG.nodes:\n",
    "    if node.startswith('intrusion-set'):\n",
    "      node_types[node] = 0\n",
    "    elif node.startswith('malware'):\n",
    "      node_types[node] = 1 \n",
    "    elif node.startswith('attack-pattern'):\n",
    "      node_types[node] = 2\n",
    "    else:\n",
    "      node_types[node] = 3\n",
    "\n",
    "#set the node type (attack-pattern,course-of-action,data-source)\n",
    "nx.set_node_attributes(DG, name='node_type', values=node_types)\n",
    "\n",
    "#Choose attributes from G network to size and color by — setting manual size (e.g. 10) or color (e.g. 'skyblue') also allowed\n",
    "size_by_this_attribute = 'adjusted_node_size'\n",
    "color_by_this_attribute = 'node_type'\n",
    "\n",
    "#color_palette = red,green,blue\n",
    "color_palette = ['#000000','#FF0000','#00FF00','#0000FF']\n",
    "\n",
    "#Choose colors for node and edge highlighting\n",
    "node_highlight_color = 'white'\n",
    "edge_highlight_color = 'black'\n",
    "\n",
    "#Choose a title!\n",
    "title = 'MITRE Graph Visuals'\n",
    "\n",
    "#Establish which categories will appear when hovering over each node\n",
    "HOVER_TOOLTIPS = [(\"Name\", \"@human_name\"),(\"Degree\", \"@degree\")]\n",
    "\n",
    "#Create a plot — set dimensions, toolbar, and title\n",
    "plot = figure(tooltips = HOVER_TOOLTIPS,\n",
    "              tools=\"pan,wheel_zoom,save,reset\", active_scroll='wheel_zoom',\n",
    "            x_range=Range1d(-10.1, 10.1), y_range=Range1d(-10.1, 10.1), title=title)\n",
    "\n",
    "#Create a network graph object with spring layout\n",
    "# https://networkx.github.io/documentation/networkx-1.9/reference/generated/networkx.drawing.layout.spring_layout.html\n",
    "network_graph = from_networkx(DG, nx.spring_layout, scale=10, center=(0, 0))\n",
    "#network_graph = from_networkx(DG, nx.kamada_kawai_layout, scale=10, center=(0, 0))\n",
    "\n",
    "#Set node sizes and colors according to node degree (color as spectrum of color palette)\n",
    "minimum_value_color = 0\n",
    "maximum_value_color = 2\n",
    "#Set node size and color\n",
    "network_graph.node_renderer.glyph = Circle(size=size_by_this_attribute, fill_color=linear_cmap(color_by_this_attribute, color_palette, minimum_value_color, maximum_value_color))\n",
    "\n",
    "#Set node highlight colors\n",
    "network_graph.node_renderer.hover_glyph = Circle(size=size_by_this_attribute, fill_color=node_highlight_color, line_width=2)\n",
    "network_graph.node_renderer.selection_glyph = Circle(size=size_by_this_attribute, fill_color=node_highlight_color, line_width=2)\n",
    "\n",
    "\n",
    "#Set edge opacity and width\n",
    "network_graph.edge_renderer.glyph = MultiLine(line_alpha=0.5, line_width=1)\n",
    "\n",
    "#Set edge highlight colors\n",
    "network_graph.edge_renderer.selection_glyph = MultiLine(line_color=edge_highlight_color, line_width=2)\n",
    "network_graph.edge_renderer.hover_glyph = MultiLine(line_color=edge_highlight_color, line_width=2)\n",
    "\n",
    "#Highlight nodes and edges\n",
    "network_graph.selection_policy = NodesAndLinkedEdges()\n",
    "network_graph.inspection_policy = NodesAndLinkedEdges()\n",
    "\n",
    "\n",
    "#Add network graph to the plot\n",
    "plot.renderers.append(network_graph)\n",
    "plot.plot_width = 1100\n",
    "plot.plot_height = 550\n",
    "show(plot)\n",
    "#save(plot, filename=f\"{title}.html\")"
   ]
  },
  {
   "cell_type": "markdown",
   "metadata": {},
   "source": [
    "## Further refinement of visualization (not functional yet)\n",
    "\n",
    "To do further visualization, we'll convert the NetworkX graph to a PyGraphViz object and then some arranging of the different node/vertex types into columns for a better connection overview."
   ]
  },
  {
   "cell_type": "code",
   "execution_count": 29,
   "metadata": {},
   "outputs": [
    {
     "ename": "ValueError",
     "evalue": "\"Invalid object to show. The object to passed to show must be one of:\n\n* a LayoutDOM (e.g. a Plot or Widget or Layout)\n* a Bokeh Application\n* a callable suitable to an application FunctionHandler\n",
     "output_type": "error",
     "traceback": [
      "\u001b[0;31m---------------------------------------------------------------------------\u001b[0m",
      "\u001b[0;31mValueError\u001b[0m                                Traceback (most recent call last)",
      "Cell \u001b[0;32mIn[29], line 5\u001b[0m\n\u001b[1;32m      1\u001b[0m \u001b[38;5;28;01mimport\u001b[39;00m \u001b[38;5;21;01mpygraphviz\u001b[39;00m \u001b[38;5;28;01mas\u001b[39;00m \u001b[38;5;21;01mpgv\u001b[39;00m\n\u001b[1;32m      3\u001b[0m A \u001b[38;5;241m=\u001b[39m nx\u001b[38;5;241m.\u001b[39mnx_agraph\u001b[38;5;241m.\u001b[39mto_agraph(DG)\n\u001b[0;32m----> 5\u001b[0m \u001b[43mshow\u001b[49m\u001b[43m(\u001b[49m\u001b[43mA\u001b[49m\u001b[43m)\u001b[49m\n",
      "File \u001b[0;32m~/Documents/Data-Science/Data-science/lib/python3.10/site-packages/bokeh/io/showing.py:130\u001b[0m, in \u001b[0;36mshow\u001b[0;34m(obj, browser, new, notebook_handle, notebook_url, **kw)\u001b[0m\n\u001b[1;32m    127\u001b[0m is_application \u001b[38;5;241m=\u001b[39m \u001b[38;5;28mgetattr\u001b[39m(obj, \u001b[38;5;124m'\u001b[39m\u001b[38;5;124m_is_a_bokeh_application_class\u001b[39m\u001b[38;5;124m'\u001b[39m, \u001b[38;5;28;01mFalse\u001b[39;00m)\n\u001b[1;32m    129\u001b[0m \u001b[38;5;28;01mif\u001b[39;00m \u001b[38;5;129;01mnot\u001b[39;00m (\u001b[38;5;28misinstance\u001b[39m(obj, LayoutDOM) \u001b[38;5;129;01mor\u001b[39;00m is_application \u001b[38;5;129;01mor\u001b[39;00m \u001b[38;5;28mcallable\u001b[39m(obj)):\n\u001b[0;32m--> 130\u001b[0m     \u001b[38;5;28;01mraise\u001b[39;00m \u001b[38;5;167;01mValueError\u001b[39;00m(_BAD_SHOW_MSG)\n\u001b[1;32m    132\u001b[0m \u001b[38;5;66;03m# TODO (bev) check callable signature more thoroughly\u001b[39;00m\n\u001b[1;32m    133\u001b[0m \n\u001b[1;32m    134\u001b[0m \u001b[38;5;66;03m# This ugliness is to prevent importing bokeh.application (which would bring\u001b[39;00m\n\u001b[1;32m    135\u001b[0m \u001b[38;5;66;03m# in Tornado) just in order to show a non-server object\u001b[39;00m\n\u001b[1;32m    136\u001b[0m \u001b[38;5;28;01mif\u001b[39;00m is_application \u001b[38;5;129;01mor\u001b[39;00m \u001b[38;5;28mcallable\u001b[39m(obj):\n",
      "\u001b[0;31mValueError\u001b[0m: \"Invalid object to show. The object to passed to show must be one of:\n\n* a LayoutDOM (e.g. a Plot or Widget or Layout)\n* a Bokeh Application\n* a callable suitable to an application FunctionHandler\n"
     ]
    }
   ],
   "source": [
    "import pygraphviz as pgv\n",
    "\n",
    "A = nx.nx_agraph.to_agraph(DG)\n",
    "\n",
    "show()"
   ]
  }
 ],
 "metadata": {
  "kernelspec": {
   "display_name": "Data-science",
   "language": "python",
   "name": "python3"
  },
  "language_info": {
   "codemirror_mode": {
    "name": "ipython",
    "version": 3
   },
   "file_extension": ".py",
   "mimetype": "text/x-python",
   "name": "python",
   "nbconvert_exporter": "python",
   "pygments_lexer": "ipython3",
   "version": "3.10.12"
  }
 },
 "nbformat": 4,
 "nbformat_minor": 2
}
