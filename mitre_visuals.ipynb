{
  "cells": [
    {
      "cell_type": "markdown",
      "metadata": {
        "id": "feDZDneBbmpR"
      },
      "source": [
        "# Installation\n",
        "\n",
        "There are some libraries that we need and with which the code was tested\n",
        "\n",
        "* **taxii2-client**: To talk to the taxii server\n",
        "* **stix2**: To handle the stix2 encapsulated data\n",
        "* **networkx**: To create and work with graphs\n",
        "* **bokeh**: To visualize graphs"
      ]
    },
    {
      "cell_type": "code",
      "execution_count": 1,
      "metadata": {
        "id": "PhcArfvJbNk5"
      },
      "outputs": [
        {
          "name": "stdout",
          "output_type": "stream",
          "text": [
            "Collecting taxii2-client==2.3.0\n",
            "  Downloading taxii2_client-2.3.0-py2.py3-none-any.whl.metadata (11 kB)\n",
            "Collecting requests (from taxii2-client==2.3.0)\n",
            "  Using cached requests-2.31.0-py3-none-any.whl.metadata (4.6 kB)\n",
            "Requirement already satisfied: six in ./.venv/lib/python3.12/site-packages (from taxii2-client==2.3.0) (1.16.0)\n",
            "Collecting pytz (from taxii2-client==2.3.0)\n",
            "  Downloading pytz-2024.1-py2.py3-none-any.whl.metadata (22 kB)\n",
            "Collecting charset-normalizer<4,>=2 (from requests->taxii2-client==2.3.0)\n",
            "  Downloading charset_normalizer-3.3.2-cp312-cp312-macosx_11_0_arm64.whl.metadata (33 kB)\n",
            "Collecting idna<4,>=2.5 (from requests->taxii2-client==2.3.0)\n",
            "  Using cached idna-3.6-py3-none-any.whl.metadata (9.9 kB)\n",
            "Collecting urllib3<3,>=1.21.1 (from requests->taxii2-client==2.3.0)\n",
            "  Downloading urllib3-2.2.1-py3-none-any.whl.metadata (6.4 kB)\n",
            "Collecting certifi>=2017.4.17 (from requests->taxii2-client==2.3.0)\n",
            "  Downloading certifi-2024.2.2-py3-none-any.whl.metadata (2.2 kB)\n",
            "Downloading taxii2_client-2.3.0-py2.py3-none-any.whl (24 kB)\n",
            "Downloading pytz-2024.1-py2.py3-none-any.whl (505 kB)\n",
            "\u001b[2K   \u001b[90m━━━━━━━━━━━━━━━━━━━━━━━━━━━━━━━━━━━━━━━━\u001b[0m \u001b[32m505.5/505.5 kB\u001b[0m \u001b[31m4.2 MB/s\u001b[0m eta \u001b[36m0:00:00\u001b[0ma \u001b[36m0:00:01\u001b[0mm\n",
            "\u001b[?25hUsing cached requests-2.31.0-py3-none-any.whl (62 kB)\n",
            "Downloading certifi-2024.2.2-py3-none-any.whl (163 kB)\n",
            "\u001b[2K   \u001b[90m━━━━━━━━━━━━━━━━━━━━━━━━━━━━━━━━━━━━━━━━\u001b[0m \u001b[32m163.8/163.8 kB\u001b[0m \u001b[31m3.3 MB/s\u001b[0m eta \u001b[36m0:00:00\u001b[0m \u001b[36m0:00:01\u001b[0m\n",
            "\u001b[?25hDownloading charset_normalizer-3.3.2-cp312-cp312-macosx_11_0_arm64.whl (119 kB)\n",
            "\u001b[2K   \u001b[90m━━━━━━━━━━━━━━━━━━━━━━━━━━━━━━━━━━━━━━━━\u001b[0m \u001b[32m119.4/119.4 kB\u001b[0m \u001b[31m4.8 MB/s\u001b[0m eta \u001b[36m0:00:00\u001b[0m\n",
            "\u001b[?25hUsing cached idna-3.6-py3-none-any.whl (61 kB)\n",
            "Downloading urllib3-2.2.1-py3-none-any.whl (121 kB)\n",
            "\u001b[2K   \u001b[90m━━━━━━━━━━━━━━━━━━━━━━━━━━━━━━━━━━━━━━━━\u001b[0m \u001b[32m121.1/121.1 kB\u001b[0m \u001b[31m2.3 MB/s\u001b[0m eta \u001b[36m0:00:00\u001b[0m \u001b[36m0:00:01\u001b[0m\n",
            "\u001b[?25hInstalling collected packages: pytz, urllib3, idna, charset-normalizer, certifi, requests, taxii2-client\n",
            "Successfully installed certifi-2024.2.2 charset-normalizer-3.3.2 idna-3.6 pytz-2024.1 requests-2.31.0 taxii2-client-2.3.0 urllib3-2.2.1\n",
            "Note: you may need to restart the kernel to use updated packages.\n",
            "Collecting stix2==3.0.1\n",
            "  Downloading stix2-3.0.1-py2.py3-none-any.whl.metadata (10 kB)\n",
            "Requirement already satisfied: pytz in ./.venv/lib/python3.12/site-packages (from stix2==3.0.1) (2024.1)\n",
            "Requirement already satisfied: requests in ./.venv/lib/python3.12/site-packages (from stix2==3.0.1) (2.31.0)\n",
            "Collecting simplejson (from stix2==3.0.1)\n",
            "  Downloading simplejson-3.19.2-cp312-cp312-macosx_11_0_arm64.whl.metadata (3.1 kB)\n",
            "Collecting stix2-patterns>=1.2.0 (from stix2==3.0.1)\n",
            "  Downloading stix2_patterns-2.0.0-py2.py3-none-any.whl.metadata (8.3 kB)\n",
            "Collecting antlr4-python3-runtime~=4.9.0 (from stix2-patterns>=1.2.0->stix2==3.0.1)\n",
            "  Downloading antlr4-python3-runtime-4.9.3.tar.gz (117 kB)\n",
            "\u001b[2K     \u001b[90m━━━━━━━━━━━━━━━━━━━━━━━━━━━━━━━━━━━━━━━\u001b[0m \u001b[32m117.0/117.0 kB\u001b[0m \u001b[31m1.7 MB/s\u001b[0m eta \u001b[36m0:00:00\u001b[0ma \u001b[36m0:00:01\u001b[0m\n",
            "\u001b[?25h  Installing build dependencies ... \u001b[?25ldone\n",
            "\u001b[?25h  Getting requirements to build wheel ... \u001b[?25ldone\n",
            "\u001b[?25h  Installing backend dependencies ... \u001b[?25ldone\n",
            "\u001b[?25h  Preparing metadata (pyproject.toml) ... \u001b[?25ldone\n",
            "\u001b[?25hRequirement already satisfied: six in ./.venv/lib/python3.12/site-packages (from stix2-patterns>=1.2.0->stix2==3.0.1) (1.16.0)\n",
            "Requirement already satisfied: charset-normalizer<4,>=2 in ./.venv/lib/python3.12/site-packages (from requests->stix2==3.0.1) (3.3.2)\n",
            "Requirement already satisfied: idna<4,>=2.5 in ./.venv/lib/python3.12/site-packages (from requests->stix2==3.0.1) (3.6)\n",
            "Requirement already satisfied: urllib3<3,>=1.21.1 in ./.venv/lib/python3.12/site-packages (from requests->stix2==3.0.1) (2.2.1)\n",
            "Requirement already satisfied: certifi>=2017.4.17 in ./.venv/lib/python3.12/site-packages (from requests->stix2==3.0.1) (2024.2.2)\n",
            "Downloading stix2-3.0.1-py2.py3-none-any.whl (177 kB)\n",
            "\u001b[2K   \u001b[90m━━━━━━━━━━━━━━━━━━━━━━━━━━━━━━━━━━━━━━━\u001b[0m \u001b[32m177.8/177.8 kB\u001b[0m \u001b[31m371.4 kB/s\u001b[0m eta \u001b[36m0:00:00\u001b[0ma \u001b[36m0:00:01\u001b[0m\n",
            "\u001b[?25hDownloading stix2_patterns-2.0.0-py2.py3-none-any.whl (65 kB)\n",
            "\u001b[2K   \u001b[90m━━━━━━━━━━━━━━━━━━━━━━━━━━━━━━━━━━━━━━━━\u001b[0m \u001b[32m65.9/65.9 kB\u001b[0m \u001b[31m2.7 MB/s\u001b[0m eta \u001b[36m0:00:00\u001b[0m\n",
            "\u001b[?25hDownloading simplejson-3.19.2-cp312-cp312-macosx_11_0_arm64.whl (74 kB)\n",
            "\u001b[2K   \u001b[90m━━━━━━━━━━━━━━━━━━━━━━━━━━━━━━━━━━━━━━━━\u001b[0m \u001b[32m74.8/74.8 kB\u001b[0m \u001b[31m3.5 MB/s\u001b[0m eta \u001b[36m0:00:00\u001b[0m\n",
            "\u001b[?25hBuilding wheels for collected packages: antlr4-python3-runtime\n",
            "  Building wheel for antlr4-python3-runtime (pyproject.toml) ... \u001b[?25ldone\n",
            "\u001b[?25h  Created wheel for antlr4-python3-runtime: filename=antlr4_python3_runtime-4.9.3-py3-none-any.whl size=144554 sha256=040c2f2bd7c6f9d278ee7a2102ad0548609291bfa9e614e85134aaca85d0ac24\n",
            "  Stored in directory: /Users/jorisrijs/Library/Caches/pip/wheels/1f/be/48/13754633f1d08d1fbfc60d5e80ae1e5d7329500477685286cd\n",
            "Successfully built antlr4-python3-runtime\n",
            "Installing collected packages: antlr4-python3-runtime, stix2-patterns, simplejson, stix2\n",
            "Successfully installed antlr4-python3-runtime-4.9.3 simplejson-3.19.2 stix2-3.0.1 stix2-patterns-2.0.0\n",
            "Note: you may need to restart the kernel to use updated packages.\n",
            "Collecting networkx==2.6.3\n",
            "  Downloading networkx-2.6.3-py3-none-any.whl.metadata (5.0 kB)\n",
            "Downloading networkx-2.6.3-py3-none-any.whl (1.9 MB)\n",
            "\u001b[2K   \u001b[90m━━━━━━━━━━━━━━━━━━━━━━━━━━━━━━━━━━━━━━━━\u001b[0m \u001b[32m1.9/1.9 MB\u001b[0m \u001b[31m99.0 kB/s\u001b[0m eta \u001b[36m0:00:00\u001b[0ma \u001b[36m0:00:03\u001b[0mm\n",
            "\u001b[?25hInstalling collected packages: networkx\n",
            "Successfully installed networkx-2.6.3\n",
            "Note: you may need to restart the kernel to use updated packages.\n",
            "Collecting bokeh==2.3.3\n",
            "  Downloading bokeh-2.3.3.tar.gz (10.7 MB)\n",
            "\u001b[2K     \u001b[90m━━━━━━━━━━━━━━━━━━━━━━━━━━━━━━━━━━━━━━━━\u001b[0m \u001b[32m10.7/10.7 MB\u001b[0m \u001b[31m1.5 MB/s\u001b[0m eta \u001b[36m0:00:00\u001b[0m00:01\u001b[0m00:01\u001b[0mm\n",
            "\u001b[?25h  Installing build dependencies ... \u001b[?25ldone\n",
            "\u001b[?25h  Getting requirements to build wheel ... \u001b[?25ldone\n",
            "\u001b[?25h  Installing backend dependencies ... \u001b[?25ldone\n",
            "\u001b[?25h  Preparing metadata (pyproject.toml) ... \u001b[?25ldone\n",
            "\u001b[?25hCollecting PyYAML>=3.10 (from bokeh==2.3.3)\n",
            "  Downloading PyYAML-6.0.1-cp312-cp312-macosx_11_0_arm64.whl.metadata (2.1 kB)\n",
            "Requirement already satisfied: python-dateutil>=2.1 in ./.venv/lib/python3.12/site-packages (from bokeh==2.3.3) (2.9.0.post0)\n",
            "Collecting Jinja2>=2.9 (from bokeh==2.3.3)\n",
            "  Downloading Jinja2-3.1.3-py3-none-any.whl.metadata (3.3 kB)\n",
            "Collecting numpy>=1.11.3 (from bokeh==2.3.3)\n",
            "  Downloading numpy-1.26.4-cp312-cp312-macosx_11_0_arm64.whl.metadata (61 kB)\n",
            "\u001b[2K     \u001b[90m━━━━━━━━━━━━━━━━━━━━━━━━━━━━━━━━━━━━━━━\u001b[0m \u001b[32m61.1/61.1 kB\u001b[0m \u001b[31m220.5 kB/s\u001b[0m eta \u001b[36m0:00:00\u001b[0ma \u001b[36m0:00:01\u001b[0m\n",
            "\u001b[?25hCollecting pillow>=7.1.0 (from bokeh==2.3.3)\n",
            "  Downloading pillow-10.2.0-cp312-cp312-macosx_11_0_arm64.whl.metadata (9.7 kB)\n",
            "Requirement already satisfied: packaging>=16.8 in ./.venv/lib/python3.12/site-packages (from bokeh==2.3.3) (24.0)\n",
            "Requirement already satisfied: tornado>=5.1 in ./.venv/lib/python3.12/site-packages (from bokeh==2.3.3) (6.4)\n",
            "Collecting typing-extensions>=3.7.4 (from bokeh==2.3.3)\n",
            "  Downloading typing_extensions-4.10.0-py3-none-any.whl.metadata (3.0 kB)\n",
            "Collecting MarkupSafe>=2.0 (from Jinja2>=2.9->bokeh==2.3.3)\n",
            "  Downloading MarkupSafe-2.1.5-cp312-cp312-macosx_10_9_universal2.whl.metadata (3.0 kB)\n",
            "Requirement already satisfied: six>=1.5 in ./.venv/lib/python3.12/site-packages (from python-dateutil>=2.1->bokeh==2.3.3) (1.16.0)\n",
            "Downloading Jinja2-3.1.3-py3-none-any.whl (133 kB)\n",
            "\u001b[2K   \u001b[90m━━━━━━━━━━━━━━━━━━━━━━━━━━━━━━━━━━━━━━━━\u001b[0m \u001b[32m133.2/133.2 kB\u001b[0m \u001b[31m2.8 MB/s\u001b[0m eta \u001b[36m0:00:00\u001b[0ma \u001b[36m0:00:01\u001b[0m\n",
            "\u001b[?25hDownloading numpy-1.26.4-cp312-cp312-macosx_11_0_arm64.whl (13.7 MB)\n",
            "\u001b[2K   \u001b[90m━━━━━━━━━━━━━━━━━━━━━━━━━━━━━━━━━━━━━━━━\u001b[0m \u001b[32m13.7/13.7 MB\u001b[0m \u001b[31m4.1 MB/s\u001b[0m eta \u001b[36m0:00:00\u001b[0m00:01\u001b[0m00:01\u001b[0m\n",
            "\u001b[?25hDownloading pillow-10.2.0-cp312-cp312-macosx_11_0_arm64.whl (3.3 MB)\n",
            "\u001b[2K   \u001b[90m━━━━━━━━━━━━━━━━━━━━━━━━━━━━━━━━━━━━━━━━\u001b[0m \u001b[32m3.3/3.3 MB\u001b[0m \u001b[31m641.9 kB/s\u001b[0m eta \u001b[36m0:00:00\u001b[0m00:01\u001b[0m00:02\u001b[0m\n",
            "\u001b[?25hDownloading PyYAML-6.0.1-cp312-cp312-macosx_11_0_arm64.whl (165 kB)\n",
            "\u001b[2K   \u001b[90m━━━━━━━━━━━━━━━━━━━━━━━━━━━━━━━━━━━━━━━\u001b[0m \u001b[32m165.6/165.6 kB\u001b[0m \u001b[31m690.7 kB/s\u001b[0m eta \u001b[36m0:00:00\u001b[0m00:01\u001b[0m00:01\u001b[0m\n",
            "\u001b[?25hDownloading typing_extensions-4.10.0-py3-none-any.whl (33 kB)\n",
            "Downloading MarkupSafe-2.1.5-cp312-cp312-macosx_10_9_universal2.whl (18 kB)\n",
            "Building wheels for collected packages: bokeh\n",
            "  Building wheel for bokeh (pyproject.toml) ... \u001b[?25ldone\n",
            "\u001b[?25h  Created wheel for bokeh: filename=bokeh-2.3.3-py3-none-any.whl size=11342763 sha256=6faff313776e3321710535507a11d72bdbb7f263a29b807e90dd9d4c491bbbf0\n",
            "  Stored in directory: /Users/jorisrijs/Library/Caches/pip/wheels/73/6d/07/2473d63f04dbf7f76a60b1da333ec8817078934dfc3df7168c\n",
            "Successfully built bokeh\n",
            "Installing collected packages: typing-extensions, PyYAML, pillow, numpy, MarkupSafe, Jinja2, bokeh\n",
            "Successfully installed Jinja2-3.1.3 MarkupSafe-2.1.5 PyYAML-6.0.1 bokeh-2.3.3 numpy-1.26.4 pillow-10.2.0 typing-extensions-4.10.0\n",
            "Note: you may need to restart the kernel to use updated packages.\n",
            "Collecting pandas==1.3.5\n",
            "  Downloading pandas-1.3.5.tar.gz (4.7 MB)\n",
            "\u001b[2K     \u001b[90m━━━━━━━━━━━━━━━━━━━━━━━━━━━━━━━━━━━━━━━━\u001b[0m \u001b[32m4.7/4.7 MB\u001b[0m \u001b[31m11.2 MB/s\u001b[0m eta \u001b[36m0:00:00\u001b[0m00:01\u001b[0m00:01\u001b[0m\n",
            "\u001b[?25h  Installing build dependencies ... \u001b[?25ldone\n",
            "\u001b[?25h  Getting requirements to build wheel ... \u001b[?25ldone\n",
            "\u001b[?25h  Preparing metadata (pyproject.toml) ... \u001b[?25ldone\n",
            "\u001b[?25hRequirement already satisfied: python-dateutil>=2.7.3 in ./.venv/lib/python3.12/site-packages (from pandas==1.3.5) (2.9.0.post0)\n",
            "Requirement already satisfied: pytz>=2017.3 in ./.venv/lib/python3.12/site-packages (from pandas==1.3.5) (2024.1)\n",
            "Requirement already satisfied: numpy>=1.21.0 in ./.venv/lib/python3.12/site-packages (from pandas==1.3.5) (1.26.4)\n",
            "Requirement already satisfied: six>=1.5 in ./.venv/lib/python3.12/site-packages (from python-dateutil>=2.7.3->pandas==1.3.5) (1.16.0)\n",
            "Building wheels for collected packages: pandas\n",
            "  Building wheel for pandas (pyproject.toml) ... \u001b[?25ldone\n",
            "\u001b[?25h  Created wheel for pandas: filename=pandas-1.3.5-cp312-cp312-macosx_14_0_arm64.whl size=9996017 sha256=ef80a0b5b4799ac9fa378732d83b89ab0ff10abde7515f2610efc1988b0669e4\n",
            "  Stored in directory: /Users/jorisrijs/Library/Caches/pip/wheels/e3/15/7f/43571d4c48966d63f4f7a640e9345b57e23f1656d4d5b81b16\n",
            "Successfully built pandas\n",
            "Installing collected packages: pandas\n",
            "Successfully installed pandas-1.3.5\n",
            "Note: you may need to restart the kernel to use updated packages.\n"
          ]
        }
      ],
      "source": [
        "%pip install taxii2-client==2.3.0\n",
        "%pip install stix2==3.0.1\n",
        "%pip install networkx==2.6.3\n",
        "%pip install bokeh==2.3.3\n",
        "%pip install pandas==1.3.5"
      ]
    },
    {
      "cell_type": "markdown",
      "metadata": {
        "id": "nEAvzzZMbwHZ"
      },
      "source": [
        "# Setup\n",
        "\n",
        "We lower the debugging level to only show critical messages.\n",
        "We use the following URL to work with:\n",
        "```https://cti-taxii.mitre.org/taxii/```"
      ]
    },
    {
      "cell_type": "code",
      "execution_count": 1,
      "metadata": {
        "id": "Za-ln2C8b4qd"
      },
      "outputs": [],
      "source": [
        "from taxii2client.v20 import Server\n",
        "\n",
        "import logging\n",
        "logging.getLogger('taxii2client').setLevel(logging.CRITICAL)\n",
        "server = Server(\"https://cti-taxii.mitre.org/taxii/\")"
      ]
    },
    {
      "cell_type": "markdown",
      "metadata": {
        "id": "svrD8jbO2pwu"
      },
      "source": [
        "# Retrieve all the data\n",
        "\n",
        "Let's get all the available collections and select the collection that we want to work with"
      ]
    },
    {
      "cell_type": "code",
      "execution_count": 2,
      "metadata": {
        "id": "kWbbw97pcBXM"
      },
      "outputs": [
        {
          "name": "stdout",
          "output_type": "stream",
          "text": [
            "[0] Enterprise ATT&CK -> This data collection holds STIX objects from Enterprise ATT&CK\n",
            "[1] PRE-ATT&CK -> This data collection holds STIX objects from PRE-ATT&CK\n",
            "[2] Mobile ATT&CK -> This data collection holds STIX objects from Mobile ATT&CK\n",
            "[3] ICS ATT&CK -> This data collection holds STIX objects from ICS ATT&CK\n"
          ]
        }
      ],
      "source": [
        "api_root = server.api_roots[0]\n",
        "for idx, collection in enumerate(api_root.collections):\n",
        "    print(f\"[{idx}] {collection.title} -> {collection.description}\")"
      ]
    },
    {
      "cell_type": "markdown",
      "metadata": {
        "id": "8mIOKXSW-JY3"
      },
      "source": [
        "Make a conscious decision on the collection we want to work with"
      ]
    },
    {
      "cell_type": "code",
      "execution_count": 3,
      "metadata": {
        "id": "GhzSXcEK-Bn0"
      },
      "outputs": [],
      "source": [
        "MITRE_COLLECTION_ID = api_root.collections[3].id"
      ]
    },
    {
      "cell_type": "markdown",
      "metadata": {
        "id": "Vfd1X8ZId6VT"
      },
      "source": [
        "For the selected collection, actually get the te collection"
      ]
    },
    {
      "cell_type": "code",
      "execution_count": 4,
      "metadata": {
        "id": "aEaKVbbqdSca"
      },
      "outputs": [],
      "source": [
        "from stix2 import TAXIICollectionSource, Filter\n",
        "from taxii2client.v20 import Collection\n",
        "\n",
        "ATTACK_STIX_COLLECTIONS = \"https://cti-taxii.mitre.org/stix/collections/\"\n",
        "MITRE_COLLECTION = Collection(ATTACK_STIX_COLLECTIONS + MITRE_COLLECTION_ID + \"/\")\n",
        "MC_DATA = TAXIICollectionSource(MITRE_COLLECTION)"
      ]
    },
    {
      "cell_type": "markdown",
      "metadata": {
        "id": "NkCEDcZkARVu"
      },
      "source": [
        "Also get the mitigation (course of action), detections and technique data. We retreive it as a mapping of unique IDs and human readable names"
      ]
    },
    {
      "cell_type": "code",
      "execution_count": 5,
      "metadata": {
        "id": "Xk27VsSc0GCf"
      },
      "outputs": [],
      "source": [
        "MC_MITIGATIONS = MC_DATA.query(Filter(\"type\", \"=\", \"course-of-action\"))\n",
        "mc_mitigation_mapping = {}\n",
        "for x in MC_MITIGATIONS:\n",
        "  mc_mitigation_mapping[x['id']] = x['name']"
      ]
    },
    {
      "cell_type": "code",
      "execution_count": 6,
      "metadata": {
        "id": "hh5W_tiu0Fze"
      },
      "outputs": [],
      "source": [
        "MC_TECHNIQUES = MC_DATA.query(Filter(\"type\", \"=\", \"attack-pattern\"))\n",
        "mc_technique_mapping = {}\n",
        "for x in MC_TECHNIQUES:\n",
        "  mc_technique_mapping[x['id']] = x['name']"
      ]
    },
    {
      "cell_type": "code",
      "execution_count": 7,
      "metadata": {
        "id": "P2FbP2ycF-_V"
      },
      "outputs": [],
      "source": [
        "MC_DETECTIONS = MC_DATA.query(Filter(\"type\", \"=\", \"x-mitre-data-component\"))\n",
        "mc_detection_mapping = {}\n",
        "for x in MC_DETECTIONS:\n",
        "  mc_detection_mapping[x['id']] = x['name']"
      ]
    },
    {
      "cell_type": "markdown",
      "metadata": {
        "id": "vW2Y5j4F5oKC"
      },
      "source": [
        "Let's now get the relationship between course of actions (coa), detection sources and techniques. We also put the data into a panda dataframe and just for fun we ad the human readable names as well."
      ]
    },
    {
      "cell_type": "code",
      "execution_count": 8,
      "metadata": {
        "id": "yQJ582LhQkes"
      },
      "outputs": [
        {
          "data": {
            "text/html": [
              "<div>\n",
              "<style scoped>\n",
              "    .dataframe tbody tr th:only-of-type {\n",
              "        vertical-align: middle;\n",
              "    }\n",
              "\n",
              "    .dataframe tbody tr th {\n",
              "        vertical-align: top;\n",
              "    }\n",
              "\n",
              "    .dataframe thead th {\n",
              "        text-align: right;\n",
              "    }\n",
              "</style>\n",
              "<table border=\"1\" class=\"dataframe\">\n",
              "  <thead>\n",
              "    <tr style=\"text-align: right;\">\n",
              "      <th></th>\n",
              "      <th>Source</th>\n",
              "      <th>Destination</th>\n",
              "      <th>source_human</th>\n",
              "      <th>target_human</th>\n",
              "    </tr>\n",
              "  </thead>\n",
              "  <tbody>\n",
              "    <tr>\n",
              "      <th>0</th>\n",
              "      <td>course-of-action--66cfe23e-34b6-4583-b178-ed6a...</td>\n",
              "      <td>attack-pattern--fc5fda7e-6b2c-4457-b036-759896...</td>\n",
              "      <td>Human User Authentication</td>\n",
              "      <td>Modify Program</td>\n",
              "    </tr>\n",
              "    <tr>\n",
              "      <th>1</th>\n",
              "      <td>course-of-action--66cfe23e-34b6-4583-b178-ed6a...</td>\n",
              "      <td>attack-pattern--09a61657-46e1-439e-b3ed-3e4556...</td>\n",
              "      <td>Human User Authentication</td>\n",
              "      <td>Modify Controller Tasking</td>\n",
              "    </tr>\n",
              "    <tr>\n",
              "      <th>2</th>\n",
              "      <td>course-of-action--66cfe23e-34b6-4583-b178-ed6a...</td>\n",
              "      <td>attack-pattern--097924ce-a9a9-4039-8591-e0deed...</td>\n",
              "      <td>Human User Authentication</td>\n",
              "      <td>Modify Parameter</td>\n",
              "    </tr>\n",
              "    <tr>\n",
              "      <th>3</th>\n",
              "      <td>course-of-action--e0d38502-decb-481d-ad8b-b8f0...</td>\n",
              "      <td>attack-pattern--fc5fda7e-6b2c-4457-b036-759896...</td>\n",
              "      <td>Authorization Enforcement</td>\n",
              "      <td>Modify Program</td>\n",
              "    </tr>\n",
              "    <tr>\n",
              "      <th>4</th>\n",
              "      <td>course-of-action--e0d38502-decb-481d-ad8b-b8f0...</td>\n",
              "      <td>attack-pattern--09a61657-46e1-439e-b3ed-3e4556...</td>\n",
              "      <td>Authorization Enforcement</td>\n",
              "      <td>Modify Controller Tasking</td>\n",
              "    </tr>\n",
              "  </tbody>\n",
              "</table>\n",
              "</div>"
            ],
            "text/plain": [
              "                                              Source  \\\n",
              "0  course-of-action--66cfe23e-34b6-4583-b178-ed6a...   \n",
              "1  course-of-action--66cfe23e-34b6-4583-b178-ed6a...   \n",
              "2  course-of-action--66cfe23e-34b6-4583-b178-ed6a...   \n",
              "3  course-of-action--e0d38502-decb-481d-ad8b-b8f0...   \n",
              "4  course-of-action--e0d38502-decb-481d-ad8b-b8f0...   \n",
              "\n",
              "                                         Destination  \\\n",
              "0  attack-pattern--fc5fda7e-6b2c-4457-b036-759896...   \n",
              "1  attack-pattern--09a61657-46e1-439e-b3ed-3e4556...   \n",
              "2  attack-pattern--097924ce-a9a9-4039-8591-e0deed...   \n",
              "3  attack-pattern--fc5fda7e-6b2c-4457-b036-759896...   \n",
              "4  attack-pattern--09a61657-46e1-439e-b3ed-3e4556...   \n",
              "\n",
              "                source_human               target_human  \n",
              "0  Human User Authentication             Modify Program  \n",
              "1  Human User Authentication  Modify Controller Tasking  \n",
              "2  Human User Authentication           Modify Parameter  \n",
              "3  Authorization Enforcement             Modify Program  \n",
              "4  Authorization Enforcement  Modify Controller Tasking  "
            ]
          },
          "execution_count": 8,
          "metadata": {},
          "output_type": "execute_result"
        }
      ],
      "source": [
        "import pandas as pd\n",
        "\n",
        "MC_RELATIONS = MC_DATA.query(Filter(\"type\",\"=\",\"relationship\"))\n",
        "\n",
        "mc_structured_data = {'Source':[],'Destination':[],'source_human':[],'target_human':[]}\n",
        "for idx,x in enumerate(MC_RELATIONS):\n",
        "  if 'relationship_type' in x:\n",
        "    if x['relationship_type'] == 'mitigates':\n",
        "      mc_structured_data['Source'].append(x['source_ref'])\n",
        "      mc_structured_data['Destination'].append(x['target_ref'])\n",
        "      mc_structured_data['source_human'].append(mc_mitigation_mapping[x['source_ref']])\n",
        "      mc_structured_data['target_human'].append(mc_technique_mapping[x['target_ref']])\n",
        "    elif x['relationship_type'] == 'detects':\n",
        "      mc_structured_data['Source'].append(x['source_ref'])\n",
        "      mc_structured_data['Destination'].append(x['target_ref'])\n",
        "      mc_structured_data['source_human'].append(mc_detection_mapping[x['source_ref']])\n",
        "      mc_structured_data['target_human'].append(mc_technique_mapping[x['target_ref']])\n",
        "\n",
        "\n",
        "df = pd.DataFrame(data=mc_structured_data)\n",
        "df.head()"
      ]
    },
    {
      "cell_type": "markdown",
      "metadata": {
        "id": "v9s5DGVqVSHD"
      },
      "source": [
        "# Visualizing all the data\n",
        "\n",
        "A lot of thanks to this information resource ```https://melaniewalsh.github.io/Intro-Cultural-Analytics/06-Network-Analysis/02-Making-Network-Viz-with-Bokeh.html``` excellent explanation and walkthrough on visualizing graph data with bokeh."
      ]
    },
    {
      "cell_type": "code",
      "execution_count": 10,
      "metadata": {
        "id": "xmtqJA-YK8_Y"
      },
      "outputs": [
        {
          "data": {
            "text/html": [
              "\n",
              "    <div class=\"bk-root\">\n",
              "        <a href=\"https://bokeh.org\" target=\"_blank\" class=\"bk-logo bk-logo-small bk-logo-notebook\"></a>\n",
              "        <span id=\"1002\">Loading BokehJS ...</span>\n",
              "    </div>"
            ]
          },
          "metadata": {},
          "output_type": "display_data"
        },
        {
          "data": {
            "application/javascript": "\n(function(root) {\n  function now() {\n    return new Date();\n  }\n\n  var force = true;\n\n  if (typeof root._bokeh_onload_callbacks === \"undefined\" || force === true) {\n    root._bokeh_onload_callbacks = [];\n    root._bokeh_is_loading = undefined;\n  }\n\n  var JS_MIME_TYPE = 'application/javascript';\n  var HTML_MIME_TYPE = 'text/html';\n  var EXEC_MIME_TYPE = 'application/vnd.bokehjs_exec.v0+json';\n  var CLASS_NAME = 'output_bokeh rendered_html';\n\n  /**\n   * Render data to the DOM node\n   */\n  function render(props, node) {\n    var script = document.createElement(\"script\");\n    node.appendChild(script);\n  }\n\n  /**\n   * Handle when an output is cleared or removed\n   */\n  function handleClearOutput(event, handle) {\n    var cell = handle.cell;\n\n    var id = cell.output_area._bokeh_element_id;\n    var server_id = cell.output_area._bokeh_server_id;\n    // Clean up Bokeh references\n    if (id != null && id in Bokeh.index) {\n      Bokeh.index[id].model.document.clear();\n      delete Bokeh.index[id];\n    }\n\n    if (server_id !== undefined) {\n      // Clean up Bokeh references\n      var cmd = \"from bokeh.io.state import curstate; print(curstate().uuid_to_server['\" + server_id + \"'].get_sessions()[0].document.roots[0]._id)\";\n      cell.notebook.kernel.execute(cmd, {\n        iopub: {\n          output: function(msg) {\n            var id = msg.content.text.trim();\n            if (id in Bokeh.index) {\n              Bokeh.index[id].model.document.clear();\n              delete Bokeh.index[id];\n            }\n          }\n        }\n      });\n      // Destroy server and session\n      var cmd = \"import bokeh.io.notebook as ion; ion.destroy_server('\" + server_id + \"')\";\n      cell.notebook.kernel.execute(cmd);\n    }\n  }\n\n  /**\n   * Handle when a new output is added\n   */\n  function handleAddOutput(event, handle) {\n    var output_area = handle.output_area;\n    var output = handle.output;\n\n    // limit handleAddOutput to display_data with EXEC_MIME_TYPE content only\n    if ((output.output_type != \"display_data\") || (!Object.prototype.hasOwnProperty.call(output.data, EXEC_MIME_TYPE))) {\n      return\n    }\n\n    var toinsert = output_area.element.find(\".\" + CLASS_NAME.split(' ')[0]);\n\n    if (output.metadata[EXEC_MIME_TYPE][\"id\"] !== undefined) {\n      toinsert[toinsert.length - 1].firstChild.textContent = output.data[JS_MIME_TYPE];\n      // store reference to embed id on output_area\n      output_area._bokeh_element_id = output.metadata[EXEC_MIME_TYPE][\"id\"];\n    }\n    if (output.metadata[EXEC_MIME_TYPE][\"server_id\"] !== undefined) {\n      var bk_div = document.createElement(\"div\");\n      bk_div.innerHTML = output.data[HTML_MIME_TYPE];\n      var script_attrs = bk_div.children[0].attributes;\n      for (var i = 0; i < script_attrs.length; i++) {\n        toinsert[toinsert.length - 1].firstChild.setAttribute(script_attrs[i].name, script_attrs[i].value);\n        toinsert[toinsert.length - 1].firstChild.textContent = bk_div.children[0].textContent\n      }\n      // store reference to server id on output_area\n      output_area._bokeh_server_id = output.metadata[EXEC_MIME_TYPE][\"server_id\"];\n    }\n  }\n\n  function register_renderer(events, OutputArea) {\n\n    function append_mime(data, metadata, element) {\n      // create a DOM node to render to\n      var toinsert = this.create_output_subarea(\n        metadata,\n        CLASS_NAME,\n        EXEC_MIME_TYPE\n      );\n      this.keyboard_manager.register_events(toinsert);\n      // Render to node\n      var props = {data: data, metadata: metadata[EXEC_MIME_TYPE]};\n      render(props, toinsert[toinsert.length - 1]);\n      element.append(toinsert);\n      return toinsert\n    }\n\n    /* Handle when an output is cleared or removed */\n    events.on('clear_output.CodeCell', handleClearOutput);\n    events.on('delete.Cell', handleClearOutput);\n\n    /* Handle when a new output is added */\n    events.on('output_added.OutputArea', handleAddOutput);\n\n    /**\n     * Register the mime type and append_mime function with output_area\n     */\n    OutputArea.prototype.register_mime_type(EXEC_MIME_TYPE, append_mime, {\n      /* Is output safe? */\n      safe: true,\n      /* Index of renderer in `output_area.display_order` */\n      index: 0\n    });\n  }\n\n  // register the mime type if in Jupyter Notebook environment and previously unregistered\n  if (root.Jupyter !== undefined) {\n    var events = require('base/js/events');\n    var OutputArea = require('notebook/js/outputarea').OutputArea;\n\n    if (OutputArea.prototype.mime_types().indexOf(EXEC_MIME_TYPE) == -1) {\n      register_renderer(events, OutputArea);\n    }\n  }\n\n  \n  if (typeof (root._bokeh_timeout) === \"undefined\" || force === true) {\n    root._bokeh_timeout = Date.now() + 5000;\n    root._bokeh_failed_load = false;\n  }\n\n  var NB_LOAD_WARNING = {'data': {'text/html':\n     \"<div style='background-color: #fdd'>\\n\"+\n     \"<p>\\n\"+\n     \"BokehJS does not appear to have successfully loaded. If loading BokehJS from CDN, this \\n\"+\n     \"may be due to a slow or bad network connection. Possible fixes:\\n\"+\n     \"</p>\\n\"+\n     \"<ul>\\n\"+\n     \"<li>re-rerun `output_notebook()` to attempt to load from CDN again, or</li>\\n\"+\n     \"<li>use INLINE resources instead, as so:</li>\\n\"+\n     \"</ul>\\n\"+\n     \"<code>\\n\"+\n     \"from bokeh.resources import INLINE\\n\"+\n     \"output_notebook(resources=INLINE)\\n\"+\n     \"</code>\\n\"+\n     \"</div>\"}};\n\n  function display_loaded() {\n    var el = document.getElementById(\"1002\");\n    if (el != null) {\n      el.textContent = \"BokehJS is loading...\";\n    }\n    if (root.Bokeh !== undefined) {\n      if (el != null) {\n        el.textContent = \"BokehJS \" + root.Bokeh.version + \" successfully loaded.\";\n      }\n    } else if (Date.now() < root._bokeh_timeout) {\n      setTimeout(display_loaded, 100)\n    }\n  }\n\n\n  function run_callbacks() {\n    try {\n      root._bokeh_onload_callbacks.forEach(function(callback) {\n        if (callback != null)\n          callback();\n      });\n    } finally {\n      delete root._bokeh_onload_callbacks\n    }\n    console.debug(\"Bokeh: all callbacks have finished\");\n  }\n\n  function load_libs(css_urls, js_urls, callback) {\n    if (css_urls == null) css_urls = [];\n    if (js_urls == null) js_urls = [];\n\n    root._bokeh_onload_callbacks.push(callback);\n    if (root._bokeh_is_loading > 0) {\n      console.debug(\"Bokeh: BokehJS is being loaded, scheduling callback at\", now());\n      return null;\n    }\n    if (js_urls == null || js_urls.length === 0) {\n      run_callbacks();\n      return null;\n    }\n    console.debug(\"Bokeh: BokehJS not loaded, scheduling load and callback at\", now());\n    root._bokeh_is_loading = css_urls.length + js_urls.length;\n\n    function on_load() {\n      root._bokeh_is_loading--;\n      if (root._bokeh_is_loading === 0) {\n        console.debug(\"Bokeh: all BokehJS libraries/stylesheets loaded\");\n        run_callbacks()\n      }\n    }\n\n    function on_error(url) {\n      console.error(\"failed to load \" + url);\n    }\n\n    for (let i = 0; i < css_urls.length; i++) {\n      const url = css_urls[i];\n      const element = document.createElement(\"link\");\n      element.onload = on_load;\n      element.onerror = on_error.bind(null, url);\n      element.rel = \"stylesheet\";\n      element.type = \"text/css\";\n      element.href = url;\n      console.debug(\"Bokeh: injecting link tag for BokehJS stylesheet: \", url);\n      document.body.appendChild(element);\n    }\n\n    const hashes = {\"https://cdn.bokeh.org/bokeh/release/bokeh-2.3.3.min.js\": \"dM3QQsP+wXdHg42wTqW85BjZQdLNNIXqlPw/BgKoExPmTG7ZLML4EGqLMfqHT6ON\", \"https://cdn.bokeh.org/bokeh/release/bokeh-tables-2.3.3.min.js\": \"8x57I4YuIfu8XyZfFo0XVr2WAT8EK4rh/uDe3wF7YuW2FNUSNEpJbsPaB1nJ2fz2\", \"https://cdn.bokeh.org/bokeh/release/bokeh-widgets-2.3.3.min.js\": \"3QTqdz9LyAm2i0sG5XTePsHec3UHWwVsrOL68SYRoAXsafvfAyqtQ+h440+qIBhS\"};\n\n    for (let i = 0; i < js_urls.length; i++) {\n      const url = js_urls[i];\n      const element = document.createElement('script');\n      element.onload = on_load;\n      element.onerror = on_error.bind(null, url);\n      element.async = false;\n      element.src = url;\n      if (url in hashes) {\n        element.crossOrigin = \"anonymous\";\n        element.integrity = \"sha384-\" + hashes[url];\n      }\n      console.debug(\"Bokeh: injecting script tag for BokehJS library: \", url);\n      document.head.appendChild(element);\n    }\n  };\n\n  function inject_raw_css(css) {\n    const element = document.createElement(\"style\");\n    element.appendChild(document.createTextNode(css));\n    document.body.appendChild(element);\n  }\n\n  \n  var js_urls = [\"https://cdn.bokeh.org/bokeh/release/bokeh-2.3.3.min.js\", \"https://cdn.bokeh.org/bokeh/release/bokeh-widgets-2.3.3.min.js\", \"https://cdn.bokeh.org/bokeh/release/bokeh-tables-2.3.3.min.js\"];\n  var css_urls = [];\n  \n\n  var inline_js = [\n    function(Bokeh) {\n      Bokeh.set_log_level(\"info\");\n    },\n    function(Bokeh) {\n    \n    \n    }\n  ];\n\n  function run_inline_js() {\n    \n    if (root.Bokeh !== undefined || force === true) {\n      \n    for (var i = 0; i < inline_js.length; i++) {\n      inline_js[i].call(root, root.Bokeh);\n    }\n    if (force === true) {\n        display_loaded();\n      }} else if (Date.now() < root._bokeh_timeout) {\n      setTimeout(run_inline_js, 100);\n    } else if (!root._bokeh_failed_load) {\n      console.log(\"Bokeh: BokehJS failed to load within specified timeout.\");\n      root._bokeh_failed_load = true;\n    } else if (force !== true) {\n      var cell = $(document.getElementById(\"1002\")).parents('.cell').data().cell;\n      cell.output_area.append_execute_result(NB_LOAD_WARNING)\n    }\n\n  }\n\n  if (root._bokeh_is_loading === 0) {\n    console.debug(\"Bokeh: BokehJS loaded, going straight to plotting\");\n    run_inline_js();\n  } else {\n    load_libs(css_urls, js_urls, function() {\n      console.debug(\"Bokeh: BokehJS plotting callback run at\", now());\n      run_inline_js();\n    });\n  }\n}(window));",
            "application/vnd.bokehjs_load.v0+json": ""
          },
          "metadata": {},
          "output_type": "display_data"
        }
      ],
      "source": [
        "# https://melaniewalsh.github.io/Intro-Cultural-Analytics/06-Network-Analysis/02-Making-Network-Viz-with-Bokeh.html\n",
        "from bokeh.io import output_notebook, show, save\n",
        "# required to display visuals inline\n",
        "output_notebook()"
      ]
    },
    {
      "cell_type": "code",
      "execution_count": 11,
      "metadata": {
        "id": "30nxqDGMLCM5"
      },
      "outputs": [
        {
          "data": {
            "text/html": [
              "\n",
              "\n",
              "\n",
              "\n",
              "\n",
              "\n",
              "  <div class=\"bk-root\" id=\"d527a9ce-393a-4ca3-8f58-383bc03d4a05\" data-root-id=\"1006\"></div>\n"
            ]
          },
          "metadata": {},
          "output_type": "display_data"
        },
        {
          "data": {
            "application/javascript": "(function(root) {\n  function embed_document(root) {\n    \n  var docs_json = {\"36192206-6a5b-417e-90f9-2a7da58bb8db\":{\"defs\":[],\"roots\":{\"references\":[{\"attributes\":{\"below\":[{\"id\":\"1015\"}],\"center\":[{\"id\":\"1018\"},{\"id\":\"1022\"}],\"height\":550,\"left\":[{\"id\":\"1019\"}],\"renderers\":[{\"id\":\"1034\"}],\"title\":{\"id\":\"1007\"},\"toolbar\":{\"id\":\"1028\"},\"width\":1100,\"x_range\":{\"id\":\"1004\"},\"x_scale\":{\"id\":\"1011\"},\"y_range\":{\"id\":\"1005\"},\"y_scale\":{\"id\":\"1013\"}},\"id\":\"1006\",\"subtype\":\"Figure\",\"type\":\"Plot\"},{\"attributes\":{},\"id\":\"1095\",\"type\":\"UnionRenderers\"},{\"attributes\":{},\"id\":\"1096\",\"type\":\"Selection\"},{\"attributes\":{\"line_alpha\":{\"value\":0.5}},\"id\":\"1060\",\"type\":\"MultiLine\"},{\"attributes\":{},\"id\":\"1016\",\"type\":\"BasicTicker\"},{\"attributes\":{},\"id\":\"1077\",\"type\":\"NodesAndLinkedEdges\"},{\"attributes\":{\"callback\":null,\"tooltips\":[[\"Name\",\"@human_name\"],[\"Degree\",\"@degree\"]]},\"id\":\"1027\",\"type\":\"HoverTool\"},{\"attributes\":{\"source\":{\"id\":\"1036\"}},\"id\":\"1038\",\"type\":\"CDSView\"},{\"attributes\":{\"active_multi\":null,\"active_scroll\":{\"id\":\"1024\"},\"tools\":[{\"id\":\"1023\"},{\"id\":\"1024\"},{\"id\":\"1025\"},{\"id\":\"1026\"},{\"id\":\"1027\"}]},\"id\":\"1028\",\"type\":\"Toolbar\"},{\"attributes\":{},\"id\":\"1085\",\"type\":\"BasicTickFormatter\"},{\"attributes\":{},\"id\":\"1080\",\"type\":\"AllLabels\"},{\"attributes\":{\"end\":10.1,\"start\":-10.1},\"id\":\"1004\",\"type\":\"Range1d\"},{\"attributes\":{\"end\":10.1,\"start\":-10.1},\"id\":\"1005\",\"type\":\"Range1d\"},{\"attributes\":{},\"id\":\"1097\",\"type\":\"UnionRenderers\"},{\"attributes\":{},\"id\":\"1020\",\"type\":\"BasicTicker\"},{\"attributes\":{\"graph_layout\":{\"attack-pattern--008b8f56-6107-48be-aa9f-746f927dbb61\":[2.201927258932204,-0.5792336567380508],\"attack-pattern--063b5b92-5361-481a-9c3f-95492ed9a2d8\":[-0.3827723871075652,-2.6253821024030484],\"attack-pattern--097924ce-a9a9-4039-8591-e0deedfb8722\":[1.4259574003361153,2.4749312667156413],\"attack-pattern--09a61657-46e1-439e-b3ed-3e4556a78243\":[-0.5193919459324534,2.204336986374733],\"attack-pattern--0fe075d5-beac-4d02-b93e-0f874997db72\":[3.436989151774608,-1.189520367929931],\"attack-pattern--138979ba-0430-4de6-a128-2fc0b056ba36\":[7.127897613696433,-1.3623466551024919],\"attack-pattern--19a71d1e-6334-4233-8260-b749cae37953\":[1.065684622883696,1.9275029564539878],\"attack-pattern--1af9e3fd-2bcc-414d-adbd-fe3b95c02ca1\":[5.252665176786175,0.28512564055208034],\"attack-pattern--1b22b676-9347-4c55-9a35-ef0dc653db5b\":[-1.7688724594862717,0.6041460045166853],\"attack-pattern--1c478716-71d9-46a4-9a53-fa5d576adb60\":[1.9312153853420437,-0.3540902933401309],\"attack-pattern--24a9253e-8948-4c98-b751-8e2aee53127c\":[-1.4835449042357027,-1.293202928810328],\"attack-pattern--25852363-5968-4673-b81d-341d5ed90bd1\":[0.8419480330506826,2.0571259650176223],\"attack-pattern--25dfc8ad-bd73-4dfd-84a9-3c3d383f76e9\":[0.8119537724749726,1.2395044073808317],\"attack-pattern--2736b752-4ec5-4421-a230-8977dea7649c\":[-1.6582911198234533,-0.8581111411439756],\"attack-pattern--2877063e-1851-48d2-bcc6-bc1d2733157e\":[2.0483123213345085,0.5258133209524162],\"attack-pattern--2883c520-7957-46ca-89bd-dab1ad53b601\":[1.187426768604993,1.6866690535352338],\"attack-pattern--2900bbd8-308a-4274-b074-5b8bde8347bc\":[2.3158544484202115,-0.03439069321901353],\"attack-pattern--2aa406ed-81c3-4c1d-ba83-cfbee5a2847a\":[1.1206414161179563,2.2152100525940916],\"attack-pattern--2d0d40ad-22fa-4cc8-b264-072557e1364b\":[-2.497691859238711,1.698248950673464],\"attack-pattern--2dc2b567-8821-49f9-9045-8740f3d0b958\":[-2.5906537861387426,-1.2814998108656717],\"attack-pattern--2fedbe69-581f-447d-8a78-32ee7db939a9\":[0.9553257872405065,-1.2068857177357812],\"attack-pattern--3067b85e-271e-4bc5-81ad-ab1a81d411e3\":[0.8083649815711526,1.618479316665157],\"attack-pattern--32632a95-6856-47b9-9ab7-fea5cd7dce00\":[-1.2982283281259708,2.4336072236656388],\"attack-pattern--3405891b-16aa-4bd7-bd7c-733501f9b20f\":[-1.2648520340430283,-0.6558081614919107],\"attack-pattern--35392fb4-a31d-4c6a-b9f2-1c65b7f5e6b9\":[-1.285245377901169,0.10903922221817205],\"attack-pattern--36e9f5bc-ac13-4da4-a2f4-01f4877d9004\":[-5.256954357982756,3.618692747599775],\"attack-pattern--38213338-1aab-479d-949b-c81b66ccca5c\":[0.806878449119076,-0.21645418251601387],\"attack-pattern--3b6b9246-43f8-4c69-ad7a-2b11cfe0a0d9\":[2.4516050360725,0.47598674306245503],\"attack-pattern--3de230d4-3e42-4041-b089-17e1128feded\":[-1.0476371666277924,-1.0963503756499415],\"attack-pattern--3f1f4ccb-9be2-4ff8-8f69-dd972221169b\":[2.0576238862719483,-0.7522369697317856],\"attack-pattern--40b300ba-f553-48bf-862e-9471b220d455\":[1.7909585713214962,1.155269119361398],\"attack-pattern--493832d9-cea6-4b63-abe7-9a65a6473675\":[1.2564631981918906,-2.3463984330349907],\"attack-pattern--4c2e1408-9d68-4187-8e6b-a77bc52700ec\":[5.172483038290835,-0.033748820172915917],\"attack-pattern--53a26eee-1080-4d17-9762-2027d5a1b805\":[-0.42194701242849253,-3.8613568987005866],\"attack-pattern--53a48c74-0025-45f4-b04a-baa853df8204\":[-5.473730722666512,3.306088272878369],\"attack-pattern--56ddc820-6cfb-407f-850b-52c035d123ac\":[6.728955964159228,-1.440609734397304],\"attack-pattern--5a2610f6-9fff-41e1-bc27-575ca20383d4\":[-1.2483581863872424,-0.1858389080518875],\"attack-pattern--5e0f75da-e108-4688-a6de-a4f07cc2cbe3\":[1.3521062908293104,1.7970832576468296],\"attack-pattern--5fa00fdd-4a55-4191-94a0-564181d7fec2\":[-10.0,-2.0326641387939186],\"attack-pattern--63b6942d-8359-4506-bfb3-cf87aa8120ee\":[8.22626053051853,-2.1796693242716048],\"attack-pattern--648f995e-9c3a-41e4-aeee-98bb41037426\":[-1.8396832629708875,-0.46233817176560604],\"attack-pattern--7830cfcf-b268-4ac0-a69e-73c6affbae9a\":[-2.049591282099417,0.7848843807069302],\"attack-pattern--83ebd22f-b401-4d59-8219-2294172cf916\":[-5.213091726374234,-0.7880059924567665],\"attack-pattern--8535b71e-3c12-4258-a4ab-40257a1becc4\":[1.3620899268055737,0.057575552331484404],\"attack-pattern--85a45294-08f1-4539-bf00-7da08aa7b0ee\":[-1.5346951669693134,2.3200331700100243],\"attack-pattern--8bb4538f-f16f-49f0-a431-70b5444c7349\":[0.16807881576686057,3.4670125302117336],\"attack-pattern--8d2f3bab-507c-4424-b58b-edc977bd215c\":[-0.12608709413580874,3.1197119501225616],\"attack-pattern--8e7089d3-fba2-44f8-94a8-9a79c53920c4\":[-0.12650660841519196,1.5646979197565352],\"attack-pattern--9a505987-ab05-4f46-a9a6-6441442eec3b\":[1.1954527912961617,-0.6978334145322854],\"attack-pattern--9f947a1c-3860-48a8-8af0-a2dfa3efde03\":[-2.361675665136351,3.122804690703111],\"attack-pattern--a81696ef-c106-482c-8f80-59c30f2569fb\":[6.8233290769795785,-1.7930464653801836],\"attack-pattern--ab390887-afc0-4715-826d-b1b167d522ae\":[-3.4377609844516375,-2.3312156365969696],\"attack-pattern--b0628bfc-5376-4a38-9182-f324501cb4cf\":[-2.781378267433587,-0.07116294026918173],\"attack-pattern--b14395bd-5419-4ef4-9bd8-696936f509bb\":[1.4554569121676584,1.4799134779687693],\"attack-pattern--b52870cc-83f3-473c-b895-72d91751030b\":[-3.7773290139770332,-4.306221270827544],\"attack-pattern--b5b9bacb-97f2-4249-b804-47fd44de1f95\":[7.129429698245964,-0.6991732722251177],\"attack-pattern--b7e13ee8-182c-4f19-92a4-a88d7d855d54\":[-2.073790103137288,-5.103484571196148],\"attack-pattern--b9160e77-ea9e-4ba9-b1c8-53a3c466b13d\":[1.1161787415817623,0.6981689593602441],\"attack-pattern--ba203963-3182-41ac-af14-7e7ebc83cd61\":[-0.18379452182416758,-4.278030745167836],\"attack-pattern--be69c571-d746-4b1f-bdd0-c0c9817e9068\":[1.020896693115051,1.4446428968004397],\"attack-pattern--c267bbee-bb59-47fe-85e0-3ed210337c21\":[2.7146591663683775,0.030132278062946414],\"attack-pattern--c5e3cdbc-0387-4be9-8f83-ff5c0865f377\":[-4.160509462951723,-1.467359536178308],\"attack-pattern--c9a8d958-fcdb-40d2-af4c-461c8031651a\":[-0.9977487455254496,3.3661432456129607],\"attack-pattern--cd2c76a4-5e23-4ca5-9c40-d5e0604f7101\":[-0.29527498072149044,3.8257424742932047],\"attack-pattern--cfe68e93-ce94-4c0f-a57d-3aa72cedd618\":[-2.482235710627957,2.841906391931733],\"attack-pattern--d5a69cfb-fc2a-46cb-99eb-74b236db5061\":[0.8237851713285348,-1.3701334132091767],\"attack-pattern--d67adac8-e3b9-44f9-9e6d-6c2a7d69dbe4\":[-1.6984981733759779,1.0143433499082255],\"attack-pattern--e076cca8-2f08-45c9-aff7-ea5ac798b387\":[-0.20318820291039985,-0.3204697712651712],\"attack-pattern--e1f9cdd2-9511-4fca-90d7-f3e92cfdd0bf\":[-0.9510932751981606,0.7315423128577436],\"attack-pattern--e33c7ecc-5a38-497f-beb2-a9a2049a4c20\":[6.9736340113237105,-1.0409820167869974],\"attack-pattern--e5de767e-f513-41cd-aa15-33f6ce5fbf92\":[0.483249505102537,1.925799843076377],\"attack-pattern--e6c31185-8040-4267-83d3-b217b8a92f07\":[-0.6514643708545365,0.2250633953593019],\"attack-pattern--e72425f8-9ae6-41d3-bfdb-e1b865e60722\":[0.09027450448521426,-2.4559736352331365],\"attack-pattern--ea0c980c-5cf0-43a7-a049-59c4c207566e\":[-3.40460753341318,-1.3981804680190897],\"attack-pattern--ead7bd34-186e-4c79-9a4d-b65bcce6ed9d\":[-0.3688165353472461,-1.2426464802797854],\"attack-pattern--efbf7888-f61b-4572-9c80-7e2965c60707\":[1.3356828609454985,0.555444597745471],\"attack-pattern--f8df6b57-14bc-425f-9a91-6f59f6799307\":[-0.20239025632131813,2.83734372678591],\"attack-pattern--fa3aa267-da22-4bdd-961f-03223322a8d5\":[-1.7860882849707633,-3.2455139979373997],\"attack-pattern--fab8fc7d-f27f-4fbb-9de6-44740aade05f\":[3.6809397516056377,1.1037910765382366],\"attack-pattern--fc5fda7e-6b2c-4457-b036-759896a2efa2\":[-0.5769498027347424,1.960812031788972],\"course-of-action--059ba11e-e3dc-49aa-84ca-88197f40d4ea\":[-3.041945506184692,1.7135508391578924],\"course-of-action--11f242bc-3121-438c-84b2-5cbd46a4bb17\":[0.339911922487348,1.6984895824015511],\"course-of-action--143b4398-3222-480a-b6a4-e131bc2d3144\":[-3.580866653171832,-0.3765093440097845],\"course-of-action--1cbcceef-3233-4062-aa86-ec91afe39517\":[3.239636989073391,3.2884858008847297],\"course-of-action--1e7ccfc0-94c8-496e-8d27-032120892291\":[0.32730813406841763,0.794111347516515],\"course-of-action--2ab9fc6d-3cf6-4d7b-85f1-3ad6949233b3\":[-5.93061651409557,-3.743861014830282],\"course-of-action--2f0160b7-e982-49d7-9612-f19b810f1722\":[0.21710334651446833,6.833914804585312],\"course-of-action--3172222b-4983-43f7-8983-753ded4f13bc\":[-0.8979743599471943,-0.7117049962798241],\"course-of-action--3222a807-521b-4a1a-aa13-f1cda45734b3\":[-0.44153680011251606,-5.539689173355286],\"course-of-action--337c4e2a-21a7-4d9a-bfee-9efd6cebf0e5\":[-2.983220375824373,-5.69472935473798],\"course-of-action--3992ce42-43e9-4bea-b8db-a102ec3ec1e3\":[0.07413820491194904,2.1107369906100155],\"course-of-action--469b78dd-a54d-4f7c-8c3b-4a1dd916b433\":[-4.557938441469961,1.1278430629299565],\"course-of-action--49363b74-d506-4342-bd63-320586ebadb9\":[-3.038274608103204,2.84981505750511],\"course-of-action--49b306c1-a046-42c5-a4d2-30f264ada110\":[-1.0642326188979423,5.98908303722245],\"course-of-action--4fa717d9-cabe-47c8-8cdd-86e9e2e37f30\":[-2.096786238117622,-2.7288558299424985],\"course-of-action--52c7a1a9-3a78-4528-a44f-cd7b0fa3541a\":[2.191747744160362,-1.4684231496977014],\"course-of-action--5d97c693-e054-48ba-a3a3-eaf6942dfb65\":[1.0707465069737143,3.1135987402056315],\"course-of-action--622fe4d4-0e8e-4d17-9c25-6c9cef1f15d5\":[-0.5370893522331331,0.8949013288798241],\"course-of-action--66cfe23e-34b6-4583-b178-ed6a412db2b0\":[0.2664306252293787,1.4361814880283352],\"course-of-action--6a02e38a-9629-40c0-8c7d-e98e3470315c\":[-4.8266600947790606,1.650631975188892],\"course-of-action--71eb7dad-07eb-4bbc-9df0-ac57bf2fba4a\":[0.37612755887359617,-0.366601618517918],\"course-of-action--72e46e53-e12d-4106-9c70-33241b6ed549\":[1.15748535452748,1.0937811386007616],\"course-of-action--7f153c28-e5f1-4764-88fb-eea1d9b0ad4a\":[2.8284981963921276,-0.26970616744686016],\"course-of-action--86b455f2-fb63-4043-93a8-32a3a7703a02\":[-0.15907071221807245,5.6273983650247175],\"course-of-action--8a3aadd0-b5f4-433a-800e-4893e4196bb7\":[-1.0186198952424956,6.849240998629193],\"course-of-action--8ac1d6e1-b07f-476a-9732-84984ebc2405\":[3.472923522096657,0.8159474668994663],\"course-of-action--8bc4a54e-810c-4600-8b6c-08fa8413a401\":[-8.375705497802821,-1.4414594172460355],\"course-of-action--97f33c84-8508-45b9-8a1d-cac921828c9e\":[-1.1844693802593151,2.0535431159723627],\"course-of-action--98aa0d61-fc9d-4b2d-8f18-b25d03549f53\":[-5.007204903968931,0.752428515902987],\"course-of-action--99c746d7-a08a-4169-94f9-b8c0dad716fa\":[-3.365973613105351,-7.49595573268746],\"course-of-action--9a945a29-5233-4422-a9e3-3e957b0e8bce\":[5.591727304661064,1.2699416678685715],\"course-of-action--9e3adcad-0b8f-4ecc-a2f3-06f607f53bf0\":[5.353645790100324,1.717132971688888],\"course-of-action--9f99fcfd-772e-4e63-9d39-e45612e546dc\":[-0.5535568993867789,-1.9441476615894613],\"course-of-action--aadac250-bcdc-44e3-a4ae-f52bd0a7a16a\":[0.13159289468420587,0.48674628726711455],\"course-of-action--ac8f3492-7fbb-4a0a-b0b4-b75ec676136c\":[3.408565619398728,4.281110063841155],\"course-of-action--ad12819e-3211-4291-b360-069f280cff0a\":[5.505064783360702,-1.2420360512235673],\"course-of-action--b11cad63-ef30-4eb8-af0d-6cc46eef3f3e\":[4.611970931581253,-0.8483132922155423],\"course-of-action--bcf91ebc-f316-4e19-b2f6-444e9940c697\":[-0.13419778248576736,0.46862417131828293],\"course-of-action--c7257b6e-4159-4771-b1f3-2bb93adaecac\":[2.4264770601521666,1.075370405586262],\"course-of-action--d0909119-2f71-4923-87db-b649881672d7\":[-0.403062877059911,0.3968229606269669],\"course-of-action--d48b79b2-076d-483e-949c-0d38aa347499\":[-3.239351854984332,4.197418220870947],\"course-of-action--da44255d-85c5-492c-baf3-ee823d44f848\":[-8.184471064250785,-1.7484107236339885],\"course-of-action--dc61c280-c29d-44e5-a960-c0dd1623d2ba\":[-2.6353242803384958,-2.062476864399548],\"course-of-action--ddf3e568-f065-49e2-9106-42029a28ddbd\":[1.2822053944570462,3.2067200836944254],\"course-of-action--de0bc375-50e1-4e26-a342-a8ff8c9d3037\":[-0.20985231149004555,4.036123696207217],\"course-of-action--e0d38502-decb-481d-ad8b-b8f0a0c330bd\":[0.27509512710270206,2.164907073504298],\"course-of-action--e57ebc6d-785f-40c8-adb1-b5b5e09b3b48\":[-0.9118915483048838,1.1198655150931915],\"course-of-action--f0f5c87a-a58d-440a-b3b5-ca679d98c6dd\":[6.600788936856882,-0.29643556309811137],\"course-of-action--f9fcb3ec-6de0-4559-8cd9-ef1c0c7d1971\":[-0.7993564955258952,-3.473555326712757],\"course-of-action--faf2b40e-5981-433f-aa46-17458e0026f7\":[-3.174084672886314,-1.0673405929906121],\"course-of-action--fce6866f-9a87-4d3e-a73c-f02d8937fe0e\":[4.400807923914364,-1.1750688379417582],\"x-mitre-data-component--1177a4c5-31c8-400c-8544-9071166afa0e\":[-0.7836258718068634,-6.7024709487426],\"x-mitre-data-component--181a9f8c-c780-4f1f-91a8-edb770e904ba\":[-3.197045467607529,0.5061042442319683],\"x-mitre-data-component--235b7491-2d2b-4617-9a52-3c0783680f71\":[0.19260396328238444,-1.8974824355926676],\"x-mitre-data-component--2b3bfe19-d59a-460d-93bb-2f546adc2d2c\":[-0.05560028553399001,-0.7229589180987295],\"x-mitre-data-component--3772e279-27d6-477a-9fe3-c6beb363594c\":[0.04268951425706551,0.9936907637888013],\"x-mitre-data-component--39b9db72-8b48-4595-a18d-db5bbba3091b\":[-0.525609274076963,4.996613356386255],\"x-mitre-data-component--3d20385b-24ef-40e1-9f56-f39750379077\":[-0.6820037877166533,-1.295629318743414],\"x-mitre-data-component--3d6e6b3b-4aa8-40e1-8c47-91db0f313d9f\":[5.743234047789312,0.7805061816416442],\"x-mitre-data-component--4c12c1c8-bcef-4daf-8e5b-fca235f71d9e\":[3.2825721168338355,-0.5365254450840895],\"x-mitre-data-component--5297a638-1382-4f0c-8472-0d21830bf705\":[1.6554083633503314,-3.790199601307786],\"x-mitre-data-component--61f1d40e-f3d0-4cc6-aa2d-937b6204194f\":[2.114085563055048,-2.3054778791291533],\"x-mitre-data-component--639e87f3-acb6-448a-9645-258f20da4bc5\":[0.7236051031472596,-2.1219200385861012],\"x-mitre-data-component--66531bc6-a509-4868-8314-4d599e91d222\":[0.42309553553156387,-7.066489759638574],\"x-mitre-data-component--685f917a-e95e-4ba0-ade1-c7d354dae6e0\":[-1.3960765030245643,-1.9148615786404792],\"x-mitre-data-component--74fa567d-bc90-425c-8a41-3c703abb221c\":[-1.1104286836760435,-5.4898116214975605],\"x-mitre-data-component--84572de3-9583-4c73-aabd-06ea88123dd8\":[0.5286905121061983,-4.1041712092429545],\"x-mitre-data-component--8ed4e6d0-56d7-4e6b-8fa6-41f41631f30d\":[-3.1478961341402245,3.5309179003394346],\"x-mitre-data-component--931b3fc6-ad68-42a8-9018-e98515eedc95\":[0.9510824898064868,0.219346423334834],\"x-mitre-data-component--9bde2f9d-a695-4344-bfac-f2dce13d121e\":[-2.57179280206802,-2.7832468852772223],\"x-mitre-data-component--9c2fa0ae-7abc-485a-97f6-699e3b6cf9fa\":[-0.13790448157878285,1.0056060644585951],\"x-mitre-data-component--9ce98c86-8d30-4043-ba54-0784d478d0b5\":[-0.8740144269652751,1.7938424566661306],\"x-mitre-data-component--9d56be63-3501-4dd3-bb5f-63c580833298\":[1.817694301444249,1.6492961047930454],\"x-mitre-data-component--9f387817-df83-432a-b56b-a8fb7f71eedd\":[-3.1275925611552484,-2.654612609818379],\"x-mitre-data-component--a7f22107-02e5-4982-9067-6625d4a1765a\":[0.6279544231686006,0.335313420188794],\"x-mitre-data-component--a953ca55-921a-44f7-9b8d-3d40141aa17e\":[-0.3832494641206043,6.814147243559433],\"x-mitre-data-component--b05a614b-033c-4578-b4f2-c63a9feee706\":[2.075892712496543,3.16627348314293],\"x-mitre-data-component--b9d031bb-d150-4fc6-8025-688201bf3ffd\":[3.2402234065749913,1.4193741688275112],\"x-mitre-data-component--c0a4a086-cc20-4e1e-b7cb-29d99dfa3fb1\":[-3.7203742606377186,0.09477456146207011],\"x-mitre-data-component--da85d358-741a-410d-9433-20d6269a6170\":[1.0331253906241376,-2.713077074278469],\"x-mitre-data-component--e905dad2-00d6-477c-97e8-800427abd0e8\":[1.278762484114842,-4.883662394675038],\"x-mitre-data-component--ee575f4a-2d4f-48f6-b18b-89067760adc1\":[-2.702480173316142,-3.8296044223720447],\"x-mitre-data-component--f42df6f0-6395-4f0c-9376-525a031f00c3\":[-0.11724563833980464,-7.160312665220437],\"x-mitre-data-component--f5468e67-51c7-4756-9b4f-65707708e7fa\":[-2.2021057595287195,-1.1167804744043546],\"x-mitre-data-component--faa34cf6-cf32-4dc9-bd6a-8f7a606ff65b\":[0.9414450779237902,-6.888496799996979]}},\"id\":\"1043\",\"type\":\"StaticLayoutProvider\"},{\"attributes\":{\"line_width\":{\"value\":2}},\"id\":\"1070\",\"type\":\"MultiLine\"},{\"attributes\":{\"data\":{\"adjusted_node_size\":[21,13,12,13,18,23,14,11,13,20,9,7,12,13,9,40,10,18,11,10,15,7,16,28,10,38,10,20,8,12,9,7,11,7,8,14,13,8,10,6,16,6,10,8,18,17,8,9,8,10,10,10,12,9,11,9,13,13,12,9,19,7,21,21,22,16,9,18,15,19,8,13,15,16,10,10,14,12,6,8,8,6,10,16,9,8,8,6,10,13,12,10,7,6,13,14,15,9,15,7,14,6,15,12,10,13,11,9,12,14,13,13,16,11,8,33,13,19,12,11,11,10,8,15,11,20,22,6,6,7,6,21,10,28,13,8,17,8,8,12,8,6,6,11,8,7,7,8,6,9,8,6,8,8,8,7,7,11,7,8,6,6,6,6,6],\"degree\":[16,8,7,8,13,18,9,6,8,15,4,2,7,8,4,35,5,13,6,5,10,2,11,23,5,33,5,15,3,7,4,2,6,2,3,9,8,3,5,1,11,1,5,3,13,12,3,4,3,5,5,5,7,4,6,4,8,8,7,4,14,2,16,16,17,11,4,13,10,14,3,8,10,11,5,5,9,7,1,3,3,1,5,11,4,3,3,1,5,8,7,5,2,1,8,9,10,4,10,2,9,1,10,7,5,8,6,4,7,9,8,8,11,6,3,28,8,14,7,6,6,5,3,10,6,15,17,1,1,2,1,16,5,23,8,3,12,3,3,7,3,1,1,6,3,2,2,3,1,4,3,1,3,3,3,2,2,6,2,3,1,1,1,1,1],\"human_name\":[\"Human User Authentication\",\"Modify Program\",\"Modify Controller Tasking\",\"Modify Parameter\",\"Authorization Enforcement\",\"Process Creation\",\"Data from Local System\",\"File Access\",\"OS API Execution\",\"Command Execution\",\"Script Execution\",\"Data Loss Prevention\",\"Encrypt Sensitive Information\",\"Restrict File and Directory Permissions\",\"User Training\",\"Network Traffic Content\",\"Change Credential\",\"Device Alarm\",\"Redundancy of Service\",\"Password Policies\",\"Data Backup\",\"Validate Program Inputs\",\"Unauthorized Command Message\",\"Network Traffic Flow\",\"Remote System Discovery\",\"Application Log Content\",\"Exploitation for Evasion\",\"Access Management\",\"Hardcoded Credentials\",\"Logon Session Creation\",\"Software\",\"Manipulate I/O Image\",\"Commonly Used Port\",\"I/O Image\",\"Network Share Access\",\"Data from Information Repositories\",\"Lateral Tool Transfer\",\"Wireless Sniffing\",\"Network Connection Enumeration\",\"Service Modification\",\"Masquerading\",\"Scheduled Job Creation\",\"Exploitation for Privilege Escalation\",\"Logon Session Metadata\",\"Valid Accounts\",\"User Execution\",\"Process Metadata\",\"Hooking\",\"Module Load\",\"Graphical User Interface\",\"Execution through API\",\"Command-Line Interface\",\"Transient Cyber Asset\",\"File Metadata\",\"Supply Chain Compromise\",\"File Creation\",\"Spearphishing Attachment\",\"Scripting\",\"Replication Through Removable Media\",\"Windows Registry Key Modification\",\"Adversary-in-the-Middle\",\"Service Creation\",\"Remote Services\",\"Module Firmware\",\"System Firmware\",\"Program Upload\",\"Asset Inventory\",\"Device Restart/Shutdown\",\"Rogue Master\",\"Program Download\",\"Monitor Process State\",\"Alarm Suppression\",\"Point & Tag Identification\",\"Modify Alarm Settings\",\"Remote System Information Discovery\",\"Process/Event Alarm\",\"Spoof Reporting Message\",\"Wireless Compromise\",\"User Account Authentication\",\"Network Connection Creation\",\"Screen Capture\",\"Drive Creation\",\"File Modification\",\"Service Stop\",\"Process Termination\",\"Firmware Modification\",\"Rootkit\",\"Service Metadata\",\"Standard Application Layer Protocol\",\"Process History/Live Data\",\"Network Sniffing\",\"Project File Infection\",\"Native API\",\"Scheduled Job Modification\",\"Exploit Public-Facing Application\",\"Drive-by Compromise\",\"External Remote Services\",\"Internet Accessible Device\",\"Exploitation of Remote Services\",\"File Deletion\",\"Indicator Removal on Host\",\"Windows Registry Key Deletion\",\"Change Operating Mode\",\"Data Destruction\",\"Denial of Service\",\"Block Serial COM\",\"Connection Proxy\",\"Default Credentials\",\"Brute Force I/O\",\"Detect Operating Mode\",\"Block Reporting Message\",\"Block Command Message\",\"Activate Firmware Update Mode\",\"Automated Collection\",\"Antivirus/Antimalware\",\"Network Segmentation\",\"Update Software\",\"Audit\",\"Static Network Configuration\",\"Execution Prevention\",\"Application Isolation and Sandboxing\",\"Exploit Protection\",\"Threat Intelligence Program\",\"Code Signing\",\"User Account Management\",\"Filter Network Traffic\",\"Software Process and Device Authentication\",\"Supply Chain Management\",\"Restrict Library Loading\",\"Boot Integrity\",\"SSL/TLS Inspection\",\"Communication Authenticity\",\"Encrypt Network Traffic\",\"Network Allowlists\",\"Disable or Remove Feature or Program\",\"Denial of Control\",\"Out-of-Band Communications Channel\",\"Loss of Availability\",\"Manipulation of Control\",\"Network Intrusion Prevention\",\"Loss of View\",\"Limit Hardware Installation\",\"Restrict Registry Permissions\",\"Privileged Account Management\",\"Denial of View\",\"Mechanical Protection Layers\",\"Loss of Safety\",\"Restrict Web-Based Content\",\"Limit Access to Resource Over Network\",\"Theft of Operational Information\",\"Damage to Property\",\"Watchdog Timers\",\"Loss of Control\",\"Vulnerability Scanning\",\"Multi-factor Authentication\",\"Account Use Policies\",\"Minimize Wireless Signal Propagation\",\"Mitigation Limited or Not Effective\",\"Safety Instrumented Systems\",\"Manipulation of View\",\"Operational Information Confidentiality\",\"Loss of Productivity and Revenue\",\"Active Directory Configuration\",\"Operating System Configuration\",\"Application Developer Guidance\"],\"index\":[\"course-of-action--66cfe23e-34b6-4583-b178-ed6a412db2b0\",\"attack-pattern--fc5fda7e-6b2c-4457-b036-759896a2efa2\",\"attack-pattern--09a61657-46e1-439e-b3ed-3e4556a78243\",\"attack-pattern--097924ce-a9a9-4039-8591-e0deedfb8722\",\"course-of-action--e0d38502-decb-481d-ad8b-b8f0a0c330bd\",\"x-mitre-data-component--3d20385b-24ef-40e1-9f56-f39750379077\",\"attack-pattern--fa3aa267-da22-4bdd-961f-03223322a8d5\",\"x-mitre-data-component--235b7491-2d2b-4617-9a52-3c0783680f71\",\"x-mitre-data-component--9bde2f9d-a695-4344-bfac-f2dce13d121e\",\"x-mitre-data-component--685f917a-e95e-4ba0-ade1-c7d354dae6e0\",\"x-mitre-data-component--9f387817-df83-432a-b56b-a8fb7f71eedd\",\"course-of-action--337c4e2a-21a7-4d9a-bfee-9efd6cebf0e5\",\"course-of-action--9f99fcfd-772e-4e63-9d39-e45612e546dc\",\"course-of-action--f9fcb3ec-6de0-4559-8cd9-ef1c0c7d1971\",\"course-of-action--dc61c280-c29d-44e5-a960-c0dd1623d2ba\",\"x-mitre-data-component--3772e279-27d6-477a-9fe3-c6beb363594c\",\"attack-pattern--fab8fc7d-f27f-4fbb-9de6-44740aade05f\",\"x-mitre-data-component--9d56be63-3501-4dd3-bb5f-63c580833298\",\"course-of-action--f0f5c87a-a58d-440a-b3b5-ca679d98c6dd\",\"course-of-action--5d97c693-e054-48ba-a3a3-eaf6942dfb65\",\"course-of-action--ad12819e-3211-4291-b360-069f280cff0a\",\"course-of-action--1cbcceef-3233-4062-aa86-ec91afe39517\",\"attack-pattern--40b300ba-f553-48bf-862e-9471b220d455\",\"x-mitre-data-component--a7f22107-02e5-4982-9067-6625d4a1765a\",\"attack-pattern--d5a69cfb-fc2a-46cb-99eb-74b236db5061\",\"x-mitre-data-component--9c2fa0ae-7abc-485a-97f6-699e3b6cf9fa\",\"attack-pattern--9f947a1c-3860-48a8-8af0-a2dfa3efde03\",\"course-of-action--3992ce42-43e9-4bea-b8db-a102ec3ec1e3\",\"attack-pattern--c9a8d958-fcdb-40d2-af4c-461c8031651a\",\"x-mitre-data-component--9ce98c86-8d30-4043-ba54-0784d478d0b5\",\"x-mitre-data-component--8ed4e6d0-56d7-4e6b-8fa6-41f41631f30d\",\"attack-pattern--36e9f5bc-ac13-4da4-a2f4-01f4877d9004\",\"attack-pattern--e6c31185-8040-4267-83d3-b217b8a92f07\",\"attack-pattern--53a48c74-0025-45f4-b04a-baa853df8204\",\"x-mitre-data-component--f5468e67-51c7-4756-9b4f-65707708e7fa\",\"attack-pattern--3405891b-16aa-4bd7-bd7c-733501f9b20f\",\"attack-pattern--ead7bd34-186e-4c79-9a4d-b65bcce6ed9d\",\"attack-pattern--0fe075d5-beac-4d02-b93e-0f874997db72\",\"attack-pattern--ea0c980c-5cf0-43a7-a049-59c4c207566e\",\"x-mitre-data-component--66531bc6-a509-4868-8314-4d599e91d222\",\"attack-pattern--ba203963-3182-41ac-af14-7e7ebc83cd61\",\"x-mitre-data-component--f42df6f0-6395-4f0c-9376-525a031f00c3\",\"attack-pattern--cfe68e93-ce94-4c0f-a57d-3aa72cedd618\",\"x-mitre-data-component--39b9db72-8b48-4595-a18d-db5bbba3091b\",\"attack-pattern--cd2c76a4-5e23-4ca5-9c40-d5e0604f7101\",\"attack-pattern--2736b752-4ec5-4421-a230-8977dea7649c\",\"x-mitre-data-component--ee575f4a-2d4f-48f6-b18b-89067760adc1\",\"attack-pattern--ab390887-afc0-4715-826d-b1b167d522ae\",\"x-mitre-data-component--c0a4a086-cc20-4e1e-b7cb-29d99dfa3fb1\",\"attack-pattern--b0628bfc-5376-4a38-9182-f324501cb4cf\",\"attack-pattern--5a2610f6-9fff-41e1-bc27-575ca20383d4\",\"attack-pattern--24a9253e-8948-4c98-b751-8e2aee53127c\",\"attack-pattern--35392fb4-a31d-4c6a-b9f2-1c65b7f5e6b9\",\"x-mitre-data-component--639e87f3-acb6-448a-9645-258f20da4bc5\",\"attack-pattern--5e0f75da-e108-4688-a6de-a4f07cc2cbe3\",\"x-mitre-data-component--2b3bfe19-d59a-460d-93bb-2f546adc2d2c\",\"attack-pattern--648f995e-9c3a-41e4-aeee-98bb41037426\",\"attack-pattern--2dc2b567-8821-49f9-9045-8740f3d0b958\",\"attack-pattern--c267bbee-bb59-47fe-85e0-3ed210337c21\",\"x-mitre-data-component--da85d358-741a-410d-9433-20d6269a6170\",\"attack-pattern--9a505987-ab05-4f46-a9a6-6441442eec3b\",\"x-mitre-data-component--5297a638-1382-4f0c-8472-0d21830bf705\",\"attack-pattern--e1f9cdd2-9511-4fca-90d7-f3e92cfdd0bf\",\"attack-pattern--efbf7888-f61b-4572-9c80-7e2965c60707\",\"attack-pattern--b9160e77-ea9e-4ba9-b1c8-53a3c466b13d\",\"attack-pattern--3067b85e-271e-4bc5-81ad-ab1a81d411e3\",\"x-mitre-data-component--b05a614b-033c-4578-b4f2-c63a9feee706\",\"attack-pattern--25dfc8ad-bd73-4dfd-84a9-3c3d383f76e9\",\"attack-pattern--b14395bd-5419-4ef4-9bd8-696936f509bb\",\"attack-pattern--be69c571-d746-4b1f-bdd0-c0c9817e9068\",\"attack-pattern--2d0d40ad-22fa-4cc8-b264-072557e1364b\",\"attack-pattern--2900bbd8-308a-4274-b074-5b8bde8347bc\",\"attack-pattern--25852363-5968-4673-b81d-341d5ed90bd1\",\"attack-pattern--e5de767e-f513-41cd-aa15-33f6ce5fbf92\",\"attack-pattern--2fedbe69-581f-447d-8a78-32ee7db939a9\",\"x-mitre-data-component--4c12c1c8-bcef-4daf-8e5b-fca235f71d9e\",\"attack-pattern--8535b71e-3c12-4258-a4ab-40257a1becc4\",\"attack-pattern--2877063e-1851-48d2-bcc6-bc1d2733157e\",\"x-mitre-data-component--a953ca55-921a-44f7-9b8d-3d40141aa17e\",\"x-mitre-data-component--181a9f8c-c780-4f1f-91a8-edb770e904ba\",\"attack-pattern--c5e3cdbc-0387-4be9-8f83-ff5c0865f377\",\"x-mitre-data-component--3d6e6b3b-4aa8-40e1-8c47-91db0f313d9f\",\"x-mitre-data-component--84572de3-9583-4c73-aabd-06ea88123dd8\",\"attack-pattern--063b5b92-5361-481a-9c3f-95492ed9a2d8\",\"x-mitre-data-component--61f1d40e-f3d0-4cc6-aa2d-937b6204194f\",\"x-mitre-data-component--b9d031bb-d150-4fc6-8025-688201bf3ffd\",\"attack-pattern--3b6b9246-43f8-4c69-ad7a-2b11cfe0a0d9\",\"x-mitre-data-component--74fa567d-bc90-425c-8a41-3c703abb221c\",\"attack-pattern--e076cca8-2f08-45c9-aff7-ea5ac798b387\",\"x-mitre-data-component--931b3fc6-ad68-42a8-9018-e98515eedc95\",\"attack-pattern--38213338-1aab-479d-949b-c81b66ccca5c\",\"attack-pattern--e72425f8-9ae6-41d3-bfdb-e1b865e60722\",\"attack-pattern--b52870cc-83f3-473c-b895-72d91751030b\",\"x-mitre-data-component--faa34cf6-cf32-4dc9-bd6a-8f7a606ff65b\",\"attack-pattern--32632a95-6856-47b9-9ab7-fea5cd7dce00\",\"attack-pattern--7830cfcf-b268-4ac0-a69e-73c6affbae9a\",\"attack-pattern--8d2f3bab-507c-4424-b58b-edc977bd215c\",\"attack-pattern--f8df6b57-14bc-425f-9a91-6f59f6799307\",\"attack-pattern--85a45294-08f1-4539-bf00-7da08aa7b0ee\",\"x-mitre-data-component--e905dad2-00d6-477c-97e8-800427abd0e8\",\"attack-pattern--53a26eee-1080-4d17-9762-2027d5a1b805\",\"x-mitre-data-component--1177a4c5-31c8-400c-8544-9071166afa0e\",\"attack-pattern--2883c520-7957-46ca-89bd-dab1ad53b601\",\"attack-pattern--493832d9-cea6-4b63-abe7-9a65a6473675\",\"attack-pattern--1b22b676-9347-4c55-9a35-ef0dc653db5b\",\"attack-pattern--1c478716-71d9-46a4-9a53-fa5d576adb60\",\"attack-pattern--d67adac8-e3b9-44f9-9e6d-6c2a7d69dbe4\",\"attack-pattern--8bb4538f-f16f-49f0-a431-70b5444c7349\",\"attack-pattern--8e7089d3-fba2-44f8-94a8-9a79c53920c4\",\"attack-pattern--2aa406ed-81c3-4c1d-ba83-cfbee5a2847a\",\"attack-pattern--3f1f4ccb-9be2-4ff8-8f69-dd972221169b\",\"attack-pattern--008b8f56-6107-48be-aa9f-746f927dbb61\",\"attack-pattern--19a71d1e-6334-4233-8260-b749cae37953\",\"attack-pattern--3de230d4-3e42-4041-b089-17e1128feded\",\"course-of-action--faf2b40e-5981-433f-aa46-17458e0026f7\",\"course-of-action--1e7ccfc0-94c8-496e-8d27-032120892291\",\"course-of-action--97f33c84-8508-45b9-8a1d-cac921828c9e\",\"course-of-action--bcf91ebc-f316-4e19-b2f6-444e9940c697\",\"course-of-action--52c7a1a9-3a78-4528-a44f-cd7b0fa3541a\",\"course-of-action--4fa717d9-cabe-47c8-8cdd-86e9e2e37f30\",\"course-of-action--059ba11e-e3dc-49aa-84ca-88197f40d4ea\",\"course-of-action--49363b74-d506-4342-bd63-320586ebadb9\",\"course-of-action--d48b79b2-076d-483e-949c-0d38aa347499\",\"course-of-action--71eb7dad-07eb-4bbc-9df0-ac57bf2fba4a\",\"course-of-action--e57ebc6d-785f-40c8-adb1-b5b5e09b3b48\",\"course-of-action--11f242bc-3121-438c-84b2-5cbd46a4bb17\",\"course-of-action--72e46e53-e12d-4106-9c70-33241b6ed549\",\"course-of-action--ac8f3492-7fbb-4a0a-b0b4-b75ec676136c\",\"course-of-action--2ab9fc6d-3cf6-4d7b-85f1-3ad6949233b3\",\"course-of-action--8ac1d6e1-b07f-476a-9732-84984ebc2405\",\"course-of-action--6a02e38a-9629-40c0-8c7d-e98e3470315c\",\"course-of-action--c7257b6e-4159-4771-b1f3-2bb93adaecac\",\"course-of-action--7f153c28-e5f1-4764-88fb-eea1d9b0ad4a\",\"course-of-action--aadac250-bcdc-44e3-a4ae-f52bd0a7a16a\",\"course-of-action--d0909119-2f71-4923-87db-b649881672d7\",\"attack-pattern--e33c7ecc-5a38-497f-beb2-a9a2049a4c20\",\"course-of-action--b11cad63-ef30-4eb8-af0d-6cc46eef3f3e\",\"attack-pattern--b5b9bacb-97f2-4249-b804-47fd44de1f95\",\"attack-pattern--1af9e3fd-2bcc-414d-adbd-fe3b95c02ca1\",\"course-of-action--3172222b-4983-43f7-8983-753ded4f13bc\",\"attack-pattern--138979ba-0430-4de6-a128-2fc0b056ba36\",\"course-of-action--9e3adcad-0b8f-4ecc-a2f3-06f607f53bf0\",\"course-of-action--3222a807-521b-4a1a-aa13-f1cda45734b3\",\"course-of-action--622fe4d4-0e8e-4d17-9c25-6c9cef1f15d5\",\"attack-pattern--56ddc820-6cfb-407f-850b-52c035d123ac\",\"course-of-action--8bc4a54e-810c-4600-8b6c-08fa8413a401\",\"attack-pattern--5fa00fdd-4a55-4191-94a0-564181d7fec2\",\"course-of-action--143b4398-3222-480a-b6a4-e131bc2d3144\",\"course-of-action--49b306c1-a046-42c5-a4d2-30f264ada110\",\"attack-pattern--b7e13ee8-182c-4f19-92a4-a88d7d855d54\",\"attack-pattern--83ebd22f-b401-4d59-8219-2294172cf916\",\"course-of-action--98aa0d61-fc9d-4b2d-8f18-b25d03549f53\",\"attack-pattern--a81696ef-c106-482c-8f80-59c30f2569fb\",\"course-of-action--de0bc375-50e1-4e26-a342-a8ff8c9d3037\",\"course-of-action--ddf3e568-f065-49e2-9106-42029a28ddbd\",\"course-of-action--86b455f2-fb63-4043-93a8-32a3a7703a02\",\"course-of-action--fce6866f-9a87-4d3e-a73c-f02d8937fe0e\",\"course-of-action--469b78dd-a54d-4f7c-8c3b-4a1dd916b433\",\"course-of-action--da44255d-85c5-492c-baf3-ee823d44f848\",\"attack-pattern--4c2e1408-9d68-4187-8e6b-a77bc52700ec\",\"course-of-action--99c746d7-a08a-4169-94f9-b8c0dad716fa\",\"attack-pattern--63b6942d-8359-4506-bfb3-cf87aa8120ee\",\"course-of-action--2f0160b7-e982-49d7-9612-f19b810f1722\",\"course-of-action--9a945a29-5233-4422-a9e3-3e957b0e8bce\",\"course-of-action--8a3aadd0-b5f4-433a-800e-4893e4196bb7\"],\"node_type\":[1,0,0,0,1,2,0,2,2,2,2,1,1,1,1,2,0,2,1,1,1,1,0,2,0,2,0,1,0,2,2,0,0,0,2,0,0,0,0,2,0,2,0,2,0,0,2,0,2,0,0,0,0,2,0,2,0,0,0,2,0,2,0,0,0,0,2,0,0,0,0,0,0,0,0,2,0,0,2,2,0,2,2,0,2,2,0,2,0,2,0,0,0,2,0,0,0,0,0,2,0,2,0,0,0,0,0,0,0,0,0,0,0,0,1,1,1,1,1,1,1,1,1,1,1,1,1,1,1,1,1,1,1,1,1,0,1,0,0,1,0,1,1,1,0,1,0,1,1,0,0,1,0,1,1,1,1,1,1,0,1,0,1,1,1]},\"selected\":{\"id\":\"1094\"},\"selection_policy\":{\"id\":\"1095\"}},\"id\":\"1036\",\"type\":\"ColumnDataSource\"},{\"attributes\":{},\"id\":\"1025\",\"type\":\"SaveTool\"},{\"attributes\":{\"text\":\"MITRE Graph Visuals\"},\"id\":\"1007\",\"type\":\"Title\"},{\"attributes\":{},\"id\":\"1024\",\"type\":\"WheelZoomTool\"},{\"attributes\":{\"formatter\":{\"id\":\"1085\"},\"major_label_policy\":{\"id\":\"1083\"},\"ticker\":{\"id\":\"1016\"}},\"id\":\"1015\",\"type\":\"LinearAxis\"},{\"attributes\":{\"line_width\":{\"value\":2}},\"id\":\"1065\",\"type\":\"MultiLine\"},{\"attributes\":{},\"id\":\"1011\",\"type\":\"LinearScale\"},{\"attributes\":{\"fill_color\":{\"value\":\"white\"},\"line_width\":{\"value\":2},\"size\":{\"field\":\"adjusted_node_size\"}},\"id\":\"1055\",\"type\":\"Circle\"},{\"attributes\":{},\"id\":\"1026\",\"type\":\"ResetTool\"},{\"attributes\":{\"formatter\":{\"id\":\"1082\"},\"major_label_policy\":{\"id\":\"1080\"},\"ticker\":{\"id\":\"1020\"}},\"id\":\"1019\",\"type\":\"LinearAxis\"},{\"attributes\":{\"axis\":{\"id\":\"1015\"},\"ticker\":null},\"id\":\"1018\",\"type\":\"Grid\"},{\"attributes\":{\"fill_color\":{\"value\":\"white\"},\"line_width\":{\"value\":2},\"size\":{\"field\":\"adjusted_node_size\"}},\"id\":\"1050\",\"type\":\"Circle\"},{\"attributes\":{\"fill_color\":{\"field\":\"node_type\",\"transform\":{\"id\":\"1044\"}},\"size\":{\"field\":\"adjusted_node_size\"}},\"id\":\"1045\",\"type\":\"Circle\"},{\"attributes\":{\"edge_renderer\":{\"id\":\"1041\"},\"inspection_policy\":{\"id\":\"1077\"},\"layout_provider\":{\"id\":\"1043\"},\"node_renderer\":{\"id\":\"1037\"},\"selection_policy\":{\"id\":\"1075\"}},\"id\":\"1034\",\"type\":\"GraphRenderer\"},{\"attributes\":{},\"id\":\"1013\",\"type\":\"LinearScale\"},{\"attributes\":{\"data\":{\"end\":[\"attack-pattern--fc5fda7e-6b2c-4457-b036-759896a2efa2\",\"attack-pattern--09a61657-46e1-439e-b3ed-3e4556a78243\",\"attack-pattern--097924ce-a9a9-4039-8591-e0deedfb8722\",\"attack-pattern--25dfc8ad-bd73-4dfd-84a9-3c3d383f76e9\",\"attack-pattern--e6c31185-8040-4267-83d3-b217b8a92f07\",\"attack-pattern--b9160e77-ea9e-4ba9-b1c8-53a3c466b13d\",\"attack-pattern--2883c520-7957-46ca-89bd-dab1ad53b601\",\"attack-pattern--5a2610f6-9fff-41e1-bc27-575ca20383d4\",\"attack-pattern--e5de767e-f513-41cd-aa15-33f6ce5fbf92\",\"attack-pattern--2aa406ed-81c3-4c1d-ba83-cfbee5a2847a\",\"attack-pattern--19a71d1e-6334-4233-8260-b749cae37953\",\"attack-pattern--25852363-5968-4673-b81d-341d5ed90bd1\",\"attack-pattern--efbf7888-f61b-4572-9c80-7e2965c60707\",\"attack-pattern--3067b85e-271e-4bc5-81ad-ab1a81d411e3\",\"attack-pattern--be69c571-d746-4b1f-bdd0-c0c9817e9068\",\"attack-pattern--e1f9cdd2-9511-4fca-90d7-f3e92cfdd0bf\",\"course-of-action--e0d38502-decb-481d-ad8b-b8f0a0c330bd\",\"x-mitre-data-component--3772e279-27d6-477a-9fe3-c6beb363594c\",\"x-mitre-data-component--8ed4e6d0-56d7-4e6b-8fa6-41f41631f30d\",\"x-mitre-data-component--9d56be63-3501-4dd3-bb5f-63c580833298\",\"x-mitre-data-component--9c2fa0ae-7abc-485a-97f6-699e3b6cf9fa\",\"course-of-action--bcf91ebc-f316-4e19-b2f6-444e9940c697\",\"course-of-action--71eb7dad-07eb-4bbc-9df0-ac57bf2fba4a\",\"course-of-action--e0d38502-decb-481d-ad8b-b8f0a0c330bd\",\"x-mitre-data-component--9c2fa0ae-7abc-485a-97f6-699e3b6cf9fa\",\"x-mitre-data-component--9d56be63-3501-4dd3-bb5f-63c580833298\",\"x-mitre-data-component--8ed4e6d0-56d7-4e6b-8fa6-41f41631f30d\",\"course-of-action--bcf91ebc-f316-4e19-b2f6-444e9940c697\",\"course-of-action--71eb7dad-07eb-4bbc-9df0-ac57bf2fba4a\",\"course-of-action--1cbcceef-3233-4062-aa86-ec91afe39517\",\"x-mitre-data-component--b05a614b-033c-4578-b4f2-c63a9feee706\",\"x-mitre-data-component--3772e279-27d6-477a-9fe3-c6beb363594c\",\"x-mitre-data-component--9d56be63-3501-4dd3-bb5f-63c580833298\",\"x-mitre-data-component--9c2fa0ae-7abc-485a-97f6-699e3b6cf9fa\",\"course-of-action--bcf91ebc-f316-4e19-b2f6-444e9940c697\",\"course-of-action--e0d38502-decb-481d-ad8b-b8f0a0c330bd\",\"attack-pattern--e1f9cdd2-9511-4fca-90d7-f3e92cfdd0bf\",\"attack-pattern--5a2610f6-9fff-41e1-bc27-575ca20383d4\",\"attack-pattern--25852363-5968-4673-b81d-341d5ed90bd1\",\"attack-pattern--e5de767e-f513-41cd-aa15-33f6ce5fbf92\",\"attack-pattern--be69c571-d746-4b1f-bdd0-c0c9817e9068\",\"attack-pattern--2aa406ed-81c3-4c1d-ba83-cfbee5a2847a\",\"attack-pattern--3067b85e-271e-4bc5-81ad-ab1a81d411e3\",\"attack-pattern--25dfc8ad-bd73-4dfd-84a9-3c3d383f76e9\",\"attack-pattern--2883c520-7957-46ca-89bd-dab1ad53b601\",\"attack-pattern--19a71d1e-6334-4233-8260-b749cae37953\",\"attack-pattern--fa3aa267-da22-4bdd-961f-03223322a8d5\",\"attack-pattern--648f995e-9c3a-41e4-aeee-98bb41037426\",\"attack-pattern--2fedbe69-581f-447d-8a78-32ee7db939a9\",\"attack-pattern--2736b752-4ec5-4421-a230-8977dea7649c\",\"attack-pattern--c267bbee-bb59-47fe-85e0-3ed210337c21\",\"attack-pattern--2dc2b567-8821-49f9-9045-8740f3d0b958\",\"attack-pattern--063b5b92-5361-481a-9c3f-95492ed9a2d8\",\"attack-pattern--d5a69cfb-fc2a-46cb-99eb-74b236db5061\",\"attack-pattern--ea0c980c-5cf0-43a7-a049-59c4c207566e\",\"attack-pattern--38213338-1aab-479d-949b-c81b66ccca5c\",\"attack-pattern--e1f9cdd2-9511-4fca-90d7-f3e92cfdd0bf\",\"attack-pattern--b0628bfc-5376-4a38-9182-f324501cb4cf\",\"attack-pattern--9a505987-ab05-4f46-a9a6-6441442eec3b\",\"attack-pattern--7830cfcf-b268-4ac0-a69e-73c6affbae9a\",\"attack-pattern--ead7bd34-186e-4c79-9a4d-b65bcce6ed9d\",\"attack-pattern--53a26eee-1080-4d17-9762-2027d5a1b805\",\"attack-pattern--493832d9-cea6-4b63-abe7-9a65a6473675\",\"attack-pattern--24a9253e-8948-4c98-b751-8e2aee53127c\",\"x-mitre-data-component--235b7491-2d2b-4617-9a52-3c0783680f71\",\"x-mitre-data-component--9bde2f9d-a695-4344-bfac-f2dce13d121e\",\"x-mitre-data-component--685f917a-e95e-4ba0-ade1-c7d354dae6e0\",\"x-mitre-data-component--9f387817-df83-432a-b56b-a8fb7f71eedd\",\"course-of-action--337c4e2a-21a7-4d9a-bfee-9efd6cebf0e5\",\"course-of-action--9f99fcfd-772e-4e63-9d39-e45612e546dc\",\"course-of-action--f9fcb3ec-6de0-4559-8cd9-ef1c0c7d1971\",\"course-of-action--dc61c280-c29d-44e5-a960-c0dd1623d2ba\",\"attack-pattern--2736b752-4ec5-4421-a230-8977dea7649c\",\"attack-pattern--c267bbee-bb59-47fe-85e0-3ed210337c21\",\"attack-pattern--2fedbe69-581f-447d-8a78-32ee7db939a9\",\"attack-pattern--d5a69cfb-fc2a-46cb-99eb-74b236db5061\",\"attack-pattern--3de230d4-3e42-4041-b089-17e1128feded\",\"attack-pattern--ab390887-afc0-4715-826d-b1b167d522ae\",\"attack-pattern--5a2610f6-9fff-41e1-bc27-575ca20383d4\",\"attack-pattern--c5e3cdbc-0387-4be9-8f83-ff5c0865f377\",\"attack-pattern--063b5b92-5361-481a-9c3f-95492ed9a2d8\",\"attack-pattern--ea0c980c-5cf0-43a7-a049-59c4c207566e\",\"attack-pattern--b52870cc-83f3-473c-b895-72d91751030b\",\"attack-pattern--53a26eee-1080-4d17-9762-2027d5a1b805\",\"attack-pattern--b0628bfc-5376-4a38-9182-f324501cb4cf\",\"attack-pattern--2736b752-4ec5-4421-a230-8977dea7649c\",\"attack-pattern--c5e3cdbc-0387-4be9-8f83-ff5c0865f377\",\"attack-pattern--063b5b92-5361-481a-9c3f-95492ed9a2d8\",\"attack-pattern--2dc2b567-8821-49f9-9045-8740f3d0b958\",\"attack-pattern--ea0c980c-5cf0-43a7-a049-59c4c207566e\",\"attack-pattern--e1f9cdd2-9511-4fca-90d7-f3e92cfdd0bf\",\"attack-pattern--ba203963-3182-41ac-af14-7e7ebc83cd61\",\"attack-pattern--38213338-1aab-479d-949b-c81b66ccca5c\",\"attack-pattern--ead7bd34-186e-4c79-9a4d-b65bcce6ed9d\",\"attack-pattern--53a26eee-1080-4d17-9762-2027d5a1b805\",\"attack-pattern--493832d9-cea6-4b63-abe7-9a65a6473675\",\"attack-pattern--24a9253e-8948-4c98-b751-8e2aee53127c\",\"attack-pattern--3de230d4-3e42-4041-b089-17e1128feded\",\"attack-pattern--ea0c980c-5cf0-43a7-a049-59c4c207566e\",\"attack-pattern--2dc2b567-8821-49f9-9045-8740f3d0b958\",\"attack-pattern--3de230d4-3e42-4041-b089-17e1128feded\",\"attack-pattern--b7e13ee8-182c-4f19-92a4-a88d7d855d54\",\"attack-pattern--35392fb4-a31d-4c6a-b9f2-1c65b7f5e6b9\",\"attack-pattern--efbf7888-f61b-4572-9c80-7e2965c60707\",\"attack-pattern--3405891b-16aa-4bd7-bd7c-733501f9b20f\",\"attack-pattern--e72425f8-9ae6-41d3-bfdb-e1b865e60722\",\"attack-pattern--b7e13ee8-182c-4f19-92a4-a88d7d855d54\",\"attack-pattern--b9160e77-ea9e-4ba9-b1c8-53a3c466b13d\",\"attack-pattern--493832d9-cea6-4b63-abe7-9a65a6473675\",\"attack-pattern--3405891b-16aa-4bd7-bd7c-733501f9b20f\",\"attack-pattern--b7e13ee8-182c-4f19-92a4-a88d7d855d54\",\"attack-pattern--063b5b92-5361-481a-9c3f-95492ed9a2d8\",\"attack-pattern--ba203963-3182-41ac-af14-7e7ebc83cd61\",\"attack-pattern--53a26eee-1080-4d17-9762-2027d5a1b805\",\"attack-pattern--e72425f8-9ae6-41d3-bfdb-e1b865e60722\",\"attack-pattern--3405891b-16aa-4bd7-bd7c-733501f9b20f\",\"attack-pattern--2736b752-4ec5-4421-a230-8977dea7649c\",\"attack-pattern--648f995e-9c3a-41e4-aeee-98bb41037426\",\"attack-pattern--fab8fc7d-f27f-4fbb-9de6-44740aade05f\",\"attack-pattern--d5a69cfb-fc2a-46cb-99eb-74b236db5061\",\"attack-pattern--c9a8d958-fcdb-40d2-af4c-461c8031651a\",\"attack-pattern--e6c31185-8040-4267-83d3-b217b8a92f07\",\"attack-pattern--2736b752-4ec5-4421-a230-8977dea7649c\",\"attack-pattern--2fedbe69-581f-447d-8a78-32ee7db939a9\",\"attack-pattern--8535b71e-3c12-4258-a4ab-40257a1becc4\",\"attack-pattern--b14395bd-5419-4ef4-9bd8-696936f509bb\",\"attack-pattern--648f995e-9c3a-41e4-aeee-98bb41037426\",\"attack-pattern--e076cca8-2f08-45c9-aff7-ea5ac798b387\",\"attack-pattern--40b300ba-f553-48bf-862e-9471b220d455\",\"attack-pattern--b9160e77-ea9e-4ba9-b1c8-53a3c466b13d\",\"attack-pattern--2d0d40ad-22fa-4cc8-b264-072557e1364b\",\"attack-pattern--25852363-5968-4673-b81d-341d5ed90bd1\",\"attack-pattern--be69c571-d746-4b1f-bdd0-c0c9817e9068\",\"attack-pattern--3067b85e-271e-4bc5-81ad-ab1a81d411e3\",\"attack-pattern--efbf7888-f61b-4572-9c80-7e2965c60707\",\"attack-pattern--e5de767e-f513-41cd-aa15-33f6ce5fbf92\",\"attack-pattern--f8df6b57-14bc-425f-9a91-6f59f6799307\",\"attack-pattern--85a45294-08f1-4539-bf00-7da08aa7b0ee\",\"attack-pattern--ead7bd34-186e-4c79-9a4d-b65bcce6ed9d\",\"attack-pattern--9a505987-ab05-4f46-a9a6-6441442eec3b\",\"attack-pattern--32632a95-6856-47b9-9ab7-fea5cd7dce00\",\"attack-pattern--7830cfcf-b268-4ac0-a69e-73c6affbae9a\",\"attack-pattern--2883c520-7957-46ca-89bd-dab1ad53b601\",\"attack-pattern--d67adac8-e3b9-44f9-9e6d-6c2a7d69dbe4\",\"attack-pattern--8bb4538f-f16f-49f0-a431-70b5444c7349\",\"attack-pattern--1b22b676-9347-4c55-9a35-ef0dc653db5b\",\"attack-pattern--8e7089d3-fba2-44f8-94a8-9a79c53920c4\",\"attack-pattern--2aa406ed-81c3-4c1d-ba83-cfbee5a2847a\",\"attack-pattern--25dfc8ad-bd73-4dfd-84a9-3c3d383f76e9\",\"attack-pattern--19a71d1e-6334-4233-8260-b749cae37953\",\"attack-pattern--3de230d4-3e42-4041-b089-17e1128feded\",\"x-mitre-data-component--9d56be63-3501-4dd3-bb5f-63c580833298\",\"course-of-action--f0f5c87a-a58d-440a-b3b5-ca679d98c6dd\",\"course-of-action--5d97c693-e054-48ba-a3a3-eaf6942dfb65\",\"course-of-action--ad12819e-3211-4291-b360-069f280cff0a\",\"attack-pattern--efbf7888-f61b-4572-9c80-7e2965c60707\",\"attack-pattern--b9160e77-ea9e-4ba9-b1c8-53a3c466b13d\",\"attack-pattern--b14395bd-5419-4ef4-9bd8-696936f509bb\",\"attack-pattern--2900bbd8-308a-4274-b074-5b8bde8347bc\",\"attack-pattern--8535b71e-3c12-4258-a4ab-40257a1becc4\",\"attack-pattern--be69c571-d746-4b1f-bdd0-c0c9817e9068\",\"attack-pattern--25dfc8ad-bd73-4dfd-84a9-3c3d383f76e9\",\"attack-pattern--2883c520-7957-46ca-89bd-dab1ad53b601\",\"attack-pattern--19a71d1e-6334-4233-8260-b749cae37953\",\"attack-pattern--138979ba-0430-4de6-a128-2fc0b056ba36\",\"attack-pattern--b5b9bacb-97f2-4249-b804-47fd44de1f95\",\"attack-pattern--e33c7ecc-5a38-497f-beb2-a9a2049a4c20\",\"attack-pattern--56ddc820-6cfb-407f-850b-52c035d123ac\",\"attack-pattern--a81696ef-c106-482c-8f80-59c30f2569fb\",\"attack-pattern--e1f9cdd2-9511-4fca-90d7-f3e92cfdd0bf\",\"attack-pattern--8bb4538f-f16f-49f0-a431-70b5444c7349\",\"attack-pattern--cd2c76a4-5e23-4ca5-9c40-d5e0604f7101\",\"attack-pattern--8d2f3bab-507c-4424-b58b-edc977bd215c\",\"attack-pattern--e33c7ecc-5a38-497f-beb2-a9a2049a4c20\",\"attack-pattern--1af9e3fd-2bcc-414d-adbd-fe3b95c02ca1\",\"attack-pattern--138979ba-0430-4de6-a128-2fc0b056ba36\",\"attack-pattern--493832d9-cea6-4b63-abe7-9a65a6473675\",\"attack-pattern--b5b9bacb-97f2-4249-b804-47fd44de1f95\",\"attack-pattern--56ddc820-6cfb-407f-850b-52c035d123ac\",\"attack-pattern--63b6942d-8359-4506-bfb3-cf87aa8120ee\",\"attack-pattern--4c2e1408-9d68-4187-8e6b-a77bc52700ec\",\"attack-pattern--a81696ef-c106-482c-8f80-59c30f2569fb\",\"attack-pattern--40b300ba-f553-48bf-862e-9471b220d455\",\"x-mitre-data-component--4c12c1c8-bcef-4daf-8e5b-fca235f71d9e\",\"x-mitre-data-component--a7f22107-02e5-4982-9067-6625d4a1765a\",\"x-mitre-data-component--9c2fa0ae-7abc-485a-97f6-699e3b6cf9fa\",\"x-mitre-data-component--931b3fc6-ad68-42a8-9018-e98515eedc95\",\"course-of-action--1e7ccfc0-94c8-496e-8d27-032120892291\",\"course-of-action--11f242bc-3121-438c-84b2-5cbd46a4bb17\",\"course-of-action--c7257b6e-4159-4771-b1f3-2bb93adaecac\",\"course-of-action--aadac250-bcdc-44e3-a4ae-f52bd0a7a16a\",\"course-of-action--72e46e53-e12d-4106-9c70-33241b6ed549\",\"attack-pattern--d5a69cfb-fc2a-46cb-99eb-74b236db5061\",\"attack-pattern--0fe075d5-beac-4d02-b93e-0f874997db72\",\"attack-pattern--35392fb4-a31d-4c6a-b9f2-1c65b7f5e6b9\",\"attack-pattern--3067b85e-271e-4bc5-81ad-ab1a81d411e3\",\"attack-pattern--25dfc8ad-bd73-4dfd-84a9-3c3d383f76e9\",\"attack-pattern--2900bbd8-308a-4274-b074-5b8bde8347bc\",\"attack-pattern--2fedbe69-581f-447d-8a78-32ee7db939a9\",\"attack-pattern--8535b71e-3c12-4258-a4ab-40257a1becc4\",\"attack-pattern--2877063e-1851-48d2-bcc6-bc1d2733157e\",\"attack-pattern--b14395bd-5419-4ef4-9bd8-696936f509bb\",\"attack-pattern--e076cca8-2f08-45c9-aff7-ea5ac798b387\",\"attack-pattern--e1f9cdd2-9511-4fca-90d7-f3e92cfdd0bf\",\"attack-pattern--f8df6b57-14bc-425f-9a91-6f59f6799307\",\"attack-pattern--9a505987-ab05-4f46-a9a6-6441442eec3b\",\"attack-pattern--ead7bd34-186e-4c79-9a4d-b65bcce6ed9d\",\"attack-pattern--8d2f3bab-507c-4424-b58b-edc977bd215c\",\"attack-pattern--d67adac8-e3b9-44f9-9e6d-6c2a7d69dbe4\",\"attack-pattern--1b22b676-9347-4c55-9a35-ef0dc653db5b\",\"attack-pattern--e6c31185-8040-4267-83d3-b217b8a92f07\",\"attack-pattern--1c478716-71d9-46a4-9a53-fa5d576adb60\",\"attack-pattern--008b8f56-6107-48be-aa9f-746f927dbb61\",\"attack-pattern--3f1f4ccb-9be2-4ff8-8f69-dd972221169b\",\"course-of-action--52c7a1a9-3a78-4528-a44f-cd7b0fa3541a\",\"attack-pattern--9f947a1c-3860-48a8-8af0-a2dfa3efde03\",\"attack-pattern--cfe68e93-ce94-4c0f-a57d-3aa72cedd618\",\"attack-pattern--24a9253e-8948-4c98-b751-8e2aee53127c\",\"attack-pattern--35392fb4-a31d-4c6a-b9f2-1c65b7f5e6b9\",\"attack-pattern--9a505987-ab05-4f46-a9a6-6441442eec3b\",\"attack-pattern--efbf7888-f61b-4572-9c80-7e2965c60707\",\"attack-pattern--b9160e77-ea9e-4ba9-b1c8-53a3c466b13d\",\"attack-pattern--2d0d40ad-22fa-4cc8-b264-072557e1364b\",\"attack-pattern--25852363-5968-4673-b81d-341d5ed90bd1\",\"attack-pattern--2736b752-4ec5-4421-a230-8977dea7649c\",\"attack-pattern--2877063e-1851-48d2-bcc6-bc1d2733157e\",\"attack-pattern--648f995e-9c3a-41e4-aeee-98bb41037426\",\"attack-pattern--b14395bd-5419-4ef4-9bd8-696936f509bb\",\"attack-pattern--3067b85e-271e-4bc5-81ad-ab1a81d411e3\",\"attack-pattern--e5de767e-f513-41cd-aa15-33f6ce5fbf92\",\"attack-pattern--be69c571-d746-4b1f-bdd0-c0c9817e9068\",\"attack-pattern--32632a95-6856-47b9-9ab7-fea5cd7dce00\",\"attack-pattern--8d2f3bab-507c-4424-b58b-edc977bd215c\",\"attack-pattern--85a45294-08f1-4539-bf00-7da08aa7b0ee\",\"attack-pattern--1b22b676-9347-4c55-9a35-ef0dc653db5b\",\"attack-pattern--2883c520-7957-46ca-89bd-dab1ad53b601\",\"attack-pattern--3405891b-16aa-4bd7-bd7c-733501f9b20f\",\"attack-pattern--8e7089d3-fba2-44f8-94a8-9a79c53920c4\",\"attack-pattern--25dfc8ad-bd73-4dfd-84a9-3c3d383f76e9\",\"attack-pattern--7830cfcf-b268-4ac0-a69e-73c6affbae9a\",\"attack-pattern--008b8f56-6107-48be-aa9f-746f927dbb61\",\"attack-pattern--1c478716-71d9-46a4-9a53-fa5d576adb60\",\"attack-pattern--19a71d1e-6334-4233-8260-b749cae37953\",\"attack-pattern--3f1f4ccb-9be2-4ff8-8f69-dd972221169b\",\"course-of-action--49363b74-d506-4342-bd63-320586ebadb9\",\"course-of-action--97f33c84-8508-45b9-8a1d-cac921828c9e\",\"course-of-action--d48b79b2-076d-483e-949c-0d38aa347499\",\"course-of-action--059ba11e-e3dc-49aa-84ca-88197f40d4ea\",\"attack-pattern--c9a8d958-fcdb-40d2-af4c-461c8031651a\",\"attack-pattern--e1f9cdd2-9511-4fca-90d7-f3e92cfdd0bf\",\"attack-pattern--cd2c76a4-5e23-4ca5-9c40-d5e0604f7101\",\"attack-pattern--2aa406ed-81c3-4c1d-ba83-cfbee5a2847a\",\"attack-pattern--efbf7888-f61b-4572-9c80-7e2965c60707\",\"attack-pattern--be69c571-d746-4b1f-bdd0-c0c9817e9068\",\"attack-pattern--8bb4538f-f16f-49f0-a431-70b5444c7349\",\"attack-pattern--3067b85e-271e-4bc5-81ad-ab1a81d411e3\",\"attack-pattern--b9160e77-ea9e-4ba9-b1c8-53a3c466b13d\",\"attack-pattern--19a71d1e-6334-4233-8260-b749cae37953\",\"attack-pattern--25852363-5968-4673-b81d-341d5ed90bd1\",\"attack-pattern--25dfc8ad-bd73-4dfd-84a9-3c3d383f76e9\",\"attack-pattern--5a2610f6-9fff-41e1-bc27-575ca20383d4\",\"attack-pattern--e5de767e-f513-41cd-aa15-33f6ce5fbf92\",\"attack-pattern--2883c520-7957-46ca-89bd-dab1ad53b601\",\"x-mitre-data-component--9ce98c86-8d30-4043-ba54-0784d478d0b5\",\"attack-pattern--b0628bfc-5376-4a38-9182-f324501cb4cf\",\"attack-pattern--cd2c76a4-5e23-4ca5-9c40-d5e0604f7101\",\"attack-pattern--2877063e-1851-48d2-bcc6-bc1d2733157e\",\"attack-pattern--e1f9cdd2-9511-4fca-90d7-f3e92cfdd0bf\",\"attack-pattern--3405891b-16aa-4bd7-bd7c-733501f9b20f\",\"attack-pattern--8bb4538f-f16f-49f0-a431-70b5444c7349\",\"attack-pattern--36e9f5bc-ac13-4da4-a2f4-01f4877d9004\",\"attack-pattern--53a48c74-0025-45f4-b04a-baa853df8204\",\"course-of-action--469b78dd-a54d-4f7c-8c3b-4a1dd916b433\",\"course-of-action--3172222b-4983-43f7-8983-753ded4f13bc\",\"course-of-action--d0909119-2f71-4923-87db-b649881672d7\",\"course-of-action--1e7ccfc0-94c8-496e-8d27-032120892291\",\"course-of-action--469b78dd-a54d-4f7c-8c3b-4a1dd916b433\",\"attack-pattern--3405891b-16aa-4bd7-bd7c-733501f9b20f\",\"attack-pattern--ead7bd34-186e-4c79-9a4d-b65bcce6ed9d\",\"attack-pattern--e1f9cdd2-9511-4fca-90d7-f3e92cfdd0bf\",\"course-of-action--622fe4d4-0e8e-4d17-9c25-6c9cef1f15d5\",\"course-of-action--bcf91ebc-f316-4e19-b2f6-444e9940c697\",\"course-of-action--e57ebc6d-785f-40c8-adb1-b5b5e09b3b48\",\"x-mitre-data-component--639e87f3-acb6-448a-9645-258f20da4bc5\",\"x-mitre-data-component--2b3bfe19-d59a-460d-93bb-2f546adc2d2c\",\"course-of-action--3172222b-4983-43f7-8983-753ded4f13bc\",\"course-of-action--7f153c28-e5f1-4764-88fb-eea1d9b0ad4a\",\"course-of-action--fce6866f-9a87-4d3e-a73c-f02d8937fe0e\",\"course-of-action--469b78dd-a54d-4f7c-8c3b-4a1dd916b433\",\"attack-pattern--ba203963-3182-41ac-af14-7e7ebc83cd61\",\"x-mitre-data-component--f42df6f0-6395-4f0c-9376-525a031f00c3\",\"x-mitre-data-component--5297a638-1382-4f0c-8472-0d21830bf705\",\"x-mitre-data-component--84572de3-9583-4c73-aabd-06ea88123dd8\",\"x-mitre-data-component--639e87f3-acb6-448a-9645-258f20da4bc5\",\"x-mitre-data-component--ee575f4a-2d4f-48f6-b18b-89067760adc1\",\"x-mitre-data-component--faa34cf6-cf32-4dc9-bd6a-8f7a606ff65b\",\"course-of-action--71eb7dad-07eb-4bbc-9df0-ac57bf2fba4a\",\"course-of-action--4fa717d9-cabe-47c8-8cdd-86e9e2e37f30\",\"course-of-action--059ba11e-e3dc-49aa-84ca-88197f40d4ea\",\"course-of-action--49363b74-d506-4342-bd63-320586ebadb9\",\"course-of-action--97f33c84-8508-45b9-8a1d-cac921828c9e\",\"course-of-action--d48b79b2-076d-483e-949c-0d38aa347499\",\"attack-pattern--cd2c76a4-5e23-4ca5-9c40-d5e0604f7101\",\"attack-pattern--f8df6b57-14bc-425f-9a91-6f59f6799307\",\"attack-pattern--8d2f3bab-507c-4424-b58b-edc977bd215c\",\"x-mitre-data-component--a953ca55-921a-44f7-9b8d-3d40141aa17e\",\"course-of-action--e57ebc6d-785f-40c8-adb1-b5b5e09b3b48\",\"course-of-action--622fe4d4-0e8e-4d17-9c25-6c9cef1f15d5\",\"course-of-action--ddf3e568-f065-49e2-9106-42029a28ddbd\",\"course-of-action--86b455f2-fb63-4043-93a8-32a3a7703a02\",\"course-of-action--11f242bc-3121-438c-84b2-5cbd46a4bb17\",\"course-of-action--bcf91ebc-f316-4e19-b2f6-444e9940c697\",\"course-of-action--2f0160b7-e982-49d7-9612-f19b810f1722\",\"course-of-action--8a3aadd0-b5f4-433a-800e-4893e4196bb7\",\"x-mitre-data-component--181a9f8c-c780-4f1f-91a8-edb770e904ba\",\"course-of-action--143b4398-3222-480a-b6a4-e131bc2d3144\",\"course-of-action--4fa717d9-cabe-47c8-8cdd-86e9e2e37f30\",\"course-of-action--71eb7dad-07eb-4bbc-9df0-ac57bf2fba4a\",\"course-of-action--3172222b-4983-43f7-8983-753ded4f13bc\",\"course-of-action--faf2b40e-5981-433f-aa46-17458e0026f7\",\"attack-pattern--ab390887-afc0-4715-826d-b1b167d522ae\",\"attack-pattern--2dc2b567-8821-49f9-9045-8740f3d0b958\",\"course-of-action--2ab9fc6d-3cf6-4d7b-85f1-3ad6949233b3\",\"course-of-action--bcf91ebc-f316-4e19-b2f6-444e9940c697\",\"attack-pattern--b0628bfc-5376-4a38-9182-f324501cb4cf\",\"attack-pattern--e1f9cdd2-9511-4fca-90d7-f3e92cfdd0bf\",\"attack-pattern--2dc2b567-8821-49f9-9045-8740f3d0b958\",\"course-of-action--469b78dd-a54d-4f7c-8c3b-4a1dd916b433\",\"course-of-action--4fa717d9-cabe-47c8-8cdd-86e9e2e37f30\",\"course-of-action--d0909119-2f71-4923-87db-b649881672d7\",\"course-of-action--4fa717d9-cabe-47c8-8cdd-86e9e2e37f30\",\"course-of-action--faf2b40e-5981-433f-aa46-17458e0026f7\",\"course-of-action--1e7ccfc0-94c8-496e-8d27-032120892291\",\"course-of-action--97f33c84-8508-45b9-8a1d-cac921828c9e\",\"course-of-action--bcf91ebc-f316-4e19-b2f6-444e9940c697\",\"attack-pattern--5e0f75da-e108-4688-a6de-a4f07cc2cbe3\",\"attack-pattern--53a26eee-1080-4d17-9762-2027d5a1b805\",\"course-of-action--ac8f3492-7fbb-4a0a-b0b4-b75ec676136c\",\"course-of-action--97f33c84-8508-45b9-8a1d-cac921828c9e\",\"course-of-action--bcf91ebc-f316-4e19-b2f6-444e9940c697\",\"course-of-action--de0bc375-50e1-4e26-a342-a8ff8c9d3037\",\"course-of-action--71eb7dad-07eb-4bbc-9df0-ac57bf2fba4a\",\"attack-pattern--648f995e-9c3a-41e4-aeee-98bb41037426\",\"attack-pattern--c267bbee-bb59-47fe-85e0-3ed210337c21\",\"attack-pattern--7830cfcf-b268-4ac0-a69e-73c6affbae9a\",\"course-of-action--3172222b-4983-43f7-8983-753ded4f13bc\",\"course-of-action--faf2b40e-5981-433f-aa46-17458e0026f7\",\"course-of-action--143b4398-3222-480a-b6a4-e131bc2d3144\",\"course-of-action--059ba11e-e3dc-49aa-84ca-88197f40d4ea\",\"course-of-action--4fa717d9-cabe-47c8-8cdd-86e9e2e37f30\",\"course-of-action--d0909119-2f71-4923-87db-b649881672d7\",\"x-mitre-data-component--3d6e6b3b-4aa8-40e1-8c47-91db0f313d9f\",\"course-of-action--9e3adcad-0b8f-4ecc-a2f3-06f607f53bf0\",\"course-of-action--d0909119-2f71-4923-87db-b649881672d7\",\"course-of-action--9a945a29-5233-4422-a9e3-3e957b0e8bce\",\"attack-pattern--9a505987-ab05-4f46-a9a6-6441442eec3b\",\"attack-pattern--8535b71e-3c12-4258-a4ab-40257a1becc4\",\"attack-pattern--063b5b92-5361-481a-9c3f-95492ed9a2d8\",\"attack-pattern--53a26eee-1080-4d17-9762-2027d5a1b805\",\"x-mitre-data-component--5297a638-1382-4f0c-8472-0d21830bf705\",\"course-of-action--52c7a1a9-3a78-4528-a44f-cd7b0fa3541a\",\"course-of-action--72e46e53-e12d-4106-9c70-33241b6ed549\",\"course-of-action--3172222b-4983-43f7-8983-753ded4f13bc\",\"course-of-action--1e7ccfc0-94c8-496e-8d27-032120892291\",\"course-of-action--b11cad63-ef30-4eb8-af0d-6cc46eef3f3e\",\"course-of-action--bcf91ebc-f316-4e19-b2f6-444e9940c697\",\"course-of-action--d0909119-2f71-4923-87db-b649881672d7\",\"course-of-action--c7257b6e-4159-4771-b1f3-2bb93adaecac\",\"x-mitre-data-component--181a9f8c-c780-4f1f-91a8-edb770e904ba\",\"course-of-action--1e7ccfc0-94c8-496e-8d27-032120892291\",\"course-of-action--e57ebc6d-785f-40c8-adb1-b5b5e09b3b48\",\"course-of-action--11f242bc-3121-438c-84b2-5cbd46a4bb17\",\"course-of-action--72e46e53-e12d-4106-9c70-33241b6ed549\",\"course-of-action--aadac250-bcdc-44e3-a4ae-f52bd0a7a16a\",\"x-mitre-data-component--b9d031bb-d150-4fc6-8025-688201bf3ffd\",\"course-of-action--8ac1d6e1-b07f-476a-9732-84984ebc2405\",\"course-of-action--72e46e53-e12d-4106-9c70-33241b6ed549\",\"course-of-action--11f242bc-3121-438c-84b2-5cbd46a4bb17\",\"course-of-action--7f153c28-e5f1-4764-88fb-eea1d9b0ad4a\",\"course-of-action--bcf91ebc-f316-4e19-b2f6-444e9940c697\",\"course-of-action--c7257b6e-4159-4771-b1f3-2bb93adaecac\",\"course-of-action--1e7ccfc0-94c8-496e-8d27-032120892291\",\"course-of-action--aadac250-bcdc-44e3-a4ae-f52bd0a7a16a\",\"course-of-action--71eb7dad-07eb-4bbc-9df0-ac57bf2fba4a\",\"x-mitre-data-component--b9d031bb-d150-4fc6-8025-688201bf3ffd\",\"course-of-action--7f153c28-e5f1-4764-88fb-eea1d9b0ad4a\",\"course-of-action--97f33c84-8508-45b9-8a1d-cac921828c9e\",\"course-of-action--8ac1d6e1-b07f-476a-9732-84984ebc2405\",\"course-of-action--71eb7dad-07eb-4bbc-9df0-ac57bf2fba4a\",\"course-of-action--1e7ccfc0-94c8-496e-8d27-032120892291\",\"course-of-action--11f242bc-3121-438c-84b2-5cbd46a4bb17\",\"course-of-action--bcf91ebc-f316-4e19-b2f6-444e9940c697\",\"course-of-action--c7257b6e-4159-4771-b1f3-2bb93adaecac\",\"course-of-action--aadac250-bcdc-44e3-a4ae-f52bd0a7a16a\",\"course-of-action--72e46e53-e12d-4106-9c70-33241b6ed549\",\"course-of-action--72e46e53-e12d-4106-9c70-33241b6ed549\",\"course-of-action--c7257b6e-4159-4771-b1f3-2bb93adaecac\",\"course-of-action--11f242bc-3121-438c-84b2-5cbd46a4bb17\",\"course-of-action--aadac250-bcdc-44e3-a4ae-f52bd0a7a16a\",\"course-of-action--1e7ccfc0-94c8-496e-8d27-032120892291\",\"attack-pattern--be69c571-d746-4b1f-bdd0-c0c9817e9068\",\"attack-pattern--e5de767e-f513-41cd-aa15-33f6ce5fbf92\",\"attack-pattern--b14395bd-5419-4ef4-9bd8-696936f509bb\",\"course-of-action--1e7ccfc0-94c8-496e-8d27-032120892291\",\"course-of-action--aadac250-bcdc-44e3-a4ae-f52bd0a7a16a\",\"course-of-action--c7257b6e-4159-4771-b1f3-2bb93adaecac\",\"course-of-action--d0909119-2f71-4923-87db-b649881672d7\",\"course-of-action--11f242bc-3121-438c-84b2-5cbd46a4bb17\",\"course-of-action--72e46e53-e12d-4106-9c70-33241b6ed549\",\"course-of-action--72e46e53-e12d-4106-9c70-33241b6ed549\",\"course-of-action--11f242bc-3121-438c-84b2-5cbd46a4bb17\",\"course-of-action--1e7ccfc0-94c8-496e-8d27-032120892291\",\"course-of-action--aadac250-bcdc-44e3-a4ae-f52bd0a7a16a\",\"course-of-action--c7257b6e-4159-4771-b1f3-2bb93adaecac\",\"course-of-action--72e46e53-e12d-4106-9c70-33241b6ed549\",\"course-of-action--aadac250-bcdc-44e3-a4ae-f52bd0a7a16a\",\"course-of-action--1e7ccfc0-94c8-496e-8d27-032120892291\",\"course-of-action--c7257b6e-4159-4771-b1f3-2bb93adaecac\",\"course-of-action--11f242bc-3121-438c-84b2-5cbd46a4bb17\",\"course-of-action--71eb7dad-07eb-4bbc-9df0-ac57bf2fba4a\",\"course-of-action--bcf91ebc-f316-4e19-b2f6-444e9940c697\",\"course-of-action--469b78dd-a54d-4f7c-8c3b-4a1dd916b433\",\"x-mitre-data-component--931b3fc6-ad68-42a8-9018-e98515eedc95\",\"x-mitre-data-component--4c12c1c8-bcef-4daf-8e5b-fca235f71d9e\",\"course-of-action--aadac250-bcdc-44e3-a4ae-f52bd0a7a16a\",\"course-of-action--52c7a1a9-3a78-4528-a44f-cd7b0fa3541a\",\"course-of-action--b11cad63-ef30-4eb8-af0d-6cc46eef3f3e\",\"course-of-action--1e7ccfc0-94c8-496e-8d27-032120892291\",\"course-of-action--aadac250-bcdc-44e3-a4ae-f52bd0a7a16a\",\"course-of-action--72e46e53-e12d-4106-9c70-33241b6ed549\",\"course-of-action--1e7ccfc0-94c8-496e-8d27-032120892291\",\"course-of-action--c7257b6e-4159-4771-b1f3-2bb93adaecac\",\"course-of-action--11f242bc-3121-438c-84b2-5cbd46a4bb17\",\"x-mitre-data-component--931b3fc6-ad68-42a8-9018-e98515eedc95\",\"course-of-action--1e7ccfc0-94c8-496e-8d27-032120892291\",\"course-of-action--aadac250-bcdc-44e3-a4ae-f52bd0a7a16a\",\"course-of-action--e57ebc6d-785f-40c8-adb1-b5b5e09b3b48\",\"course-of-action--72e46e53-e12d-4106-9c70-33241b6ed549\",\"course-of-action--52c7a1a9-3a78-4528-a44f-cd7b0fa3541a\",\"attack-pattern--1c478716-71d9-46a4-9a53-fa5d576adb60\",\"attack-pattern--3f1f4ccb-9be2-4ff8-8f69-dd972221169b\",\"attack-pattern--008b8f56-6107-48be-aa9f-746f927dbb61\",\"course-of-action--72e46e53-e12d-4106-9c70-33241b6ed549\",\"course-of-action--1e7ccfc0-94c8-496e-8d27-032120892291\",\"course-of-action--c7257b6e-4159-4771-b1f3-2bb93adaecac\",\"course-of-action--aadac250-bcdc-44e3-a4ae-f52bd0a7a16a\",\"course-of-action--11f242bc-3121-438c-84b2-5cbd46a4bb17\",\"course-of-action--c7257b6e-4159-4771-b1f3-2bb93adaecac\",\"course-of-action--7f153c28-e5f1-4764-88fb-eea1d9b0ad4a\",\"course-of-action--72e46e53-e12d-4106-9c70-33241b6ed549\",\"course-of-action--fce6866f-9a87-4d3e-a73c-f02d8937fe0e\",\"attack-pattern--7830cfcf-b268-4ac0-a69e-73c6affbae9a\",\"course-of-action--469b78dd-a54d-4f7c-8c3b-4a1dd916b433\",\"attack-pattern--063b5b92-5361-481a-9c3f-95492ed9a2d8\",\"attack-pattern--e72425f8-9ae6-41d3-bfdb-e1b865e60722\",\"attack-pattern--53a26eee-1080-4d17-9762-2027d5a1b805\",\"attack-pattern--493832d9-cea6-4b63-abe7-9a65a6473675\",\"x-mitre-data-component--61f1d40e-f3d0-4cc6-aa2d-937b6204194f\",\"x-mitre-data-component--74fa567d-bc90-425c-8a41-3c703abb221c\",\"course-of-action--e57ebc6d-785f-40c8-adb1-b5b5e09b3b48\",\"course-of-action--3222a807-521b-4a1a-aa13-f1cda45734b3\",\"course-of-action--1e7ccfc0-94c8-496e-8d27-032120892291\",\"attack-pattern--1c478716-71d9-46a4-9a53-fa5d576adb60\",\"attack-pattern--008b8f56-6107-48be-aa9f-746f927dbb61\",\"attack-pattern--3f1f4ccb-9be2-4ff8-8f69-dd972221169b\",\"attack-pattern--3b6b9246-43f8-4c69-ad7a-2b11cfe0a0d9\",\"course-of-action--bcf91ebc-f316-4e19-b2f6-444e9940c697\",\"course-of-action--71eb7dad-07eb-4bbc-9df0-ac57bf2fba4a\",\"course-of-action--aadac250-bcdc-44e3-a4ae-f52bd0a7a16a\",\"course-of-action--1e7ccfc0-94c8-496e-8d27-032120892291\",\"course-of-action--3172222b-4983-43f7-8983-753ded4f13bc\",\"attack-pattern--1c478716-71d9-46a4-9a53-fa5d576adb60\",\"attack-pattern--8e7089d3-fba2-44f8-94a8-9a79c53920c4\",\"attack-pattern--1b22b676-9347-4c55-9a35-ef0dc653db5b\",\"attack-pattern--008b8f56-6107-48be-aa9f-746f927dbb61\",\"attack-pattern--3f1f4ccb-9be2-4ff8-8f69-dd972221169b\",\"course-of-action--622fe4d4-0e8e-4d17-9c25-6c9cef1f15d5\",\"course-of-action--52c7a1a9-3a78-4528-a44f-cd7b0fa3541a\",\"course-of-action--1e7ccfc0-94c8-496e-8d27-032120892291\",\"course-of-action--7f153c28-e5f1-4764-88fb-eea1d9b0ad4a\",\"course-of-action--ddf3e568-f065-49e2-9106-42029a28ddbd\",\"course-of-action--71eb7dad-07eb-4bbc-9df0-ac57bf2fba4a\",\"course-of-action--bcf91ebc-f316-4e19-b2f6-444e9940c697\",\"course-of-action--4fa717d9-cabe-47c8-8cdd-86e9e2e37f30\",\"course-of-action--97f33c84-8508-45b9-8a1d-cac921828c9e\",\"course-of-action--de0bc375-50e1-4e26-a342-a8ff8c9d3037\",\"course-of-action--059ba11e-e3dc-49aa-84ca-88197f40d4ea\",\"course-of-action--49363b74-d506-4342-bd63-320586ebadb9\",\"course-of-action--622fe4d4-0e8e-4d17-9c25-6c9cef1f15d5\",\"course-of-action--1e7ccfc0-94c8-496e-8d27-032120892291\",\"course-of-action--059ba11e-e3dc-49aa-84ca-88197f40d4ea\",\"course-of-action--97f33c84-8508-45b9-8a1d-cac921828c9e\",\"course-of-action--49363b74-d506-4342-bd63-320586ebadb9\",\"course-of-action--143b4398-3222-480a-b6a4-e131bc2d3144\",\"course-of-action--1e7ccfc0-94c8-496e-8d27-032120892291\",\"course-of-action--49b306c1-a046-42c5-a4d2-30f264ada110\",\"course-of-action--d0909119-2f71-4923-87db-b649881672d7\",\"course-of-action--ddf3e568-f065-49e2-9106-42029a28ddbd\",\"course-of-action--86b455f2-fb63-4043-93a8-32a3a7703a02\",\"course-of-action--e57ebc6d-785f-40c8-adb1-b5b5e09b3b48\",\"course-of-action--1e7ccfc0-94c8-496e-8d27-032120892291\",\"course-of-action--d0909119-2f71-4923-87db-b649881672d7\",\"course-of-action--49363b74-d506-4342-bd63-320586ebadb9\",\"course-of-action--d48b79b2-076d-483e-949c-0d38aa347499\",\"course-of-action--1e7ccfc0-94c8-496e-8d27-032120892291\",\"course-of-action--059ba11e-e3dc-49aa-84ca-88197f40d4ea\",\"course-of-action--de0bc375-50e1-4e26-a342-a8ff8c9d3037\",\"course-of-action--622fe4d4-0e8e-4d17-9c25-6c9cef1f15d5\",\"course-of-action--97f33c84-8508-45b9-8a1d-cac921828c9e\",\"attack-pattern--53a26eee-1080-4d17-9762-2027d5a1b805\",\"attack-pattern--493832d9-cea6-4b63-abe7-9a65a6473675\",\"x-mitre-data-component--1177a4c5-31c8-400c-8544-9071166afa0e\",\"course-of-action--aadac250-bcdc-44e3-a4ae-f52bd0a7a16a\",\"course-of-action--c7257b6e-4159-4771-b1f3-2bb93adaecac\",\"course-of-action--1e7ccfc0-94c8-496e-8d27-032120892291\",\"course-of-action--72e46e53-e12d-4106-9c70-33241b6ed549\",\"course-of-action--622fe4d4-0e8e-4d17-9c25-6c9cef1f15d5\",\"course-of-action--98aa0d61-fc9d-4b2d-8f18-b25d03549f53\",\"course-of-action--1e7ccfc0-94c8-496e-8d27-032120892291\",\"course-of-action--b11cad63-ef30-4eb8-af0d-6cc46eef3f3e\",\"course-of-action--aadac250-bcdc-44e3-a4ae-f52bd0a7a16a\",\"course-of-action--6a02e38a-9629-40c0-8c7d-e98e3470315c\",\"course-of-action--3172222b-4983-43f7-8983-753ded4f13bc\",\"course-of-action--11f242bc-3121-438c-84b2-5cbd46a4bb17\",\"course-of-action--aadac250-bcdc-44e3-a4ae-f52bd0a7a16a\",\"course-of-action--1e7ccfc0-94c8-496e-8d27-032120892291\",\"course-of-action--72e46e53-e12d-4106-9c70-33241b6ed549\",\"course-of-action--aadac250-bcdc-44e3-a4ae-f52bd0a7a16a\",\"course-of-action--11f242bc-3121-438c-84b2-5cbd46a4bb17\",\"course-of-action--11f242bc-3121-438c-84b2-5cbd46a4bb17\",\"course-of-action--1e7ccfc0-94c8-496e-8d27-032120892291\",\"course-of-action--72e46e53-e12d-4106-9c70-33241b6ed549\",\"course-of-action--c7257b6e-4159-4771-b1f3-2bb93adaecac\",\"course-of-action--aadac250-bcdc-44e3-a4ae-f52bd0a7a16a\",\"course-of-action--b11cad63-ef30-4eb8-af0d-6cc46eef3f3e\",\"course-of-action--aadac250-bcdc-44e3-a4ae-f52bd0a7a16a\",\"course-of-action--52c7a1a9-3a78-4528-a44f-cd7b0fa3541a\",\"course-of-action--b11cad63-ef30-4eb8-af0d-6cc46eef3f3e\",\"course-of-action--aadac250-bcdc-44e3-a4ae-f52bd0a7a16a\",\"course-of-action--52c7a1a9-3a78-4528-a44f-cd7b0fa3541a\",\"course-of-action--aadac250-bcdc-44e3-a4ae-f52bd0a7a16a\",\"course-of-action--72e46e53-e12d-4106-9c70-33241b6ed549\",\"course-of-action--11f242bc-3121-438c-84b2-5cbd46a4bb17\",\"course-of-action--1e7ccfc0-94c8-496e-8d27-032120892291\",\"course-of-action--c7257b6e-4159-4771-b1f3-2bb93adaecac\",\"course-of-action--aadac250-bcdc-44e3-a4ae-f52bd0a7a16a\",\"course-of-action--1e7ccfc0-94c8-496e-8d27-032120892291\",\"attack-pattern--1af9e3fd-2bcc-414d-adbd-fe3b95c02ca1\",\"attack-pattern--4c2e1408-9d68-4187-8e6b-a77bc52700ec\",\"attack-pattern--83ebd22f-b401-4d59-8219-2294172cf916\",\"course-of-action--b11cad63-ef30-4eb8-af0d-6cc46eef3f3e\",\"attack-pattern--b5b9bacb-97f2-4249-b804-47fd44de1f95\",\"attack-pattern--56ddc820-6cfb-407f-850b-52c035d123ac\",\"attack-pattern--a81696ef-c106-482c-8f80-59c30f2569fb\",\"attack-pattern--4c2e1408-9d68-4187-8e6b-a77bc52700ec\",\"attack-pattern--1af9e3fd-2bcc-414d-adbd-fe3b95c02ca1\",\"attack-pattern--138979ba-0430-4de6-a128-2fc0b056ba36\",\"attack-pattern--5fa00fdd-4a55-4191-94a0-564181d7fec2\",\"attack-pattern--83ebd22f-b401-4d59-8219-2294172cf916\",\"course-of-action--da44255d-85c5-492c-baf3-ee823d44f848\",\"course-of-action--99c746d7-a08a-4169-94f9-b8c0dad716fa\",\"course-of-action--da44255d-85c5-492c-baf3-ee823d44f848\"],\"start\":[\"course-of-action--66cfe23e-34b6-4583-b178-ed6a412db2b0\",\"course-of-action--66cfe23e-34b6-4583-b178-ed6a412db2b0\",\"course-of-action--66cfe23e-34b6-4583-b178-ed6a412db2b0\",\"course-of-action--66cfe23e-34b6-4583-b178-ed6a412db2b0\",\"course-of-action--66cfe23e-34b6-4583-b178-ed6a412db2b0\",\"course-of-action--66cfe23e-34b6-4583-b178-ed6a412db2b0\",\"course-of-action--66cfe23e-34b6-4583-b178-ed6a412db2b0\",\"course-of-action--66cfe23e-34b6-4583-b178-ed6a412db2b0\",\"course-of-action--66cfe23e-34b6-4583-b178-ed6a412db2b0\",\"course-of-action--66cfe23e-34b6-4583-b178-ed6a412db2b0\",\"course-of-action--66cfe23e-34b6-4583-b178-ed6a412db2b0\",\"course-of-action--66cfe23e-34b6-4583-b178-ed6a412db2b0\",\"course-of-action--66cfe23e-34b6-4583-b178-ed6a412db2b0\",\"course-of-action--66cfe23e-34b6-4583-b178-ed6a412db2b0\",\"course-of-action--66cfe23e-34b6-4583-b178-ed6a412db2b0\",\"course-of-action--66cfe23e-34b6-4583-b178-ed6a412db2b0\",\"attack-pattern--fc5fda7e-6b2c-4457-b036-759896a2efa2\",\"attack-pattern--fc5fda7e-6b2c-4457-b036-759896a2efa2\",\"attack-pattern--fc5fda7e-6b2c-4457-b036-759896a2efa2\",\"attack-pattern--fc5fda7e-6b2c-4457-b036-759896a2efa2\",\"attack-pattern--fc5fda7e-6b2c-4457-b036-759896a2efa2\",\"attack-pattern--fc5fda7e-6b2c-4457-b036-759896a2efa2\",\"attack-pattern--fc5fda7e-6b2c-4457-b036-759896a2efa2\",\"attack-pattern--09a61657-46e1-439e-b3ed-3e4556a78243\",\"attack-pattern--09a61657-46e1-439e-b3ed-3e4556a78243\",\"attack-pattern--09a61657-46e1-439e-b3ed-3e4556a78243\",\"attack-pattern--09a61657-46e1-439e-b3ed-3e4556a78243\",\"attack-pattern--09a61657-46e1-439e-b3ed-3e4556a78243\",\"attack-pattern--09a61657-46e1-439e-b3ed-3e4556a78243\",\"attack-pattern--097924ce-a9a9-4039-8591-e0deedfb8722\",\"attack-pattern--097924ce-a9a9-4039-8591-e0deedfb8722\",\"attack-pattern--097924ce-a9a9-4039-8591-e0deedfb8722\",\"attack-pattern--097924ce-a9a9-4039-8591-e0deedfb8722\",\"attack-pattern--097924ce-a9a9-4039-8591-e0deedfb8722\",\"attack-pattern--097924ce-a9a9-4039-8591-e0deedfb8722\",\"attack-pattern--097924ce-a9a9-4039-8591-e0deedfb8722\",\"course-of-action--e0d38502-decb-481d-ad8b-b8f0a0c330bd\",\"course-of-action--e0d38502-decb-481d-ad8b-b8f0a0c330bd\",\"course-of-action--e0d38502-decb-481d-ad8b-b8f0a0c330bd\",\"course-of-action--e0d38502-decb-481d-ad8b-b8f0a0c330bd\",\"course-of-action--e0d38502-decb-481d-ad8b-b8f0a0c330bd\",\"course-of-action--e0d38502-decb-481d-ad8b-b8f0a0c330bd\",\"course-of-action--e0d38502-decb-481d-ad8b-b8f0a0c330bd\",\"course-of-action--e0d38502-decb-481d-ad8b-b8f0a0c330bd\",\"course-of-action--e0d38502-decb-481d-ad8b-b8f0a0c330bd\",\"course-of-action--e0d38502-decb-481d-ad8b-b8f0a0c330bd\",\"x-mitre-data-component--3d20385b-24ef-40e1-9f56-f39750379077\",\"x-mitre-data-component--3d20385b-24ef-40e1-9f56-f39750379077\",\"x-mitre-data-component--3d20385b-24ef-40e1-9f56-f39750379077\",\"x-mitre-data-component--3d20385b-24ef-40e1-9f56-f39750379077\",\"x-mitre-data-component--3d20385b-24ef-40e1-9f56-f39750379077\",\"x-mitre-data-component--3d20385b-24ef-40e1-9f56-f39750379077\",\"x-mitre-data-component--3d20385b-24ef-40e1-9f56-f39750379077\",\"x-mitre-data-component--3d20385b-24ef-40e1-9f56-f39750379077\",\"x-mitre-data-component--3d20385b-24ef-40e1-9f56-f39750379077\",\"x-mitre-data-component--3d20385b-24ef-40e1-9f56-f39750379077\",\"x-mitre-data-component--3d20385b-24ef-40e1-9f56-f39750379077\",\"x-mitre-data-component--3d20385b-24ef-40e1-9f56-f39750379077\",\"x-mitre-data-component--3d20385b-24ef-40e1-9f56-f39750379077\",\"x-mitre-data-component--3d20385b-24ef-40e1-9f56-f39750379077\",\"x-mitre-data-component--3d20385b-24ef-40e1-9f56-f39750379077\",\"x-mitre-data-component--3d20385b-24ef-40e1-9f56-f39750379077\",\"x-mitre-data-component--3d20385b-24ef-40e1-9f56-f39750379077\",\"x-mitre-data-component--3d20385b-24ef-40e1-9f56-f39750379077\",\"attack-pattern--fa3aa267-da22-4bdd-961f-03223322a8d5\",\"attack-pattern--fa3aa267-da22-4bdd-961f-03223322a8d5\",\"attack-pattern--fa3aa267-da22-4bdd-961f-03223322a8d5\",\"attack-pattern--fa3aa267-da22-4bdd-961f-03223322a8d5\",\"attack-pattern--fa3aa267-da22-4bdd-961f-03223322a8d5\",\"attack-pattern--fa3aa267-da22-4bdd-961f-03223322a8d5\",\"attack-pattern--fa3aa267-da22-4bdd-961f-03223322a8d5\",\"attack-pattern--fa3aa267-da22-4bdd-961f-03223322a8d5\",\"x-mitre-data-component--235b7491-2d2b-4617-9a52-3c0783680f71\",\"x-mitre-data-component--235b7491-2d2b-4617-9a52-3c0783680f71\",\"x-mitre-data-component--235b7491-2d2b-4617-9a52-3c0783680f71\",\"x-mitre-data-component--235b7491-2d2b-4617-9a52-3c0783680f71\",\"x-mitre-data-component--235b7491-2d2b-4617-9a52-3c0783680f71\",\"x-mitre-data-component--9bde2f9d-a695-4344-bfac-f2dce13d121e\",\"x-mitre-data-component--9bde2f9d-a695-4344-bfac-f2dce13d121e\",\"x-mitre-data-component--9bde2f9d-a695-4344-bfac-f2dce13d121e\",\"x-mitre-data-component--9bde2f9d-a695-4344-bfac-f2dce13d121e\",\"x-mitre-data-component--9bde2f9d-a695-4344-bfac-f2dce13d121e\",\"x-mitre-data-component--9bde2f9d-a695-4344-bfac-f2dce13d121e\",\"x-mitre-data-component--9bde2f9d-a695-4344-bfac-f2dce13d121e\",\"x-mitre-data-component--685f917a-e95e-4ba0-ade1-c7d354dae6e0\",\"x-mitre-data-component--685f917a-e95e-4ba0-ade1-c7d354dae6e0\",\"x-mitre-data-component--685f917a-e95e-4ba0-ade1-c7d354dae6e0\",\"x-mitre-data-component--685f917a-e95e-4ba0-ade1-c7d354dae6e0\",\"x-mitre-data-component--685f917a-e95e-4ba0-ade1-c7d354dae6e0\",\"x-mitre-data-component--685f917a-e95e-4ba0-ade1-c7d354dae6e0\",\"x-mitre-data-component--685f917a-e95e-4ba0-ade1-c7d354dae6e0\",\"x-mitre-data-component--685f917a-e95e-4ba0-ade1-c7d354dae6e0\",\"x-mitre-data-component--685f917a-e95e-4ba0-ade1-c7d354dae6e0\",\"x-mitre-data-component--685f917a-e95e-4ba0-ade1-c7d354dae6e0\",\"x-mitre-data-component--685f917a-e95e-4ba0-ade1-c7d354dae6e0\",\"x-mitre-data-component--685f917a-e95e-4ba0-ade1-c7d354dae6e0\",\"x-mitre-data-component--685f917a-e95e-4ba0-ade1-c7d354dae6e0\",\"x-mitre-data-component--685f917a-e95e-4ba0-ade1-c7d354dae6e0\",\"x-mitre-data-component--9f387817-df83-432a-b56b-a8fb7f71eedd\",\"x-mitre-data-component--9f387817-df83-432a-b56b-a8fb7f71eedd\",\"x-mitre-data-component--9f387817-df83-432a-b56b-a8fb7f71eedd\",\"course-of-action--337c4e2a-21a7-4d9a-bfee-9efd6cebf0e5\",\"course-of-action--9f99fcfd-772e-4e63-9d39-e45612e546dc\",\"course-of-action--9f99fcfd-772e-4e63-9d39-e45612e546dc\",\"course-of-action--9f99fcfd-772e-4e63-9d39-e45612e546dc\",\"course-of-action--9f99fcfd-772e-4e63-9d39-e45612e546dc\",\"course-of-action--9f99fcfd-772e-4e63-9d39-e45612e546dc\",\"course-of-action--9f99fcfd-772e-4e63-9d39-e45612e546dc\",\"course-of-action--f9fcb3ec-6de0-4559-8cd9-ef1c0c7d1971\",\"course-of-action--f9fcb3ec-6de0-4559-8cd9-ef1c0c7d1971\",\"course-of-action--f9fcb3ec-6de0-4559-8cd9-ef1c0c7d1971\",\"course-of-action--f9fcb3ec-6de0-4559-8cd9-ef1c0c7d1971\",\"course-of-action--f9fcb3ec-6de0-4559-8cd9-ef1c0c7d1971\",\"course-of-action--f9fcb3ec-6de0-4559-8cd9-ef1c0c7d1971\",\"course-of-action--f9fcb3ec-6de0-4559-8cd9-ef1c0c7d1971\",\"course-of-action--dc61c280-c29d-44e5-a960-c0dd1623d2ba\",\"course-of-action--dc61c280-c29d-44e5-a960-c0dd1623d2ba\",\"course-of-action--dc61c280-c29d-44e5-a960-c0dd1623d2ba\",\"x-mitre-data-component--3772e279-27d6-477a-9fe3-c6beb363594c\",\"x-mitre-data-component--3772e279-27d6-477a-9fe3-c6beb363594c\",\"x-mitre-data-component--3772e279-27d6-477a-9fe3-c6beb363594c\",\"x-mitre-data-component--3772e279-27d6-477a-9fe3-c6beb363594c\",\"x-mitre-data-component--3772e279-27d6-477a-9fe3-c6beb363594c\",\"x-mitre-data-component--3772e279-27d6-477a-9fe3-c6beb363594c\",\"x-mitre-data-component--3772e279-27d6-477a-9fe3-c6beb363594c\",\"x-mitre-data-component--3772e279-27d6-477a-9fe3-c6beb363594c\",\"x-mitre-data-component--3772e279-27d6-477a-9fe3-c6beb363594c\",\"x-mitre-data-component--3772e279-27d6-477a-9fe3-c6beb363594c\",\"x-mitre-data-component--3772e279-27d6-477a-9fe3-c6beb363594c\",\"x-mitre-data-component--3772e279-27d6-477a-9fe3-c6beb363594c\",\"x-mitre-data-component--3772e279-27d6-477a-9fe3-c6beb363594c\",\"x-mitre-data-component--3772e279-27d6-477a-9fe3-c6beb363594c\",\"x-mitre-data-component--3772e279-27d6-477a-9fe3-c6beb363594c\",\"x-mitre-data-component--3772e279-27d6-477a-9fe3-c6beb363594c\",\"x-mitre-data-component--3772e279-27d6-477a-9fe3-c6beb363594c\",\"x-mitre-data-component--3772e279-27d6-477a-9fe3-c6beb363594c\",\"x-mitre-data-component--3772e279-27d6-477a-9fe3-c6beb363594c\",\"x-mitre-data-component--3772e279-27d6-477a-9fe3-c6beb363594c\",\"x-mitre-data-component--3772e279-27d6-477a-9fe3-c6beb363594c\",\"x-mitre-data-component--3772e279-27d6-477a-9fe3-c6beb363594c\",\"x-mitre-data-component--3772e279-27d6-477a-9fe3-c6beb363594c\",\"x-mitre-data-component--3772e279-27d6-477a-9fe3-c6beb363594c\",\"x-mitre-data-component--3772e279-27d6-477a-9fe3-c6beb363594c\",\"x-mitre-data-component--3772e279-27d6-477a-9fe3-c6beb363594c\",\"x-mitre-data-component--3772e279-27d6-477a-9fe3-c6beb363594c\",\"x-mitre-data-component--3772e279-27d6-477a-9fe3-c6beb363594c\",\"x-mitre-data-component--3772e279-27d6-477a-9fe3-c6beb363594c\",\"x-mitre-data-component--3772e279-27d6-477a-9fe3-c6beb363594c\",\"x-mitre-data-component--3772e279-27d6-477a-9fe3-c6beb363594c\",\"x-mitre-data-component--3772e279-27d6-477a-9fe3-c6beb363594c\",\"x-mitre-data-component--3772e279-27d6-477a-9fe3-c6beb363594c\",\"attack-pattern--fab8fc7d-f27f-4fbb-9de6-44740aade05f\",\"attack-pattern--fab8fc7d-f27f-4fbb-9de6-44740aade05f\",\"attack-pattern--fab8fc7d-f27f-4fbb-9de6-44740aade05f\",\"attack-pattern--fab8fc7d-f27f-4fbb-9de6-44740aade05f\",\"x-mitre-data-component--9d56be63-3501-4dd3-bb5f-63c580833298\",\"x-mitre-data-component--9d56be63-3501-4dd3-bb5f-63c580833298\",\"x-mitre-data-component--9d56be63-3501-4dd3-bb5f-63c580833298\",\"x-mitre-data-component--9d56be63-3501-4dd3-bb5f-63c580833298\",\"x-mitre-data-component--9d56be63-3501-4dd3-bb5f-63c580833298\",\"x-mitre-data-component--9d56be63-3501-4dd3-bb5f-63c580833298\",\"x-mitre-data-component--9d56be63-3501-4dd3-bb5f-63c580833298\",\"x-mitre-data-component--9d56be63-3501-4dd3-bb5f-63c580833298\",\"x-mitre-data-component--9d56be63-3501-4dd3-bb5f-63c580833298\",\"course-of-action--f0f5c87a-a58d-440a-b3b5-ca679d98c6dd\",\"course-of-action--f0f5c87a-a58d-440a-b3b5-ca679d98c6dd\",\"course-of-action--f0f5c87a-a58d-440a-b3b5-ca679d98c6dd\",\"course-of-action--f0f5c87a-a58d-440a-b3b5-ca679d98c6dd\",\"course-of-action--f0f5c87a-a58d-440a-b3b5-ca679d98c6dd\",\"course-of-action--5d97c693-e054-48ba-a3a3-eaf6942dfb65\",\"course-of-action--5d97c693-e054-48ba-a3a3-eaf6942dfb65\",\"course-of-action--5d97c693-e054-48ba-a3a3-eaf6942dfb65\",\"course-of-action--5d97c693-e054-48ba-a3a3-eaf6942dfb65\",\"course-of-action--ad12819e-3211-4291-b360-069f280cff0a\",\"course-of-action--ad12819e-3211-4291-b360-069f280cff0a\",\"course-of-action--ad12819e-3211-4291-b360-069f280cff0a\",\"course-of-action--ad12819e-3211-4291-b360-069f280cff0a\",\"course-of-action--ad12819e-3211-4291-b360-069f280cff0a\",\"course-of-action--ad12819e-3211-4291-b360-069f280cff0a\",\"course-of-action--ad12819e-3211-4291-b360-069f280cff0a\",\"course-of-action--ad12819e-3211-4291-b360-069f280cff0a\",\"course-of-action--ad12819e-3211-4291-b360-069f280cff0a\",\"course-of-action--1cbcceef-3233-4062-aa86-ec91afe39517\",\"attack-pattern--40b300ba-f553-48bf-862e-9471b220d455\",\"attack-pattern--40b300ba-f553-48bf-862e-9471b220d455\",\"attack-pattern--40b300ba-f553-48bf-862e-9471b220d455\",\"attack-pattern--40b300ba-f553-48bf-862e-9471b220d455\",\"attack-pattern--40b300ba-f553-48bf-862e-9471b220d455\",\"attack-pattern--40b300ba-f553-48bf-862e-9471b220d455\",\"attack-pattern--40b300ba-f553-48bf-862e-9471b220d455\",\"attack-pattern--40b300ba-f553-48bf-862e-9471b220d455\",\"attack-pattern--40b300ba-f553-48bf-862e-9471b220d455\",\"x-mitre-data-component--a7f22107-02e5-4982-9067-6625d4a1765a\",\"x-mitre-data-component--a7f22107-02e5-4982-9067-6625d4a1765a\",\"x-mitre-data-component--a7f22107-02e5-4982-9067-6625d4a1765a\",\"x-mitre-data-component--a7f22107-02e5-4982-9067-6625d4a1765a\",\"x-mitre-data-component--a7f22107-02e5-4982-9067-6625d4a1765a\",\"x-mitre-data-component--a7f22107-02e5-4982-9067-6625d4a1765a\",\"x-mitre-data-component--a7f22107-02e5-4982-9067-6625d4a1765a\",\"x-mitre-data-component--a7f22107-02e5-4982-9067-6625d4a1765a\",\"x-mitre-data-component--a7f22107-02e5-4982-9067-6625d4a1765a\",\"x-mitre-data-component--a7f22107-02e5-4982-9067-6625d4a1765a\",\"x-mitre-data-component--a7f22107-02e5-4982-9067-6625d4a1765a\",\"x-mitre-data-component--a7f22107-02e5-4982-9067-6625d4a1765a\",\"x-mitre-data-component--a7f22107-02e5-4982-9067-6625d4a1765a\",\"x-mitre-data-component--a7f22107-02e5-4982-9067-6625d4a1765a\",\"x-mitre-data-component--a7f22107-02e5-4982-9067-6625d4a1765a\",\"x-mitre-data-component--a7f22107-02e5-4982-9067-6625d4a1765a\",\"x-mitre-data-component--a7f22107-02e5-4982-9067-6625d4a1765a\",\"x-mitre-data-component--a7f22107-02e5-4982-9067-6625d4a1765a\",\"x-mitre-data-component--a7f22107-02e5-4982-9067-6625d4a1765a\",\"x-mitre-data-component--a7f22107-02e5-4982-9067-6625d4a1765a\",\"x-mitre-data-component--a7f22107-02e5-4982-9067-6625d4a1765a\",\"x-mitre-data-component--a7f22107-02e5-4982-9067-6625d4a1765a\",\"attack-pattern--d5a69cfb-fc2a-46cb-99eb-74b236db5061\",\"x-mitre-data-component--9c2fa0ae-7abc-485a-97f6-699e3b6cf9fa\",\"x-mitre-data-component--9c2fa0ae-7abc-485a-97f6-699e3b6cf9fa\",\"x-mitre-data-component--9c2fa0ae-7abc-485a-97f6-699e3b6cf9fa\",\"x-mitre-data-component--9c2fa0ae-7abc-485a-97f6-699e3b6cf9fa\",\"x-mitre-data-component--9c2fa0ae-7abc-485a-97f6-699e3b6cf9fa\",\"x-mitre-data-component--9c2fa0ae-7abc-485a-97f6-699e3b6cf9fa\",\"x-mitre-data-component--9c2fa0ae-7abc-485a-97f6-699e3b6cf9fa\",\"x-mitre-data-component--9c2fa0ae-7abc-485a-97f6-699e3b6cf9fa\",\"x-mitre-data-component--9c2fa0ae-7abc-485a-97f6-699e3b6cf9fa\",\"x-mitre-data-component--9c2fa0ae-7abc-485a-97f6-699e3b6cf9fa\",\"x-mitre-data-component--9c2fa0ae-7abc-485a-97f6-699e3b6cf9fa\",\"x-mitre-data-component--9c2fa0ae-7abc-485a-97f6-699e3b6cf9fa\",\"x-mitre-data-component--9c2fa0ae-7abc-485a-97f6-699e3b6cf9fa\",\"x-mitre-data-component--9c2fa0ae-7abc-485a-97f6-699e3b6cf9fa\",\"x-mitre-data-component--9c2fa0ae-7abc-485a-97f6-699e3b6cf9fa\",\"x-mitre-data-component--9c2fa0ae-7abc-485a-97f6-699e3b6cf9fa\",\"x-mitre-data-component--9c2fa0ae-7abc-485a-97f6-699e3b6cf9fa\",\"x-mitre-data-component--9c2fa0ae-7abc-485a-97f6-699e3b6cf9fa\",\"x-mitre-data-component--9c2fa0ae-7abc-485a-97f6-699e3b6cf9fa\",\"x-mitre-data-component--9c2fa0ae-7abc-485a-97f6-699e3b6cf9fa\",\"x-mitre-data-component--9c2fa0ae-7abc-485a-97f6-699e3b6cf9fa\",\"x-mitre-data-component--9c2fa0ae-7abc-485a-97f6-699e3b6cf9fa\",\"x-mitre-data-component--9c2fa0ae-7abc-485a-97f6-699e3b6cf9fa\",\"x-mitre-data-component--9c2fa0ae-7abc-485a-97f6-699e3b6cf9fa\",\"x-mitre-data-component--9c2fa0ae-7abc-485a-97f6-699e3b6cf9fa\",\"x-mitre-data-component--9c2fa0ae-7abc-485a-97f6-699e3b6cf9fa\",\"x-mitre-data-component--9c2fa0ae-7abc-485a-97f6-699e3b6cf9fa\",\"x-mitre-data-component--9c2fa0ae-7abc-485a-97f6-699e3b6cf9fa\",\"x-mitre-data-component--9c2fa0ae-7abc-485a-97f6-699e3b6cf9fa\",\"attack-pattern--9f947a1c-3860-48a8-8af0-a2dfa3efde03\",\"attack-pattern--9f947a1c-3860-48a8-8af0-a2dfa3efde03\",\"attack-pattern--9f947a1c-3860-48a8-8af0-a2dfa3efde03\",\"attack-pattern--9f947a1c-3860-48a8-8af0-a2dfa3efde03\",\"course-of-action--3992ce42-43e9-4bea-b8db-a102ec3ec1e3\",\"course-of-action--3992ce42-43e9-4bea-b8db-a102ec3ec1e3\",\"course-of-action--3992ce42-43e9-4bea-b8db-a102ec3ec1e3\",\"course-of-action--3992ce42-43e9-4bea-b8db-a102ec3ec1e3\",\"course-of-action--3992ce42-43e9-4bea-b8db-a102ec3ec1e3\",\"course-of-action--3992ce42-43e9-4bea-b8db-a102ec3ec1e3\",\"course-of-action--3992ce42-43e9-4bea-b8db-a102ec3ec1e3\",\"course-of-action--3992ce42-43e9-4bea-b8db-a102ec3ec1e3\",\"course-of-action--3992ce42-43e9-4bea-b8db-a102ec3ec1e3\",\"course-of-action--3992ce42-43e9-4bea-b8db-a102ec3ec1e3\",\"course-of-action--3992ce42-43e9-4bea-b8db-a102ec3ec1e3\",\"course-of-action--3992ce42-43e9-4bea-b8db-a102ec3ec1e3\",\"course-of-action--3992ce42-43e9-4bea-b8db-a102ec3ec1e3\",\"course-of-action--3992ce42-43e9-4bea-b8db-a102ec3ec1e3\",\"course-of-action--3992ce42-43e9-4bea-b8db-a102ec3ec1e3\",\"attack-pattern--c9a8d958-fcdb-40d2-af4c-461c8031651a\",\"x-mitre-data-component--9ce98c86-8d30-4043-ba54-0784d478d0b5\",\"x-mitre-data-component--9ce98c86-8d30-4043-ba54-0784d478d0b5\",\"x-mitre-data-component--9ce98c86-8d30-4043-ba54-0784d478d0b5\",\"x-mitre-data-component--9ce98c86-8d30-4043-ba54-0784d478d0b5\",\"x-mitre-data-component--9ce98c86-8d30-4043-ba54-0784d478d0b5\",\"x-mitre-data-component--9ce98c86-8d30-4043-ba54-0784d478d0b5\",\"x-mitre-data-component--8ed4e6d0-56d7-4e6b-8fa6-41f41631f30d\",\"x-mitre-data-component--8ed4e6d0-56d7-4e6b-8fa6-41f41631f30d\",\"attack-pattern--36e9f5bc-ac13-4da4-a2f4-01f4877d9004\",\"attack-pattern--e6c31185-8040-4267-83d3-b217b8a92f07\",\"attack-pattern--e6c31185-8040-4267-83d3-b217b8a92f07\",\"attack-pattern--e6c31185-8040-4267-83d3-b217b8a92f07\",\"attack-pattern--53a48c74-0025-45f4-b04a-baa853df8204\",\"x-mitre-data-component--f5468e67-51c7-4756-9b4f-65707708e7fa\",\"x-mitre-data-component--f5468e67-51c7-4756-9b4f-65707708e7fa\",\"x-mitre-data-component--f5468e67-51c7-4756-9b4f-65707708e7fa\",\"attack-pattern--3405891b-16aa-4bd7-bd7c-733501f9b20f\",\"attack-pattern--3405891b-16aa-4bd7-bd7c-733501f9b20f\",\"attack-pattern--3405891b-16aa-4bd7-bd7c-733501f9b20f\",\"attack-pattern--ead7bd34-186e-4c79-9a4d-b65bcce6ed9d\",\"attack-pattern--ead7bd34-186e-4c79-9a4d-b65bcce6ed9d\",\"attack-pattern--ead7bd34-186e-4c79-9a4d-b65bcce6ed9d\",\"attack-pattern--0fe075d5-beac-4d02-b93e-0f874997db72\",\"attack-pattern--0fe075d5-beac-4d02-b93e-0f874997db72\",\"attack-pattern--ea0c980c-5cf0-43a7-a049-59c4c207566e\",\"x-mitre-data-component--66531bc6-a509-4868-8314-4d599e91d222\",\"attack-pattern--ba203963-3182-41ac-af14-7e7ebc83cd61\",\"attack-pattern--ba203963-3182-41ac-af14-7e7ebc83cd61\",\"attack-pattern--ba203963-3182-41ac-af14-7e7ebc83cd61\",\"attack-pattern--ba203963-3182-41ac-af14-7e7ebc83cd61\",\"attack-pattern--ba203963-3182-41ac-af14-7e7ebc83cd61\",\"attack-pattern--ba203963-3182-41ac-af14-7e7ebc83cd61\",\"attack-pattern--ba203963-3182-41ac-af14-7e7ebc83cd61\",\"attack-pattern--ba203963-3182-41ac-af14-7e7ebc83cd61\",\"attack-pattern--cfe68e93-ce94-4c0f-a57d-3aa72cedd618\",\"attack-pattern--cfe68e93-ce94-4c0f-a57d-3aa72cedd618\",\"attack-pattern--cfe68e93-ce94-4c0f-a57d-3aa72cedd618\",\"attack-pattern--cfe68e93-ce94-4c0f-a57d-3aa72cedd618\",\"x-mitre-data-component--39b9db72-8b48-4595-a18d-db5bbba3091b\",\"x-mitre-data-component--39b9db72-8b48-4595-a18d-db5bbba3091b\",\"x-mitre-data-component--39b9db72-8b48-4595-a18d-db5bbba3091b\",\"attack-pattern--cd2c76a4-5e23-4ca5-9c40-d5e0604f7101\",\"attack-pattern--cd2c76a4-5e23-4ca5-9c40-d5e0604f7101\",\"attack-pattern--cd2c76a4-5e23-4ca5-9c40-d5e0604f7101\",\"attack-pattern--cd2c76a4-5e23-4ca5-9c40-d5e0604f7101\",\"attack-pattern--cd2c76a4-5e23-4ca5-9c40-d5e0604f7101\",\"attack-pattern--cd2c76a4-5e23-4ca5-9c40-d5e0604f7101\",\"attack-pattern--cd2c76a4-5e23-4ca5-9c40-d5e0604f7101\",\"attack-pattern--cd2c76a4-5e23-4ca5-9c40-d5e0604f7101\",\"attack-pattern--cd2c76a4-5e23-4ca5-9c40-d5e0604f7101\",\"attack-pattern--2736b752-4ec5-4421-a230-8977dea7649c\",\"attack-pattern--2736b752-4ec5-4421-a230-8977dea7649c\",\"attack-pattern--2736b752-4ec5-4421-a230-8977dea7649c\",\"attack-pattern--2736b752-4ec5-4421-a230-8977dea7649c\",\"attack-pattern--2736b752-4ec5-4421-a230-8977dea7649c\",\"attack-pattern--2736b752-4ec5-4421-a230-8977dea7649c\",\"x-mitre-data-component--ee575f4a-2d4f-48f6-b18b-89067760adc1\",\"x-mitre-data-component--ee575f4a-2d4f-48f6-b18b-89067760adc1\",\"attack-pattern--ab390887-afc0-4715-826d-b1b167d522ae\",\"attack-pattern--ab390887-afc0-4715-826d-b1b167d522ae\",\"x-mitre-data-component--c0a4a086-cc20-4e1e-b7cb-29d99dfa3fb1\",\"x-mitre-data-component--c0a4a086-cc20-4e1e-b7cb-29d99dfa3fb1\",\"x-mitre-data-component--c0a4a086-cc20-4e1e-b7cb-29d99dfa3fb1\",\"attack-pattern--b0628bfc-5376-4a38-9182-f324501cb4cf\",\"attack-pattern--5a2610f6-9fff-41e1-bc27-575ca20383d4\",\"attack-pattern--24a9253e-8948-4c98-b751-8e2aee53127c\",\"attack-pattern--24a9253e-8948-4c98-b751-8e2aee53127c\",\"attack-pattern--35392fb4-a31d-4c6a-b9f2-1c65b7f5e6b9\",\"attack-pattern--35392fb4-a31d-4c6a-b9f2-1c65b7f5e6b9\",\"attack-pattern--35392fb4-a31d-4c6a-b9f2-1c65b7f5e6b9\",\"attack-pattern--35392fb4-a31d-4c6a-b9f2-1c65b7f5e6b9\",\"x-mitre-data-component--639e87f3-acb6-448a-9645-258f20da4bc5\",\"x-mitre-data-component--639e87f3-acb6-448a-9645-258f20da4bc5\",\"attack-pattern--5e0f75da-e108-4688-a6de-a4f07cc2cbe3\",\"attack-pattern--5e0f75da-e108-4688-a6de-a4f07cc2cbe3\",\"attack-pattern--5e0f75da-e108-4688-a6de-a4f07cc2cbe3\",\"attack-pattern--5e0f75da-e108-4688-a6de-a4f07cc2cbe3\",\"attack-pattern--5e0f75da-e108-4688-a6de-a4f07cc2cbe3\",\"x-mitre-data-component--2b3bfe19-d59a-460d-93bb-2f546adc2d2c\",\"x-mitre-data-component--2b3bfe19-d59a-460d-93bb-2f546adc2d2c\",\"x-mitre-data-component--2b3bfe19-d59a-460d-93bb-2f546adc2d2c\",\"attack-pattern--648f995e-9c3a-41e4-aeee-98bb41037426\",\"attack-pattern--648f995e-9c3a-41e4-aeee-98bb41037426\",\"attack-pattern--648f995e-9c3a-41e4-aeee-98bb41037426\",\"attack-pattern--2dc2b567-8821-49f9-9045-8740f3d0b958\",\"attack-pattern--2dc2b567-8821-49f9-9045-8740f3d0b958\",\"attack-pattern--2dc2b567-8821-49f9-9045-8740f3d0b958\",\"attack-pattern--c267bbee-bb59-47fe-85e0-3ed210337c21\",\"attack-pattern--c267bbee-bb59-47fe-85e0-3ed210337c21\",\"attack-pattern--c267bbee-bb59-47fe-85e0-3ed210337c21\",\"attack-pattern--c267bbee-bb59-47fe-85e0-3ed210337c21\",\"x-mitre-data-component--da85d358-741a-410d-9433-20d6269a6170\",\"x-mitre-data-component--da85d358-741a-410d-9433-20d6269a6170\",\"x-mitre-data-component--da85d358-741a-410d-9433-20d6269a6170\",\"x-mitre-data-component--da85d358-741a-410d-9433-20d6269a6170\",\"attack-pattern--9a505987-ab05-4f46-a9a6-6441442eec3b\",\"attack-pattern--9a505987-ab05-4f46-a9a6-6441442eec3b\",\"attack-pattern--9a505987-ab05-4f46-a9a6-6441442eec3b\",\"attack-pattern--9a505987-ab05-4f46-a9a6-6441442eec3b\",\"attack-pattern--9a505987-ab05-4f46-a9a6-6441442eec3b\",\"attack-pattern--9a505987-ab05-4f46-a9a6-6441442eec3b\",\"attack-pattern--9a505987-ab05-4f46-a9a6-6441442eec3b\",\"attack-pattern--9a505987-ab05-4f46-a9a6-6441442eec3b\",\"attack-pattern--9a505987-ab05-4f46-a9a6-6441442eec3b\",\"attack-pattern--e1f9cdd2-9511-4fca-90d7-f3e92cfdd0bf\",\"attack-pattern--e1f9cdd2-9511-4fca-90d7-f3e92cfdd0bf\",\"attack-pattern--e1f9cdd2-9511-4fca-90d7-f3e92cfdd0bf\",\"attack-pattern--e1f9cdd2-9511-4fca-90d7-f3e92cfdd0bf\",\"attack-pattern--e1f9cdd2-9511-4fca-90d7-f3e92cfdd0bf\",\"attack-pattern--e1f9cdd2-9511-4fca-90d7-f3e92cfdd0bf\",\"attack-pattern--efbf7888-f61b-4572-9c80-7e2965c60707\",\"attack-pattern--efbf7888-f61b-4572-9c80-7e2965c60707\",\"attack-pattern--efbf7888-f61b-4572-9c80-7e2965c60707\",\"attack-pattern--efbf7888-f61b-4572-9c80-7e2965c60707\",\"attack-pattern--efbf7888-f61b-4572-9c80-7e2965c60707\",\"attack-pattern--efbf7888-f61b-4572-9c80-7e2965c60707\",\"attack-pattern--efbf7888-f61b-4572-9c80-7e2965c60707\",\"attack-pattern--efbf7888-f61b-4572-9c80-7e2965c60707\",\"attack-pattern--efbf7888-f61b-4572-9c80-7e2965c60707\",\"attack-pattern--efbf7888-f61b-4572-9c80-7e2965c60707\",\"attack-pattern--b9160e77-ea9e-4ba9-b1c8-53a3c466b13d\",\"attack-pattern--b9160e77-ea9e-4ba9-b1c8-53a3c466b13d\",\"attack-pattern--b9160e77-ea9e-4ba9-b1c8-53a3c466b13d\",\"attack-pattern--b9160e77-ea9e-4ba9-b1c8-53a3c466b13d\",\"attack-pattern--b9160e77-ea9e-4ba9-b1c8-53a3c466b13d\",\"attack-pattern--b9160e77-ea9e-4ba9-b1c8-53a3c466b13d\",\"attack-pattern--b9160e77-ea9e-4ba9-b1c8-53a3c466b13d\",\"attack-pattern--b9160e77-ea9e-4ba9-b1c8-53a3c466b13d\",\"attack-pattern--b9160e77-ea9e-4ba9-b1c8-53a3c466b13d\",\"attack-pattern--b9160e77-ea9e-4ba9-b1c8-53a3c466b13d\",\"attack-pattern--b9160e77-ea9e-4ba9-b1c8-53a3c466b13d\",\"attack-pattern--3067b85e-271e-4bc5-81ad-ab1a81d411e3\",\"attack-pattern--3067b85e-271e-4bc5-81ad-ab1a81d411e3\",\"attack-pattern--3067b85e-271e-4bc5-81ad-ab1a81d411e3\",\"attack-pattern--3067b85e-271e-4bc5-81ad-ab1a81d411e3\",\"attack-pattern--3067b85e-271e-4bc5-81ad-ab1a81d411e3\",\"x-mitre-data-component--b05a614b-033c-4578-b4f2-c63a9feee706\",\"x-mitre-data-component--b05a614b-033c-4578-b4f2-c63a9feee706\",\"x-mitre-data-component--b05a614b-033c-4578-b4f2-c63a9feee706\",\"attack-pattern--25dfc8ad-bd73-4dfd-84a9-3c3d383f76e9\",\"attack-pattern--25dfc8ad-bd73-4dfd-84a9-3c3d383f76e9\",\"attack-pattern--25dfc8ad-bd73-4dfd-84a9-3c3d383f76e9\",\"attack-pattern--25dfc8ad-bd73-4dfd-84a9-3c3d383f76e9\",\"attack-pattern--25dfc8ad-bd73-4dfd-84a9-3c3d383f76e9\",\"attack-pattern--25dfc8ad-bd73-4dfd-84a9-3c3d383f76e9\",\"attack-pattern--b14395bd-5419-4ef4-9bd8-696936f509bb\",\"attack-pattern--b14395bd-5419-4ef4-9bd8-696936f509bb\",\"attack-pattern--b14395bd-5419-4ef4-9bd8-696936f509bb\",\"attack-pattern--b14395bd-5419-4ef4-9bd8-696936f509bb\",\"attack-pattern--b14395bd-5419-4ef4-9bd8-696936f509bb\",\"attack-pattern--be69c571-d746-4b1f-bdd0-c0c9817e9068\",\"attack-pattern--be69c571-d746-4b1f-bdd0-c0c9817e9068\",\"attack-pattern--be69c571-d746-4b1f-bdd0-c0c9817e9068\",\"attack-pattern--be69c571-d746-4b1f-bdd0-c0c9817e9068\",\"attack-pattern--be69c571-d746-4b1f-bdd0-c0c9817e9068\",\"attack-pattern--be69c571-d746-4b1f-bdd0-c0c9817e9068\",\"attack-pattern--be69c571-d746-4b1f-bdd0-c0c9817e9068\",\"attack-pattern--2d0d40ad-22fa-4cc8-b264-072557e1364b\",\"attack-pattern--2900bbd8-308a-4274-b074-5b8bde8347bc\",\"attack-pattern--2900bbd8-308a-4274-b074-5b8bde8347bc\",\"attack-pattern--2900bbd8-308a-4274-b074-5b8bde8347bc\",\"attack-pattern--2900bbd8-308a-4274-b074-5b8bde8347bc\",\"attack-pattern--2900bbd8-308a-4274-b074-5b8bde8347bc\",\"attack-pattern--2900bbd8-308a-4274-b074-5b8bde8347bc\",\"attack-pattern--25852363-5968-4673-b81d-341d5ed90bd1\",\"attack-pattern--25852363-5968-4673-b81d-341d5ed90bd1\",\"attack-pattern--25852363-5968-4673-b81d-341d5ed90bd1\",\"attack-pattern--25852363-5968-4673-b81d-341d5ed90bd1\",\"attack-pattern--25852363-5968-4673-b81d-341d5ed90bd1\",\"attack-pattern--e5de767e-f513-41cd-aa15-33f6ce5fbf92\",\"attack-pattern--e5de767e-f513-41cd-aa15-33f6ce5fbf92\",\"attack-pattern--e5de767e-f513-41cd-aa15-33f6ce5fbf92\",\"attack-pattern--e5de767e-f513-41cd-aa15-33f6ce5fbf92\",\"attack-pattern--e5de767e-f513-41cd-aa15-33f6ce5fbf92\",\"attack-pattern--2fedbe69-581f-447d-8a78-32ee7db939a9\",\"x-mitre-data-component--4c12c1c8-bcef-4daf-8e5b-fca235f71d9e\",\"x-mitre-data-component--4c12c1c8-bcef-4daf-8e5b-fca235f71d9e\",\"x-mitre-data-component--4c12c1c8-bcef-4daf-8e5b-fca235f71d9e\",\"attack-pattern--8535b71e-3c12-4258-a4ab-40257a1becc4\",\"attack-pattern--8535b71e-3c12-4258-a4ab-40257a1becc4\",\"attack-pattern--8535b71e-3c12-4258-a4ab-40257a1becc4\",\"attack-pattern--8535b71e-3c12-4258-a4ab-40257a1becc4\",\"attack-pattern--8535b71e-3c12-4258-a4ab-40257a1becc4\",\"attack-pattern--2877063e-1851-48d2-bcc6-bc1d2733157e\",\"attack-pattern--2877063e-1851-48d2-bcc6-bc1d2733157e\",\"attack-pattern--2877063e-1851-48d2-bcc6-bc1d2733157e\",\"attack-pattern--2877063e-1851-48d2-bcc6-bc1d2733157e\",\"x-mitre-data-component--181a9f8c-c780-4f1f-91a8-edb770e904ba\",\"attack-pattern--c5e3cdbc-0387-4be9-8f83-ff5c0865f377\",\"x-mitre-data-component--84572de3-9583-4c73-aabd-06ea88123dd8\",\"x-mitre-data-component--84572de3-9583-4c73-aabd-06ea88123dd8\",\"x-mitre-data-component--84572de3-9583-4c73-aabd-06ea88123dd8\",\"x-mitre-data-component--84572de3-9583-4c73-aabd-06ea88123dd8\",\"attack-pattern--063b5b92-5361-481a-9c3f-95492ed9a2d8\",\"attack-pattern--063b5b92-5361-481a-9c3f-95492ed9a2d8\",\"attack-pattern--063b5b92-5361-481a-9c3f-95492ed9a2d8\",\"attack-pattern--063b5b92-5361-481a-9c3f-95492ed9a2d8\",\"attack-pattern--063b5b92-5361-481a-9c3f-95492ed9a2d8\",\"x-mitre-data-component--61f1d40e-f3d0-4cc6-aa2d-937b6204194f\",\"x-mitre-data-component--61f1d40e-f3d0-4cc6-aa2d-937b6204194f\",\"x-mitre-data-component--61f1d40e-f3d0-4cc6-aa2d-937b6204194f\",\"x-mitre-data-component--b9d031bb-d150-4fc6-8025-688201bf3ffd\",\"attack-pattern--3b6b9246-43f8-4c69-ad7a-2b11cfe0a0d9\",\"attack-pattern--3b6b9246-43f8-4c69-ad7a-2b11cfe0a0d9\",\"attack-pattern--e076cca8-2f08-45c9-aff7-ea5ac798b387\",\"attack-pattern--e076cca8-2f08-45c9-aff7-ea5ac798b387\",\"attack-pattern--e076cca8-2f08-45c9-aff7-ea5ac798b387\",\"x-mitre-data-component--931b3fc6-ad68-42a8-9018-e98515eedc95\",\"x-mitre-data-component--931b3fc6-ad68-42a8-9018-e98515eedc95\",\"x-mitre-data-component--931b3fc6-ad68-42a8-9018-e98515eedc95\",\"x-mitre-data-component--931b3fc6-ad68-42a8-9018-e98515eedc95\",\"x-mitre-data-component--931b3fc6-ad68-42a8-9018-e98515eedc95\",\"attack-pattern--38213338-1aab-479d-949b-c81b66ccca5c\",\"attack-pattern--38213338-1aab-479d-949b-c81b66ccca5c\",\"attack-pattern--38213338-1aab-479d-949b-c81b66ccca5c\",\"attack-pattern--38213338-1aab-479d-949b-c81b66ccca5c\",\"attack-pattern--38213338-1aab-479d-949b-c81b66ccca5c\",\"attack-pattern--e72425f8-9ae6-41d3-bfdb-e1b865e60722\",\"attack-pattern--e72425f8-9ae6-41d3-bfdb-e1b865e60722\",\"attack-pattern--b52870cc-83f3-473c-b895-72d91751030b\",\"attack-pattern--32632a95-6856-47b9-9ab7-fea5cd7dce00\",\"attack-pattern--32632a95-6856-47b9-9ab7-fea5cd7dce00\",\"attack-pattern--32632a95-6856-47b9-9ab7-fea5cd7dce00\",\"attack-pattern--32632a95-6856-47b9-9ab7-fea5cd7dce00\",\"attack-pattern--32632a95-6856-47b9-9ab7-fea5cd7dce00\",\"attack-pattern--32632a95-6856-47b9-9ab7-fea5cd7dce00\",\"attack-pattern--7830cfcf-b268-4ac0-a69e-73c6affbae9a\",\"attack-pattern--7830cfcf-b268-4ac0-a69e-73c6affbae9a\",\"attack-pattern--7830cfcf-b268-4ac0-a69e-73c6affbae9a\",\"attack-pattern--7830cfcf-b268-4ac0-a69e-73c6affbae9a\",\"attack-pattern--8d2f3bab-507c-4424-b58b-edc977bd215c\",\"attack-pattern--8d2f3bab-507c-4424-b58b-edc977bd215c\",\"attack-pattern--8d2f3bab-507c-4424-b58b-edc977bd215c\",\"attack-pattern--8d2f3bab-507c-4424-b58b-edc977bd215c\",\"attack-pattern--8d2f3bab-507c-4424-b58b-edc977bd215c\",\"attack-pattern--8d2f3bab-507c-4424-b58b-edc977bd215c\",\"attack-pattern--f8df6b57-14bc-425f-9a91-6f59f6799307\",\"attack-pattern--85a45294-08f1-4539-bf00-7da08aa7b0ee\",\"attack-pattern--85a45294-08f1-4539-bf00-7da08aa7b0ee\",\"attack-pattern--85a45294-08f1-4539-bf00-7da08aa7b0ee\",\"attack-pattern--85a45294-08f1-4539-bf00-7da08aa7b0ee\",\"attack-pattern--85a45294-08f1-4539-bf00-7da08aa7b0ee\",\"attack-pattern--85a45294-08f1-4539-bf00-7da08aa7b0ee\",\"attack-pattern--85a45294-08f1-4539-bf00-7da08aa7b0ee\",\"attack-pattern--85a45294-08f1-4539-bf00-7da08aa7b0ee\",\"x-mitre-data-component--e905dad2-00d6-477c-97e8-800427abd0e8\",\"x-mitre-data-component--e905dad2-00d6-477c-97e8-800427abd0e8\",\"attack-pattern--53a26eee-1080-4d17-9762-2027d5a1b805\",\"attack-pattern--2883c520-7957-46ca-89bd-dab1ad53b601\",\"attack-pattern--2883c520-7957-46ca-89bd-dab1ad53b601\",\"attack-pattern--2883c520-7957-46ca-89bd-dab1ad53b601\",\"attack-pattern--2883c520-7957-46ca-89bd-dab1ad53b601\",\"attack-pattern--493832d9-cea6-4b63-abe7-9a65a6473675\",\"attack-pattern--1b22b676-9347-4c55-9a35-ef0dc653db5b\",\"attack-pattern--1c478716-71d9-46a4-9a53-fa5d576adb60\",\"attack-pattern--1c478716-71d9-46a4-9a53-fa5d576adb60\",\"attack-pattern--1c478716-71d9-46a4-9a53-fa5d576adb60\",\"attack-pattern--d67adac8-e3b9-44f9-9e6d-6c2a7d69dbe4\",\"attack-pattern--d67adac8-e3b9-44f9-9e6d-6c2a7d69dbe4\",\"attack-pattern--d67adac8-e3b9-44f9-9e6d-6c2a7d69dbe4\",\"attack-pattern--d67adac8-e3b9-44f9-9e6d-6c2a7d69dbe4\",\"attack-pattern--8e7089d3-fba2-44f8-94a8-9a79c53920c4\",\"attack-pattern--8e7089d3-fba2-44f8-94a8-9a79c53920c4\",\"attack-pattern--8e7089d3-fba2-44f8-94a8-9a79c53920c4\",\"attack-pattern--8e7089d3-fba2-44f8-94a8-9a79c53920c4\",\"attack-pattern--2aa406ed-81c3-4c1d-ba83-cfbee5a2847a\",\"attack-pattern--2aa406ed-81c3-4c1d-ba83-cfbee5a2847a\",\"attack-pattern--2aa406ed-81c3-4c1d-ba83-cfbee5a2847a\",\"attack-pattern--2aa406ed-81c3-4c1d-ba83-cfbee5a2847a\",\"attack-pattern--2aa406ed-81c3-4c1d-ba83-cfbee5a2847a\",\"attack-pattern--3f1f4ccb-9be2-4ff8-8f69-dd972221169b\",\"attack-pattern--3f1f4ccb-9be2-4ff8-8f69-dd972221169b\",\"attack-pattern--3f1f4ccb-9be2-4ff8-8f69-dd972221169b\",\"attack-pattern--008b8f56-6107-48be-aa9f-746f927dbb61\",\"attack-pattern--008b8f56-6107-48be-aa9f-746f927dbb61\",\"attack-pattern--008b8f56-6107-48be-aa9f-746f927dbb61\",\"attack-pattern--19a71d1e-6334-4233-8260-b749cae37953\",\"attack-pattern--19a71d1e-6334-4233-8260-b749cae37953\",\"attack-pattern--19a71d1e-6334-4233-8260-b749cae37953\",\"attack-pattern--19a71d1e-6334-4233-8260-b749cae37953\",\"attack-pattern--19a71d1e-6334-4233-8260-b749cae37953\",\"attack-pattern--3de230d4-3e42-4041-b089-17e1128feded\",\"attack-pattern--3de230d4-3e42-4041-b089-17e1128feded\",\"course-of-action--c7257b6e-4159-4771-b1f3-2bb93adaecac\",\"course-of-action--c7257b6e-4159-4771-b1f3-2bb93adaecac\",\"course-of-action--aadac250-bcdc-44e3-a4ae-f52bd0a7a16a\",\"attack-pattern--e33c7ecc-5a38-497f-beb2-a9a2049a4c20\",\"course-of-action--b11cad63-ef30-4eb8-af0d-6cc46eef3f3e\",\"course-of-action--b11cad63-ef30-4eb8-af0d-6cc46eef3f3e\",\"course-of-action--b11cad63-ef30-4eb8-af0d-6cc46eef3f3e\",\"course-of-action--b11cad63-ef30-4eb8-af0d-6cc46eef3f3e\",\"course-of-action--b11cad63-ef30-4eb8-af0d-6cc46eef3f3e\",\"course-of-action--b11cad63-ef30-4eb8-af0d-6cc46eef3f3e\",\"course-of-action--8bc4a54e-810c-4600-8b6c-08fa8413a401\",\"course-of-action--8bc4a54e-810c-4600-8b6c-08fa8413a401\",\"attack-pattern--5fa00fdd-4a55-4191-94a0-564181d7fec2\",\"attack-pattern--b7e13ee8-182c-4f19-92a4-a88d7d855d54\",\"attack-pattern--83ebd22f-b401-4d59-8219-2294172cf916\"]},\"selected\":{\"id\":\"1096\"},\"selection_policy\":{\"id\":\"1097\"}},\"id\":\"1040\",\"type\":\"ColumnDataSource\"},{\"attributes\":{},\"id\":\"1075\",\"type\":\"NodesAndLinkedEdges\"},{\"attributes\":{},\"id\":\"1082\",\"type\":\"BasicTickFormatter\"},{\"attributes\":{\"source\":{\"id\":\"1040\"}},\"id\":\"1042\",\"type\":\"CDSView\"},{\"attributes\":{\"axis\":{\"id\":\"1019\"},\"dimension\":1,\"ticker\":null},\"id\":\"1022\",\"type\":\"Grid\"},{\"attributes\":{},\"id\":\"1094\",\"type\":\"Selection\"},{\"attributes\":{\"data_source\":{\"id\":\"1040\"},\"glyph\":{\"id\":\"1060\"},\"hover_glyph\":{\"id\":\"1070\"},\"muted_glyph\":null,\"selection_glyph\":{\"id\":\"1065\"},\"view\":{\"id\":\"1042\"}},\"id\":\"1041\",\"type\":\"GlyphRenderer\"},{\"attributes\":{\"high\":2,\"low\":0,\"palette\":[\"#FF0000\",\"#00FF00\",\"#0000FF\"]},\"id\":\"1044\",\"type\":\"LinearColorMapper\"},{\"attributes\":{},\"id\":\"1023\",\"type\":\"PanTool\"},{\"attributes\":{\"data_source\":{\"id\":\"1036\"},\"glyph\":{\"id\":\"1045\"},\"hover_glyph\":{\"id\":\"1050\"},\"muted_glyph\":null,\"selection_glyph\":{\"id\":\"1055\"},\"view\":{\"id\":\"1038\"}},\"id\":\"1037\",\"type\":\"GlyphRenderer\"},{\"attributes\":{},\"id\":\"1083\",\"type\":\"AllLabels\"}],\"root_ids\":[\"1006\"]},\"title\":\"Bokeh Application\",\"version\":\"2.3.3\"}};\n  var render_items = [{\"docid\":\"36192206-6a5b-417e-90f9-2a7da58bb8db\",\"root_ids\":[\"1006\"],\"roots\":{\"1006\":\"d527a9ce-393a-4ca3-8f58-383bc03d4a05\"}}];\n  root.Bokeh.embed.embed_items_notebook(docs_json, render_items);\n\n  }\n  if (root.Bokeh !== undefined) {\n    embed_document(root);\n  } else {\n    var attempts = 0;\n    var timer = setInterval(function(root) {\n      if (root.Bokeh !== undefined) {\n        clearInterval(timer);\n        embed_document(root);\n      } else {\n        attempts++;\n        if (attempts > 100) {\n          clearInterval(timer);\n          console.log(\"Bokeh: ERROR: Unable to run BokehJS code because BokehJS library is missing\");\n        }\n      }\n    }, 10, root)\n  }\n})(window);",
            "application/vnd.bokehjs_exec.v0+json": ""
          },
          "metadata": {
            "application/vnd.bokehjs_exec.v0+json": {
              "id": "1006"
            }
          },
          "output_type": "display_data"
        }
      ],
      "source": [
        "from bokeh.core.property_mixins import LineJoin\n",
        "from bokeh.io import output_notebook, show, save\n",
        "from bokeh.models import Range1d, Circle, ColumnDataSource, MultiLine\n",
        "from bokeh.plotting import figure\n",
        "from bokeh.plotting import from_networkx\n",
        "from bokeh.palettes import Blues8, Reds8, Purples8, Oranges8, Viridis8, Spectral8\n",
        "from bokeh.transform import linear_cmap\n",
        "from bokeh.models import EdgesAndLinkedNodes, NodesAndLinkedEdges\n",
        "import networkx as nx\n",
        "\n",
        "\n",
        "DG = nx.from_pandas_edgelist(df, source='Source', target='Destination',create_using=nx.Graph())\n",
        "\n",
        "# set the degrees (connections per node)\n",
        "degrees = dict(nx.degree(DG))\n",
        "nx.set_node_attributes(DG, name='degree', values=degrees)\n",
        "\n",
        "#set the human readable attribute\n",
        "all_mappings = {}\n",
        "all_mappings.update(mc_technique_mapping)\n",
        "all_mappings.update(mc_mitigation_mapping)\n",
        "all_mappings.update(mc_detection_mapping)\n",
        "nx.set_node_attributes(DG,name='human_name',values=all_mappings)\n",
        "\n",
        "#ensure very small degrees are still visible\n",
        "number_to_adjust_by = 5\n",
        "adjusted_node_size = dict([(node, degree+number_to_adjust_by) for node, degree in nx.degree(DG)])\n",
        "nx.set_node_attributes(DG, name='adjusted_node_size', values=adjusted_node_size)\n",
        "\n",
        "# determine type, add attribute\n",
        "node_types = {}\n",
        "for node in DG.nodes:\n",
        "  if node.startswith('attack-pattern'):\n",
        "    node_types[node] = 0\n",
        "  elif node.startswith('course-of-action'):\n",
        "    node_types[node] = 1\n",
        "  else:\n",
        "    node_types[node] = 2\n",
        "\n",
        "#set the node type (attack-pattern,course-of-action,data-source)\n",
        "nx.set_node_attributes(DG, name='node_type', values=node_types)\n",
        "\n",
        "#Choose attributes from G network to size and color by — setting manual size (e.g. 10) or color (e.g. 'skyblue') also allowed\n",
        "size_by_this_attribute = 'adjusted_node_size'\n",
        "color_by_this_attribute = 'node_type'\n",
        "\n",
        "#color_palette = red,green,blue\n",
        "color_palette = ['#FF0000','#00FF00','#0000FF']\n",
        "\n",
        "#Choose colors for node and edge highlighting\n",
        "node_highlight_color = 'white'\n",
        "edge_highlight_color = 'black'\n",
        "\n",
        "#Choose a title!\n",
        "title = 'MITRE Graph Visuals'\n",
        "\n",
        "#Establish which categories will appear when hovering over each node\n",
        "HOVER_TOOLTIPS = [(\"Name\", \"@human_name\"),(\"Degree\", \"@degree\")]\n",
        "\n",
        "#Create a plot — set dimensions, toolbar, and title\n",
        "plot = figure(tooltips = HOVER_TOOLTIPS,\n",
        "              tools=\"pan,wheel_zoom,save,reset\", active_scroll='wheel_zoom',\n",
        "            x_range=Range1d(-10.1, 10.1), y_range=Range1d(-10.1, 10.1), title=title)\n",
        "\n",
        "#Create a network graph object with spring layout\n",
        "# https://networkx.github.io/documentation/networkx-1.9/reference/generated/networkx.drawing.layout.spring_layout.html\n",
        "network_graph = from_networkx(DG, nx.spring_layout, scale=10, center=(0, 0))\n",
        "#network_graph = from_networkx(DG, nx.kamada_kawai_layout, scale=10, center=(0, 0))\n",
        "\n",
        "#Set node sizes and colors according to node degree (color as spectrum of color palette)\n",
        "minimum_value_color = 0\n",
        "maximum_value_color = 2\n",
        "#Set node size and color\n",
        "network_graph.node_renderer.glyph = Circle(size=size_by_this_attribute, fill_color=linear_cmap(color_by_this_attribute, color_palette, minimum_value_color, maximum_value_color))\n",
        "\n",
        "#Set node highlight colors\n",
        "network_graph.node_renderer.hover_glyph = Circle(size=size_by_this_attribute, fill_color=node_highlight_color, line_width=2)\n",
        "network_graph.node_renderer.selection_glyph = Circle(size=size_by_this_attribute, fill_color=node_highlight_color, line_width=2)\n",
        "\n",
        "\n",
        "#Set edge opacity and width\n",
        "network_graph.edge_renderer.glyph = MultiLine(line_alpha=0.5, line_width=1)\n",
        "\n",
        "#Set edge highlight colors\n",
        "network_graph.edge_renderer.selection_glyph = MultiLine(line_color=edge_highlight_color, line_width=2)\n",
        "network_graph.edge_renderer.hover_glyph = MultiLine(line_color=edge_highlight_color, line_width=2)\n",
        "\n",
        "#Highlight nodes and edges\n",
        "network_graph.selection_policy = NodesAndLinkedEdges()\n",
        "network_graph.inspection_policy = NodesAndLinkedEdges()\n",
        "\n",
        "\n",
        "#Add network graph to the plot\n",
        "plot.renderers.append(network_graph)\n",
        "plot.plot_width = 1100\n",
        "plot.plot_height = 550\n",
        "show(plot)\n",
        "#save(plot, filename=f\"{title}.html\")"
      ]
    },
    {
      "cell_type": "markdown",
      "metadata": {
        "id": "mRA-pP4ZviMq"
      },
      "source": [
        "# Visualize single techniques\n",
        "\n"
      ]
    },
    {
      "cell_type": "code",
      "execution_count": 12,
      "metadata": {
        "id": "r-uB-W4Vvh7L"
      },
      "outputs": [
        {
          "name": "stdout",
          "output_type": "stream",
          "text": [
            "                                                Source                                        Destination                    source_human         target_human\n",
            "37   x-mitre-data-component--39b9db72-8b48-4595-a18...  attack-pattern--cd2c76a4-5e23-4ca5-9c40-d5e060...          Logon Session Metadata       Valid Accounts\n",
            "91   x-mitre-data-component--9ce98c86-8d30-4043-ba5...  attack-pattern--cd2c76a4-5e23-4ca5-9c40-d5e060...          Logon Session Creation       Valid Accounts\n",
            "95   x-mitre-data-component--a953ca55-921a-44f7-9b8...  attack-pattern--cd2c76a4-5e23-4ca5-9c40-d5e060...     User Account Authentication       Valid Accounts\n",
            "202  x-mitre-data-component--3772e279-27d6-477a-9fe...  attack-pattern--8bb4538f-f16f-49f0-a431-70b544...         Network Traffic Content  Default Credentials\n",
            "219  x-mitre-data-component--9ce98c86-8d30-4043-ba5...  attack-pattern--8bb4538f-f16f-49f0-a431-70b544...          Logon Session Creation  Default Credentials\n",
            "278  course-of-action--3992ce42-43e9-4bea-b8db-a102...  attack-pattern--cd2c76a4-5e23-4ca5-9c40-d5e060...               Access Management       Valid Accounts\n",
            "279  course-of-action--e57ebc6d-785f-40c8-adb1-b5b5...  attack-pattern--cd2c76a4-5e23-4ca5-9c40-d5e060...         User Account Management       Valid Accounts\n",
            "321  course-of-action--622fe4d4-0e8e-4d17-9c25-6c9c...  attack-pattern--cd2c76a4-5e23-4ca5-9c40-d5e060...   Privileged Account Management       Valid Accounts\n",
            "327  course-of-action--5d97c693-e054-48ba-a3a3-eaf6...  attack-pattern--8bb4538f-f16f-49f0-a431-70b544...               Password Policies  Default Credentials\n",
            "419  course-of-action--ddf3e568-f065-49e2-9106-4202...  attack-pattern--cd2c76a4-5e23-4ca5-9c40-d5e060...     Multi-factor Authentication       Valid Accounts\n",
            "421  course-of-action--5d97c693-e054-48ba-a3a3-eaf6...  attack-pattern--cd2c76a4-5e23-4ca5-9c40-d5e060...               Password Policies       Valid Accounts\n",
            "443  course-of-action--86b455f2-fb63-4043-93a8-32a3...  attack-pattern--cd2c76a4-5e23-4ca5-9c40-d5e060...            Account Use Policies       Valid Accounts\n",
            "450  course-of-action--3992ce42-43e9-4bea-b8db-a102...  attack-pattern--8bb4538f-f16f-49f0-a431-70b544...               Access Management  Default Credentials\n",
            "457  course-of-action--11f242bc-3121-438c-84b2-5cbd...  attack-pattern--cd2c76a4-5e23-4ca5-9c40-d5e060...          Filter Network Traffic       Valid Accounts\n",
            "475  course-of-action--bcf91ebc-f316-4e19-b2f6-444e...  attack-pattern--cd2c76a4-5e23-4ca5-9c40-d5e060...                           Audit       Valid Accounts\n",
            "503  course-of-action--2f0160b7-e982-49d7-9612-f19b...  attack-pattern--cd2c76a4-5e23-4ca5-9c40-d5e060...  Active Directory Configuration       Valid Accounts\n",
            "542  course-of-action--8a3aadd0-b5f4-433a-800e-4893...  attack-pattern--cd2c76a4-5e23-4ca5-9c40-d5e060...  Application Developer Guidance       Valid Accounts\n"
          ]
        },
        {
          "data": {
            "text/html": [
              "\n",
              "\n",
              "\n",
              "\n",
              "\n",
              "\n",
              "  <div class=\"bk-root\" id=\"ad4ca4de-b8bb-4d56-9367-3f1bcddeb398\" data-root-id=\"1207\"></div>\n"
            ]
          },
          "metadata": {},
          "output_type": "display_data"
        },
        {
          "data": {
            "application/javascript": "(function(root) {\n  function embed_document(root) {\n    \n  var docs_json = {\"53325f46-1487-483a-a975-1ae1b8ec669c\":{\"defs\":[],\"roots\":{\"references\":[{\"attributes\":{\"below\":[{\"id\":\"1216\"}],\"center\":[{\"id\":\"1219\"},{\"id\":\"1223\"}],\"height\":550,\"left\":[{\"id\":\"1220\"}],\"renderers\":[{\"id\":\"1235\"}],\"title\":{\"id\":\"1208\"},\"toolbar\":{\"id\":\"1229\"},\"width\":1100,\"x_range\":{\"id\":\"1205\"},\"x_scale\":{\"id\":\"1212\"},\"y_range\":{\"id\":\"1206\"},\"y_scale\":{\"id\":\"1214\"}},\"id\":\"1207\",\"subtype\":\"Figure\",\"type\":\"Plot\"},{\"attributes\":{\"fill_color\":{\"value\":\"white\"},\"line_width\":{\"value\":2},\"size\":{\"field\":\"adjusted_node_size\"}},\"id\":\"1256\",\"type\":\"Circle\"},{\"attributes\":{},\"id\":\"1217\",\"type\":\"BasicTicker\"},{\"attributes\":{},\"id\":\"1300\",\"type\":\"AllLabels\"},{\"attributes\":{\"end\":10.1,\"start\":-10.1},\"id\":\"1206\",\"type\":\"Range1d\"},{\"attributes\":{\"data\":{\"adjusted_node_size\":[6,18,7,6,6,9,7,6,6,7,6,6,6,6,6,6],\"degree\":[1,13,2,1,1,4,2,1,1,2,1,1,1,1,1,1],\"human_name\":[\"Logon Session Metadata\",\"Valid Accounts\",\"Logon Session Creation\",\"User Account Authentication\",\"Network Traffic Content\",\"Default Credentials\",\"Access Management\",\"User Account Management\",\"Privileged Account Management\",\"Password Policies\",\"Multi-factor Authentication\",\"Account Use Policies\",\"Filter Network Traffic\",\"Audit\",\"Active Directory Configuration\",\"Application Developer Guidance\"],\"index\":[\"x-mitre-data-component--39b9db72-8b48-4595-a18d-db5bbba3091b\",\"attack-pattern--cd2c76a4-5e23-4ca5-9c40-d5e0604f7101\",\"x-mitre-data-component--9ce98c86-8d30-4043-ba54-0784d478d0b5\",\"x-mitre-data-component--a953ca55-921a-44f7-9b8d-3d40141aa17e\",\"x-mitre-data-component--3772e279-27d6-477a-9fe3-c6beb363594c\",\"attack-pattern--8bb4538f-f16f-49f0-a431-70b5444c7349\",\"course-of-action--3992ce42-43e9-4bea-b8db-a102ec3ec1e3\",\"course-of-action--e57ebc6d-785f-40c8-adb1-b5b5e09b3b48\",\"course-of-action--622fe4d4-0e8e-4d17-9c25-6c9cef1f15d5\",\"course-of-action--5d97c693-e054-48ba-a3a3-eaf6942dfb65\",\"course-of-action--ddf3e568-f065-49e2-9106-42029a28ddbd\",\"course-of-action--86b455f2-fb63-4043-93a8-32a3a7703a02\",\"course-of-action--11f242bc-3121-438c-84b2-5cbd46a4bb17\",\"course-of-action--bcf91ebc-f316-4e19-b2f6-444e9940c697\",\"course-of-action--2f0160b7-e982-49d7-9612-f19b810f1722\",\"course-of-action--8a3aadd0-b5f4-433a-800e-4893e4196bb7\"],\"node_type\":[2,0,2,2,2,0,1,1,1,1,1,1,1,1,1,1]},\"selected\":{\"id\":\"1314\"},\"selection_policy\":{\"id\":\"1315\"}},\"id\":\"1237\",\"type\":\"ColumnDataSource\"},{\"attributes\":{\"line_alpha\":{\"value\":0.5}},\"id\":\"1261\",\"type\":\"MultiLine\"},{\"attributes\":{\"graph_layout\":{\"attack-pattern--8bb4538f-f16f-49f0-a431-70b5444c7349\":[-5.088300268290022,6.308835602612925],\"attack-pattern--cd2c76a4-5e23-4ca5-9c40-d5e0604f7101\":[0.8669016644477543,-1.0958783265295637],\"course-of-action--11f242bc-3121-438c-84b2-5cbd46a4bb17\":[0.9187842149311097,-6.466986452226771],\"course-of-action--2f0160b7-e982-49d7-9612-f19b810f1722\":[2.5568555452175286,3.2264575739396726],\"course-of-action--3992ce42-43e9-4bea-b8db-a102ec3ec1e3\":[-1.1148850931273695,4.486072270216131],\"course-of-action--5d97c693-e054-48ba-a3a3-eaf6942dfb65\":[-2.5911289237614317,3.228636935999361],\"course-of-action--622fe4d4-0e8e-4d17-9c25-6c9cef1f15d5\":[6.250834306560189,0.06463935625732288],\"course-of-action--86b455f2-fb63-4043-93a8-32a3a7703a02\":[-1.3737284988365206,-5.711352925959176],\"course-of-action--8a3aadd0-b5f4-433a-800e-4893e4196bb7\":[5.406366526352388,-2.1530155717985675],\"course-of-action--bcf91ebc-f316-4e19-b2f6-444e9940c697\":[4.913764075597499,2.2817766039776317],\"course-of-action--ddf3e568-f065-49e2-9106-42029a28ddbd\":[-3.7351534197421645,-1.7822101332021718],\"course-of-action--e57ebc6d-785f-40c8-adb1-b5b5e09b3b48\":[3.125376356206603,-5.629098570263109],\"x-mitre-data-component--3772e279-27d6-477a-9fe3-c6beb363594c\":[-8.068247213248364,10.0],\"x-mitre-data-component--39b9db72-8b48-4595-a18d-db5bbba3091b\":[5.3770273143326515,-4.542257051094922],\"x-mitre-data-component--9ce98c86-8d30-4043-ba54-0784d478d0b5\":[-4.109229399187727,2.0654137052078085],\"x-mitre-data-component--a953ca55-921a-44f7-9b8d-3d40141aa17e\":[-3.3352371874521345,-4.281033017136572]}},\"id\":\"1244\",\"type\":\"StaticLayoutProvider\"},{\"attributes\":{\"end\":10.1,\"start\":-10.1},\"id\":\"1205\",\"type\":\"Range1d\"},{\"attributes\":{\"line_width\":{\"value\":2}},\"id\":\"1271\",\"type\":\"MultiLine\"},{\"attributes\":{},\"id\":\"1303\",\"type\":\"AllLabels\"},{\"attributes\":{},\"id\":\"1278\",\"type\":\"NodesAndLinkedEdges\"},{\"attributes\":{\"fill_color\":{\"field\":\"node_type\",\"transform\":{\"id\":\"1245\"}},\"size\":{\"field\":\"adjusted_node_size\"}},\"id\":\"1246\",\"type\":\"Circle\"},{\"attributes\":{\"fill_color\":{\"value\":\"white\"},\"line_width\":{\"value\":2},\"size\":{\"field\":\"adjusted_node_size\"}},\"id\":\"1251\",\"type\":\"Circle\"},{\"attributes\":{},\"id\":\"1227\",\"type\":\"ResetTool\"},{\"attributes\":{},\"id\":\"1224\",\"type\":\"PanTool\"},{\"attributes\":{\"high\":2,\"low\":0,\"palette\":[\"#FF0000\",\"#00FF00\",\"#0000FF\"]},\"id\":\"1245\",\"type\":\"LinearColorMapper\"},{\"attributes\":{},\"id\":\"1225\",\"type\":\"WheelZoomTool\"},{\"attributes\":{},\"id\":\"1314\",\"type\":\"Selection\"},{\"attributes\":{\"formatter\":{\"id\":\"1302\"},\"major_label_policy\":{\"id\":\"1300\"},\"ticker\":{\"id\":\"1221\"}},\"id\":\"1220\",\"type\":\"LinearAxis\"},{\"attributes\":{\"callback\":null,\"tooltips\":[[\"Name\",\"@human_name\"],[\"Degree\",\"@degree\"]]},\"id\":\"1228\",\"type\":\"HoverTool\"},{\"attributes\":{},\"id\":\"1315\",\"type\":\"UnionRenderers\"},{\"attributes\":{\"active_multi\":null,\"active_scroll\":{\"id\":\"1225\"},\"tools\":[{\"id\":\"1224\"},{\"id\":\"1225\"},{\"id\":\"1226\"},{\"id\":\"1227\"},{\"id\":\"1228\"}]},\"id\":\"1229\",\"type\":\"Toolbar\"},{\"attributes\":{\"data_source\":{\"id\":\"1237\"},\"glyph\":{\"id\":\"1246\"},\"hover_glyph\":{\"id\":\"1251\"},\"muted_glyph\":null,\"selection_glyph\":{\"id\":\"1256\"},\"view\":{\"id\":\"1239\"}},\"id\":\"1238\",\"type\":\"GlyphRenderer\"},{\"attributes\":{},\"id\":\"1302\",\"type\":\"BasicTickFormatter\"},{\"attributes\":{},\"id\":\"1317\",\"type\":\"UnionRenderers\"},{\"attributes\":{\"data_source\":{\"id\":\"1241\"},\"glyph\":{\"id\":\"1261\"},\"hover_glyph\":{\"id\":\"1271\"},\"muted_glyph\":null,\"selection_glyph\":{\"id\":\"1266\"},\"view\":{\"id\":\"1243\"}},\"id\":\"1242\",\"type\":\"GlyphRenderer\"},{\"attributes\":{},\"id\":\"1276\",\"type\":\"NodesAndLinkedEdges\"},{\"attributes\":{\"axis\":{\"id\":\"1216\"},\"ticker\":null},\"id\":\"1219\",\"type\":\"Grid\"},{\"attributes\":{\"line_width\":{\"value\":2}},\"id\":\"1266\",\"type\":\"MultiLine\"},{\"attributes\":{},\"id\":\"1214\",\"type\":\"LinearScale\"},{\"attributes\":{\"source\":{\"id\":\"1237\"}},\"id\":\"1239\",\"type\":\"CDSView\"},{\"attributes\":{\"formatter\":{\"id\":\"1305\"},\"major_label_policy\":{\"id\":\"1303\"},\"ticker\":{\"id\":\"1217\"}},\"id\":\"1216\",\"type\":\"LinearAxis\"},{\"attributes\":{\"data\":{\"end\":[\"attack-pattern--cd2c76a4-5e23-4ca5-9c40-d5e0604f7101\",\"x-mitre-data-component--9ce98c86-8d30-4043-ba54-0784d478d0b5\",\"x-mitre-data-component--a953ca55-921a-44f7-9b8d-3d40141aa17e\",\"course-of-action--3992ce42-43e9-4bea-b8db-a102ec3ec1e3\",\"course-of-action--e57ebc6d-785f-40c8-adb1-b5b5e09b3b48\",\"course-of-action--622fe4d4-0e8e-4d17-9c25-6c9cef1f15d5\",\"course-of-action--ddf3e568-f065-49e2-9106-42029a28ddbd\",\"course-of-action--5d97c693-e054-48ba-a3a3-eaf6942dfb65\",\"course-of-action--86b455f2-fb63-4043-93a8-32a3a7703a02\",\"course-of-action--11f242bc-3121-438c-84b2-5cbd46a4bb17\",\"course-of-action--bcf91ebc-f316-4e19-b2f6-444e9940c697\",\"course-of-action--2f0160b7-e982-49d7-9612-f19b810f1722\",\"course-of-action--8a3aadd0-b5f4-433a-800e-4893e4196bb7\",\"attack-pattern--8bb4538f-f16f-49f0-a431-70b5444c7349\",\"attack-pattern--8bb4538f-f16f-49f0-a431-70b5444c7349\",\"course-of-action--5d97c693-e054-48ba-a3a3-eaf6942dfb65\",\"course-of-action--3992ce42-43e9-4bea-b8db-a102ec3ec1e3\"],\"start\":[\"x-mitre-data-component--39b9db72-8b48-4595-a18d-db5bbba3091b\",\"attack-pattern--cd2c76a4-5e23-4ca5-9c40-d5e0604f7101\",\"attack-pattern--cd2c76a4-5e23-4ca5-9c40-d5e0604f7101\",\"attack-pattern--cd2c76a4-5e23-4ca5-9c40-d5e0604f7101\",\"attack-pattern--cd2c76a4-5e23-4ca5-9c40-d5e0604f7101\",\"attack-pattern--cd2c76a4-5e23-4ca5-9c40-d5e0604f7101\",\"attack-pattern--cd2c76a4-5e23-4ca5-9c40-d5e0604f7101\",\"attack-pattern--cd2c76a4-5e23-4ca5-9c40-d5e0604f7101\",\"attack-pattern--cd2c76a4-5e23-4ca5-9c40-d5e0604f7101\",\"attack-pattern--cd2c76a4-5e23-4ca5-9c40-d5e0604f7101\",\"attack-pattern--cd2c76a4-5e23-4ca5-9c40-d5e0604f7101\",\"attack-pattern--cd2c76a4-5e23-4ca5-9c40-d5e0604f7101\",\"attack-pattern--cd2c76a4-5e23-4ca5-9c40-d5e0604f7101\",\"x-mitre-data-component--9ce98c86-8d30-4043-ba54-0784d478d0b5\",\"x-mitre-data-component--3772e279-27d6-477a-9fe3-c6beb363594c\",\"attack-pattern--8bb4538f-f16f-49f0-a431-70b5444c7349\",\"attack-pattern--8bb4538f-f16f-49f0-a431-70b5444c7349\"]},\"selected\":{\"id\":\"1316\"},\"selection_policy\":{\"id\":\"1317\"}},\"id\":\"1241\",\"type\":\"ColumnDataSource\"},{\"attributes\":{\"text\":\"MITRE Graph Visuals\"},\"id\":\"1208\",\"type\":\"Title\"},{\"attributes\":{},\"id\":\"1305\",\"type\":\"BasicTickFormatter\"},{\"attributes\":{\"axis\":{\"id\":\"1220\"},\"dimension\":1,\"ticker\":null},\"id\":\"1223\",\"type\":\"Grid\"},{\"attributes\":{},\"id\":\"1212\",\"type\":\"LinearScale\"},{\"attributes\":{},\"id\":\"1221\",\"type\":\"BasicTicker\"},{\"attributes\":{\"source\":{\"id\":\"1241\"}},\"id\":\"1243\",\"type\":\"CDSView\"},{\"attributes\":{\"edge_renderer\":{\"id\":\"1242\"},\"inspection_policy\":{\"id\":\"1278\"},\"layout_provider\":{\"id\":\"1244\"},\"node_renderer\":{\"id\":\"1238\"},\"selection_policy\":{\"id\":\"1276\"}},\"id\":\"1235\",\"type\":\"GraphRenderer\"},{\"attributes\":{},\"id\":\"1316\",\"type\":\"Selection\"},{\"attributes\":{},\"id\":\"1226\",\"type\":\"SaveTool\"}],\"root_ids\":[\"1207\"]},\"title\":\"Bokeh Application\",\"version\":\"2.3.3\"}};\n  var render_items = [{\"docid\":\"53325f46-1487-483a-a975-1ae1b8ec669c\",\"root_ids\":[\"1207\"],\"roots\":{\"1207\":\"ad4ca4de-b8bb-4d56-9367-3f1bcddeb398\"}}];\n  root.Bokeh.embed.embed_items_notebook(docs_json, render_items);\n\n  }\n  if (root.Bokeh !== undefined) {\n    embed_document(root);\n  } else {\n    var attempts = 0;\n    var timer = setInterval(function(root) {\n      if (root.Bokeh !== undefined) {\n        clearInterval(timer);\n        embed_document(root);\n      } else {\n        attempts++;\n        if (attempts > 100) {\n          clearInterval(timer);\n          console.log(\"Bokeh: ERROR: Unable to run BokehJS code because BokehJS library is missing\");\n        }\n      }\n    }, 10, root)\n  }\n})(window);",
            "application/vnd.bokehjs_exec.v0+json": ""
          },
          "metadata": {
            "application/vnd.bokehjs_exec.v0+json": {
              "id": "1207"
            }
          },
          "output_type": "display_data"
        }
      ],
      "source": [
        "from bokeh.core.property_mixins import LineJoin\n",
        "from bokeh.io import output_notebook, show, save\n",
        "from bokeh.models import Range1d, Circle, ColumnDataSource, MultiLine\n",
        "from bokeh.plotting import figure\n",
        "from bokeh.plotting import from_networkx\n",
        "from bokeh.palettes import Blues8, Reds8, Purples8, Oranges8, Viridis8, Spectral8\n",
        "from bokeh.transform import linear_cmap\n",
        "from bokeh.models import EdgesAndLinkedNodes, NodesAndLinkedEdges\n",
        "import networkx as nx\n",
        "\n",
        "# display all rows (be careful)\n",
        "pd.set_option('display.max_rows', None)\n",
        "# avoid line breaks\n",
        "pd.set_option('display.expand_frame_repr', False)\n",
        "\n",
        "# Techniques of pipedream/incontroller\n",
        "#df_filtered = df[df['target_human'].isin(['Remote Services','Command-Line Interface','Execution through API','Scripting','User Execution',\n",
        "#                                          'System Firmware','Valid Accounts','Exploitation for Privilege Escalation','Rootkit','Network Sniffing',\n",
        "#                                          'Remote System Discovery','Remote System Information Discovery','Default Credentials','Lateral Tool Transfer',\n",
        "#                                          'Program Download','Remote Services','Valid Accounts','Detect Operating Mode','Point & Tag Identification',\n",
        "#                                          'Program Upload'])]\n",
        "\n",
        "df_filtered = df[df['target_human'].isin(['Default Credentials','Valid Accounts'])]\n",
        "print(df_filtered)\n",
        "DG = nx.from_pandas_edgelist(df_filtered, source='Source', target='Destination',create_using=nx.Graph())\n",
        "\n",
        "# set the degrees (connections per node)\n",
        "degrees = dict(nx.degree(DG))\n",
        "nx.set_node_attributes(DG, name='degree', values=degrees)\n",
        "\n",
        "#set the human readable attribute\n",
        "all_mappings = {}\n",
        "all_mappings.update(mc_technique_mapping)\n",
        "all_mappings.update(mc_mitigation_mapping)\n",
        "all_mappings.update(mc_detection_mapping)\n",
        "nx.set_node_attributes(DG,name='human_name',values=all_mappings)\n",
        "\n",
        "#ensure very small degrees are still visible\n",
        "number_to_adjust_by = 5\n",
        "adjusted_node_size = dict([(node, degree+number_to_adjust_by) for node, degree in nx.degree(DG)])\n",
        "nx.set_node_attributes(DG, name='adjusted_node_size', values=adjusted_node_size)\n",
        "\n",
        "# determine type, add attribute\n",
        "node_types = {}\n",
        "for node in DG.nodes:\n",
        "  if node.startswith('attack-pattern'):\n",
        "    node_types[node] = 0\n",
        "  elif node.startswith('course-of-action'):\n",
        "    node_types[node] = 1\n",
        "  else:\n",
        "    node_types[node] = 2\n",
        "\n",
        "#set the node type (attack-pattern,course-of-action,data-source)\n",
        "nx.set_node_attributes(DG, name='node_type', values=node_types)\n",
        "\n",
        "#Choose attributes from G network to size and color by — setting manual size (e.g. 10) or color (e.g. 'skyblue') also allowed\n",
        "size_by_this_attribute = 'adjusted_node_size'\n",
        "color_by_this_attribute = 'node_type'\n",
        "\n",
        "#color_palette = red,green,blue\n",
        "color_palette = ['#FF0000','#00FF00','#0000FF']\n",
        "\n",
        "#Choose colors for node and edge highlighting\n",
        "node_highlight_color = 'white'\n",
        "edge_highlight_color = 'black'\n",
        "\n",
        "#Choose a title!\n",
        "title = 'MITRE Graph Visuals'\n",
        "\n",
        "#Establish which categories will appear when hovering over each node\n",
        "HOVER_TOOLTIPS = [(\"Name\", \"@human_name\"),(\"Degree\", \"@degree\")]\n",
        "\n",
        "#Create a plot — set dimensions, toolbar, and title\n",
        "plot = figure(tooltips = HOVER_TOOLTIPS,\n",
        "              tools=\"pan,wheel_zoom,save,reset\", active_scroll='wheel_zoom',\n",
        "            x_range=Range1d(-10.1, 10.1), y_range=Range1d(-10.1, 10.1), title=title)\n",
        "\n",
        "#Create a network graph object with spring layout\n",
        "# https://networkx.github.io/documentation/networkx-1.9/reference/generated/networkx.drawing.layout.spring_layout.html\n",
        "network_graph = from_networkx(DG, nx.spring_layout, scale=10, center=(0, 0))\n",
        "#network_graph = from_networkx(DG, nx.kamada_kawai_layout, scale=10, center=(0, 0))\n",
        "\n",
        "#Set node sizes and colors according to node degree (color as spectrum of color palette)\n",
        "minimum_value_color = 0\n",
        "maximum_value_color = 2\n",
        "#Set node size and color\n",
        "network_graph.node_renderer.glyph = Circle(size=size_by_this_attribute, fill_color=linear_cmap(color_by_this_attribute, color_palette, minimum_value_color, maximum_value_color))\n",
        "\n",
        "#Set node highlight colors\n",
        "network_graph.node_renderer.hover_glyph = Circle(size=size_by_this_attribute, fill_color=node_highlight_color, line_width=2)\n",
        "network_graph.node_renderer.selection_glyph = Circle(size=size_by_this_attribute, fill_color=node_highlight_color, line_width=2)\n",
        "\n",
        "\n",
        "#Set edge opacity and width\n",
        "network_graph.edge_renderer.glyph = MultiLine(line_alpha=0.5, line_width=1)\n",
        "\n",
        "#Set edge highlight colors\n",
        "network_graph.edge_renderer.selection_glyph = MultiLine(line_color=edge_highlight_color, line_width=2)\n",
        "network_graph.edge_renderer.hover_glyph = MultiLine(line_color=edge_highlight_color, line_width=2)\n",
        "\n",
        "#Highlight nodes and edges\n",
        "network_graph.selection_policy = NodesAndLinkedEdges()\n",
        "network_graph.inspection_policy = NodesAndLinkedEdges()\n",
        "\n",
        "\n",
        "#Add network graph to the plot\n",
        "plot.renderers.append(network_graph)\n",
        "plot.plot_width = 1100\n",
        "plot.plot_height = 550\n",
        "show(plot)\n",
        "#save(plot, filename=f\"{title}.html\")"
      ]
    },
    {
      "cell_type": "markdown",
      "metadata": {},
      "source": [
        "## ICS visualization testing\n",
        "\n",
        "After this block we are experimenting with some matching of ICS attacks to their corresponding techniques and mitigations"
      ]
    },
    {
      "cell_type": "code",
      "execution_count": 16,
      "metadata": {},
      "outputs": [
        {
          "ename": "KeyError",
          "evalue": "'source'",
          "output_type": "error",
          "traceback": [
            "\u001b[0;31m---------------------------------------------------------------------------\u001b[0m",
            "\u001b[0;31mKeyError\u001b[0m                                  Traceback (most recent call last)",
            "Cell \u001b[0;32mIn[16], line 18\u001b[0m\n\u001b[1;32m     16\u001b[0m \u001b[38;5;28;01mif\u001b[39;00m \u001b[38;5;124m'\u001b[39m\u001b[38;5;124mrelationship_type\u001b[39m\u001b[38;5;124m'\u001b[39m \u001b[38;5;129;01min\u001b[39;00m x:\n\u001b[1;32m     17\u001b[0m     \u001b[38;5;28;01mif\u001b[39;00m x[\u001b[38;5;124m'\u001b[39m\u001b[38;5;124mrelationship_type\u001b[39m\u001b[38;5;124m'\u001b[39m] \u001b[38;5;241m==\u001b[39m \u001b[38;5;124m'\u001b[39m\u001b[38;5;124mdetects\u001b[39m\u001b[38;5;124m'\u001b[39m:\n\u001b[0;32m---> 18\u001b[0m         \u001b[43mmc_structured_data\u001b[49m\u001b[43m[\u001b[49m\u001b[38;5;124;43m'\u001b[39;49m\u001b[38;5;124;43msource\u001b[39;49m\u001b[38;5;124;43m'\u001b[39;49m\u001b[43m]\u001b[49m\u001b[38;5;241m.\u001b[39mappend(x[\u001b[38;5;124m'\u001b[39m\u001b[38;5;124msource_ref\u001b[39m\u001b[38;5;124m'\u001b[39m])\n\u001b[1;32m     19\u001b[0m         mc_structured_data[\u001b[38;5;124m'\u001b[39m\u001b[38;5;124mDestination\u001b[39m\u001b[38;5;124m'\u001b[39m]\u001b[38;5;241m.\u001b[39mappend(x[\u001b[38;5;124m'\u001b[39m\u001b[38;5;124mtarget_ref\u001b[39m\u001b[38;5;124m'\u001b[39m])\n\u001b[1;32m     20\u001b[0m         mc_structured_data[\u001b[38;5;124m'\u001b[39m\u001b[38;5;124msource_human\u001b[39m\u001b[38;5;124m'\u001b[39m]\u001b[38;5;241m.\u001b[39mappend(mc_detection_mapping[x[\u001b[38;5;124m'\u001b[39m\u001b[38;5;124msource_ref\u001b[39m\u001b[38;5;124m'\u001b[39m]])\n",
            "\u001b[0;31mKeyError\u001b[0m: 'source'"
          ]
        }
      ],
      "source": [
        "import pandas as pd\n",
        "from itertools import chain\n",
        "\n",
        "def get_software(src):\n",
        "    return list(chain.from_iterable(\n",
        "        src.query(f) for f in [\n",
        "            Filter(\"type\", \"=\", \"tool\"),\n",
        "            Filter(\"type\", \"=\", \"malware\")\n",
        "        ]\n",
        "    ))\n",
        "\n",
        "MC_SOFTWARE = get_software(MC_DATA)\n",
        "MC_RELATIONS = MC_DATA.query(Filter(\"type\",\"=\",\"relationship\"))\n",
        "mc_structured_data = {'Source':[],'Destination':[],'source_human':[],'target_human':[]}\n",
        "for idx, x in enumerate(MC_RELATIONS):\n",
        "    if 'relationship_type' in x:\n",
        "        if x['relationship_type'] == 'detects':\n",
        "            mc_structured_data['Source'].append(x['source_ref'])\n",
        "            mc_structured_data['Destination'].append(x['target_ref'])\n",
        "            mc_structured_data['source_human'].append(mc_detection_mapping[x['source_ref']])\n",
        "            mc_structured_data['target_human'].append(mc_technique_mapping[x['target_ref']])\n",
        "# print(MC_RELATIONS)\n",
        "# print(MC_SOFTWARE)\n",
        "\n",
        "df = pd.DataFrame(data=mc_structured_data)\n",
        "df.tail()"
      ]
    },
    {
      "cell_type": "markdown",
      "metadata": {
        "id": "QkayYpMdmokf"
      },
      "source": [
        "# References\n",
        "\n",
        "* https://melaniewalsh.github.io/Intro-Cultural-Analytics/welcome.html\n",
        "* Attack CTI\n",
        "\t* https://attackcti.com/intro.html\n",
        "\t* https://github.com/OTRF/ATTACK-Python-Client/blob/f96f9d6094afc657682ccbc1988bae5db39552e9/attackcti/attack_api.py\n",
        "* MITRE Stix / Taxii\n",
        "\t* https://github.com/mitre/cti/blob/master/USAGE.md\n",
        "\t* https://github.com/mitre-attack/attack-stix-data\n",
        "\t* https://github.com/oasis-open/cti-python-stix2"
      ]
    }
  ],
  "metadata": {
    "colab": {
      "collapsed_sections": [],
      "provenance": []
    },
    "kernelspec": {
      "display_name": "Python 3",
      "name": "python3"
    },
    "language_info": {
      "codemirror_mode": {
        "name": "ipython",
        "version": 3
      },
      "file_extension": ".py",
      "mimetype": "text/x-python",
      "name": "python",
      "nbconvert_exporter": "python",
      "pygments_lexer": "ipython3",
      "version": "3.12.2"
    }
  },
  "nbformat": 4,
  "nbformat_minor": 0
}
