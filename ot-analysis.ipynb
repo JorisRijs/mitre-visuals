{
 "cells": [
  {
   "cell_type": "markdown",
   "id": "f8747156-295c-4243-b121-08d57f60fedc",
   "metadata": {
    "tags": [],
    "toc-hr-collapsed": true
   },
   "source": [
    "# Analysis of MITRE OT data\n",
    "\n",
    "This notebook is used to analyse the OT data and provide a visual representation that can aid in discovering remediation priorities  based on different views. Please note this is mostly intended to validate some working theories and is by no means complete.\n",
    "\n",
    "## Definition\n",
    "* DUSTTUNNEL\n",
    "  * ICECORE\n",
    "* LAZYCARGO\n",
    "* MOUSEHOLE\n",
    "  * TAGRUN\n",
    "* BADOMEN\n",
    "  * OMSHELL\n",
    "* EVILSCHOLAR\n",
    "  * CODECALL\n",
    "\n",
    "## Scope\n",
    "For this analysis we focus on the Pipedream / Incontroller malware by the Chernovite group\n",
    "\n",
    "## Goals\n",
    "* Attempt to understand which mitigations are best suited to defend against the mentioned malware\n",
    "* Attempt to understand which data sources are best suited to detect the mentioned malware\n",
    "\n",
    "## References\n",
    "* https://github.com/mitre-attack/attack-stix-data/blob/master/USAGE.md#the-attck-data-model\n",
    "* https://oasis-open.github.io/cti-documentation/examples/visualized-sdo-relationships"
   ]
  },
  {
   "cell_type": "markdown",
   "id": "4fd12556-4a6f-422f-a89c-2a8826228a9c",
   "metadata": {
    "tags": []
   },
   "source": [
    "## Dependencies"
   ]
  },
  {
   "cell_type": "code",
   "execution_count": null,
   "id": "d19bb243-bf29-4905-8706-29db09287f27",
   "metadata": {
    "tags": []
   },
   "outputs": [],
   "source": [
    "%pip install pandas\n",
    "%pip install taxii2-client\n",
    "%pip install stix2\n",
    "%pip install networkx\n",
    "%pip install pyvis\n",
    "# required if you want to do text extraction\n",
    "#%pip install PyPDF2"
   ]
  },
  {
   "cell_type": "markdown",
   "id": "131e49a8-d127-4b94-b79b-6195b6bd34c0",
   "metadata": {
    "tags": [],
    "toc-hr-collapsed": true
   },
   "source": [
    "# Imports & data access setup"
   ]
  },
  {
   "cell_type": "code",
   "execution_count": null,
   "id": "ac40d008-fd7a-40f0-9424-f55a01378f59",
   "metadata": {},
   "outputs": [],
   "source": [
    "from stix2 import Filter\n",
    "import pandas as pd\n",
    "import networkx as nx\n",
    "from pyvis.network import Network"
   ]
  },
  {
   "cell_type": "markdown",
   "id": "c2707d7d-fe7f-40d2-abb6-fe7305f022a2",
   "metadata": {
    "jp-MarkdownHeadingCollapsed": true,
    "tags": []
   },
   "source": [
    "## Select & setup LIVE collections"
   ]
  },
  {
   "cell_type": "code",
   "execution_count": null,
   "id": "9f6b25dc-4bd3-4325-aa17-e3ef27f9860e",
   "metadata": {},
   "outputs": [],
   "source": [
    "## Disabled by default, since we have local files\n",
    "runme = False\n",
    "if runme:\n",
    "    from taxii2client.v20 import Server\n",
    "    from stix2 import TAXIICollectionSource, Filter\n",
    "    from taxii2client.v20 import Collection\n",
    "\n",
    "    #setup taxii logging\n",
    "    import logging\n",
    "    logging.getLogger('taxii2client').setLevel(logging.CRITICAL)\n",
    "    server = Server(\"https://cti-taxii.mitre.org/taxii/\")"
   ]
  },
  {
   "cell_type": "markdown",
   "id": "97bfed51-d597-4619-a7c6-ce3bd145bd2e",
   "metadata": {},
   "source": [
    "### Online data"
   ]
  },
  {
   "cell_type": "code",
   "execution_count": null,
   "id": "2cff784d-0a86-4763-b967-69956fa07434",
   "metadata": {},
   "outputs": [],
   "source": [
    "runme = False\n",
    "if runme:\n",
    "    api_root = server.api_roots[0]\n",
    "    for idx, collection in enumerate(api_root.collections):\n",
    "        print(f\"[{idx}] {collection.title} -> {collection.description}\")"
   ]
  },
  {
   "cell_type": "markdown",
   "id": "fa621bd5-53eb-49ee-a593-3289c8da783e",
   "metadata": {
    "tags": []
   },
   "source": [
    "## Offline data: download collections\n",
    "to be used when the live connection fails"
   ]
  },
  {
   "cell_type": "code",
   "execution_count": null,
   "id": "bbd455a3-740d-44e4-a982-5fb9ef7d459e",
   "metadata": {},
   "outputs": [],
   "source": [
    "## Use this if you don't have local files or want to update them\n",
    "runme = False\n",
    "if runme:\n",
    "    import requests\n",
    "    import json\n",
    "\n",
    "    def get_data_from_branch(domain, branch=\"master\"):\n",
    "        # get the ATT&CK STIX data from MITRE/CTI. Domain should be 'enterprise-attack', 'mobile-attack' or 'ics-attack'. Branch should typically be master\n",
    "        #stix_json = requests.get(f\"https://raw.githubusercontent.com/mitre/cti/{branch}/{domain}/{domain}.json\").json()\n",
    "        stix_json = requests.get(f\"https://github.com/mitre-attack/attack-stix-data/raw/{branch}/{domain}/{domain}.json\").json()\n",
    "        with open(f\"stixdata/{domain}.json\",\"w\") as stixfile:\n",
    "            stixfile.write(json.dumps(stix_json))\n",
    "\n",
    "    for domain in ['enterprise-attack','mobile-attack','ics-attack']:\n",
    "        get_data_from_branch(domain)\n",
    "    print(\"Downloaded\")"
   ]
  },
  {
   "cell_type": "markdown",
   "id": "9fd3cfb6-1b7b-4f5d-869d-8e0db6b062cf",
   "metadata": {},
   "source": [
    "### Offline data loading\n",
    "To be used when online query provides errors"
   ]
  },
  {
   "cell_type": "code",
   "execution_count": null,
   "id": "6478038a-4faf-4b6a-aa87-642b58692a00",
   "metadata": {},
   "outputs": [],
   "source": [
    "from stix2 import MemoryStore\n",
    "\n",
    "stix_ics = MemoryStore()\n",
    "stix_ics.load_from_file(\"stixdata/ics-attack.json\")\n",
    "\n",
    "stix_enterprise = MemoryStore()\n",
    "stix_enterprise.load_from_file(\"stixdata/enterprise-attack.json\")\n",
    "\n",
    "print(stix_ics)\n",
    "print(stix_enterprise)"
   ]
  },
  {
   "cell_type": "markdown",
   "id": "3685f240-e626-46bf-af9f-46ff571365f0",
   "metadata": {
    "tags": []
   },
   "source": [
    "# Available techniques\n",
    "We did this manually, since automated extraction is kinda challenging.\n",
    "You can do it automatically if you want, but extracting techniques not numbers is challenging."
   ]
  },
  {
   "cell_type": "code",
   "execution_count": null,
   "id": "7898f577-680a-4347-bbb6-c590de585864",
   "metadata": {},
   "outputs": [],
   "source": [
    "\"\"\"\n",
    "# probably useless for most PDF files, but can still be useful\n",
    "from PyPDF2 import PdfReader\n",
    "import re\n",
    "\n",
    "technique_pattern = r' ?[tT]\\d{1,4}'\n",
    "\n",
    "reader = PdfReader(\"PDF/Dragos_ChernoviteWP_v2b.pdf\")\n",
    "for page in reader.pages:\n",
    "    techniques_found = re.findall(technique_pattern, page.extract_text())\n",
    "    if len(techniques_found) > 0:\n",
    "        print(techniques_found)\n",
    "\"\"\""
   ]
  },
  {
   "cell_type": "code",
   "execution_count": null,
   "id": "306d1f54-dee8-4956-90d3-2f0e8d32c7c5",
   "metadata": {},
   "outputs": [],
   "source": [
    "# Techniques without ID, needs resolving\n",
    "PIPEDREAM_UNRESOLVED = ['Command-Line Interface',\n",
    "                        'Connection Proxy',\n",
    "                        'Commonly Used Port',\n",
    "                        'Denial of Control',\n",
    "                        'Default Credentials',\n",
    "                        'Denial of Service',\n",
    "                        'Denial of View',\n",
    "                        'Detect Operating Mode',\n",
    "                        'Device Restart/Shutdown',\n",
    "                        'Execution through API',\n",
    "                        'Exploitation for Privilege Escalation',\n",
    "                        'Lateral Tool Transfer',\n",
    "                        'Loss of Availability',\n",
    "                        'Loss of Control',\n",
    "                        'Loss of Productivity and Revenue',\n",
    "                        'Loss of Safety',\n",
    "                        'Loss of View',\n",
    "                        'Manipulate I/O Image',\n",
    "                        'Manipulation of Control',\n",
    "                        'Modify Parameter',\n",
    "                        'Network Sniffing',                        \n",
    "                        'Point & Tag Identification',\n",
    "                        'Program Download',\n",
    "                        'Program Upload',\n",
    "                        'Remote Services',                        \n",
    "                        'Remote System Discovery',\n",
    "                        'Remote System Information Discovery',\n",
    "                        'Rootkit',\n",
    "                        'Scripting',\n",
    "                        'Standard Application Layer Protocol',\n",
    "                        'System Firmware',\n",
    "                        'Theft of Operational Information',\n",
    "                        'User Execution',\n",
    "                        'Unauthorized Command Message',\n",
    "                        'Valid Accounts',\n",
    "                       ]\n",
    "\n",
    "PIPEDREAM_TECHNIQUES = {'T1047':'Windows Management Instrumentation',\n",
    "                        'T1059':'Command and Scripting Interpreter',                     \n",
    "                        'T1105':'Ingress Tool Transfer',\n",
    "                        'T1544':'Remote File Copy',\n",
    "                        }\n",
    "\n",
    "BADOMEN_TECHNIQUES = {'T0801':'Monitor Process State',\n",
    "                      'T0807':'Command-Line Interface',\n",
    "                      'T0812':'Default Credentials',\n",
    "                      'T0821':'Modify Controller Tasking',\n",
    "                      'T0831':'Manipulation of Control',\n",
    "                      'T0834':'Native API',\n",
    "                      'T0836':'Modify Parameter',\n",
    "                      'T0837':'Loss of Safety',\n",
    "                      'T0842':'Network Sniffing',\n",
    "                      'T0843':'Program Download',\n",
    "                      'T0845':'Program Upload',\n",
    "                      'T0846':'Remote System Discovery',\n",
    "                      'T0853':'Scripting',\n",
    "                      'T0855':'Unauthorized Command Message',\n",
    "                      'T0858':'Change Operating Mode',\n",
    "                      'T0859':'Valid Accounts',\n",
    "                      'T0867':'Lateral Tool Transfer',\n",
    "                      'T0868':'Detect Operating Mode',\n",
    "                      'T0869':'Standard Application Layer Protocol',\n",
    "                      'T0879':'Damage to Property',\n",
    "                      'T0881':'Service Stop',\n",
    "                      'T0882':'Theft of Operational Information',\n",
    "                      'T0885':'Commonly Used Port',\n",
    "                      'T0886':'Remote Services',\n",
    "                      'T0888':'Remote System Information Discovery',\n",
    "                      'T0889':'Modify Program',\n",
    "                      'T1021':'Remote Services',\n",
    "                      'T1552':'Unsecured Credentials',\n",
    "                      'T1544':'Remote File Copy',\n",
    "                      'T1573':'Encrypted Channel',\n",
    "                     }\n",
    "\n",
    "EVILSCHOLAR_TECHNIQUES = {'T0801':'Monitor Process State',\n",
    "                          'T0803':'Block Command Message',\n",
    "                          'T0804':'Block Reporting Message',\n",
    "                          'T0807':'Command-Line Interface',\n",
    "                          'T0809':'Data Destruction',\n",
    "                          'T0812':'Default Credentials',\n",
    "                          'T0813':'Denial of Control',\n",
    "                          'T0814':'Denial of Service',\n",
    "                          'T0815':'Denial of View',\n",
    "                          'T0816':'Device Restart/Shutdown',\n",
    "                          'T0826':'Loss of Availability',\n",
    "                          'T0827':'Loss of Control',\n",
    "                          'T0828':'Loss of Productivity and Revenue',\n",
    "                          'T0831':'Manipulation of Control',\n",
    "                          'T0836':'Modify Parameter',\n",
    "                          'T0843':'Program Download',\n",
    "                          'T0845':'Program Upload',\n",
    "                          'T0846':'Remote System Discovery',\n",
    "                          'T0853':'Scripting',\n",
    "                          'T0855':'Unauthorized Command Message',\n",
    "                          'T0857':'System Firmware',\n",
    "                          'T0859':'Valid Accounts',\n",
    "                          'T0869':'Standard Application Layer Protocol',\n",
    "                          'T0882':'Theft of Operational Information',\n",
    "                          'T0885':'Commonly Used Port',\n",
    "                          'T0888':'Remote System Information Discovery',\n",
    "                          'T0889':'Modify Program',\n",
    "                          'T1078':'Valid Accounts',\n",
    "                          'T1110':'Brute Force',\n",
    "                         }\n",
    "\n",
    "LAZYCARGO_TECHNIQUES = {'T1544':'Remote File Copy'\n",
    "                       }\n",
    "\n",
    "MOUSEHOLE_TECHNIQUES = {'T0801':'Monitor Process State',\n",
    "                        'T0807':'Command-Line Interface',\n",
    "                        'T0832':'Manipulation of View',\n",
    "                        'T0846':'Remote System Discovery',\n",
    "                        'T0853':'Scripting',\n",
    "                        'T0859':'Valid Accounts',\n",
    "                        'T0861':'Point & Tag Identification',\n",
    "                        'T0869':'Standard Application Layer Protocol',\n",
    "                        'T0885':'Commonly Used Port',\n",
    "                        'T0882':'Theft of Operational Information',\n",
    "                        'T0888':'Remote System Information Discovery',\n",
    "                        'T1046':'Network Service Scanning'\n",
    "                       }"
   ]
  },
  {
   "cell_type": "markdown",
   "id": "77b4efcd-763b-4b09-96ae-568084875042",
   "metadata": {},
   "source": [
    "## Resolve unknown techniques"
   ]
  },
  {
   "cell_type": "code",
   "execution_count": null,
   "id": "43ee7ce1-007a-43fc-b9cf-c0094b1118e2",
   "metadata": {},
   "outputs": [],
   "source": [
    "print(f\"before {len(PIPEDREAM_TECHNIQUES)}\")\n",
    "for unresolved in PIPEDREAM_UNRESOLVED:\n",
    "    filters = [\n",
    "        Filter(\"type\", \"=\", \"attack-pattern\"),\n",
    "        Filter(\"external_references.source_name\", \"=\", 'mitre-attack'),\n",
    "        Filter(\"name\", \"=\", unresolved),\n",
    "    ]\n",
    "\n",
    "    techniques = stix_ics.query(filters)\n",
    "    if len(techniques) > 0:\n",
    "        for external_reference in techniques[0]['external_references']:\n",
    "            if external_reference['source_name'] == 'mitre-attack':\n",
    "                PIPEDREAM_TECHNIQUES[external_reference['external_id']] = unresolved\n",
    "    else:\n",
    "        print(f\"unresolved {unresolved}\")\n",
    "\n",
    "print(f\"after {len(PIPEDREAM_TECHNIQUES)}\")"
   ]
  },
  {
   "cell_type": "markdown",
   "id": "f4a163d8-642b-4d54-93da-afe9f9a1803c",
   "metadata": {},
   "source": [
    "## Combine all techniques\n",
    "We also want to have a complete set of techniques for this family."
   ]
  },
  {
   "cell_type": "code",
   "execution_count": null,
   "id": "93ca59e5-d529-4494-8db4-08795bad2f9e",
   "metadata": {},
   "outputs": [],
   "source": [
    "print(f\"before {len(PIPEDREAM_TECHNIQUES)}\")\n",
    "\n",
    "PIPEDREAM_TECHNIQUES.update(BADOMEN_TECHNIQUES)\n",
    "PIPEDREAM_TECHNIQUES.update(EVILSCHOLAR_TECHNIQUES)\n",
    "PIPEDREAM_TECHNIQUES.update(LAZYCARGO_TECHNIQUES)\n",
    "PIPEDREAM_TECHNIQUES.update(MOUSEHOLE_TECHNIQUES)\n",
    "\n",
    "print(f\"after {len(PIPEDREAM_TECHNIQUES)}\")"
   ]
  },
  {
   "cell_type": "markdown",
   "id": "fbed1695-fca8-4279-8b13-1535d9828466",
   "metadata": {
    "tags": []
   },
   "source": [
    "# Helper functions"
   ]
  },
  {
   "cell_type": "code",
   "execution_count": null,
   "id": "17a3a4ff-26b6-4fa9-9e31-3ae54a405ea2",
   "metadata": {},
   "outputs": [],
   "source": [
    "class MitreTechniqueExplorer:\n",
    "    def __init__(self, stix_data_store, mitre_technique_id):\n",
    "        self.stix_store = stix_data_store\n",
    "        self._technique_id = mitre_technique_id.upper()\n",
    "        self._stix_id = self._stixid_from_id()\n",
    "        self._technique_name = self._name_from_id()\n",
    "        self._technique_tactics = self._tactics_from_id()\n",
    "        self._datasources = self._datasources_from_id()\n",
    "        self._mitigations = self._mitigations_from_id()\n",
    "        self._targets = self._targets_from_id()\n",
    "        \n",
    "    @property\n",
    "    def id_mitre(self):\n",
    "        return self._technique_id\n",
    "    \n",
    "    @property\n",
    "    def id_stix(self):\n",
    "        return self._stix_id\n",
    "    \n",
    "    @property\n",
    "    def name(self):\n",
    "        return self._technique_name\n",
    "    \n",
    "    @property\n",
    "    def tactics(self):\n",
    "        return self._technique_tactics\n",
    "    \n",
    "    @property\n",
    "    def datasources(self):\n",
    "        return self._datasources\n",
    "    \n",
    "    @property\n",
    "    def mitigations(self):\n",
    "        return self._mitigations\n",
    "    \n",
    "    @property\n",
    "    def targets(self):\n",
    "        return self._targets\n",
    "            \n",
    "    def _filtered_query(self, original_filter):\n",
    "        clean_results = []\n",
    "        filters = list(original_filter)\n",
    "        filters.append(Filter(\"revoked\",\"=\",False))\n",
    "        search_results = self.stix_store.query(filters)\n",
    "        for result in search_results:\n",
    "            if result.get('x_mitre_deprecated',False) is False:\n",
    "                clean_results.append(result)\n",
    "        return clean_results\n",
    "    \n",
    "    def _stixid_from_id(self):   \n",
    "        filters = [\n",
    "            Filter(\"type\", \"=\", \"attack-pattern\"),\n",
    "            Filter(\"external_references.source_name\", \"=\", 'mitre-attack'),\n",
    "            Filter(\"external_references.external_id\",\"=\",self._technique_id)\n",
    "        ]\n",
    "\n",
    "        search_results = self._filtered_query(filters)\n",
    "        for result in search_results:\n",
    "            return result.get('id','')\n",
    "        \n",
    "    def _name_from_id(self):   \n",
    "        filters = [\n",
    "            Filter(\"type\", \"=\", \"attack-pattern\"),\n",
    "            Filter(\"external_references.source_name\", \"=\", 'mitre-attack'),\n",
    "            Filter(\"external_references.external_id\",\"=\",self._technique_id)\n",
    "        ]\n",
    "\n",
    "        search_results = self._filtered_query(filters)\n",
    "        for result in search_results:\n",
    "            return result.get('name','')\n",
    "\n",
    "    def _tactics_from_id(self):\n",
    "        icstactics = []\n",
    "        filters = [\n",
    "            Filter(\"type\", \"=\", \"attack-pattern\"),\n",
    "            Filter(\"kill_chain_phases.kill_chain_name\", \"=\", 'mitre-ics-attack'),\n",
    "            Filter(\"external_references.source_name\", \"=\", 'mitre-attack'),\n",
    "            Filter(\"external_references.external_id\", \"=\", self._technique_id)\n",
    "        ]\n",
    "\n",
    "        search_results = self._filtered_query(filters)\n",
    "        for result in search_results:\n",
    "            for kcphase in result['kill_chain_phases']:\n",
    "                if kcphase['kill_chain_name'] == 'mitre-ics-attack':\n",
    "                    icstactics.append(kcphase['phase_name'])\n",
    "\n",
    "        return icstactics if icstactics else None\n",
    "\n",
    "    def _datasources_from_id(self):\n",
    "        datasources = []\n",
    "        filters = [\n",
    "            Filter(\"type\", \"=\", \"attack-pattern\"),\n",
    "            Filter(\"kill_chain_phases.kill_chain_name\", \"=\", 'mitre-ics-attack'),\n",
    "            Filter(\"external_references.source_name\", \"=\", 'mitre-attack'),\n",
    "            Filter(\"external_references.external_id\", \"=\", self._technique_id)\n",
    "        ]\n",
    "\n",
    "        search_results = self._filtered_query(filters)\n",
    "        for result in search_results:\n",
    "            if 'x_mitre_data_sources' in result:\n",
    "                _datasources = result['x_mitre_data_sources']\n",
    "                for _datasource in _datasources:\n",
    "                    datasources.append({k: v for k, v in [_datasource.split(':') if ':' in _datasource else (_datasource,'')]})\n",
    "        return datasources if datasources else None\n",
    "\n",
    "    def _mitigations_from_id(self):\n",
    "        technique_mitigations = []\n",
    "        if not self._stix_id:\n",
    "            return None\n",
    "        \n",
    "        courseofaction_relation_filters = [\n",
    "            Filter(\"type\",\"=\",\"relationship\"),\n",
    "            Filter(\"relationship_type\",\"=\",\"mitigates\"),\n",
    "            Filter(\"target_ref\",\"=\",self._stix_id)\n",
    "        ]\n",
    "\n",
    "\n",
    "        mitigations = self._filtered_query(courseofaction_relation_filters)\n",
    "        for mitigation in mitigations:\n",
    "            courseofaction_id = mitigation['source_ref']\n",
    "            courseofaction_filters = [\n",
    "                Filter(\"type\", \"=\", \"course-of-action\"),\n",
    "                Filter(\"id\", \"=\", courseofaction_id)\n",
    "            ]\n",
    "            courseofactions = self._filtered_query(courseofaction_filters)\n",
    "            for courseofaction in courseofactions:\n",
    "                technique_mitigations.append(courseofaction['name'])\n",
    "                \n",
    "        return technique_mitigations if technique_mitigations else None   \n",
    "    \n",
    "    def _targets_from_id(self):\n",
    "        target_assets = []\n",
    "        if not self._stix_id:\n",
    "            return None\n",
    "\n",
    "        assets_relation_filters = [\n",
    "            Filter(\"type\",\"=\",\"relationship\"),\n",
    "            Filter(\"relationship_type\",\"=\",\"targets\"),\n",
    "            Filter(\"source_ref\",\"=\",self._stix_id)\n",
    "        ]\n",
    "        \n",
    "        targetedassets = self._filtered_query(assets_relation_filters)\n",
    "        for targetedasset in targetedassets:\n",
    "            assetid = targetedasset['target_ref']\n",
    "            asset_filters = [\n",
    "                Filter(\"type\", \"=\", \"x-mitre-asset\"),\n",
    "                Filter(\"id\", \"=\", assetid)\n",
    "            ]\n",
    "            \n",
    "            asset_results = self._filtered_query(asset_filters)\n",
    "            for asset in asset_results:\n",
    "                target_assets.append(asset['name'])\n",
    "                \n",
    "        return target_assets if target_assets else None\n",
    "        \n",
    "if True:\n",
    "    my_test = MitreTechniqueExplorer(stix_ics,'T0845')\n",
    "    print(my_test.id_mitre)\n",
    "    print(my_test.id_stix)\n",
    "    print(my_test.name)\n",
    "    print(my_test.tactics)\n",
    "    print(my_test.datasources)\n",
    "    print(my_test.mitigations)\n",
    "    print(my_test.targets)\n",
    "    \n",
    "    \n",
    "        "
   ]
  },
  {
   "cell_type": "markdown",
   "id": "cdf5abdd-f85e-40b7-8741-db4244f3cf89",
   "metadata": {
    "tags": []
   },
   "source": [
    "# Create datasets\n",
    "Let's create some datasets that we can query and play with."
   ]
  },
  {
   "cell_type": "code",
   "execution_count": null,
   "id": "f0670a25-237c-4eca-94d8-33f6f1cc2243",
   "metadata": {},
   "outputs": [],
   "source": [
    "all_reporttechniques = {'pipedream':PIPEDREAM_TECHNIQUES,'badomen':BADOMEN_TECHNIQUES,'evilscholar':EVILSCHOLAR_TECHNIQUES,\n",
    "                        'lazycargo':LAZYCARGO_TECHNIQUES,'mousehole':MOUSEHOLE_TECHNIQUES}\n",
    "\n",
    "techniques_report = {'mitre_id':[],'mitre_tactic':[],'mitre_name':[],'malware_name':[],'targets':[],\n",
    "                     'datasource':[],'datacomponent':[],'mitigations':[]}\n",
    "\n",
    "for dname,dvalue in all_reporttechniques.items():\n",
    "    for k,v in dvalue.items():\n",
    "        technique = MitreTechniqueExplorer(stix_ics, k)\n",
    "        techniques_report['mitre_id'].append(technique.id_mitre)\n",
    "        techniques_report['mitre_tactic'].append(technique.tactics)\n",
    "        techniques_report['mitre_name'].append(technique.name)\n",
    "        techniques_report['malware_name'].append(dname)\n",
    "        techniques_report['targets'].append(technique.targets)\n",
    "        if technique.datasources is not None:\n",
    "            techniques_report['datasource'].append([value for d in technique.datasources for value in d.values()])\n",
    "            techniques_report['datacomponent'].append([value for d in technique.datasources for value in d.keys()])\n",
    "        else:\n",
    "            techniques_report['datasource'].append(None)\n",
    "            techniques_report['datacomponent'].append(None)\n",
    "        techniques_report['mitigations'].append(technique.mitigations)\n",
    "\n",
    "pipedreamraw_df = pd.DataFrame(techniques_report)\n",
    "pipedreamraw_df.head()"
   ]
  },
  {
   "cell_type": "code",
   "execution_count": null,
   "id": "be6bb359-af8a-4943-bd8f-bab556aac54e",
   "metadata": {},
   "outputs": [],
   "source": [
    "# We explode to have rows with just one tactic per technique.\n",
    "# beware: this increase the amount of rows and double values\n",
    "pipedreamall_df = pipedreamraw_df.explode('mitre_tactic')\n",
    "pipedreamall_df = pipedreamall_df.explode('targets')\n",
    "pipedreamall_df = pipedreamall_df.explode('datasource')\n",
    "pipedreamall_df = pipedreamall_df.explode('datacomponent')\n",
    "pipedreamall_df = pipedreamall_df.explode('mitigations')\n",
    "#pipedreamall_df = pipedreamall_df.astype(str)\n",
    "\n",
    "# Different df that only contains the modules\n",
    "pipedream_modules_df = pipedreamall_df.drop(pipedreamall_df[pipedreamall_df['malware_name'] == 'pipedream'].index)\n",
    "#pipedream_modules_df = pipedream_modules_df.astype(str)\n",
    "\n",
    "# Different df that only contains pipedream\n",
    "pipedream_df = pipedreamall_df[pipedreamall_df['malware_name'] == 'pipedream']"
   ]
  },
  {
   "cell_type": "markdown",
   "id": "01932591-f1e5-4c77-84cf-fb494b6be8d4",
   "metadata": {
    "tags": [],
    "toc-hr-collapsed": true
   },
   "source": [
    "# Graphs\n",
    "So what would we want to do with graphs? I mean most of our questions can be answered with tables and statistics. Still I like graphs, so why not try it out. We have a couple of nodes/edges to think about, for which some of the work has already been done:\n",
    "\n",
    "* https://www.mbsecure.nl/blog/2019/5/dettact-mapping-your-blue-team-to-mitre-attack\n",
    "\n",
    "so with that picture in mind and our dataset the first node/edges we need are:\n",
    "\n",
    "* mitre_id --accomplishes--> mitre_tactic\n",
    "* mitre_id --logged_in--> datasource\n",
    "* mitre_id --logged_in--> datacomponent\n",
    "* datasource --consists_of--> datacomponent\n",
    "* malware_name --implements--> mitre_id\n",
    "* mitre_id --targets-->assets\n",
    "\n"
   ]
  },
  {
   "cell_type": "markdown",
   "id": "ce7d0885-c400-4c4e-a515-2c40c97ec117",
   "metadata": {
    "tags": []
   },
   "source": [
    "## Pipedream module implements mitre techniques"
   ]
  },
  {
   "cell_type": "code",
   "execution_count": null,
   "id": "91042134-adca-4e06-8736-3eb38d519972",
   "metadata": {},
   "outputs": [],
   "source": [
    "# prepare data nodes & edges\n",
    "df_edges = pipedream_modules_df[['malware_name','mitre_id','mitre_name']].drop_duplicates()\n",
    "unique_nodes_src = df_edges['malware_name'].unique()\n",
    "unique_nodes_dst = df_edges['mitre_id'].unique()\n",
    "edges_malwarename_mitreid = list(zip(df_edges['malware_name'],df_edges['mitre_id']))\n",
    "\n",
    "#prepare graph data nodes and edges\n",
    "G = nx.DiGraph()\n",
    "graph_scale = 2\n",
    "for node in unique_nodes_src:\n",
    "    G.add_node(node,color='red')\n",
    "\n",
    "for node in unique_nodes_dst:\n",
    "    node_title = df_edges.loc[df_edges['mitre_id'] == node, 'mitre_name'].values[0]\n",
    "    G.add_node(node,title=node_title,color='skyblue')\n",
    "    \n",
    "G.add_edges_from(edges_malwarename_mitreid,color='skyblue')\n",
    "graph_node_degrees = dict(G.degree())\n",
    "for nodename,nodedegree in graph_node_degrees.items():\n",
    "    if nodedegree < 5:\n",
    "        graph_scale = 3\n",
    "    G.nodes[nodename]['weight'] = nodedegree * graph_scale\n",
    "    G.nodes[nodename]['size'] = nodedegree * graph_scale\n",
    "\n",
    "# draw the graph\n",
    "nt = Network(notebook=True, directed=True, filter_menu=True, height=\"800px\", width=\"100%\")\n",
    "# populates the nodes and edges data structures\n",
    "nt.from_nx(G)\n",
    "#nt.show_buttons()\n",
    "nt.toggle_physics(False)\n",
    "nt.show('nx.html')"
   ]
  },
  {
   "cell_type": "markdown",
   "id": "f228a3a5-331e-4102-83ef-dfa04e571ac7",
   "metadata": {},
   "source": [
    "## Pipedream module targets assets"
   ]
  },
  {
   "cell_type": "code",
   "execution_count": null,
   "id": "ead0a59f-17f3-49c0-8668-24f5cf94de65",
   "metadata": {},
   "outputs": [],
   "source": [
    "df_edges = pipedream_modules_df[['malware_name','targets','mitre_id','mitre_name']].dropna(subset=['targets','mitre_id']).drop_duplicates()\n",
    "edges_malwarename_targets = list(zip(df_edges['malware_name'],df_edges['mitre_id']))\n",
    "edges_malwarename_targets2 = list(zip(df_edges['mitre_id'],df_edges['targets']))\n",
    "totaledges = []\n",
    "totaledges.extend(edges_malwarename_targets)\n",
    "totaledges.extend(edges_malwarename_targets2)\n",
    "csvfile = open('data_edges.csv','w')\n",
    "csvfile.write(\"Source,Target\\n\")\n",
    "for edge in totaledges:\n",
    "    csvfile.write(f\"{edge[0]},{edge[1]}\\n\")\n",
    "csvfile.close()"
   ]
  },
  {
   "cell_type": "code",
   "execution_count": null,
   "id": "9c559b5f-93dc-4787-b407-1f7426e3f18d",
   "metadata": {},
   "outputs": [],
   "source": [
    "# prepare data nodes & edges\n",
    "df_edges = pipedream_modules_df[['malware_name','targets','mitre_id','mitre_name']].dropna(subset=['targets','mitre_id']).drop_duplicates()\n",
    "unique_nodes_src = df_edges['malware_name'].unique()\n",
    "unique_nodes_dst = df_edges['mitre_id'].unique()\n",
    "unique_nodes_dst2 = df_edges['targets'].unique()\n",
    "edges_malwarename_targets = list(zip(df_edges['malware_name'],df_edges['mitre_id']))\n",
    "edges_malwarename_targets2 = list(zip(df_edges['mitre_id'],df_edges['targets']))\n",
    "\n",
    "#prepare graph data nodes and edges\n",
    "G = nx.DiGraph()\n",
    "graph_scale = 2\n",
    "for node in unique_nodes_src:\n",
    "    G.add_node(node,color='red')\n",
    "\n",
    "for node in unique_nodes_dst:\n",
    "    node_title = df_edges.loc[df_edges['mitre_id'] == node, 'mitre_name'].values[0]\n",
    "    G.add_node(node,title=node_title,color='skyblue')\n",
    "\n",
    "for node in unique_nodes_dst2:\n",
    "    G.add_node(node,title=node,color='black')\n",
    "    \n",
    "G.add_edges_from(edges_malwarename_targets,color='skyblue')\n",
    "G.add_edges_from(edges_malwarename_targets2,color='skyblue')\n",
    "\n",
    "graph_node_degrees = dict(G.degree())\n",
    "for nodename,nodedegree in graph_node_degrees.items():\n",
    "    if nodedegree < 5:\n",
    "        graph_scale = 3\n",
    "    G.nodes[nodename]['weight'] = nodedegree * graph_scale\n",
    "    G.nodes[nodename]['size'] = nodedegree * graph_scale\n",
    "\n",
    "# draw the graph\n",
    "nt = Network(notebook=True, directed=True, filter_menu=True, height=\"800px\", width=\"100%\")\n",
    "# populates the nodes and edges data structures\n",
    "nt.from_nx(G)\n",
    "nt.show_buttons()\n",
    "nt.toggle_physics(False)\n",
    "nt.show('nx.html')"
   ]
  },
  {
   "cell_type": "code",
   "execution_count": null,
   "id": "50d2e065-d3ee-4aa4-8531-c6f9b5334413",
   "metadata": {},
   "outputs": [],
   "source": [
    "# prepare data nodes & edges\n",
    "df_edges = pipedream_modules_df[['malware_name','mitigations','mitre_id','mitre_name']].dropna(subset=['mitigations','mitre_id']).drop_duplicates()\n",
    "unique_nodes_src = df_edges['malware_name'].unique()\n",
    "unique_nodes_dst = df_edges['mitre_id'].unique()\n",
    "unique_nodes_dst2 = df_edges['mitigations'].unique()\n",
    "edges_malwarename_targets = list(zip(df_edges['malware_name'],df_edges['mitre_id']))\n",
    "edges_malwarename_targets2 = list(zip(df_edges['mitre_id'],df_edges['mitigations']))\n",
    "\n",
    "#prepare graph data nodes and edges\n",
    "G = nx.DiGraph()\n",
    "graph_scale = 2\n",
    "for node in unique_nodes_src:\n",
    "    G.add_node(node,color='red')\n",
    "\n",
    "for node in unique_nodes_dst:\n",
    "    node_title = df_edges.loc[df_edges['mitre_id'] == node, 'mitre_name'].values[0]\n",
    "    G.add_node(node,title=node_title,color='skyblue')\n",
    "\n",
    "for node in unique_nodes_dst2:\n",
    "    G.add_node(node,title=node,color='black')\n",
    "    \n",
    "G.add_edges_from(edges_malwarename_targets,color='skyblue')\n",
    "G.add_edges_from(edges_malwarename_targets2,color='skyblue')\n",
    "\n",
    "graph_node_degrees = dict(G.degree())\n",
    "for nodename,nodedegree in graph_node_degrees.items():\n",
    "    if nodedegree < 5:\n",
    "        graph_scale = 3\n",
    "    G.nodes[nodename]['weight'] = nodedegree * graph_scale\n",
    "    G.nodes[nodename]['size'] = nodedegree * graph_scale\n",
    "\n",
    "# draw the graph\n",
    "nt = Network(notebook=True, directed=True, filter_menu=True, height=\"800px\", width=\"100%\")\n",
    "# populates the nodes and edges data structures\n",
    "nt.from_nx(G)\n",
    "nt.show_buttons()\n",
    "nt.toggle_physics(False)\n",
    "nt.show('nx.html')"
   ]
  },
  {
   "cell_type": "code",
   "execution_count": null,
   "id": "a483ac13-49ff-4492-9c9b-f3933fc960a2",
   "metadata": {},
   "outputs": [],
   "source": [
    "# prepare data nodes & edges\n",
    "df_edges = pipedream_modules_df[['malware_name','mitigations']].dropna(subset=['mitigations']).drop_duplicates()\n",
    "unique_nodes_src = df_edges['malware_name'].unique()\n",
    "unique_nodes_dst2 = df_edges['mitigations'].unique()\n",
    "edges_malwarename_targets = list(zip(df_edges['malware_name'],df_edges['mitigations']))\n",
    "\n",
    "#prepare graph data nodes and edges\n",
    "G = nx.DiGraph()\n",
    "graph_scale = 2\n",
    "for node in unique_nodes_src:\n",
    "    G.add_node(node,color='red')\n",
    "\n",
    "for node in unique_nodes_dst2:\n",
    "    G.add_node(node,title=node,color='black')\n",
    "    \n",
    "G.add_edges_from(edges_malwarename_targets,color='skyblue')\n",
    "\n",
    "graph_node_degrees = dict(G.degree())\n",
    "for nodename,nodedegree in graph_node_degrees.items():\n",
    "    if nodedegree < 5:\n",
    "        graph_scale = 3\n",
    "    G.nodes[nodename]['weight'] = nodedegree * graph_scale\n",
    "    G.nodes[nodename]['size'] = nodedegree * graph_scale\n",
    "\n",
    "# draw the graph\n",
    "nt = Network(notebook=True, directed=True, filter_menu=True, height=\"800px\", width=\"100%\")\n",
    "# populates the nodes and edges data structures\n",
    "nt.from_nx(G)\n",
    "nt.show_buttons()\n",
    "nt.toggle_physics(True)\n",
    "nt.show('nx.html')"
   ]
  },
  {
   "cell_type": "code",
   "execution_count": null,
   "id": "ddb1afdb-b47c-48a3-92e2-0b7240b35f00",
   "metadata": {},
   "outputs": [],
   "source": [
    "# prepare data nodes & edges\n",
    "df_edges = pipedream_modules_df[['malware_name','datasource','mitre_id','mitre_name']].dropna(subset=['datasource','mitre_id']).drop_duplicates()\n",
    "unique_nodes_src = df_edges['malware_name'].unique()\n",
    "unique_nodes_dst = df_edges['mitre_id'].unique()\n",
    "unique_nodes_dst2 = df_edges['datasource'].unique()\n",
    "edges_malwarename_targets = list(zip(df_edges['malware_name'],df_edges['mitre_id']))\n",
    "edges_malwarename_targets2 = list(zip(df_edges['mitre_id'],df_edges['datasource']))\n",
    "\n",
    "#prepare graph data nodes and edges\n",
    "G = nx.DiGraph()\n",
    "graph_scale = 2\n",
    "for node in unique_nodes_src:\n",
    "    G.add_node(node,color='red')\n",
    "\n",
    "for node in unique_nodes_dst:\n",
    "    node_title = df_edges.loc[df_edges['mitre_id'] == node, 'mitre_name'].values[0]\n",
    "    G.add_node(node,title=node_title,color='skyblue')\n",
    "\n",
    "for node in unique_nodes_dst2:\n",
    "    G.add_node(node,title=node,color='black')\n",
    "    \n",
    "G.add_edges_from(edges_malwarename_targets,color='skyblue')\n",
    "G.add_edges_from(edges_malwarename_targets2,color='skyblue')\n",
    "\n",
    "graph_node_degrees = dict(G.degree())\n",
    "for nodename,nodedegree in graph_node_degrees.items():\n",
    "    if nodedegree < 5:\n",
    "        graph_scale = 3\n",
    "    G.nodes[nodename]['weight'] = nodedegree * graph_scale\n",
    "    G.nodes[nodename]['size'] = nodedegree * graph_scale\n",
    "\n",
    "# draw the graph\n",
    "nt = Network(notebook=True, directed=True, filter_menu=True, height=\"800px\", width=\"100%\")\n",
    "# populates the nodes and edges data structures\n",
    "nt.from_nx(G)\n",
    "nt.show_buttons()\n",
    "nt.toggle_physics(True)\n",
    "nt.show('nx.html')"
   ]
  },
  {
   "cell_type": "code",
   "execution_count": null,
   "id": "2f8c95a6-953e-44f8-9608-7014a79333a9",
   "metadata": {},
   "outputs": [],
   "source": [
    "# prepare data nodes & edges\n",
    "df_edges = pipedream_modules_df[['malware_name','datasource']].dropna(subset=['datasource']).drop_duplicates()\n",
    "unique_nodes_src = df_edges['malware_name'].unique()\n",
    "unique_nodes_dst2 = df_edges['datasource'].unique()\n",
    "edges_malwarename_targets = list(zip(df_edges['malware_name'],df_edges['datasource']))\n",
    "\n",
    "#prepare graph data nodes and edges\n",
    "G = nx.DiGraph()\n",
    "graph_scale = 2\n",
    "for node in unique_nodes_src:\n",
    "    G.add_node(node,color='red')\n",
    "\n",
    "for node in unique_nodes_dst2:\n",
    "    G.add_node(node,title=node,color='black')\n",
    "    \n",
    "G.add_edges_from(edges_malwarename_targets,color='skyblue')\n",
    "\n",
    "graph_node_degrees = dict(G.degree())\n",
    "for nodename,nodedegree in graph_node_degrees.items():\n",
    "    if nodedegree < 5:\n",
    "        graph_scale = 3\n",
    "    G.nodes[nodename]['weight'] = nodedegree * graph_scale\n",
    "    G.nodes[nodename]['size'] = nodedegree * graph_scale\n",
    "\n",
    "# draw the graph\n",
    "nt = Network(notebook=True, directed=True, filter_menu=True, height=\"800px\", width=\"100%\")\n",
    "# populates the nodes and edges data structures\n",
    "nt.from_nx(G)\n",
    "nt.show_buttons()\n",
    "nt.toggle_physics(True)\n",
    "nt.show('nx.html')"
   ]
  },
  {
   "cell_type": "code",
   "execution_count": null,
   "id": "75096516-fb78-46dd-9299-6e4a9c43bee9",
   "metadata": {},
   "outputs": [],
   "source": [
    "# tactic edges\n",
    "df_edges = pipedream_modules_df[['mitre_id','mitre_tactic']].drop_duplicates()\n",
    "edges_mid_mta = list(zip(df_edges['mitre_id'],df_edges['mitre_tactic']))\n",
    "\n",
    "df_edges = pipedream_modules_df[['mitre_id','datasource']].drop_duplicates()\n",
    "edges_mid_ds = list(zip(df_edges['mitre_id'],df_edges['datasource']))\n",
    "\n",
    "df_edges = pipedream_modules_df[['mitre_id','datacomponent']].drop_duplicates()\n",
    "edges_mid_dsdc = list(zip(df_edges['mitre_id'],df_edges['datacomponent']))\n",
    "\n",
    "df_edges = pipedream_modules_df[['malware_name','mitre_id']].drop_duplicates()\n",
    "edges_maln_mid = list(zip(df_edges['malware_name'],df_edges['mitre_id']))\n",
    "\n",
    "df_edges = pipedream_modules_df[['malware_name','datasource']].drop_duplicates()\n",
    "edges_maln_ds = list(zip(df_edges['malware_name'],df_edges['datasource']))\n",
    "\n",
    "df_edges = pipedream_modules_df[['datasource','datacomponent']].drop_duplicates()\n",
    "edges_ds_dc = list(zip(df_edges['datasource'],df_edges['datacomponent']))\n",
    "\n",
    "df_edges = pipedream_modules_df[['targets','mitre_tactic']].drop_duplicates()\n",
    "edges_targets_mta = list(zip(df_edges['targets'],df_edges['mitre_tactic']))\n",
    "\n",
    "df_edges = pipedream_modules_df[['malware_name','targets']].dropna(subset=['targets']).drop_duplicates()\n",
    "edges_maln_targets = list(zip(df_edges['malware_name'],df_edges['targets']))\n",
    "\n",
    "df_edges = pipedream_modules_df[['targets','mitre_id']].drop_duplicates()\n",
    "edges_mid_targets = list(zip(df_edges['mitre_id'],df_edges['targets']))\n",
    "\n",
    "df_edges = pipedream_modules_df[['mitre_id','mitigations']].drop_duplicates()\n",
    "edges_mid_mitigation = list(zip(df_edges['mitre_id'],df_edges['mitigations']))\n",
    "\n",
    "df_edges = pipedream_modules_df[['malware_name','mitigations']].drop_duplicates()\n",
    "edges_maln_mitigation = list(zip(df_edges['malware_name'],df_edges['mitigations']))"
   ]
  },
  {
   "cell_type": "code",
   "execution_count": null,
   "id": "d3241475-7c8b-4c54-88d1-8aa389d239cb",
   "metadata": {},
   "outputs": [],
   "source": [
    "# Graph the malware->mitre_id\n",
    "G = nx.DiGraph()\n",
    "\n",
    "#unique_nodes = []\n",
    "#for edge in edges_maln_mid:\n",
    "    \n",
    "\n",
    "#unique_nodes.extend(unique_mitre_id)\n",
    "#unique_nodes.extend(unique_mitre_tactic)\n",
    "#unique_nodes.extend(unique_datasource)\n",
    "#unique_nodes.extend(unique_datacomponent)\n",
    "#unique_nodes.extend(unique_malware)\n",
    "#unique_nodes.extend(unique_platform)\n",
    "\n",
    "# Add unique edges to the graph\n",
    "for node in unique_malware:\n",
    "    G.add_node(node,color='red')\n",
    "#G.add_nodes_from(unique_nodes)\n",
    "\n",
    "all_edges = []\n",
    "#all_edges.extend(edges_mid_mta)\n",
    "#all_edges.extend(edges_mid_ds)\n",
    "#all_edges.extend(edges_mid_dsdc)\n",
    "all_edges.extend(edges_maln_mid)\n",
    "#all_edges.extend(edges_maln_ds)\n",
    "#all_edges.extend(edges_ds_dc)\n",
    "#all_edges.extend(edges_platform_mta)\n",
    "#all_edges.extend(edges_maln_platform)\n",
    "#all_edges.extend(edges_mid_platform)\n",
    "\n",
    "G.add_edges_from(all_edges,color='black')\n",
    "nt = Network(notebook=True, directed=True, filter_menu=True, height=\"1024px\", width=\"100%\")\n",
    "# populates the nodes and edges data structures\n",
    "nt.from_nx(G)\n",
    "nt.show_buttons()\n",
    "nt.toggle_physics(False)\n",
    "nt.show('nx.html')"
   ]
  },
  {
   "cell_type": "code",
   "execution_count": null,
   "id": "2276c3a7-f82d-4208-8ff4-ba1e9f848da9",
   "metadata": {},
   "outputs": [],
   "source": [
    "# Graph the mitre_id -> platform\n",
    "G = nx.DiGraph()\n",
    "\n",
    "all_edges = []\n",
    "#all_edges.extend(edges_mid_mta)\n",
    "#all_edges.extend(edges_mid_ds)\n",
    "#all_edges.extend(edges_mid_dsdc)\n",
    "#all_edges.extend(edges_maln_mid)\n",
    "#all_edges.extend(edges_maln_ds)\n",
    "#all_edges.extend(edges_ds_dc)\n",
    "#all_edges.extend(edges_platform_mta)\n",
    "#all_edges.extend(edges_maln_platform)\n",
    "all_edges.extend(edges_mid_targets)\n",
    "\n",
    "G.add_edges_from(all_edges)\n",
    "\n",
    "nt = Network(notebook=True, directed=True, filter_menu=True)\n",
    "# populates the nodes and edges data structures\n",
    "nt.from_nx(G)\n",
    "nt.show_buttons()\n",
    "nt.toggle_physics(False)\n",
    "nt.show('nx.html')"
   ]
  },
  {
   "cell_type": "code",
   "execution_count": null,
   "id": "18f54a15-c6b1-428d-8a69-f02eea735469",
   "metadata": {},
   "outputs": [],
   "source": [
    "# Graph the mitre_id -> mitigations\n",
    "G = nx.DiGraph()\n",
    "\n",
    "all_edges = []\n",
    "#all_edges.extend(edges_mid_mta)\n",
    "#all_edges.extend(edges_mid_ds)\n",
    "#all_edges.extend(edges_mid_dsdc)\n",
    "#all_edges.extend(edges_maln_mid)\n",
    "#all_edges.extend(edges_maln_ds)\n",
    "#all_edges.extend(edges_ds_dc)\n",
    "#all_edges.extend(edges_platform_mta)\n",
    "#all_edges.extend(edges_maln_platform)\n",
    "all_edges.extend(edges_maln_targets)\n",
    "\n",
    "G.add_edges_from(all_edges)\n",
    "\n",
    "nt = Network(notebook=True, directed=True, filter_menu=True)\n",
    "# populates the nodes and edges data structures\n",
    "nt.from_nx(G)\n",
    "nt.show_buttons()\n",
    "nt.toggle_physics(False)\n",
    "nt.show('nx.html')"
   ]
  },
  {
   "cell_type": "code",
   "execution_count": null,
   "id": "3b4c9d72-5c85-42e3-be1b-09ddbbf7aab6",
   "metadata": {},
   "outputs": [],
   "source": [
    "# Graph the mitre_id -> mitigations\n",
    "G = nx.DiGraph()\n",
    "\n",
    "all_edges = []\n",
    "#all_edges.extend(edges_mid_mta)\n",
    "#all_edges.extend(edges_mid_ds)\n",
    "#all_edges.extend(edges_mid_dsdc)\n",
    "#all_edges.extend(edges_maln_mid)\n",
    "#all_edges.extend(edges_maln_ds)\n",
    "#all_edges.extend(edges_ds_dc)\n",
    "#all_edges.extend(edges_platform_mta)\n",
    "#all_edges.extend(edges_maln_platform)\n",
    "all_edges.extend(edges_maln_mitigation)\n",
    "\n",
    "G.add_edges_from(all_edges)\n",
    "\n",
    "nt = Network(notebook=True, directed=True, filter_menu=True)\n",
    "# populates the nodes and edges data structures\n",
    "nt.from_nx(G)\n",
    "nt.show_buttons()\n",
    "nt.show('nx.html')"
   ]
  },
  {
   "cell_type": "code",
   "execution_count": null,
   "id": "8d03d160-62f2-446b-a180-7432644dfd6f",
   "metadata": {},
   "outputs": [],
   "source": [
    "G2 = nx.DiGraph()\n",
    "paths = nx.all_simple_paths(G, source='badomen', target='Input/Output Server')\n",
    "for path in map(nx.utils.pairwise, paths):\n",
    "    for p in path:\n",
    "        nx.add_path(G2, p)"
   ]
  },
  {
   "cell_type": "code",
   "execution_count": null,
   "id": "4b3eadec-beac-48be-8a5d-b2731341cdf2",
   "metadata": {},
   "outputs": [],
   "source": [
    "nt = Network(notebook=True, directed=True, filter_menu=True)\n",
    "# populates the nodes and edges data structures\n",
    "nt.from_nx(G)\n",
    "nt.show_buttons()\n",
    "nt.show('nx.html')"
   ]
  },
  {
   "cell_type": "markdown",
   "id": "ee74e387-7be5-4242-89f9-24e2426a8d67",
   "metadata": {
    "jp-MarkdownHeadingCollapsed": true,
    "tags": []
   },
   "source": [
    "# Statistical overview\n",
    "Let's do some preliminary statistica overview with the data. We ask the following questions for example:\n",
    "\n",
    "* Data sources\n",
    "  * Which datasource occurs the most?\n",
    "  * Which datacomponent occurs the most?\n",
    "  * Which platform occurs the most?\n",
    "* Which MITRE tactic occurs the most?\n",
    "* Which MITRE tactic occurs per platform?\n",
    "* Which malware occurs per MITRE tactic?\n",
    "* Which malware occurs per platform?\n",
    "* Which datasource occurs per platform?\n",
    "* Which malware occurs per datasource?"
   ]
  },
  {
   "cell_type": "code",
   "execution_count": null,
   "id": "d0f45aa3-9bb9-489e-8bca-112c37757760",
   "metadata": {},
   "outputs": [],
   "source": [
    "# A reminder to know how our data looks like\n",
    "pipedream_modules_df.head()"
   ]
  },
  {
   "cell_type": "markdown",
   "id": "c3d09f7f-bd66-42f5-afe6-ff21b0ad3ad6",
   "metadata": {
    "jp-MarkdownHeadingCollapsed": true,
    "tags": []
   },
   "source": [
    "## Data sources"
   ]
  },
  {
   "cell_type": "markdown",
   "id": "cacfe56d-ba8f-4c67-880a-8d3ea8305059",
   "metadata": {
    "jp-MarkdownHeadingCollapsed": true,
    "tags": []
   },
   "source": [
    "### Most frequent data source"
   ]
  },
  {
   "cell_type": "code",
   "execution_count": null,
   "id": "171e790e-15ac-44db-abb8-3f505fb47cf4",
   "metadata": {},
   "outputs": [],
   "source": [
    "t = pipedream_modules_df.drop(pipedream_modules_df[pipedream_modules_df['datasource'] == 'nan'].index)\n",
    "res = t.groupby('datasource')['mitre_id'].agg('nunique')\n",
    "res.sort_values(ascending=False)"
   ]
  },
  {
   "cell_type": "markdown",
   "id": "b1502fb3-3791-4bd7-afe7-5b064f140d52",
   "metadata": {
    "jp-MarkdownHeadingCollapsed": true,
    "tags": []
   },
   "source": [
    "### Most frequent data component"
   ]
  },
  {
   "cell_type": "code",
   "execution_count": null,
   "id": "32381e83-6163-465d-95c4-dabc9974a444",
   "metadata": {},
   "outputs": [],
   "source": [
    "t = pipedream_modules_df.drop(pipedream_modules_df[pipedream_modules_df['datacomponent'] == 'nan'].index)\n",
    "res = t.groupby('datacomponent')['mitre_id'].agg('nunique')\n",
    "res.sort_values(ascending=False)"
   ]
  },
  {
   "cell_type": "markdown",
   "id": "b6835ed5-700e-4888-8a73-99135fc0a273",
   "metadata": {
    "jp-MarkdownHeadingCollapsed": true,
    "tags": []
   },
   "source": [
    "### Data sources and components grouped"
   ]
  },
  {
   "cell_type": "code",
   "execution_count": null,
   "id": "f26c091c-02aa-464f-a936-c6ffb56c9e6f",
   "metadata": {},
   "outputs": [],
   "source": [
    "t = pipedream_modules_df.drop(pipedream_modules_df[pipedream_modules_df['datasource'] == 'nan'].index)\n",
    "t = t.drop(t[t['datacomponent'] == 'nan'].index)\n",
    "res = t.groupby(['datasource','datacomponent'])['mitre_id'].agg('nunique')\n",
    "print(res)"
   ]
  },
  {
   "cell_type": "markdown",
   "id": "5af30704-486b-4d08-9f0d-b8bd88c1cc50",
   "metadata": {
    "tags": []
   },
   "source": [
    "## Platform"
   ]
  },
  {
   "cell_type": "markdown",
   "id": "8df66230-34f3-4f87-b830-821cd3d662ca",
   "metadata": {},
   "source": [
    "### Techniques per module"
   ]
  },
  {
   "cell_type": "code",
   "execution_count": null,
   "id": "12d86039-692e-49d5-8812-1ef23ca80fea",
   "metadata": {},
   "outputs": [],
   "source": [
    "pd.set_option('display.max_rows', None)\n",
    "res = pipedream_modules_df.groupby(['mitre_id','malware_name'])['mitre_id'].agg('nunique')\n",
    "print(res)"
   ]
  },
  {
   "cell_type": "markdown",
   "id": "b95f4d2d-b69e-4ad6-8972-eb4aedf5925e",
   "metadata": {},
   "source": [
    "### Techniques per platform"
   ]
  },
  {
   "cell_type": "code",
   "execution_count": null,
   "id": "e44d30e7-d01f-44fb-87b7-48501b2ee4b9",
   "metadata": {},
   "outputs": [],
   "source": [
    "res = pipedream_modules_df.groupby(['platform','mitre_id'])['mitre_id'].agg('nunique')\n",
    "res.sort_values(ascending=False)"
   ]
  },
  {
   "cell_type": "markdown",
   "id": "743f45a3-8699-497c-a3a7-7cca63a9f835",
   "metadata": {},
   "source": [
    "### Tactics per platform"
   ]
  },
  {
   "cell_type": "code",
   "execution_count": null,
   "id": "848a0542-dd65-400c-a760-68bfd3dce014",
   "metadata": {},
   "outputs": [],
   "source": [
    "pipedream_modules_df.groupby(['platform','mitre_tactic'])['mitre_id'].agg('nunique')"
   ]
  },
  {
   "cell_type": "markdown",
   "id": "42603f87-d145-4b57-a7b6-84b62a726313",
   "metadata": {
    "tags": []
   },
   "source": [
    "### Technique per tactic"
   ]
  },
  {
   "cell_type": "code",
   "execution_count": null,
   "id": "e7a203fe-55a3-4194-b80a-8848e9ab3fec",
   "metadata": {},
   "outputs": [],
   "source": [
    "res = pipedream_modules_df.groupby('mitre_tactic')['mitre_id'].agg('nunique')\n",
    "res.sort_values(ascending=False)"
   ]
  },
  {
   "cell_type": "code",
   "execution_count": null,
   "id": "35dd765b-9055-45fe-be71-e16439e0efc4",
   "metadata": {},
   "outputs": [],
   "source": [
    "pipedream_modules_df.groupby(['mitre_tactic','malware_name'])['mitre_id'].agg('nunique')"
   ]
  },
  {
   "cell_type": "code",
   "execution_count": null,
   "id": "251af8a5-1c76-496d-85e8-6399e6e60d0d",
   "metadata": {},
   "outputs": [],
   "source": [
    "pipedream_modules_df.groupby(['platform','malware_name'])['mitre_id'].agg('nunique')"
   ]
  },
  {
   "cell_type": "code",
   "execution_count": null,
   "id": "79365d81-1ac6-41a4-9453-a6dbe56f6896",
   "metadata": {},
   "outputs": [],
   "source": [
    "pipedream_modules_df.groupby(['platform','datasource'])['mitre_id'].agg('nunique')"
   ]
  },
  {
   "cell_type": "code",
   "execution_count": null,
   "id": "5bdc94c0-0e43-408d-91c6-10e8b0782cec",
   "metadata": {},
   "outputs": [],
   "source": [
    "t = pipedream_modules_df.drop(pipedream_modules_df[pipedream_modules_df['datasource'] == 'nan'].index)\n",
    "t.groupby(['datasource','malware_name'])['mitre_id'].agg('nunique')"
   ]
  }
 ],
 "metadata": {
  "kernelspec": {
   "display_name": "Python 3 (ipykernel)",
   "language": "python",
   "name": "python3"
  },
  "language_info": {
   "codemirror_mode": {
    "name": "ipython",
    "version": 3
   },
   "file_extension": ".py",
   "mimetype": "text/x-python",
   "name": "python",
   "nbconvert_exporter": "python",
   "pygments_lexer": "ipython3",
   "version": "3.10.6"
  }
 },
 "nbformat": 4,
 "nbformat_minor": 5
}
